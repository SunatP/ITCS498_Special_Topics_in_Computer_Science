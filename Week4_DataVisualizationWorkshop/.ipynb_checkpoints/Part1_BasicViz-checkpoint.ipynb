{
 "cells": [
  {
   "cell_type": "markdown",
   "metadata": {
    "colab_type": "text",
    "id": "pJJHrKFvvWW4"
   },
   "source": [
    "# ``matplotlib``"
   ]
  },
  {
   "cell_type": "code",
   "execution_count": 1,
   "metadata": {
    "colab": {},
    "colab_type": "code",
    "id": "hs2Cd6H9vWW5"
   },
   "outputs": [],
   "source": [
    "import numpy as np \n",
    "import matplotlib.pyplot as plt\n",
    "import warnings\n",
    "warnings.filterwarnings('ignore')\n",
    "\n",
    "# to display plot inline in this notebook\n",
    "%matplotlib inline"
   ]
  },
  {
   "cell_type": "markdown",
   "metadata": {
    "colab_type": "text",
    "id": "AaCJ5n-5vWW7"
   },
   "source": [
    "### Step1: What do you want to convey?\n",
    "Answer: To display the trend of data"
   ]
  },
  {
   "cell_type": "markdown",
   "metadata": {
    "colab_type": "text",
    "id": "sIicnhVQvWW8"
   },
   "source": [
    "### Step 2: Gather & Organize Your Data (Prepare Data)"
   ]
  },
  {
   "cell_type": "code",
   "execution_count": 2,
   "metadata": {
    "colab": {},
    "colab_type": "code",
    "id": "Gd09tfYovWW8"
   },
   "outputs": [],
   "source": [
    "# Step 2: Prepare your data\n",
    "x = [1, 2, 3, 4, 5]\n",
    "y = [8, 6, 2, 7, 4]"
   ]
  },
  {
   "cell_type": "markdown",
   "metadata": {
    "colab_type": "text",
    "id": "Q1xOeE4lvWW-"
   },
   "source": [
    "### Step3: Select Right Chart Type\n",
    "To see the data trend, the most appropriate chart is \"Line Plot\""
   ]
  },
  {
   "cell_type": "code",
   "execution_count": 3,
   "metadata": {
    "colab": {
     "base_uri": "https://localhost:8080/",
     "height": 268
    },
    "colab_type": "code",
    "executionInfo": {
     "elapsed": 1101,
     "status": "ok",
     "timestamp": 1561568617790,
     "user": {
      "displayName": "SIRIPEN PONGPAICHET",
      "photoUrl": "https://lh4.googleusercontent.com/-ENJVprkO2fQ/AAAAAAAAAAI/AAAAAAAAAAs/v_SeHncKfsI/s64/photo.jpg",
      "userId": "16347692119815944046"
     },
     "user_tz": -420
    },
    "id": "CYfbYwKivWW_",
    "outputId": "e4575dae-4e36-4785-9c94-3150630bb273"
   },
   "outputs": [
    {
     "data": {
      "image/png": "[encoded data removed]",
      "text/plain": [
       "<Figure size 432x288 with 1 Axes>"
      ]
     },
     "metadata": {
      "needs_background": "light"
     },
     "output_type": "display_data"
    }
   ],
   "source": [
    "plt.plot(x, y)\n",
    "plt.show()"
   ]
  },
  {
   "cell_type": "markdown",
   "metadata": {
    "colab_type": "text",
    "id": "L-QeS2eyvWXF"
   },
   "source": [
    "### Step4: Add Supporting Indicators\n",
    "For example: chart title, x & y axis, legend, chanage color, etc."
   ]
  },
  {
   "cell_type": "code",
   "execution_count": 4,
   "metadata": {
    "colab": {
     "base_uri": "https://localhost:8080/",
     "height": 241
    },
    "colab_type": "code",
    "executionInfo": {
     "elapsed": 827,
     "status": "ok",
     "timestamp": 1561568621265,
     "user": {
      "displayName": "SIRIPEN PONGPAICHET",
      "photoUrl": "https://lh4.googleusercontent.com/-ENJVprkO2fQ/AAAAAAAAAAI/AAAAAAAAAAs/v_SeHncKfsI/s64/photo.jpg",
      "userId": "16347692119815944046"
     },
     "user_tz": -420
    },
    "id": "1fVoYj6_vWXG",
    "outputId": "39c95991-8d29-4a93-b209-5f686af7810a"
   },
   "outputs": [
    {
     "data": {
      "image/png": "[encoded data removed]",
      "text/plain": [
       "<Figure size 1080x216 with 1 Axes>"
      ]
     },
     "metadata": {
      "needs_background": "light"
     },
     "output_type": "display_data"
    }
   ],
   "source": [
    "# Set figure size\n",
    "plt.figure(figsize=(15,3))\n",
    "\n",
    "# Add X and Y axis label\n",
    "plt.xlabel('X')\n",
    "plt.ylabel('Y')\n",
    "\n",
    "# Add title\n",
    "plt.title('Sample Chart')\n",
    "\n",
    "# Add plot\n",
    "plt.plot(x, y, color='red', linewidth=1)\n",
    "\n",
    "# Custom tick\n",
    "plt.xticks(x, ('One', 'Two', 'Three', 'Four', 'Five'))\n",
    "plt.yticks(np.arange(0, 20, step=2))\n",
    "\n",
    "plt.show()"
   ]
  },
  {
   "cell_type": "markdown",
   "metadata": {
    "colab_type": "text",
    "id": "hLG07UoBvWXI"
   },
   "source": [
    "## Bar Chart"
   ]
  },
  {
   "cell_type": "code",
   "execution_count": 5,
   "metadata": {
    "colab": {},
    "colab_type": "code",
    "id": "0pIPdNCHvWXJ",
    "outputId": "785f2599-17c3-4b35-a44e-0d934ee0af1a"
   },
   "outputs": [
    {
     "data": {
      "image/png": "[encoded data removed]",
      "text/plain": [
       "<Figure size 432x288 with 1 Axes>"
      ]
     },
     "metadata": {
      "needs_background": "light"
     },
     "output_type": "display_data"
    }
   ],
   "source": [
    "plt.bar(x, y)\n",
    "plt.show()"
   ]
  },
  {
   "cell_type": "markdown",
   "metadata": {
    "colab_type": "text",
    "id": "lnaSSrSfvWXL"
   },
   "source": [
    "<hr>\n",
    "# Insurance Data Visualization with  ``seaborn``\n",
    "\n",
    "### Adopted style from [Randal S. Olson](http://www.randalolson.com/) \n",
    "### The visual analytic flow is taken from [Dandelion] (https://www.kaggle.com/hely333)\n",
    "### The codes are edited by ASKS Data Science Group\n",
    "#### Supported by [THRES]\n",
    "\n",
    "## License\n",
    "\n",
    "Please see the original [repository README file](https://github.com/rhiever/Data-Analysis-and-Machine-Learning-Projects#license) for the licenses and usage terms for the instructional material and code in this notebook. I cloned and then edited it from the original authors. For any further usage, please follows them.\n",
    "<hr>"
   ]
  },
  {
   "cell_type": "code",
   "execution_count": 6,
   "metadata": {
    "colab": {},
    "colab_type": "code",
    "id": "GW4d8Ev_vWXO"
   },
   "outputs": [],
   "source": [
    "import seaborn as sb\n",
    "import pandas as pd \n"
   ]
  },
  {
   "cell_type": "markdown",
   "metadata": {
    "colab_type": "text",
    "id": "DpMeyfr5vWXQ"
   },
   "source": [
    "## Step1: What do you want to convey?\n",
    "Suppose we already have a cleaned data about insurance charges in the csv file. We want to explore and find data insight from this data set. \n",
    "\n",
    "First experiment is to explore the correlation between each attribute. (Dataframe has ``.corr()`` function for the correlation.)\n",
    "\n",
    "\n",
    "## Step2: Prepare your data"
   ]
  },
  {
   "cell_type": "code",
   "execution_count": 7,
   "metadata": {
    "colab": {
     "base_uri": "https://localhost:8080/",
     "height": 197
    },
    "colab_type": "code",
    "executionInfo": {
     "elapsed": 987,
     "status": "ok",
     "timestamp": 1561568671626,
     "user": {
      "displayName": "SIRIPEN PONGPAICHET",
      "photoUrl": "https://lh4.googleusercontent.com/-ENJVprkO2fQ/AAAAAAAAAAI/AAAAAAAAAAs/v_SeHncKfsI/s64/photo.jpg",
      "userId": "16347692119815944046"
     },
     "user_tz": -420
    },
    "id": "mDtQyHkuvWXQ",
    "outputId": "f7c1dec5-5179-4b8f-ad01-1f1e1f934ef0"
   },
   "outputs": [
    {
     "data": {
      "text/html": [
       "<div>\n",
       "<style scoped>\n",
       "    .dataframe tbody tr th:only-of-type {\n",
       "        vertical-align: middle;\n",
       "    }\n",
       "\n",
       "    .dataframe tbody tr th {\n",
       "        vertical-align: top;\n",
       "    }\n",
       "\n",
       "    .dataframe thead th {\n",
       "        text-align: right;\n",
       "    }\n",
       "</style>\n",
       "<table border=\"1\" class=\"dataframe\">\n",
       "  <thead>\n",
       "    <tr style=\"text-align: right;\">\n",
       "      <th></th>\n",
       "      <th>Unnamed: 0</th>\n",
       "      <th>age</th>\n",
       "      <th>bmi</th>\n",
       "      <th>children</th>\n",
       "      <th>charges</th>\n",
       "      <th>sex_code</th>\n",
       "      <th>smoker_code</th>\n",
       "      <th>region_code</th>\n",
       "    </tr>\n",
       "  </thead>\n",
       "  <tbody>\n",
       "    <tr>\n",
       "      <th>0</th>\n",
       "      <td>0</td>\n",
       "      <td>19</td>\n",
       "      <td>27.900</td>\n",
       "      <td>0</td>\n",
       "      <td>16884.92400</td>\n",
       "      <td>0</td>\n",
       "      <td>1</td>\n",
       "      <td>0</td>\n",
       "    </tr>\n",
       "    <tr>\n",
       "      <th>1</th>\n",
       "      <td>1</td>\n",
       "      <td>18</td>\n",
       "      <td>33.770</td>\n",
       "      <td>1</td>\n",
       "      <td>1725.55230</td>\n",
       "      <td>1</td>\n",
       "      <td>0</td>\n",
       "      <td>3</td>\n",
       "    </tr>\n",
       "    <tr>\n",
       "      <th>2</th>\n",
       "      <td>2</td>\n",
       "      <td>28</td>\n",
       "      <td>33.000</td>\n",
       "      <td>3</td>\n",
       "      <td>4449.46200</td>\n",
       "      <td>1</td>\n",
       "      <td>0</td>\n",
       "      <td>3</td>\n",
       "    </tr>\n",
       "    <tr>\n",
       "      <th>3</th>\n",
       "      <td>3</td>\n",
       "      <td>33</td>\n",
       "      <td>22.705</td>\n",
       "      <td>0</td>\n",
       "      <td>21984.47061</td>\n",
       "      <td>1</td>\n",
       "      <td>0</td>\n",
       "      <td>1</td>\n",
       "    </tr>\n",
       "    <tr>\n",
       "      <th>4</th>\n",
       "      <td>4</td>\n",
       "      <td>32</td>\n",
       "      <td>28.880</td>\n",
       "      <td>0</td>\n",
       "      <td>3866.85520</td>\n",
       "      <td>1</td>\n",
       "      <td>0</td>\n",
       "      <td>1</td>\n",
       "    </tr>\n",
       "  </tbody>\n",
       "</table>\n",
       "</div>"
      ],
      "text/plain": [
       "   Unnamed: 0  age     bmi  children      charges  sex_code  smoker_code  \\\n",
       "0           0   19  27.900         0  16884.92400         0            1   \n",
       "1           1   18  33.770         1   1725.55230         1            0   \n",
       "2           2   28  33.000         3   4449.46200         1            0   \n",
       "3           3   33  22.705         0  21984.47061         1            0   \n",
       "4           4   32  28.880         0   3866.85520         1            0   \n",
       "\n",
       "   region_code  \n",
       "0            0  \n",
       "1            3  \n",
       "2            3  \n",
       "3            1  \n",
       "4            1  "
      ]
     },
     "execution_count": 7,
     "metadata": {},
     "output_type": "execute_result"
    }
   ],
   "source": [
    "insurance_data = pd.read_csv('data/insurance_reg.csv')\n",
    "insurance_data.head()"
   ]
  },
  {
   "cell_type": "code",
   "execution_count": 8,
   "metadata": {
    "colab": {
     "base_uri": "https://localhost:8080/",
     "height": 287
    },
    "colab_type": "code",
    "executionInfo": {
     "elapsed": 847,
     "status": "ok",
     "timestamp": 1561568682924,
     "user": {
      "displayName": "SIRIPEN PONGPAICHET",
      "photoUrl": "https://lh4.googleusercontent.com/-ENJVprkO2fQ/AAAAAAAAAAI/AAAAAAAAAAs/v_SeHncKfsI/s64/photo.jpg",
      "userId": "16347692119815944046"
     },
     "user_tz": -420
    },
    "id": "nCvNGVrSvWXU",
    "outputId": "9495a062-c8e5-4229-f3f1-c83abe832182"
   },
   "outputs": [
    {
     "data": {
      "text/html": [
       "<div>\n",
       "<style scoped>\n",
       "    .dataframe tbody tr th:only-of-type {\n",
       "        vertical-align: middle;\n",
       "    }\n",
       "\n",
       "    .dataframe tbody tr th {\n",
       "        vertical-align: top;\n",
       "    }\n",
       "\n",
       "    .dataframe thead th {\n",
       "        text-align: right;\n",
       "    }\n",
       "</style>\n",
       "<table border=\"1\" class=\"dataframe\">\n",
       "  <thead>\n",
       "    <tr style=\"text-align: right;\">\n",
       "      <th></th>\n",
       "      <th>Unnamed: 0</th>\n",
       "      <th>age</th>\n",
       "      <th>bmi</th>\n",
       "      <th>children</th>\n",
       "      <th>charges</th>\n",
       "      <th>sex_code</th>\n",
       "      <th>smoker_code</th>\n",
       "      <th>region_code</th>\n",
       "    </tr>\n",
       "  </thead>\n",
       "  <tbody>\n",
       "    <tr>\n",
       "      <th>Unnamed: 0</th>\n",
       "      <td>1.000000</td>\n",
       "      <td>-0.032795</td>\n",
       "      <td>-0.036302</td>\n",
       "      <td>0.024476</td>\n",
       "      <td>-0.011792</td>\n",
       "      <td>0.001176</td>\n",
       "      <td>0.001144</td>\n",
       "      <td>-0.023663</td>\n",
       "    </tr>\n",
       "    <tr>\n",
       "      <th>age</th>\n",
       "      <td>-0.032795</td>\n",
       "      <td>1.000000</td>\n",
       "      <td>0.107096</td>\n",
       "      <td>0.042488</td>\n",
       "      <td>0.297556</td>\n",
       "      <td>-0.021081</td>\n",
       "      <td>-0.028675</td>\n",
       "      <td>-0.013142</td>\n",
       "    </tr>\n",
       "    <tr>\n",
       "      <th>bmi</th>\n",
       "      <td>-0.036302</td>\n",
       "      <td>0.107096</td>\n",
       "      <td>1.000000</td>\n",
       "      <td>0.013913</td>\n",
       "      <td>0.192211</td>\n",
       "      <td>0.048214</td>\n",
       "      <td>-0.001165</td>\n",
       "      <td>0.160905</td>\n",
       "    </tr>\n",
       "    <tr>\n",
       "      <th>children</th>\n",
       "      <td>0.024476</td>\n",
       "      <td>0.042488</td>\n",
       "      <td>0.013913</td>\n",
       "      <td>1.000000</td>\n",
       "      <td>0.070446</td>\n",
       "      <td>0.016022</td>\n",
       "      <td>0.008070</td>\n",
       "      <td>-0.032891</td>\n",
       "    </tr>\n",
       "    <tr>\n",
       "      <th>charges</th>\n",
       "      <td>-0.011792</td>\n",
       "      <td>0.297556</td>\n",
       "      <td>0.192211</td>\n",
       "      <td>0.070446</td>\n",
       "      <td>1.000000</td>\n",
       "      <td>0.055656</td>\n",
       "      <td>0.787317</td>\n",
       "      <td>0.071897</td>\n",
       "    </tr>\n",
       "    <tr>\n",
       "      <th>sex_code</th>\n",
       "      <td>0.001176</td>\n",
       "      <td>-0.021081</td>\n",
       "      <td>0.048214</td>\n",
       "      <td>0.016022</td>\n",
       "      <td>0.055656</td>\n",
       "      <td>1.000000</td>\n",
       "      <td>0.075167</td>\n",
       "      <td>0.014554</td>\n",
       "    </tr>\n",
       "    <tr>\n",
       "      <th>smoker_code</th>\n",
       "      <td>0.001144</td>\n",
       "      <td>-0.028675</td>\n",
       "      <td>-0.001165</td>\n",
       "      <td>0.008070</td>\n",
       "      <td>0.787317</td>\n",
       "      <td>0.075167</td>\n",
       "      <td>1.000000</td>\n",
       "      <td>0.066291</td>\n",
       "    </tr>\n",
       "    <tr>\n",
       "      <th>region_code</th>\n",
       "      <td>-0.023663</td>\n",
       "      <td>-0.013142</td>\n",
       "      <td>0.160905</td>\n",
       "      <td>-0.032891</td>\n",
       "      <td>0.071897</td>\n",
       "      <td>0.014554</td>\n",
       "      <td>0.066291</td>\n",
       "      <td>1.000000</td>\n",
       "    </tr>\n",
       "  </tbody>\n",
       "</table>\n",
       "</div>"
      ],
      "text/plain": [
       "             Unnamed: 0       age       bmi  children   charges  sex_code  \\\n",
       "Unnamed: 0     1.000000 -0.032795 -0.036302  0.024476 -0.011792  0.001176   \n",
       "age           -0.032795  1.000000  0.107096  0.042488  0.297556 -0.021081   \n",
       "bmi           -0.036302  0.107096  1.000000  0.013913  0.192211  0.048214   \n",
       "children       0.024476  0.042488  0.013913  1.000000  0.070446  0.016022   \n",
       "charges       -0.011792  0.297556  0.192211  0.070446  1.000000  0.055656   \n",
       "sex_code       0.001176 -0.021081  0.048214  0.016022  0.055656  1.000000   \n",
       "smoker_code    0.001144 -0.028675 -0.001165  0.008070  0.787317  0.075167   \n",
       "region_code   -0.023663 -0.013142  0.160905 -0.032891  0.071897  0.014554   \n",
       "\n",
       "             smoker_code  region_code  \n",
       "Unnamed: 0      0.001144    -0.023663  \n",
       "age            -0.028675    -0.013142  \n",
       "bmi            -0.001165     0.160905  \n",
       "children        0.008070    -0.032891  \n",
       "charges         0.787317     0.071897  \n",
       "sex_code        0.075167     0.014554  \n",
       "smoker_code     1.000000     0.066291  \n",
       "region_code     0.066291     1.000000  "
      ]
     },
     "execution_count": 8,
     "metadata": {},
     "output_type": "execute_result"
    }
   ],
   "source": [
    "corr = insurance_data.corr()\n",
    "corr"
   ]
  },
  {
   "cell_type": "markdown",
   "metadata": {
    "colab_type": "text",
    "id": "kiBpc4i2vWXX"
   },
   "source": [
    "## Step3: Pick Chart\n",
    "\n",
    "\n",
    "### Correlation Heat Map\n",
    "Next we will plot the correlation value between features as heatmap. "
   ]
  },
  {
   "cell_type": "code",
   "execution_count": 9,
   "metadata": {
    "colab": {
     "base_uri": "https://localhost:8080/",
     "height": 372
    },
    "colab_type": "code",
    "executionInfo": {
     "elapsed": 1156,
     "status": "ok",
     "timestamp": 1561568686136,
     "user": {
      "displayName": "SIRIPEN PONGPAICHET",
      "photoUrl": "https://lh4.googleusercontent.com/-ENJVprkO2fQ/AAAAAAAAAAI/AAAAAAAAAAs/v_SeHncKfsI/s64/photo.jpg",
      "userId": "16347692119815944046"
     },
     "user_tz": -420
    },
    "id": "tLT7D9ewvWXX",
    "outputId": "55e79d2f-ee2f-4d70-9f19-d3b83435366c"
   },
   "outputs": [
    {
     "data": {
      "text/plain": [
       "<matplotlib.axes._subplots.AxesSubplot at 0x20a014cd9b0>"
      ]
     },
     "execution_count": 9,
     "metadata": {},
     "output_type": "execute_result"
    },
    {
     "data": {
      "image/png": "[encoded data removed]",
      "text/plain": [
       "<Figure size 360x360 with 2 Axes>"
      ]
     },
     "metadata": {
      "needs_background": "light"
     },
     "output_type": "display_data"
    }
   ],
   "source": [
    "fi, axes = plt.subplots(figsize=(5, 5))\n",
    "sb.heatmap(corr, mask=np.zeros_like(corr, dtype=np.bool), cmap=sb.diverging_palette(200,10,as_cmap=True), \n",
    "           square=True, ax=axes)"
   ]
  },
  {
   "cell_type": "markdown",
   "metadata": {
    "colab_type": "text",
    "id": "VAgUgVT0vWXa"
   },
   "source": [
    "**<font color=\"brown\">What do you get from this chart?</font>**\n",
    "\n",
    "Can you now see which value is correlated with the charges? "
   ]
  },
  {
   "cell_type": "markdown",
   "metadata": {
    "colab_type": "text",
    "id": "4UTQrDelvWXa"
   },
   "source": [
    "### Distribution Map\n",
    "\n",
    "Now, you might want to explore further about the \"charges\". What does the \"charges\" look like? And what are the distributions of the medical charges of the smokers vs. the non-smokers?\n",
    "\n",
    "This will help us to know how much patients spend on treatment on average. The histogram, the distplot, the violin, and the boxplot are the commmon plots to show the distribution.\n",
    "\n",
    "#### Histogram"
   ]
  },
  {
   "cell_type": "code",
   "execution_count": 10,
   "metadata": {
    "colab": {},
    "colab_type": "code",
    "id": "hIccHWUUvWXb",
    "outputId": "3e442d4b-f012-4714-d4e4-d44005de89e2"
   },
   "outputs": [
    {
     "data": {
      "image/png": "[encoded data removed]",
      "text/plain": [
       "<Figure size 432x288 with 1 Axes>"
      ]
     },
     "metadata": {
      "needs_background": "light"
     },
     "output_type": "display_data"
    }
   ],
   "source": [
    "## matplotlib\n",
    "\n",
    "plt.hist(insurance_data.charges, bins='auto')  # arguments are passed to np.histogram\n",
    "\n",
    "# Step 4: Add supporting indicators\n",
    "plt.title(\"The histogram showing the distribution of medical charges\")\n",
    "plt.xlabel('charges')\n",
    "plt.ylabel('frequencies')\n",
    "plt.show()"
   ]
  },
  {
   "cell_type": "code",
   "execution_count": 11,
   "metadata": {
    "colab": {
     "base_uri": "https://localhost:8080/",
     "height": 350
    },
    "colab_type": "code",
    "executionInfo": {
     "elapsed": 1375,
     "status": "ok",
     "timestamp": 1561568703351,
     "user": {
      "displayName": "SIRIPEN PONGPAICHET",
      "photoUrl": "https://lh4.googleusercontent.com/-ENJVprkO2fQ/AAAAAAAAAAI/AAAAAAAAAAs/v_SeHncKfsI/s64/photo.jpg",
      "userId": "16347692119815944046"
     },
     "user_tz": -420
    },
    "id": "dAxRaS8LvWXg",
    "outputId": "e6ccc014-e275-42c2-ae88-fa9dc581e32e",
    "scrolled": true
   },
   "outputs": [
    {
     "data": {
      "image/png": "[encoded data removed]",
      "text/plain": [
       "<Figure size 1008x360 with 2 Axes>"
      ]
     },
     "metadata": {
      "needs_background": "light"
     },
     "output_type": "display_data"
    }
   ],
   "source": [
    "## matplotlib\n",
    "fi = plt.figure(figsize=(14,5))\n",
    "\n",
    "axes=fi.add_subplot(121)\n",
    "axes.set_title('The distribution of the medical charges for the non-smokers')\n",
    "#plt.hist(insurance_data[(insurance_data.smoker_code == 0)]['charges'], bins='auto') \n",
    "sb.distplot(insurance_data[(insurance_data.smoker_code == 0)]['charges'],color='b',ax=axes)\n",
    "\n",
    "axes=fi.add_subplot(122)\n",
    "axes.set_title('The distribution of the medical charges for the smokers')\n",
    "#plt.hist(insurance_data[(insurance_data.smoker_code == 1)]['charges'], color='c', bins='auto') \n",
    "sb.distplot(insurance_data[(insurance_data.smoker_code == 1)]['charges'],color='c',ax=axes)\n",
    "\n",
    "plt.show()"
   ]
  },
  {
   "cell_type": "markdown",
   "metadata": {
    "colab_type": "text",
    "id": "JCZ282cavWXk"
   },
   "source": [
    "The medical charges are lower for the non-smokers. It also seems like there are two groups of people in the smokers. But from the histogram, the number of non-smoking patients seems to be greater. We can highlight it with the catplot.\n",
    "\n",
    "#### Category Plot"
   ]
  },
  {
   "cell_type": "code",
   "execution_count": 12,
   "metadata": {
    "colab": {
     "base_uri": "https://localhost:8080/",
     "height": 372
    },
    "colab_type": "code",
    "executionInfo": {
     "elapsed": 876,
     "status": "ok",
     "timestamp": 1561568707170,
     "user": {
      "displayName": "SIRIPEN PONGPAICHET",
      "photoUrl": "https://lh4.googleusercontent.com/-ENJVprkO2fQ/AAAAAAAAAAI/AAAAAAAAAAs/v_SeHncKfsI/s64/photo.jpg",
      "userId": "16347692119815944046"
     },
     "user_tz": -420
    },
    "id": "2D0pZb8LvWXl",
    "outputId": "69d6891d-a711-4aaf-8974-27e2e0248229"
   },
   "outputs": [
    {
     "data": {
      "image/png": "[encoded data removed]",
      "text/plain": [
       "<Figure size 360x360 with 1 Axes>"
      ]
     },
     "metadata": {
      "needs_background": "light"
     },
     "output_type": "display_data"
    }
   ],
   "source": [
    "## seaborn\n",
    "ax = sb.catplot(x=\"smoker_code\", kind=\"count\",hue = 'sex_code', palette=\"inferno\", data=insurance_data, legend=False)\n",
    "ax.fig.suptitle('The frequency of the smokers and non-smokers')\n",
    "plt.legend(labels=['Female', 'Male'])\n",
    "plt.show()"
   ]
  },
  {
   "cell_type": "markdown",
   "metadata": {
    "colab_type": "text",
    "id": "jMMPyKZIvWXo"
   },
   "source": [
    "Please note that female is coded with \"0\"and male with \"1\", while smoker is coded with \"1\", and non-smoker is coded with \"0\". What can we say based on the graph? We can also use the violin graph to highlight our finding.\n",
    "\n",
    "#### Violin Plot"
   ]
  },
  {
   "cell_type": "code",
   "execution_count": 13,
   "metadata": {
    "colab": {
     "base_uri": "https://localhost:8080/",
     "height": 386
    },
    "colab_type": "code",
    "executionInfo": {
     "elapsed": 1343,
     "status": "ok",
     "timestamp": 1561568711565,
     "user": {
      "displayName": "SIRIPEN PONGPAICHET",
      "photoUrl": "https://lh4.googleusercontent.com/-ENJVprkO2fQ/AAAAAAAAAAI/AAAAAAAAAAs/v_SeHncKfsI/s64/photo.jpg",
      "userId": "16347692119815944046"
     },
     "user_tz": -420
    },
    "id": "uZDxg0WNvWXp",
    "outputId": "96a271b9-a317-465b-938d-0f06d56baf29"
   },
   "outputs": [
    {
     "data": {
      "text/plain": [
       "<seaborn.axisgrid.FacetGrid at 0x20a014cd2b0>"
      ]
     },
     "execution_count": 13,
     "metadata": {},
     "output_type": "execute_result"
    },
    {
     "data": {
      "image/png": "[encoded data removed]",
      "text/plain": [
       "<Figure size 433.875x360 with 1 Axes>"
      ]
     },
     "metadata": {
      "needs_background": "light"
     },
     "output_type": "display_data"
    }
   ],
   "source": [
    "sb.catplot(x=\"sex_code\", y=\"charges\", hue=\"smoker_code\", kind=\"violin\", palette = 'inferno', data=insurance_data)"
   ]
  },
  {
   "cell_type": "markdown",
   "metadata": {
    "colab_type": "text",
    "id": "0daRqi-mvWXt"
   },
   "source": [
    "#### Box Plot"
   ]
  },
  {
   "cell_type": "code",
   "execution_count": 14,
   "metadata": {
    "colab": {},
    "colab_type": "code",
    "id": "xhM3h60rvWXu",
    "outputId": "cdee702a-d813-446c-fad5-de063e9ca5d0"
   },
   "outputs": [
    {
     "data": {
      "image/png": "[encoded data removed]",
      "text/plain": [
       "<Figure size 864x360 with 1 Axes>"
      ]
     },
     "metadata": {
      "needs_background": "light"
     },
     "output_type": "display_data"
    }
   ],
   "source": [
    "plt.figure(figsize=(12,5))\n",
    "plt.title(\"The box plot of males' medical charges\")\n",
    "sb.boxplot(y=\"smoker_code\", x=\"charges\", data = insurance_data[(insurance_data.sex_code == 1)], orient=\"h\", palette = 'inferno')\n",
    "plt.show()"
   ]
  },
  {
   "cell_type": "markdown",
   "metadata": {
    "colab_type": "text",
    "id": "BeLzdtHRvWXx"
   },
   "source": [
    "**<font color=\"brown\">Exercise: Try to plot the same boxplot for female below.</font>**"
   ]
  },
  {
   "cell_type": "code",
   "execution_count": null,
   "metadata": {
    "colab": {},
    "colab_type": "code",
    "id": "JxC0ANuWvWXz"
   },
   "outputs": [],
   "source": [
    "# fill your code here\n",
    "plt.figure(figsize=(12,5))\n",
    "plt.title(\"The box plot of males' medical charges\")\n",
    "sb.boxplot(y=\"smoker_code\", x=\"charges\", data = insurance_data[(insurance_data.sex_code == 0)], orient=\"h\", palette = 'inferno')\n",
    "plt.show()"
   ]
  },
  {
   "cell_type": "markdown",
   "metadata": {
    "colab_type": "text",
    "id": "UNL7VeE5vWX3"
   },
   "source": [
    "***<font color=\"blue\">Age did not show any correlation with the charge. Let use the distribution plot to check that.</font>***"
   ]
  },
  {
   "cell_type": "code",
   "execution_count": null,
   "metadata": {
    "colab": {},
    "colab_type": "code",
    "id": "fzbIx7rXvWX4",
    "outputId": "ca1d56b8-3607-4523-f2ff-a29a6e545cc4"
   },
   "outputs": [],
   "source": [
    "plt.figure(figsize=(12,5))\n",
    "plt.title(\"Distribution of age\")\n",
    "plt.hist(insurance_data['age'], bins='auto') \n",
    "plt.show()"
   ]
  },
  {
   "cell_type": "markdown",
   "metadata": {
    "colab_type": "text",
    "id": "u_TG8WRrvWX7"
   },
   "source": [
    "There is a spike at the minimum age of 18-year old. \n",
    "\n",
    "**<font color=\"brown\">Exercise: Can you plot the frequency of the smokers and non-smokers of male and female of age 18? (see catplot above)</font>**"
   ]
  },
  {
   "cell_type": "code",
   "execution_count": null,
   "metadata": {
    "colab": {},
    "colab_type": "code",
    "id": "MnYmI5KzvWX8"
   },
   "outputs": [],
   "source": [
    "# fill your code here\n",
    "\n",
    "# hint. How to get the data of 18 years old?\n",
    "\n",
    "# catplot\n"
   ]
  },
  {
   "cell_type": "markdown",
   "metadata": {
    "colab_type": "text",
    "id": "IQbyhA29vWX-"
   },
   "source": [
    "**<font color=\"brown\">Exercise: Can you also plot the boxplot to see the medical charges of the smokers with age of 18-year old?</font>**"
   ]
  },
  {
   "cell_type": "code",
   "execution_count": null,
   "metadata": {
    "colab": {},
    "colab_type": "code",
    "id": "0N30kadIvWX_"
   },
   "outputs": [],
   "source": [
    "# fill your code here\n",
    "\n"
   ]
  },
  {
   "cell_type": "markdown",
   "metadata": {
    "colab_type": "text",
    "id": "PWWkU9f-vWYB"
   },
   "source": [
    "# Beautify Chart with ``Bokeh``\n",
    "\n",
    "We can beautify the histogram with Bokeh."
   ]
  },
  {
   "cell_type": "code",
   "execution_count": null,
   "metadata": {
    "colab": {},
    "colab_type": "code",
    "id": "39mf_a-jvWYB"
   },
   "outputs": [],
   "source": [
    "from bokeh.io import output_notebook, show\n",
    "from bokeh.plotting import figure\n",
    "import scipy.special\n",
    "from bokeh.layouts import gridplot\n",
    "from bokeh.plotting import figure, show, output_file\n",
    "from bokeh.models import HoverTool, value, LabelSet, Legend, ColumnDataSource,LinearColorMapper,BasicTicker, PrintfTickFormatter, ColorBar\n",
    "\n",
    "TOOLS = 'save,pan,box_zoom,reset,wheel_zoom,hover'\n"
   ]
  },
  {
   "cell_type": "code",
   "execution_count": null,
   "metadata": {
    "colab": {
     "base_uri": "https://localhost:8080/",
     "height": 446
    },
    "colab_type": "code",
    "executionInfo": {
     "elapsed": 979,
     "status": "ok",
     "timestamp": 1561569072823,
     "user": {
      "displayName": "SIRIPEN PONGPAICHET",
      "photoUrl": "https://lh4.googleusercontent.com/-ENJVprkO2fQ/AAAAAAAAAAI/AAAAAAAAAAs/v_SeHncKfsI/s64/photo.jpg",
      "userId": "16347692119815944046"
     },
     "user_tz": -420
    },
    "id": "TqBFDxx7wMdU",
    "outputId": "04492e9f-7f4b-4ed6-e4c4-266e129c38ae"
   },
   "outputs": [],
   "source": [
    "output_notebook()\n",
    "\n",
    "\n",
    "hist_pic = figure(title=\"Distribution of charges\",tools=TOOLS, background_fill_color=\"#f7fbff\", plot_height = 400, plot_width = 800)\n",
    "hist, edges = np.histogram(insurance_data.charges)\n",
    "hist_pic.quad(top=hist, bottom=0, left=edges[:-1], right=edges[1:],fill_color=\"#084594\", line_color=\"#033649\")\n",
    "hist_pic.xaxis.axis_label = 'charges'\n",
    "hist_pic.yaxis.axis_label = 'frequencies'\n",
    "hist_pic.select_one(HoverTool).tooltips = [\n",
    "    ('charges', '@left{0,0} - @right{0,0}'),\n",
    "    ('freq', '@top'),\n",
    "]\n",
    "show(hist_pic)"
   ]
  },
  {
   "cell_type": "markdown",
   "metadata": {
    "colab_type": "text",
    "id": "SPjjpqWkRN7-"
   },
   "source": [
    "Plot the frequency of the smokers vs non-smokers in each gender\n",
    "\n",
    "\n"
   ]
  },
  {
   "cell_type": "code",
   "execution_count": null,
   "metadata": {
    "colab": {
     "base_uri": "https://localhost:8080/",
     "height": 34
    },
    "colab_type": "code",
    "executionInfo": {
     "elapsed": 815,
     "status": "ok",
     "timestamp": 1561568913180,
     "user": {
      "displayName": "SIRIPEN PONGPAICHET",
      "photoUrl": "https://lh4.googleusercontent.com/-ENJVprkO2fQ/AAAAAAAAAAI/AAAAAAAAAAs/v_SeHncKfsI/s64/photo.jpg",
      "userId": "16347692119815944046"
     },
     "user_tz": -420
    },
    "id": "EQhNqhr0wpn3",
    "outputId": "067e701b-6917-43b1-89d1-5c7f335270dc"
   },
   "outputs": [],
   "source": [
    "smoker = ['Non-Smoker', 'Smoker']\n",
    "gender = ['Female', 'Male']\n",
    "\n",
    "nf = insurance_data.query('smoker_code==0 & sex_code==0').count()[0]\n",
    "nm = insurance_data.query('smoker_code==0 & sex_code==1').count()[0]\n",
    "sf = insurance_data.query('smoker_code==1 & sex_code==0').count()[0]\n",
    "sm = insurance_data.query('smoker_code==1 & sex_code==1').count()[0]\n",
    "\n",
    "data = {'Smoker' : smoker,\n",
    "        'Female' : [nf, sf],\n",
    "        'Male'   : [nm, sm]\n",
    "       }\n",
    "\n",
    "data\n"
   ]
  },
  {
   "cell_type": "code",
   "execution_count": null,
   "metadata": {
    "colab": {
     "base_uri": "https://localhost:8080/",
     "height": 296
    },
    "colab_type": "code",
    "executionInfo": {
     "elapsed": 962,
     "status": "ok",
     "timestamp": 1561569177268,
     "user": {
      "displayName": "SIRIPEN PONGPAICHET",
      "photoUrl": "https://lh4.googleusercontent.com/-ENJVprkO2fQ/AAAAAAAAAAI/AAAAAAAAAAs/v_SeHncKfsI/s64/photo.jpg",
      "userId": "16347692119815944046"
     },
     "user_tz": -420
    },
    "id": "ya8_HSFpwq1l",
    "outputId": "631a9bfd-519e-44e1-9d08-d7849d844e6c"
   },
   "outputs": [],
   "source": [
    "output_notebook()\n",
    "\n",
    "from bokeh.transform import dodge\n",
    "\n",
    "source = ColumnDataSource(data=data)\n",
    "\n",
    "p = figure(x_range=smoker, plot_height=250, title=\"Frequency by Smoker Type and Gender\", tools=TOOLS)\n",
    "\n",
    "p.vbar(x=dodge('Smoker', -0.25, range=p.x_range), top='Female', width=0.2, source=source,\n",
    "       color=\"#c9d9d3\", legend=value(\"Female\"))\n",
    "\n",
    "p.vbar(x=dodge('Smoker',  0.0,  range=p.x_range), top='Male', width=0.2, source=source,\n",
    "       color=\"#718dbf\", legend=value(\"Male\"))\n",
    "\n",
    "\n",
    "p.x_range.range_padding = 0.1\n",
    "p.xgrid.grid_line_color = None\n",
    "p.legend.location = \"top_right\"\n",
    "p.legend.orientation = \"vertical\"\n",
    "p.select_one(HoverTool).tooltips = [\n",
    "    ('freq', '@source'),\n",
    "]\n",
    "\n",
    "show(p)"
   ]
  },
  {
   "cell_type": "markdown",
   "metadata": {
    "colab_type": "text",
    "id": "XVljqi95Qv_y"
   },
   "source": [
    "**<font color=\"brown\">Exercise: Can you plot the frequency of the smokers and non-smokers of male and female of age 18?</font>**"
   ]
  },
  {
   "cell_type": "code",
   "execution_count": null,
   "metadata": {
    "colab": {},
    "colab_type": "code",
    "id": "T5pS36vASd3g"
   },
   "outputs": [],
   "source": []
  }
 ],
 "metadata": {
  "colab": {
   "collapsed_sections": [],
   "name": "Part1_BasicViz.ipynb",
   "provenance": [],
   "version": "0.3.2"
  },
  "kernelspec": {
   "display_name": "Python 3",
   "language": "python",
   "name": "python3"
  },
  "language_info": {
   "codemirror_mode": {
    "name": "ipython",
    "version": 3
   },
   "file_extension": ".py",
   "mimetype": "text/x-python",
   "name": "python",
   "nbconvert_exporter": "python",
   "pygments_lexer": "ipython3",
   "version": "3.7.3"
  }
 },
 "nbformat": 4,
 "nbformat_minor": 1
}
