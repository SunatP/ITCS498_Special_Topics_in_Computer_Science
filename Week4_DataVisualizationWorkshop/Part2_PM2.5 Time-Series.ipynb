{
 "cells": [
  {
   "cell_type": "markdown",
   "metadata": {
    "colab_type": "text",
    "id": "zLkSk4WDvB85"
   },
   "source": [
    "# Data Visual Analytics for PM2.5 Time-Series Data"
   ]
  },
  {
   "cell_type": "markdown",
   "metadata": {
    "colab_type": "text",
    "id": "xw-oMC5tvB87"
   },
   "source": [
    "## Step 1: What do you want to convey\n",
    "\n",
    "Just exploring the dataset\n",
    "\n",
    "\n",
    "## Step 2: Prepare Your Data\n",
    "\n",
    "Yesterday, we acquired the air quality data set from the website. Let try to see if we can visualize it better. Since we have cleaned and put it in the database, let's start from there."
   ]
  },
  {
   "cell_type": "code",
   "execution_count": null,
   "metadata": {
    "colab": {},
    "colab_type": "code",
    "id": "twrICED9vB88"
   },
   "outputs": [],
   "source": [
    "import sqlite3\n",
    "import pandas as pd\n",
    "import numpy as np \n",
    "import os\n",
    "import matplotlib.pyplot as plt\n",
    "import seaborn as sb\n",
    "import warnings\n",
    "warnings.filterwarnings('ignore')\n",
    "\n",
    "# to display plot inline in this notebook\n",
    "%matplotlib inline"
   ]
  },
  {
   "cell_type": "code",
   "execution_count": null,
   "metadata": {
    "colab": {
     "base_uri": "https://localhost:8080/",
     "height": 433
    },
    "colab_type": "code",
    "executionInfo": {
     "elapsed": 1033,
     "status": "error",
     "timestamp": 1561578349122,
     "user": {
      "displayName": "SIRIPEN PONGPAICHET",
      "photoUrl": "https://lh4.googleusercontent.com/-ENJVprkO2fQ/AAAAAAAAAAI/AAAAAAAAAAs/v_SeHncKfsI/s64/photo.jpg",
      "userId": "16347692119815944046"
     },
     "user_tz": -420
    },
    "id": "BNu8SkMxvB8_",
    "outputId": "cf71c073-8813-45e0-9c7d-416c1edd6573"
   },
   "outputs": [],
   "source": [
    "# create connection\n",
    "conn = sqlite3.connect('data/thailand_cities.db')\n",
    "\n",
    "# To retrive the table names inside the database\n",
    "df_all = pd.read_sql_query('SELECT name FROM sqlite_master WHERE type=\\'table\\';', conn)\n",
    "# Tables: cities, and pm_by_city\n",
    "\n",
    "# Read the data and put it into the Pandas dataframe\n",
    "df_cities = pd.read_sql_query('SELECT * FROM cities', conn)\n",
    "df_pm = pd.read_sql_query('SELECT * FROM pm_by_city', conn)"
   ]
  },
  {
   "cell_type": "code",
   "execution_count": null,
   "metadata": {
    "colab": {},
    "colab_type": "code",
    "id": "N7BY41ejvB9C"
   },
   "outputs": [],
   "source": [
    "# Display sample data\n",
    "df_cities.head()"
   ]
  },
  {
   "cell_type": "code",
   "execution_count": null,
   "metadata": {
    "colab": {},
    "colab_type": "code",
    "id": "Xr9HSHbRvB9E"
   },
   "outputs": [],
   "source": [
    "# Display sample data\n",
    "df_pm.head()"
   ]
  },
  {
   "cell_type": "code",
   "execution_count": null,
   "metadata": {
    "colab": {},
    "colab_type": "code",
    "id": "j9AeAYVcvB9G"
   },
   "outputs": [],
   "source": [
    "df_pm.describe()"
   ]
  },
  {
   "cell_type": "markdown",
   "metadata": {
    "colab_type": "text",
    "id": "XVvoUwk3vB9H"
   },
   "source": [
    "#### Filter Data\n",
    "1) By a specific keyword"
   ]
  },
  {
   "cell_type": "code",
   "execution_count": null,
   "metadata": {
    "colab": {},
    "colab_type": "code",
    "id": "c21aAqqCvB9I"
   },
   "outputs": [],
   "source": [
    "df_pm_bangkok = df_pm[(df_pm['city'] == 'Bangkok')]\n",
    "df_pm_bangkok.describe()"
   ]
  },
  {
   "cell_type": "markdown",
   "metadata": {
    "colab_type": "text",
    "id": "_3akMQKFvB9K"
   },
   "source": [
    "**<font color='brown'>Exercise: Try to select all data of Songkhla</font>**"
   ]
  },
  {
   "cell_type": "code",
   "execution_count": null,
   "metadata": {
    "colab": {},
    "colab_type": "code",
    "id": "wld8QrnBvB9K"
   },
   "outputs": [],
   "source": [
    "# fill your code here\n"
   ]
  },
  {
   "cell_type": "markdown",
   "metadata": {
    "colab_type": "text",
    "id": "62XwpGaQvB9N"
   },
   "source": [
    "2) By a list of keywords"
   ]
  },
  {
   "cell_type": "code",
   "execution_count": null,
   "metadata": {
    "colab": {},
    "colab_type": "code",
    "id": "bo-yst3ivB9N"
   },
   "outputs": [],
   "source": [
    "options = ['Bangkok', 'Songkhla']\n",
    "df_pm_bs = df_pm[df_pm['city'].isin(options)]\n",
    "df_pm_bs.describe()"
   ]
  },
  {
   "cell_type": "markdown",
   "metadata": {
    "colab_type": "text",
    "id": "5XtUkp0BvB9Q"
   },
   "source": [
    "## Step 3: Pick the Best Plot\n",
    "\n",
    "One of the first plot that we will try is a <b>line plot</b>. It is a type of plot which displays information as a series of data points called 'markers' connected by straight line segments.\n",
    "\n",
    "### Line Plot"
   ]
  },
  {
   "cell_type": "code",
   "execution_count": null,
   "metadata": {
    "colab": {},
    "colab_type": "code",
    "id": "KDEh16_6vB9R"
   },
   "outputs": [],
   "source": [
    "df_pm_bangkok['PM2.5'].describe()\n",
    "#df_pm_bangkok"
   ]
  },
  {
   "cell_type": "code",
   "execution_count": null,
   "metadata": {
    "colab": {},
    "colab_type": "code",
    "id": "FCQ1MKpBvB9U"
   },
   "outputs": [],
   "source": [
    "# To avoid TypeError: Empty 'DataFrame': no numeric data to plot\n",
    "# We will convert column with numeric value to be numeric type first\n",
    "\n",
    "for c in df_pm_bangkok.columns:\n",
    "    df_pm_bangkok[c] = pd.to_numeric(df_pm_bangkok[c], errors='ignore')\n",
    "    \n",
    "df_pm_bangkok.head()"
   ]
  },
  {
   "cell_type": "code",
   "execution_count": null,
   "metadata": {
    "colab": {},
    "colab_type": "code",
    "id": "RQEj8veKvB9W"
   },
   "outputs": [],
   "source": [
    "df_pm_bangkok.plot(y='PM2.5')\n",
    "plt.show()"
   ]
  },
  {
   "cell_type": "markdown",
   "metadata": {
    "colab_type": "text",
    "id": "eg2QAZzivB9Y"
   },
   "source": [
    "#### Adjust and Add Element"
   ]
  },
  {
   "cell_type": "code",
   "execution_count": null,
   "metadata": {
    "colab": {},
    "colab_type": "code",
    "id": "L4WVNJWevB9Y"
   },
   "outputs": [],
   "source": [
    "# to adjust the size of the chart\n",
    "import matplotlib.pyplot as plt\n",
    "\n",
    "# Set figure size\n",
    "plt.figure(figsize=(15,3))\n",
    "\n",
    "# Add X and Y axis label\n",
    "plt.xlabel('Hour')\n",
    "plt.ylabel('PM2.5 Level')\n",
    "\n",
    "# Add title\n",
    "plt.title('PM2.5 Level in Bangkok from year 2016 - 2019')\n",
    "\n",
    "# Add plot\n",
    "plt.plot('PM2.5', data=df_pm_bangkok, color='skyblue', linewidth=1)\n",
    "\n",
    "# Add legend\n",
    "plt.legend()\n",
    "\n",
    "plt.show()"
   ]
  },
  {
   "cell_type": "markdown",
   "metadata": {
    "colab_type": "text",
    "id": "NsM_dDXNvB9a"
   },
   "source": [
    "**<font color=\"brown\">Exercise: Create a line plot of PM2.5 in Songkhla (Note. You can use df_pm_songkhla dataframe shown in step 1)</font>**"
   ]
  },
  {
   "cell_type": "code",
   "execution_count": null,
   "metadata": {
    "colab": {},
    "colab_type": "code",
    "id": "PIKzbv0zvB9a"
   },
   "outputs": [],
   "source": [
    "# fill your code here\n"
   ]
  },
  {
   "cell_type": "markdown",
   "metadata": {
    "colab_type": "text",
    "id": "hekRz51WvB9c"
   },
   "source": [
    "### Multiple Line Plot"
   ]
  },
  {
   "cell_type": "code",
   "execution_count": null,
   "metadata": {},
   "outputs": [],
   "source": [
    "# Prepare Songkhla dataset\n",
    "df_pm_songkhla.head()"
   ]
  },
  {
   "cell_type": "code",
   "execution_count": null,
   "metadata": {
    "colab": {},
    "colab_type": "code",
    "id": "SoTMnr0hvB9c"
   },
   "outputs": [],
   "source": [
    "# Convert data to numeric vlaue (if you haven't done it in the exercise above)\n",
    "#for c in df_pm_songkhla.columns:\n",
    "#    df_pm_songkhla[c] = pd.to_numeric(df_pm_songkhla[c], errors='ignore')\n",
    "    \n",
    "# Reset index to start with 0\n",
    "df_pm_songkhla.reset_index(drop=True, inplace=True)\n",
    "\n",
    "df_pm_songkhla.head()"
   ]
  },
  {
   "cell_type": "code",
   "execution_count": null,
   "metadata": {
    "colab": {},
    "colab_type": "code",
    "id": "qUUIsE1ovB9e"
   },
   "outputs": [],
   "source": [
    "# multiple line plot\n",
    "plt.figure(figsize=(15,5))\n",
    "plt.plot('PM2.5', data=df_pm_bangkok, color='skyblue', linewidth=1)\n",
    "plt.plot('PM2.5', data=df_pm_songkhla, color='blue', linewidth=1)\n",
    "plt.legend(['Bangkok', 'Songkhla'])\n",
    "plt.show()"
   ]
  },
  {
   "cell_type": "markdown",
   "metadata": {},
   "source": [
    "**<font color=\"red\">Does this chart represent data correctly?</font>**"
   ]
  },
  {
   "cell_type": "markdown",
   "metadata": {
    "colab_type": "text",
    "id": "WsMJTiZKvB9g"
   },
   "source": [
    "### Histogram"
   ]
  },
  {
   "cell_type": "code",
   "execution_count": null,
   "metadata": {
    "colab": {},
    "colab_type": "code",
    "id": "HMU92mTavB9g"
   },
   "outputs": [],
   "source": [
    "data = df_pm_bangkok[df_pm_bangkok['Year'] == 2019]\n",
    "plt.hist(data['PM2.5'], bins='auto')  # arguments are passed to np.histogram\n",
    "plt.title(\"The histogram showing the distribution of PM2.5 Level in Year 2019 in Bangkok\")\n",
    "plt.xlabel('PM2.5 Level')\n",
    "plt.ylabel('frequencies')\n",
    "plt.show()"
   ]
  },
  {
   "cell_type": "markdown",
   "metadata": {
    "colab_type": "text",
    "id": "5YkizhUUvB9j"
   },
   "source": [
    "**<font color=\"brown\">Exercise: Create a histogram plot showing distribution of PM2.5 in Songkhla in year 2018 </font>**"
   ]
  },
  {
   "cell_type": "code",
   "execution_count": null,
   "metadata": {
    "colab": {},
    "colab_type": "code",
    "id": "6zG06VDPvB9k"
   },
   "outputs": [],
   "source": [
    "# fill your code here\n"
   ]
  },
  {
   "cell_type": "markdown",
   "metadata": {
    "colab_type": "text",
    "id": "IVdKRYgdvB9p"
   },
   "source": [
    "### Time-based indexing\n",
    "\n",
    "To convert your data into time series in pnadas, you have to create a DateTime column and set it to be an index (time-based indexing). Then you can enjoy many powerful features in time series with pandas to intuitively organize and access our data."
   ]
  },
  {
   "cell_type": "code",
   "execution_count": null,
   "metadata": {
    "colab": {},
    "colab_type": "code",
    "id": "DBND_XGbvB9p"
   },
   "outputs": [],
   "source": [
    "df_bkk = df_pm_bangkok[['Year','Month','Day','UTC Hour', 'PM2.5', 'city']]\n",
    "df_bkk.head()"
   ]
  },
  {
   "cell_type": "code",
   "execution_count": null,
   "metadata": {
    "colab": {},
    "colab_type": "code",
    "id": "gj5Sppy6vB9r"
   },
   "outputs": [],
   "source": [
    "from datetime import datetime\n",
    "\n",
    "# Create an additional date column\n",
    "df_bkk['DateTime'] = df_bkk.apply(lambda row: datetime(int(row['Year']), int(row['Month']), int(row['Day']), int(row['UTC Hour'])), axis=1)\n",
    "df_bkk.head()"
   ]
  },
  {
   "cell_type": "code",
   "execution_count": null,
   "metadata": {
    "colab": {},
    "colab_type": "code",
    "id": "JDjjphmivB9t"
   },
   "outputs": [],
   "source": [
    "# set date as index\n",
    "df_bkk.set_index('DateTime', inplace = True)\n",
    "df_bkk.head()"
   ]
  },
  {
   "cell_type": "markdown",
   "metadata": {
    "colab_type": "text",
    "id": "FSw1SLBCvB9x"
   },
   "source": [
    "With time-based indexing, we can use date/time formatted strings to select data in our DataFrame with the loc accessor. The indexing works similar to standard label-based indexing with loc, but with a few additional features.\n",
    "\n",
    "For example, we can select data for a single day using a string such as '2018-08-10'."
   ]
  },
  {
   "cell_type": "code",
   "execution_count": null,
   "metadata": {
    "colab": {},
    "colab_type": "code",
    "id": "8EHAtSdpvB9y"
   },
   "outputs": [],
   "source": [
    "print(df_bkk.loc['2016-06-24'])\n",
    "\n",
    "print(df_bkk.loc['2016-06-24':'2016-06-26'])\n",
    "\n",
    "print(df_bkk.loc['2016-06'])"
   ]
  },
  {
   "cell_type": "code",
   "execution_count": null,
   "metadata": {
    "colab": {},
    "colab_type": "code",
    "id": "LZz4Qd1tvB90"
   },
   "outputs": [],
   "source": [
    "# Adding weekday name\n",
    "df_bkk['Weekday Name'] = df_bkk.index.weekday_name\n",
    "df_bkk.sample(5, random_state = 0)"
   ]
  },
  {
   "cell_type": "code",
   "execution_count": null,
   "metadata": {
    "colab": {},
    "colab_type": "code",
    "id": "ZhRo5u5yvB92"
   },
   "outputs": [],
   "source": []
  },
  {
   "cell_type": "markdown",
   "metadata": {
    "colab_type": "text",
    "id": "WRYel7bKvB93"
   },
   "source": [
    "### Visualizing time series data\n",
    "\n",
    "With pandas and matplotlib, we can easily visualize our time series data. In this section, we’ll cover a few examples and some useful customizations for our time series plots"
   ]
  },
  {
   "cell_type": "code",
   "execution_count": null,
   "metadata": {
    "colab": {},
    "colab_type": "code",
    "id": "mvtvRbrPvB94"
   },
   "outputs": [],
   "source": [
    "# Set figure size\n",
    "plt.figure(figsize=(15,3))\n",
    "\n",
    "# Add X and Y axis label\n",
    "plt.xlabel('Hour')\n",
    "plt.ylabel('PM2.5 Level')\n",
    "\n",
    "# Add title\n",
    "plt.title('PM2.5 Level in Bangkok from year 2016 - 2019')\n",
    "\n",
    "# Add plot\n",
    "plt.plot('PM2.5', data=df_bkk, color='skyblue', linewidth=0.5)\n",
    "\n",
    "# Add legend\n",
    "plt.legend()\n",
    "\n",
    "plt.plot()"
   ]
  },
  {
   "cell_type": "markdown",
   "metadata": {
    "colab_type": "text",
    "id": "pPAvbiLwvB95"
   },
   "source": [
    "#### Resampling from hourly to weekly using mean value\n",
    "\n",
    "The ~26,000 hourly samples are far too dense for us to make much sense of. We can gain more insight by resampling the data to a coarser grid. Let's resample by week:"
   ]
  },
  {
   "cell_type": "code",
   "execution_count": null,
   "metadata": {
    "colab": {},
    "colab_type": "code",
    "id": "IXJKVFumvB96"
   },
   "outputs": [],
   "source": [
    "%matplotlib inline\n",
    "import seaborn as sb; seaborn.set()\n",
    "import matplotlib.dates as mdates\n",
    "\n",
    "bkk_weekly = df_bkk.resample('W').mean()\n",
    "bkk_weekly['PM2.5'].plot(style=':')\n",
    "plt.ylabel('Weekly Average PM2.5')\n",
    "plt.show()"
   ]
  },
  {
   "cell_type": "code",
   "execution_count": null,
   "metadata": {
    "colab": {},
    "colab_type": "code",
    "id": "cwgxwqgvvB98"
   },
   "outputs": [],
   "source": [
    "# add day of year in a new column\n",
    "df_bkk['day#'] = df_bkk.index.dayofyear\n",
    "\n",
    "# resample hourly data into daily data with mean value\n",
    "bkk_day = df_bkk[['Year', 'Month', 'Day', 'PM2.5', 'day#']].resample('D').mean()\n",
    "bkk_day.head()"
   ]
  },
  {
   "cell_type": "code",
   "execution_count": null,
   "metadata": {},
   "outputs": [],
   "source": [
    "# Plot daily data using line plot\n",
    "fig, ax = plt.subplots()\n",
    "ax.plot(bkk_day.loc['2017-01':'2017-02', 'PM2.5'], marker='o', linestyle='-')\n",
    "\n",
    "# Add some additional information \n",
    "ax.set_ylabel('Daily PM2.5')\n",
    "ax.set_title('Jan-Feb 2017: PM2.5 ')\n",
    "\n",
    "# Set x-axis major ticks to weekly interval, on Mondays\n",
    "ax.xaxis.set_major_locator(mdates.WeekdayLocator(byweekday=mdates.MONDAY))\n",
    "\n",
    "# Format x-tick labels as 3-letter month name and day number\n",
    "ax.xaxis.set_major_formatter(mdates.DateFormatter('%b %d'));\n"
   ]
  },
  {
   "cell_type": "code",
   "execution_count": null,
   "metadata": {
    "colab": {},
    "colab_type": "code",
    "id": "g3qitFpqvB9-"
   },
   "outputs": [],
   "source": [
    "# multiple line plot\n",
    "plt.figure(figsize=(15,5))\n",
    "plt.plot('PM2.5', data=bkk_day.loc['2016'], color='blue', linewidth=0.5)\n",
    "plt.plot('PM2.5', data=bkk_day.loc['2017'], color='skyblue', linewidth=0.5)\n",
    "plt.plot('PM2.5', data=bkk_day.loc['2018'], color='orange', linewidth=0.5)\n",
    "plt.plot('PM2.5', data=bkk_day.loc['2019'], color='green', linewidth=0.5)\n",
    "plt.legend(['2016','2017','2018','2019'])\n",
    "plt.show()"
   ]
  },
  {
   "cell_type": "markdown",
   "metadata": {},
   "source": [
    "***<font color=\"blue\">What do you see from the chart above? Do you see any seasonal trend? How are you going to plot that?</font>***"
   ]
  },
  {
   "cell_type": "markdown",
   "metadata": {},
   "source": [
    "**<font color=\"brown\">Exercise: Plot similar plot as shown above for data from Songkhla</font>**"
   ]
  },
  {
   "cell_type": "code",
   "execution_count": null,
   "metadata": {},
   "outputs": [],
   "source": [
    "# fill your code here\n",
    "\n"
   ]
  },
  {
   "cell_type": "markdown",
   "metadata": {},
   "source": [
    "#### Seasonality\n",
    "\n",
    "Instead of one line plot, let’s further explore the seasonality of our data with **mulitple line plots**. "
   ]
  },
  {
   "cell_type": "code",
   "execution_count": null,
   "metadata": {
    "colab": {},
    "colab_type": "code",
    "id": "hTFkKKTpvB9_"
   },
   "outputs": [],
   "source": [
    "# multiple line plots\n",
    "plt.figure(figsize=(15,5))\n",
    "plt.plot('day#', 'PM2.5', data=bkk_day.loc['2016'], color='blue', linewidth=0.5)\n",
    "plt.plot('day#', 'PM2.5', data=bkk_day.loc['2017'], color='skyblue', linewidth=0.5)\n",
    "plt.plot('day#', 'PM2.5', data=bkk_day.loc['2018'], color='orange', linewidth=0.5)\n",
    "plt.plot('day#', 'PM2.5', data=bkk_day.loc['2019'], color='green', linewidth=0.5)\n",
    "plt.legend(['2016','2017','2018','2019'])\n",
    "plt.show()"
   ]
  },
  {
   "cell_type": "markdown",
   "metadata": {},
   "source": [
    "The daily data provide pretty good insight so far. Let's try to explore seasonality and distribution using **box plots**. Using seaborn’s boxplot() function to group the data by different time periods and display the distributions for each group. We’ll first group the data by month, to visualize yearly seasonality."
   ]
  },
  {
   "cell_type": "code",
   "execution_count": null,
   "metadata": {
    "colab": {},
    "colab_type": "code",
    "id": "COpZEb83vB-B"
   },
   "outputs": [],
   "source": [
    "plt.figure(figsize=(15,5))\n",
    "sb.boxplot(data=bkk_day, x='Month', y='PM2.5')\n",
    "plt.show()\n"
   ]
  },
  {
   "cell_type": "code",
   "execution_count": null,
   "metadata": {},
   "outputs": [],
   "source": [
    "fig, axes = plt.subplots(2, 1, figsize=(15, 6), sharex=True)\n",
    "for name, ax in zip([2017, 2018], axes):\n",
    "    sb.boxplot(data=bkk_day[(bkk_day['Year'] == name)], x='Month', y='PM2.5', ax=ax)\n",
    "    ax.set_ylabel('PM2.5')\n",
    "    ax.set_title('PM2.5 Distribution in Year ' + str(name))"
   ]
  },
  {
   "cell_type": "markdown",
   "metadata": {
    "colab_type": "text",
    "id": "RNYVqrzGvB-C"
   },
   "source": [
    "**<font color=\"brown\">Plot graph to compare between Bangkok vs Songkhla</font>**"
   ]
  },
  {
   "cell_type": "code",
   "execution_count": null,
   "metadata": {},
   "outputs": [],
   "source": [
    "# fill your code here"
   ]
  },
  {
   "cell_type": "markdown",
   "metadata": {
    "colab_type": "text",
    "id": "K0GJ1AY_vB-D"
   },
   "source": [
    "### bokeh\n",
    "\n",
    "Using heatmap to show PM2.5 value between year and month"
   ]
  },
  {
   "cell_type": "code",
   "execution_count": null,
   "metadata": {
    "colab": {},
    "colab_type": "code",
    "id": "gp9nn8l2vB-E"
   },
   "outputs": [],
   "source": [
    "from bokeh.plotting import figure, show, output_file, output_notebook\n",
    "from bokeh.palettes import Spectral11, colorblind, Inferno, BuGn, brewer\n",
    "from bokeh.models import HoverTool, value, LabelSet, Legend, ColumnDataSource,LinearColorMapper,BasicTicker, PrintfTickFormatter, ColorBar\n",
    "import datetime"
   ]
  },
  {
   "cell_type": "code",
   "execution_count": null,
   "metadata": {
    "colab": {
     "base_uri": "https://localhost:8080/",
     "height": 197
    },
    "colab_type": "code",
    "executionInfo": {
     "elapsed": 872,
     "status": "ok",
     "timestamp": 1561570698951,
     "user": {
      "displayName": "SIRIPEN PONGPAICHET",
      "photoUrl": "https://lh4.googleusercontent.com/-ENJVprkO2fQ/AAAAAAAAAAI/AAAAAAAAAAs/v_SeHncKfsI/s64/photo.jpg",
      "userId": "16347692119815944046"
     },
     "user_tz": -420
    },
    "id": "uMb80fGrzs4N",
    "outputId": "627a1338-7896-426a-b190-df66a09e0ba7"
   },
   "outputs": [],
   "source": [
    "temp_df = df_bkk[['Year', 'Month', 'PM2.5']].groupby(['Year','Month']).max().reset_index()\n",
    "temp_df.head()"
   ]
  },
  {
   "cell_type": "code",
   "execution_count": null,
   "metadata": {
    "colab": {
     "base_uri": "https://localhost:8080/",
     "height": 646
    },
    "colab_type": "code",
    "executionInfo": {
     "elapsed": 839,
     "status": "ok",
     "timestamp": 1561570810080,
     "user": {
      "displayName": "SIRIPEN PONGPAICHET",
      "photoUrl": "https://lh4.googleusercontent.com/-ENJVprkO2fQ/AAAAAAAAAAI/AAAAAAAAAAs/v_SeHncKfsI/s64/photo.jpg",
      "userId": "16347692119815944046"
     },
     "user_tz": -420
    },
    "id": "dSPZ9ldz0WdZ",
    "outputId": "6167f3b0-e6d6-4e0f-cd67-2731033fff46"
   },
   "outputs": [],
   "source": [
    "# output to notebook\n",
    "output_notebook()\n",
    "\n",
    "TOOLS = \"hover,save,pan,box_zoom,reset,wheel_zoom,tap\"\n",
    "hm = figure(title=\"Month-Year wise PM2.5\", tools=TOOLS, toolbar_location='above')\n",
    "\n",
    "source = ColumnDataSource(temp_df)\n",
    "colors = brewer['BuGn'][9]\n",
    "colors = colors[::-1]\n",
    "mapper = LinearColorMapper(\n",
    "    palette=colors, low=temp_df['PM2.5'].min(), high=temp_df['PM2.5'].max())\n",
    "hm.rect(x=\"Year\", y=\"Month\",width=2,height=1,source = source,  \n",
    "    fill_color={\n",
    "        'field': 'PM2.5',\n",
    "        'transform': mapper\n",
    "    },\n",
    "    line_color=None)\n",
    "color_bar = ColorBar(\n",
    "    color_mapper=mapper,\n",
    "    major_label_text_font_size=\"10pt\",\n",
    "    ticker=BasicTicker(desired_num_ticks=len(colors)),\n",
    "    formatter=PrintfTickFormatter(),\n",
    "    label_standoff=6,\n",
    "    border_line_color=None,\n",
    "    location=(0, 0))\n",
    "\n",
    "hm.add_layout(color_bar, 'right')\n",
    "hm.xaxis.axis_label = 'Year'\n",
    "hm.yaxis.axis_label = 'Month'\n",
    "hm.select_one(HoverTool).tooltips = [\n",
    "    ('Year', '@Year'),('Month', '@Month'), ('MAX PM2.5', '@PM2.5')\n",
    "]\n",
    "\n",
    "#output_file(\"heatmap.html\", title=\"Heat Map\")\n",
    "\n",
    "show(hm)  "
   ]
  },
  {
   "cell_type": "markdown",
   "metadata": {
    "colab_type": "text",
    "id": "kIf2xFgovB87"
   },
   "source": [
    "## Reference\n",
    "\n",
    "https://www.kaggle.com/neerjad/time-series-visualization-using-bokeh/data\n",
    "\n",
    "https://www.dataquest.io/blog/tutorial-time-series-analysis-with-pandas/\n"
   ]
  }
 ],
 "metadata": {
  "colab": {
   "collapsed_sections": [
    "hekRz51WvB9c",
    "WsMJTiZKvB9g"
   ],
   "name": "Part2_PM2.5 Time-Series.ipynb",
   "provenance": [],
   "toc_visible": true,
   "version": "0.3.2"
  },
  "kernelspec": {
   "display_name": "Python 3",
   "language": "python",
   "name": "python3"
  },
  "language_info": {
   "codemirror_mode": {
    "name": "ipython",
    "version": 3
   },
   "file_extension": ".py",
   "mimetype": "text/x-python",
   "name": "python",
   "nbconvert_exporter": "python",
   "pygments_lexer": "ipython3",
   "version": "3.7.3"
  }
 },
 "nbformat": 4,
 "nbformat_minor": 1
}
