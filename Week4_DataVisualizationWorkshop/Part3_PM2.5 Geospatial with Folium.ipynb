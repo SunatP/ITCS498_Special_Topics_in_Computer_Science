{
 "cells": [
  {
   "cell_type": "code",
   "execution_count": null,
   "metadata": {
    "colab": {},
    "colab_type": "code",
    "id": "UbVNKhUNvY_a"
   },
   "outputs": [],
   "source": [
    "# pip install folium (in Anaconda Environment)\n",
    "!pip install folium"
   ]
  },
  {
   "cell_type": "code",
   "execution_count": null,
   "metadata": {
    "colab": {},
    "colab_type": "code",
    "id": "kRXXDL4FvY_h",
    "scrolled": true
   },
   "outputs": [],
   "source": [
    "from IPython.display import HTML\n",
    "import folium\n",
    "import json\n"
   ]
  },
  {
   "cell_type": "code",
   "execution_count": null,
   "metadata": {
    "colab": {
     "base_uri": "https://localhost:8080/",
     "height": 35
    },
    "colab_type": "code",
    "executionInfo": {
     "elapsed": 1013,
     "status": "ok",
     "timestamp": 1561578547696,
     "user": {
      "displayName": "SIRIPEN PONGPAICHET",
      "photoUrl": "https://lh4.googleusercontent.com/-ENJVprkO2fQ/AAAAAAAAAAI/AAAAAAAAAAs/v_SeHncKfsI/s64/photo.jpg",
      "userId": "16347692119815944046"
     },
     "user_tz": -420
    },
    "id": "tVnNoCjqvY_j",
    "outputId": "20574f4f-3e74-4dd4-e13a-71929a36cbc0"
   },
   "outputs": [],
   "source": [
    "folium.__version__"
   ]
  },
  {
   "cell_type": "code",
   "execution_count": null,
   "metadata": {
    "colab": {
     "base_uri": "https://localhost:8080/",
     "height": 1000
    },
    "colab_type": "code",
    "executionInfo": {
     "elapsed": 2741,
     "status": "ok",
     "timestamp": 1561578552214,
     "user": {
      "displayName": "SIRIPEN PONGPAICHET",
      "photoUrl": "https://lh4.googleusercontent.com/-ENJVprkO2fQ/AAAAAAAAAAI/AAAAAAAAAAs/v_SeHncKfsI/s64/photo.jpg",
      "userId": "16347692119815944046"
     },
     "user_tz": -420
    },
    "id": "C0nGanv3vY_m",
    "outputId": "4c881a00-48ce-4fed-d75f-66cc8aba35c7"
   },
   "outputs": [],
   "source": [
    "map = folium.Map(location=[13.794619, 100.323492])\n",
    "map"
   ]
  },
  {
   "cell_type": "markdown",
   "metadata": {
    "colab_type": "text",
    "id": "akOLgE6KvY_p"
   },
   "source": [
    "## Visualizing Spatial Data with Folium\n",
    "\n",
    "\n",
    "```\n",
    "folium.Map()\n",
    "```\n",
    "\n",
    "\n",
    "\n",
    "This class method will always be the first thing that you execute when working with Folium. The purpose of this function is to generate the default map object that will be rendered by your notebook, and the object that we will be building on top of for our visualizations."
   ]
  },
  {
   "cell_type": "code",
   "execution_count": null,
   "metadata": {
    "colab": {},
    "colab_type": "code",
    "id": "TWZmq9IEvY_q"
   },
   "outputs": [],
   "source": [
    "import folium\n",
    "\n",
    "center = [13.794619, 100.323492]\n",
    "\n",
    "def generateBaseMap(default_location=center, default_zoom_start=6):\n",
    "    base_map = folium.Map(location=default_location, control_scale=True, zoom_start=default_zoom_start)\n",
    "    return base_map"
   ]
  },
  {
   "cell_type": "markdown",
   "metadata": {
    "colab_type": "text",
    "id": "dCaRGo9WvY_s"
   },
   "source": [
    "There are several parameters within this class function that I usually use, which are:\n",
    "\n",
    "\n",
    "\n",
    "1.   ``location``, this parameter basically define the default location that will be shown by the map as the center location.\n",
    "\n",
    "2.  ``zoom_start``, which defines the default magnification level of the map\n",
    "\n",
    "3.  ``control_scale``, enables/disables the map scale for a given zoom level. This is something that sometimes can be handy to have for us to get an idea of the scale of the geographical area that we are looking at.\n",
    "\n",
    "There are also many other parameters that can be set within this class method."
   ]
  },
  {
   "cell_type": "code",
   "execution_count": null,
   "metadata": {
    "colab": {
     "base_uri": "https://localhost:8080/",
     "height": 1000
    },
    "colab_type": "code",
    "executionInfo": {
     "elapsed": 1143,
     "status": "ok",
     "timestamp": 1561578593448,
     "user": {
      "displayName": "SIRIPEN PONGPAICHET",
      "photoUrl": "https://lh4.googleusercontent.com/-ENJVprkO2fQ/AAAAAAAAAAI/AAAAAAAAAAs/v_SeHncKfsI/s64/photo.jpg",
      "userId": "16347692119815944046"
     },
     "user_tz": -420
    },
    "id": "ECwmDsXbvY_s",
    "outputId": "4ebefbe1-a6d6-4279-9f5c-4c8d17d547a3"
   },
   "outputs": [],
   "source": [
    "base_map = generateBaseMap()\n",
    "base_map"
   ]
  },
  {
   "cell_type": "code",
   "execution_count": null,
   "metadata": {
    "colab": {
     "base_uri": "https://localhost:8080/",
     "height": 1000
    },
    "colab_type": "code",
    "executionInfo": {
     "elapsed": 1240,
     "status": "ok",
     "timestamp": 1561578613737,
     "user": {
      "displayName": "SIRIPEN PONGPAICHET",
      "photoUrl": "https://lh4.googleusercontent.com/-ENJVprkO2fQ/AAAAAAAAAAI/AAAAAAAAAAs/v_SeHncKfsI/s64/photo.jpg",
      "userId": "16347692119815944046"
     },
     "user_tz": -420
    },
    "id": "AmugWjlnvY_v",
    "outputId": "44d5db6f-2c8e-41f3-d3d9-7996275f104b",
    "scrolled": true
   },
   "outputs": [],
   "source": [
    "folium.Marker(location =[13.794619, 100.323492]).add_to(base_map)\n",
    "base_map"
   ]
  },
  {
   "cell_type": "markdown",
   "metadata": {
    "colab_type": "text",
    "id": "QdMGdZfavY_y"
   },
   "source": [
    "### Getting Data"
   ]
  },
  {
   "cell_type": "code",
   "execution_count": null,
   "metadata": {
    "colab": {},
    "colab_type": "code",
    "id": "88JygBa7vY_z"
   },
   "outputs": [],
   "source": [
    "import sqlite3\n",
    "import pandas as pd\n",
    "import numpy as np \n",
    "import warnings\n",
    "warnings.filterwarnings('ignore')\n"
   ]
  },
  {
   "cell_type": "code",
   "execution_count": null,
   "metadata": {
    "colab": {
     "base_uri": "https://localhost:8080/",
     "height": 433
    },
    "colab_type": "code",
    "executionInfo": {
     "elapsed": 1017,
     "status": "error",
     "timestamp": 1561578651825,
     "user": {
      "displayName": "SIRIPEN PONGPAICHET",
      "photoUrl": "https://lh4.googleusercontent.com/-ENJVprkO2fQ/AAAAAAAAAAI/AAAAAAAAAAs/v_SeHncKfsI/s64/photo.jpg",
      "userId": "16347692119815944046"
     },
     "user_tz": -420
    },
    "id": "3u8gbYMnvY_1",
    "outputId": "bb85f8e9-b99e-4021-9cc5-847b7f88d453"
   },
   "outputs": [],
   "source": [
    "conn = sqlite3.connect('data/thailand_cities.db')\n",
    "df_cities = pd.read_sql_query('SELECT * FROM cities', conn)"
   ]
  },
  {
   "cell_type": "code",
   "execution_count": null,
   "metadata": {
    "colab": {},
    "colab_type": "code",
    "id": "KWomaG4tvY_3",
    "outputId": "f12999cc-a168-45fb-813b-6434a191303f"
   },
   "outputs": [],
   "source": [
    "df_cities.head(2)"
   ]
  },
  {
   "cell_type": "markdown",
   "metadata": {
    "colab_type": "text",
    "id": "lHmclI37vY_5"
   },
   "source": [
    "## `Marker()`"
   ]
  },
  {
   "cell_type": "code",
   "execution_count": null,
   "metadata": {
    "colab": {},
    "colab_type": "code",
    "id": "gXa6YLHivY_6",
    "outputId": "c8306e79-d9ec-42a4-f691-ee72a468d255",
    "scrolled": true
   },
   "outputs": [],
   "source": [
    "# create empty map zoomed in on Salaya\n",
    "base_map = generateBaseMap([13.794619, 100.323492], 5)\n",
    " \n",
    "# add a marker for every record in the map\n",
    "for city in df_cities.iterrows():\n",
    "    folium.Marker(location = [city[1]['Latitude'],city[1]['Longitude']]).add_to(base_map)\n",
    "    \n",
    "base_map"
   ]
  },
  {
   "cell_type": "markdown",
   "metadata": {
    "colab_type": "text",
    "id": "PHxwYukhvY_9"
   },
   "source": [
    "## `MarkerCluster()`"
   ]
  },
  {
   "cell_type": "code",
   "execution_count": null,
   "metadata": {
    "colab": {},
    "colab_type": "code",
    "id": "LDyaTCfNvY_9",
    "outputId": "193f5fb6-5145-4c12-9d96-1c35897c0f8d",
    "scrolled": true
   },
   "outputs": [],
   "source": [
    "from folium.plugins import MarkerCluster\n",
    "\n",
    "# create empty map zoomed in on Salaya\n",
    "base_map = generateBaseMap([13.794619, 100.323492], 5)\n",
    "\n",
    "# create marker cluster\n",
    "mc = MarkerCluster()\n",
    "     \n",
    "# add a marker for every record in the filtered data, use a clustered view\n",
    "for city in df_cities.iterrows():\n",
    "    mc.add_child(folium.Marker(location = [city[1]['Latitude'],city[1]['Longitude']]))\n",
    "\n",
    "mc.add_to(base_map)\n",
    "base_map"
   ]
  },
  {
   "cell_type": "markdown",
   "metadata": {
    "colab_type": "text",
    "id": "kHwlNoF9vZAB"
   },
   "source": [
    "## ``HeatMap()``"
   ]
  },
  {
   "cell_type": "code",
   "execution_count": null,
   "metadata": {
    "colab": {},
    "colab_type": "code",
    "id": "ikEmrYRCvZAC",
    "outputId": "61e73d0b-cc1e-4520-c641-0e2e78e31c0b"
   },
   "outputs": [],
   "source": [
    "df_pm = pd.read_sql_query('SELECT * FROM pm_by_city', conn)\n",
    "df_pm.head()"
   ]
  },
  {
   "cell_type": "code",
   "execution_count": null,
   "metadata": {
    "colab": {},
    "colab_type": "code",
    "id": "qa2wrp8AvZAG",
    "outputId": "4a17d91e-8eec-471f-b09c-c03add980654"
   },
   "outputs": [],
   "source": [
    "df_cities.head()"
   ]
  },
  {
   "cell_type": "code",
   "execution_count": null,
   "metadata": {
    "colab": {},
    "colab_type": "code",
    "id": "daQxL7HvvZAK",
    "outputId": "aa6cb5a7-4331-4b63-8898-80ef1619988d"
   },
   "outputs": [],
   "source": [
    "pm_city = pd.read_sql_query('SELECT c.City, Latitude, Longitude, Year, Month, Day, [UTC Hour], [PM2.5] FROM pm_by_city pm JOIN cities c ON pm.city = c.City', conn)\n",
    "pm_city.head()"
   ]
  },
  {
   "cell_type": "code",
   "execution_count": null,
   "metadata": {
    "colab": {},
    "colab_type": "code",
    "id": "LDKe2xgKvZAN",
    "outputId": "bd3f7f8e-9968-40a4-e160-532d3173a6a2"
   },
   "outputs": [],
   "source": [
    "pm_city.tail()"
   ]
  },
  {
   "cell_type": "code",
   "execution_count": null,
   "metadata": {
    "colab": {},
    "colab_type": "code",
    "id": "ZALBo26cvZAQ",
    "outputId": "fcbc414f-a99f-459b-f0fa-1a2ca384d8a9"
   },
   "outputs": [],
   "source": [
    "pm_city[['Latitude', 'Longitude', 'PM2.5']].isnull().sum()"
   ]
  },
  {
   "cell_type": "code",
   "execution_count": null,
   "metadata": {
    "colab": {},
    "colab_type": "code",
    "id": "VuRNs6GJvZAT",
    "outputId": "ead3ba52-3cec-4aca-dbf4-0e925df226d8"
   },
   "outputs": [],
   "source": [
    "pm_city[['Latitude', 'Longitude', 'PM2.5']].dtypes"
   ]
  },
  {
   "cell_type": "code",
   "execution_count": null,
   "metadata": {
    "colab": {},
    "colab_type": "code",
    "id": "kVtU5mtEvZAW"
   },
   "outputs": [],
   "source": [
    "for c in pm_city.columns:\n",
    "    pm_city[c] = pd.to_numeric(pm_city[c], errors='ignore')"
   ]
  },
  {
   "cell_type": "code",
   "execution_count": null,
   "metadata": {
    "colab": {},
    "colab_type": "code",
    "id": "wYZ-G-jJvZAY",
    "outputId": "6053ce26-4858-4332-a0d0-65171f956100"
   },
   "outputs": [],
   "source": [
    "pm_city[['Latitude', 'Longitude', 'PM2.5']].dtypes"
   ]
  },
  {
   "cell_type": "code",
   "execution_count": null,
   "metadata": {
    "colab": {},
    "colab_type": "code",
    "id": "SxL3HWzvvZAa",
    "outputId": "c63cb480-5698-4a71-968a-bfbea5b3bf6b"
   },
   "outputs": [],
   "source": [
    "data = pm_city[['City', 'Latitude', 'Longitude', 'PM2.5']].groupby(['City', 'Latitude', 'Longitude']).max().reset_index()\n",
    "data.sort_values('PM2.5', ascending=False).head(10)"
   ]
  },
  {
   "cell_type": "code",
   "execution_count": null,
   "metadata": {
    "colab": {},
    "colab_type": "code",
    "id": "O4sgSMtBvZAc",
    "outputId": "877c17c2-c9fe-4960-f268-a4913312886a",
    "scrolled": true
   },
   "outputs": [],
   "source": [
    "from folium import plugins\n",
    "from folium.plugins import HeatMap\n",
    "\n",
    "base_map = generateBaseMap()\n",
    "#HeatMap(data[['Latitude', 'Longitude', 'PM2.5']], radius=20, max_zoom=13).add_to(base_map)\n",
    "\n",
    "HeatMap(data[['Latitude', 'Longitude', 'PM2.5']], radius = 20,gradient={.6: 'lime', .98: 'orange', 1: 'red'}).add_to(base_map)\n",
    "base_map"
   ]
  },
  {
   "cell_type": "markdown",
   "metadata": {
    "colab_type": "text",
    "id": "4zWFfNQvvZAf"
   },
   "source": [
    "## ``HeatMapWithTime()``\n",
    "\n",
    "We can also animate our heat maps to change the data being shown on it based on certain dimension(s) (i.e. hour, month) using a class method called ``HeatMapWithTime()``"
   ]
  },
  {
   "cell_type": "code",
   "execution_count": null,
   "metadata": {
    "colab": {},
    "colab_type": "code",
    "id": "dicobwQSvZAg",
    "outputId": "4e415ef0-b650-4ff2-802f-53ced5cec56c"
   },
   "outputs": [],
   "source": [
    "pm_hour_list = []\n",
    "\n",
    "for hour in pm_city['UTC Hour'].sort_values().unique():\n",
    "    pm_hour_list.append(pm_city.loc[pm_city['UTC Hour'] == hour, ['Latitude', 'Longitude', 'UTC Hour', 'PM2.5']].groupby(['Latitude', 'Longitude', 'UTC Hour']).max().reset_index().values.tolist())\n",
    "    \n",
    "pm_hour_list[5]"
   ]
  },
  {
   "cell_type": "code",
   "execution_count": null,
   "metadata": {
    "colab": {},
    "colab_type": "code",
    "id": "rKexAJlMvZAj",
    "outputId": "a134539e-18e4-43d8-f723-f8ba5a512a86",
    "scrolled": true
   },
   "outputs": [],
   "source": [
    "from folium.plugins import HeatMapWithTime\n",
    "\n",
    "base_map = generateBaseMap(default_zoom_start=6)\n",
    "HeatMapWithTime(pm_hour_list, radius=10, gradient={0.2: 'blue', 0.4: 'lime', 0.6: 'orange', 1: 'red'}, min_opacity=0.5, max_opacity=0.8).add_to(base_map)\n",
    "base_map"
   ]
  },
  {
   "cell_type": "code",
   "execution_count": null,
   "metadata": {
    "colab": {},
    "colab_type": "code",
    "id": "c9mSg-LvvZAm",
    "outputId": "130e16b4-5de7-40ba-896e-518b7cd08ba4"
   },
   "outputs": [],
   "source": [
    "pm_month_list = []\n",
    "\n",
    "for hour in pm_city['Month'].sort_values().unique():\n",
    "    pm_month_list.append(pm_city.loc[pm_city['Month'] == hour, ['Latitude', 'Longitude', 'Month', 'PM2.5']].groupby(['Latitude', 'Longitude', 'Month']).mean().reset_index().values.tolist())\n",
    "\n",
    "    \n",
    "pm_month_list"
   ]
  },
  {
   "cell_type": "code",
   "execution_count": null,
   "metadata": {
    "colab": {},
    "colab_type": "code",
    "id": "PqkPxyfdvZAp",
    "outputId": "5a1830a1-4412-4ca7-8201-8c4d0c803da2",
    "scrolled": true
   },
   "outputs": [],
   "source": [
    "from folium.plugins import HeatMapWithTime\n",
    "\n",
    "base_map = generateBaseMap(default_zoom_start=6)\n",
    "HeatMapWithTime(pm_month_list, radius=10, gradient={0.2: 'blue', 0.4: 'lime', 0.6: 'orange', 1: 'red'}, min_opacity=0.5, max_opacity=0.8).add_to(base_map)\n",
    "base_map"
   ]
  },
  {
   "cell_type": "code",
   "execution_count": null,
   "metadata": {
    "colab": {},
    "colab_type": "code",
    "id": "s0LUGGtZvZAs"
   },
   "outputs": [],
   "source": [
    "# definition of the boundaries in the map\n",
    "with open('data/thailand.json') as json_file:  \n",
    "    thai_geo = json.load(json_file)"
   ]
  },
  {
   "cell_type": "code",
   "execution_count": null,
   "metadata": {
    "colab": {},
    "colab_type": "code",
    "id": "cYWUaF8dvZAt",
    "outputId": "05454161-f97e-4300-ab6b-1f677278702d"
   },
   "outputs": [],
   "source": [
    "# Initialize the map:\n",
    "#m = folium.Map([13.794619, 100.323492], zoom_start=6)\n",
    "\n",
    "base_map = generateBaseMap(default_zoom_start=6)\n",
    "folium.GeoJson(thai_geo).add_to(base_map)\n",
    "\n",
    "base_map"
   ]
  },
  {
   "cell_type": "code",
   "execution_count": null,
   "metadata": {
    "colab": {},
    "colab_type": "code",
    "id": "esFaK3yQvZAw",
    "outputId": "469ad5b8-1c06-4f37-9fc2-04250e95cbe7"
   },
   "outputs": [],
   "source": [
    "pm_city.head()\n",
    "\n",
    "\n",
    "data = pm_city[['City', 'PM2.5']].groupby(['City']).max().reset_index()\n",
    "data.sort_values('PM2.5', ascending=False).head(10)\n",
    "\n",
    "data.head()"
   ]
  },
  {
   "cell_type": "markdown",
   "metadata": {},
   "source": [
    "## ``Choropleth()``\n",
    "\n",
    "A choropleth map is a thematic map in which areas are shaded in proportion to the measurement of the numeric value, such as population density, income, PM2.5 per city. "
   ]
  },
  {
   "cell_type": "code",
   "execution_count": null,
   "metadata": {
    "colab": {},
    "colab_type": "code",
    "id": "4GFbF_PqvZAz",
    "outputId": "c66caeee-0cfe-4c87-c678-34d8f43e5d75"
   },
   "outputs": [],
   "source": [
    "from branca.colormap import linear\n",
    "\n",
    "colormap = linear.YlGn_09.scale(\n",
    "    data['PM2.5'].min(),\n",
    "    data['PM2.5'].max())\n",
    "\n",
    "print(colormap(5.0))\n",
    "\n",
    "colormap"
   ]
  },
  {
   "cell_type": "code",
   "execution_count": null,
   "metadata": {
    "colab": {},
    "colab_type": "code",
    "id": "gKp5FrKGvZA2",
    "outputId": "75ce31d9-e751-405a-de58-277a51ec3b4b"
   },
   "outputs": [],
   "source": [
    "data_dict = data.set_index('City')['PM2.5']\n",
    "\n",
    "data_dict.head()"
   ]
  },
  {
   "cell_type": "code",
   "execution_count": null,
   "metadata": {
    "colab": {},
    "colab_type": "code",
    "id": "nGOWaQC1vZA6",
    "outputId": "b2361ab7-4d44-4d8e-8f9e-af43bf318839"
   },
   "outputs": [],
   "source": [
    "base_map = generateBaseMap(default_zoom_start=6)\n",
    "\n",
    "\n",
    "folium.Choropleth(\n",
    "    geo_data=thai_geo,\n",
    "    name='choropleth',\n",
    "    data=data_dict,\n",
    "    columns=['City', 'PM2.5'],\n",
    "    key_on='feature.properties.name',\n",
    "    fill_color='YlGn',\n",
    "    fill_opacity=0.7,\n",
    "    line_opacity=0.2,\n",
    "    legend_name='Unemployment Rate (%)'\n",
    ").add_to(base_map)\n",
    "\n",
    "\n",
    "folium.LayerControl().add_to(base_map)\n",
    "\n",
    "base_map"
   ]
  }
 ],
 "metadata": {
  "colab": {
   "name": "Part3_PM2.5 with Folium.ipynb",
   "provenance": [],
   "version": "0.3.2"
  },
  "kernelspec": {
   "display_name": "Python 3",
   "language": "python",
   "name": "python3"
  },
  "language_info": {
   "codemirror_mode": {
    "name": "ipython",
    "version": 3
   },
   "file_extension": ".py",
   "mimetype": "text/x-python",
   "name": "python",
   "nbconvert_exporter": "python",
   "pygments_lexer": "ipython3",
   "version": "3.7.3"
  }
 },
 "nbformat": 4,
 "nbformat_minor": 1
}
