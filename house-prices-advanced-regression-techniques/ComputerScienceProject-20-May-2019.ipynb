{
 "cells": [
  {
   "cell_type": "code",
   "execution_count": 1,
   "metadata": {},
   "outputs": [],
   "source": [
    "import pandas as pd\n",
    "from sklearn.preprocessing import LabelEncoder\n",
    "from sklearn.preprocessing import OneHotEncoder\n",
    "import numpy as np"
   ]
  },
  {
   "cell_type": "code",
   "execution_count": 2,
   "metadata": {},
   "outputs": [],
   "source": [
    "def label_encoder(df,col_name):\n",
    "    le_encoders = {}\n",
    "    le = LabelEncoder()\n",
    "#     le_encoders[col_name] = le\n",
    "    df[col_name] = le.fit_transform(df[col_name])\n",
    "    return df\n",
    "def onehot_encoder(df,col_name):\n",
    "    enc_df = df.copy()\n",
    "    encoder = OneHotEncoder()\n",
    "    encoded = encoder.fit_transform(\n",
    "            df[col_name].values.reshape(-1, 1)).toarray()\n",
    "    enc_df = pd.concat([\n",
    "            enc_df, \n",
    "            pd.DataFrame(\n",
    "                encoded,\n",
    "                columns=[f'{col_name}_{cat}' for cat in encoder.categories_[0]])],\n",
    "            axis=1)\n",
    "    enc_df = enc_df.drop(col_name, axis=1)\n",
    "    return enc_df\n",
    "\n",
    "def check_null_each_column(df):\n",
    "    count = 0\n",
    "    null_column = []\n",
    "    for col in df:\n",
    "        if(df[col].isnull().sum()!=0):\n",
    "            print(col + \"have null ->\" + str(df[col].isnull().sum()))\n",
    "            count+=1\n",
    "            null_column.append(col)\n",
    "    print(\"  Column which have null have \" + str(count))\n",
    "    return null_column\n",
    "    \n",
    "def cvtRatingToNumeric(df,colname):\n",
    "    df[colname].fillna(0,inplace = True)\n",
    "    df[colname] = df[colname].replace(['Ex','Gd','TA','Fa','Po'], [5, 4, 3, 2, 1])\n",
    "    #Creted by Sidekoiii\n",
    "    df[colname] = df[colname].astype(int)\n",
    "    return df\n",
    "    \n",
    "def cvtRatingToNumeric2(df,column):\n",
    "    df[column].fillna(0,inplace = True)\n",
    "    df[column] = df[column].replace(['Gd','Av','Mn','No'], [4, 3, 2, 1])\n",
    "    #Creted by Sidekoiii\n",
    "    return df\n",
    "    \n",
    "def cvtRatingToNumeric3(df,colname):\n",
    "    df[colname].fillna(0,inplace = True)\n",
    "    df[colname] = df[colname].replace(['GLQ','ALQ','BLQ','Rec','LwQ','Unf'], [6,5, 4, 3, 2, 1])\n",
    "    #Creted by Sidekoiii\n",
    "    return df\n",
    "    \n",
    "def cvtRatingToNumeric4(df,colname):\n",
    "    df[colname].fillna(0,inplace = True)\n",
    "    df[colname] = df[colname].replace(['GdPrv','MnPrv','GdWo','MnWw'], [4, 3, 2, 1])\n",
    "    #Creted by Sidekoiii\n",
    "    return df"
   ]
  },
  {
   "cell_type": "code",
   "execution_count": 3,
   "metadata": {},
   "outputs": [],
   "source": [
    "def check_null_each_column(df):\n",
    "    count = 0\n",
    "    null_column = []\n",
    "    for col in df:\n",
    "        if(df[col].isnull().sum()!=0):\n",
    "            print(col + \" have null ->\" + str(df[col].isnull().sum()))\n",
    "            count+=1\n",
    "            null_column.append(col)\n",
    "    print(\"  Column which have null have \" + str(count))\n",
    "    return null_column"
   ]
  },
  {
   "cell_type": "code",
   "execution_count": 4,
   "metadata": {},
   "outputs": [],
   "source": [
    "def mergeDataSet(train,test):\n",
    "    train['isTrain'] = True\n",
    "    test['isTrain'] = False\n",
    "    test['SalePrice'] = 0\n",
    "#     combined = pd.concat([train,test],sort=False)\n",
    "    combined = train.append(test, ignore_index = True)\n",
    "    return combined"
   ]
  },
  {
   "cell_type": "code",
   "execution_count": 5,
   "metadata": {},
   "outputs": [
    {
     "data": {
      "text/html": [
       "<div>\n",
       "<style scoped>\n",
       "    .dataframe tbody tr th:only-of-type {\n",
       "        vertical-align: middle;\n",
       "    }\n",
       "\n",
       "    .dataframe tbody tr th {\n",
       "        vertical-align: top;\n",
       "    }\n",
       "\n",
       "    .dataframe thead th {\n",
       "        text-align: right;\n",
       "    }\n",
       "</style>\n",
       "<table border=\"1\" class=\"dataframe\">\n",
       "  <thead>\n",
       "    <tr style=\"text-align: right;\">\n",
       "      <th></th>\n",
       "      <th>Id</th>\n",
       "      <th>MSSubClass</th>\n",
       "      <th>MSZoning</th>\n",
       "      <th>LotFrontage</th>\n",
       "      <th>LotArea</th>\n",
       "      <th>Street</th>\n",
       "      <th>Alley</th>\n",
       "      <th>LotShape</th>\n",
       "      <th>LandContour</th>\n",
       "      <th>Utilities</th>\n",
       "      <th>...</th>\n",
       "      <th>PoolArea</th>\n",
       "      <th>PoolQC</th>\n",
       "      <th>Fence</th>\n",
       "      <th>MiscFeature</th>\n",
       "      <th>MiscVal</th>\n",
       "      <th>MoSold</th>\n",
       "      <th>YrSold</th>\n",
       "      <th>SaleType</th>\n",
       "      <th>SaleCondition</th>\n",
       "      <th>SalePrice</th>\n",
       "    </tr>\n",
       "  </thead>\n",
       "  <tbody>\n",
       "    <tr>\n",
       "      <th>0</th>\n",
       "      <td>1</td>\n",
       "      <td>60</td>\n",
       "      <td>RL</td>\n",
       "      <td>65.0</td>\n",
       "      <td>8450</td>\n",
       "      <td>Pave</td>\n",
       "      <td>NaN</td>\n",
       "      <td>Reg</td>\n",
       "      <td>Lvl</td>\n",
       "      <td>AllPub</td>\n",
       "      <td>...</td>\n",
       "      <td>0</td>\n",
       "      <td>NaN</td>\n",
       "      <td>NaN</td>\n",
       "      <td>NaN</td>\n",
       "      <td>0</td>\n",
       "      <td>2</td>\n",
       "      <td>2008</td>\n",
       "      <td>WD</td>\n",
       "      <td>Normal</td>\n",
       "      <td>208500</td>\n",
       "    </tr>\n",
       "    <tr>\n",
       "      <th>1</th>\n",
       "      <td>2</td>\n",
       "      <td>20</td>\n",
       "      <td>RL</td>\n",
       "      <td>80.0</td>\n",
       "      <td>9600</td>\n",
       "      <td>Pave</td>\n",
       "      <td>NaN</td>\n",
       "      <td>Reg</td>\n",
       "      <td>Lvl</td>\n",
       "      <td>AllPub</td>\n",
       "      <td>...</td>\n",
       "      <td>0</td>\n",
       "      <td>NaN</td>\n",
       "      <td>NaN</td>\n",
       "      <td>NaN</td>\n",
       "      <td>0</td>\n",
       "      <td>5</td>\n",
       "      <td>2007</td>\n",
       "      <td>WD</td>\n",
       "      <td>Normal</td>\n",
       "      <td>181500</td>\n",
       "    </tr>\n",
       "    <tr>\n",
       "      <th>2</th>\n",
       "      <td>3</td>\n",
       "      <td>60</td>\n",
       "      <td>RL</td>\n",
       "      <td>68.0</td>\n",
       "      <td>11250</td>\n",
       "      <td>Pave</td>\n",
       "      <td>NaN</td>\n",
       "      <td>IR1</td>\n",
       "      <td>Lvl</td>\n",
       "      <td>AllPub</td>\n",
       "      <td>...</td>\n",
       "      <td>0</td>\n",
       "      <td>NaN</td>\n",
       "      <td>NaN</td>\n",
       "      <td>NaN</td>\n",
       "      <td>0</td>\n",
       "      <td>9</td>\n",
       "      <td>2008</td>\n",
       "      <td>WD</td>\n",
       "      <td>Normal</td>\n",
       "      <td>223500</td>\n",
       "    </tr>\n",
       "    <tr>\n",
       "      <th>3</th>\n",
       "      <td>4</td>\n",
       "      <td>70</td>\n",
       "      <td>RL</td>\n",
       "      <td>60.0</td>\n",
       "      <td>9550</td>\n",
       "      <td>Pave</td>\n",
       "      <td>NaN</td>\n",
       "      <td>IR1</td>\n",
       "      <td>Lvl</td>\n",
       "      <td>AllPub</td>\n",
       "      <td>...</td>\n",
       "      <td>0</td>\n",
       "      <td>NaN</td>\n",
       "      <td>NaN</td>\n",
       "      <td>NaN</td>\n",
       "      <td>0</td>\n",
       "      <td>2</td>\n",
       "      <td>2006</td>\n",
       "      <td>WD</td>\n",
       "      <td>Abnorml</td>\n",
       "      <td>140000</td>\n",
       "    </tr>\n",
       "    <tr>\n",
       "      <th>4</th>\n",
       "      <td>5</td>\n",
       "      <td>60</td>\n",
       "      <td>RL</td>\n",
       "      <td>84.0</td>\n",
       "      <td>14260</td>\n",
       "      <td>Pave</td>\n",
       "      <td>NaN</td>\n",
       "      <td>IR1</td>\n",
       "      <td>Lvl</td>\n",
       "      <td>AllPub</td>\n",
       "      <td>...</td>\n",
       "      <td>0</td>\n",
       "      <td>NaN</td>\n",
       "      <td>NaN</td>\n",
       "      <td>NaN</td>\n",
       "      <td>0</td>\n",
       "      <td>12</td>\n",
       "      <td>2008</td>\n",
       "      <td>WD</td>\n",
       "      <td>Normal</td>\n",
       "      <td>250000</td>\n",
       "    </tr>\n",
       "  </tbody>\n",
       "</table>\n",
       "<p>5 rows × 81 columns</p>\n",
       "</div>"
      ],
      "text/plain": [
       "   Id  MSSubClass MSZoning  LotFrontage  LotArea Street Alley LotShape  \\\n",
       "0   1          60       RL         65.0     8450   Pave   NaN      Reg   \n",
       "1   2          20       RL         80.0     9600   Pave   NaN      Reg   \n",
       "2   3          60       RL         68.0    11250   Pave   NaN      IR1   \n",
       "3   4          70       RL         60.0     9550   Pave   NaN      IR1   \n",
       "4   5          60       RL         84.0    14260   Pave   NaN      IR1   \n",
       "\n",
       "  LandContour Utilities  ... PoolArea PoolQC Fence MiscFeature MiscVal MoSold  \\\n",
       "0         Lvl    AllPub  ...        0    NaN   NaN         NaN       0      2   \n",
       "1         Lvl    AllPub  ...        0    NaN   NaN         NaN       0      5   \n",
       "2         Lvl    AllPub  ...        0    NaN   NaN         NaN       0      9   \n",
       "3         Lvl    AllPub  ...        0    NaN   NaN         NaN       0      2   \n",
       "4         Lvl    AllPub  ...        0    NaN   NaN         NaN       0     12   \n",
       "\n",
       "  YrSold  SaleType  SaleCondition  SalePrice  \n",
       "0   2008        WD         Normal     208500  \n",
       "1   2007        WD         Normal     181500  \n",
       "2   2008        WD         Normal     223500  \n",
       "3   2006        WD        Abnorml     140000  \n",
       "4   2008        WD         Normal     250000  \n",
       "\n",
       "[5 rows x 81 columns]"
      ]
     },
     "execution_count": 5,
     "metadata": {},
     "output_type": "execute_result"
    }
   ],
   "source": [
    "df_train = pd.read_csv('./train.csv')\n",
    "df_test = pd.read_csv('./test.csv')\n",
    "df_train.head()"
   ]
  },
  {
   "cell_type": "code",
   "execution_count": null,
   "metadata": {},
   "outputs": [],
   "source": []
  },
  {
   "cell_type": "code",
   "execution_count": 6,
   "metadata": {},
   "outputs": [
    {
     "name": "stderr",
     "output_type": "stream",
     "text": [
      "/Library/Frameworks/Python.framework/Versions/3.7/lib/python3.7/site-packages/pandas/core/frame.py:6692: FutureWarning: Sorting because non-concatenation axis is not aligned. A future version\n",
      "of pandas will change to not sort by default.\n",
      "\n",
      "To accept the future behavior, pass 'sort=False'.\n",
      "\n",
      "To retain the current behavior and silence the warning, pass 'sort=True'.\n",
      "\n",
      "  sort=sort)\n"
     ]
    }
   ],
   "source": [
    "df = mergeDataSet(df_train,df_test)"
   ]
  },
  {
   "cell_type": "code",
   "execution_count": null,
   "metadata": {},
   "outputs": [],
   "source": []
  },
  {
   "cell_type": "markdown",
   "metadata": {},
   "source": [
    "#      LotFrontage"
   ]
  },
  {
   "cell_type": "code",
   "execution_count": 7,
   "metadata": {},
   "outputs": [],
   "source": [
    "temp_df = df[df['isTrain'] == True]\n",
    "temp_Lot = temp_df['LotFrontage'].dropna()\n",
    "df['LotFrontage'] = df['LotFrontage'].fillna(float(int(temp_Lot.mean())))    "
   ]
  },
  {
   "cell_type": "markdown",
   "metadata": {},
   "source": [
    "#     MSZoning\n",
    "\n"
   ]
  },
  {
   "cell_type": "code",
   "execution_count": 8,
   "metadata": {},
   "outputs": [],
   "source": [
    "temp_name_column = \"MSZoning\"\n",
    "df['MSZoning'] = df['MSZoning'].fillna(\"None\")\n",
    "df = label_encoder(df,temp_name_column)"
   ]
  },
  {
   "cell_type": "markdown",
   "metadata": {},
   "source": [
    "#     Street"
   ]
  },
  {
   "cell_type": "code",
   "execution_count": 9,
   "metadata": {},
   "outputs": [],
   "source": [
    "temp_column = 'Street'\n",
    "df = onehot_encoder(df,temp_column)"
   ]
  },
  {
   "cell_type": "markdown",
   "metadata": {},
   "source": [
    "#     Alley"
   ]
  },
  {
   "cell_type": "code",
   "execution_count": 10,
   "metadata": {},
   "outputs": [],
   "source": [
    "df['Alley'].fillna(\"No alley access\", inplace = True) \n",
    "temp_col = \"Alley\"\n",
    "df = onehot_encoder(df,temp_col)"
   ]
  },
  {
   "cell_type": "markdown",
   "metadata": {},
   "source": [
    "#     Lot Shape"
   ]
  },
  {
   "cell_type": "code",
   "execution_count": 11,
   "metadata": {},
   "outputs": [],
   "source": [
    "df['LotShape'] = df['LotShape'].fillna(-10)\n",
    "df['LotShape'] = df['LotShape'].replace(\"IR1\",1)\n",
    "df['LotShape'] = df['LotShape'].replace(\"IR2\",2)\n",
    "df['LotShape'] = df['LotShape'].replace(\"IR3\",3)\n",
    "df['LotShape'] = df['LotShape'].replace(\"Reg\",0)"
   ]
  },
  {
   "cell_type": "markdown",
   "metadata": {},
   "source": [
    "#     LandContour"
   ]
  },
  {
   "cell_type": "code",
   "execution_count": 12,
   "metadata": {},
   "outputs": [],
   "source": [
    "df['LandContour'] = df['LandContour'].fillna(-10)\n",
    "df['LandContour'] = df['LandContour'].replace(\"Lvl\",0)\n",
    "df['LandContour'] = df['LandContour'].replace(\"Bnk\",1)\n",
    "df['LandContour'] = df['LandContour'].replace(\"HLS\",2)\n",
    "df['LandContour'] = df['LandContour'].replace(\"Low\",3)"
   ]
  },
  {
   "cell_type": "markdown",
   "metadata": {},
   "source": [
    "#     Utilities"
   ]
  },
  {
   "cell_type": "code",
   "execution_count": 13,
   "metadata": {},
   "outputs": [],
   "source": [
    "df['Utilities'] = df['Utilities'].fillna(\"Unk\")\n",
    "temp_col = \"Utilities\"\n",
    "df = label_encoder(df,temp_col)"
   ]
  },
  {
   "cell_type": "markdown",
   "metadata": {},
   "source": [
    "#     LotConfig"
   ]
  },
  {
   "cell_type": "code",
   "execution_count": 14,
   "metadata": {},
   "outputs": [],
   "source": [
    "df['LotConfig'] = df['LotConfig'].fillna('Unk')\n",
    "temp_col = 'LotConfig'\n",
    "df = onehot_encoder(df,temp_col)"
   ]
  },
  {
   "cell_type": "markdown",
   "metadata": {},
   "source": [
    "#     LandSlope"
   ]
  },
  {
   "cell_type": "code",
   "execution_count": 15,
   "metadata": {},
   "outputs": [
    {
     "data": {
      "text/plain": [
       "0    Gtl\n",
       "dtype: object"
      ]
     },
     "execution_count": 15,
     "metadata": {},
     "output_type": "execute_result"
    }
   ],
   "source": [
    "temp_ds = df[df['isTrain'] == True]\n",
    "temp_ls = df['LandSlope'].mode()\n",
    "temp_ls"
   ]
  },
  {
   "cell_type": "code",
   "execution_count": 16,
   "metadata": {},
   "outputs": [],
   "source": [
    "temp_ds = df[df['isTrain'] == True]\n",
    "temp_ls = df['LandSlope'].mode()\n",
    "df['LandSlope'] = df['LandSlope'].fillna(temp_ls)\n",
    "# df['LandSlope'] = df['LandSlop']\n",
    "df['LandSlope'] = df['LandSlope'].replace(\"Gtl\",0)\n",
    "df['LandSlope'] = df['LandSlope'].replace(\"Mod\",1)\n",
    "df['LandSlope'] = df['LandSlope'].replace(\"Sev\",2)"
   ]
  },
  {
   "cell_type": "markdown",
   "metadata": {},
   "source": [
    "#     Neighborhood"
   ]
  },
  {
   "cell_type": "code",
   "execution_count": 17,
   "metadata": {},
   "outputs": [],
   "source": [
    "df['Neighborhood'] = df['Neighborhood'].fillna('Unk')\n",
    "temp_col = 'Neighborhood'\n",
    "df = onehot_encoder(df, temp_col)"
   ]
  },
  {
   "cell_type": "markdown",
   "metadata": {},
   "source": [
    "#     Condition1"
   ]
  },
  {
   "cell_type": "code",
   "execution_count": 18,
   "metadata": {},
   "outputs": [],
   "source": [
    "df['Condition1'] = df['Condition1'].fillna(0)\n",
    "df[\"Condition1\"] = df[\"Condition1\"].replace(['Norm', 'Feedr', 'PosN', 'Artery', 'RRAe', 'RRNn', 'RRAn', 'PosA',\n",
    "        'RRNe'], [5,7,2,9,8,3,6,1,4])"
   ]
  },
  {
   "cell_type": "markdown",
   "metadata": {},
   "source": [
    "#     condition2"
   ]
  },
  {
   "cell_type": "code",
   "execution_count": 19,
   "metadata": {},
   "outputs": [],
   "source": [
    "df['Condition2'] = df['Condition2'].fillna('Unk')\n",
    "temp_col = \"Condition2\"\n",
    "df = label_encoder(df,temp_col)"
   ]
  },
  {
   "cell_type": "markdown",
   "metadata": {},
   "source": [
    "#     BldgType"
   ]
  },
  {
   "cell_type": "code",
   "execution_count": 20,
   "metadata": {},
   "outputs": [],
   "source": [
    "df['BldgType'] = df['BldgType'].fillna('Unk')\n",
    "temp_col = \"BldgType\"\n",
    "df = onehot_encoder(df, temp_col)"
   ]
  },
  {
   "cell_type": "markdown",
   "metadata": {},
   "source": [
    "#     HouseStyle"
   ]
  },
  {
   "cell_type": "code",
   "execution_count": 21,
   "metadata": {},
   "outputs": [],
   "source": [
    "df['HouseStyle'] = df['HouseStyle'].fillna('Unk')\n",
    "temp_col = \"HouseStyle\"\n",
    "df = label_encoder(df,temp_col)"
   ]
  },
  {
   "cell_type": "markdown",
   "metadata": {},
   "source": [
    "#     OverallQual,OverallCond,yearBuilt,yearremodAdd -> numeric"
   ]
  },
  {
   "cell_type": "markdown",
   "metadata": {},
   "source": [
    "#     RoofStyle\n",
    "\n"
   ]
  },
  {
   "cell_type": "code",
   "execution_count": 22,
   "metadata": {},
   "outputs": [],
   "source": [
    "df['RoofStyle'] = df['RoofStyle'].fillna('Unk')\n",
    "temp_col = \"RoofStyle\"\n",
    "df = label_encoder(df,temp_col)"
   ]
  },
  {
   "cell_type": "markdown",
   "metadata": {},
   "source": [
    "#     RoofMatl\n",
    "\n"
   ]
  },
  {
   "cell_type": "code",
   "execution_count": 23,
   "metadata": {},
   "outputs": [],
   "source": [
    "df['RoofMatl'] = df['RoofMatl'].fillna('Unk')\n",
    "temp_col = \"RoofMatl\"\n",
    "df = label_encoder(df,temp_col)"
   ]
  },
  {
   "cell_type": "code",
   "execution_count": 24,
   "metadata": {},
   "outputs": [],
   "source": [
    "def rapunzelMagic(df):\n",
    "    exteriorType = {'AsbShng','AsphShn','BrkComm','BrkFace','CBlock','HdBoard','ImStucc',\n",
    "                'MetalSd','Other','Plywood','PreCast','Stone','Stucco','VinylSd','Wd Sdng','WdShing','Unk'}\n",
    "    count_row = df.shape[0]\n",
    "    for exteriorName in exteriorType:\n",
    "        df['Exterior_' + exteriorName] = 0\n",
    "    for i in range(0,count_row):\n",
    "        for exteriorName in exteriorType:\n",
    "            if(np.logical_or(df.loc[i,'Exterior1st'] == exteriorName, df.loc[i,'Exterior2nd'] == exteriorName)):\n",
    "                df.loc[i,'Exterior_'+ exteriorName] = 1\n",
    "    df = df.drop(columns = ['Exterior1st','Exterior2nd'])\n",
    "    return df"
   ]
  },
  {
   "cell_type": "markdown",
   "metadata": {},
   "source": [
    "#     Exterior1st,Exterior2nd\n",
    "\n"
   ]
  },
  {
   "cell_type": "code",
   "execution_count": 25,
   "metadata": {},
   "outputs": [],
   "source": [
    "df['Exterior1st'] = df['Exterior1st'].fillna('Unk')\n",
    "df['Exterior2nd'] = df['Exterior2nd'].fillna('Unk')\n",
    "df = rapunzelMagic(df)  "
   ]
  },
  {
   "cell_type": "markdown",
   "metadata": {},
   "source": [
    "#     MasVnrType"
   ]
  },
  {
   "cell_type": "code",
   "execution_count": 26,
   "metadata": {},
   "outputs": [],
   "source": [
    "df['MasVnrType'] = df['MasVnrType'].fillna(\"None\")\n",
    "temp_col = 'MasVnrType'\n",
    "df = label_encoder(df,temp_col)"
   ]
  },
  {
   "cell_type": "markdown",
   "metadata": {},
   "source": [
    "#     MasVnrArea"
   ]
  },
  {
   "cell_type": "code",
   "execution_count": 27,
   "metadata": {},
   "outputs": [],
   "source": [
    "temp_df = df[df['isTrain'] == True]\n",
    "temp = temp_df['MasVnrArea'].dropna()\n",
    "df['MasVnrArea'] = df['MasVnrArea'].fillna(float(int(temp.mean())))"
   ]
  },
  {
   "cell_type": "markdown",
   "metadata": {},
   "source": [
    "#     ExterQual"
   ]
  },
  {
   "cell_type": "code",
   "execution_count": 28,
   "metadata": {},
   "outputs": [],
   "source": [
    "temp_col = 'ExterQual'\n",
    "df = cvtRatingToNumeric(df,'ExterQual')"
   ]
  },
  {
   "cell_type": "markdown",
   "metadata": {},
   "source": [
    "#     ExterCond"
   ]
  },
  {
   "cell_type": "code",
   "execution_count": 29,
   "metadata": {},
   "outputs": [],
   "source": [
    "df = cvtRatingToNumeric(df,'ExterCond')"
   ]
  },
  {
   "cell_type": "markdown",
   "metadata": {},
   "source": [
    "#     Foundation\n",
    "\n"
   ]
  },
  {
   "cell_type": "code",
   "execution_count": 30,
   "metadata": {},
   "outputs": [],
   "source": [
    "df = label_encoder(df,'Foundation')"
   ]
  },
  {
   "cell_type": "markdown",
   "metadata": {},
   "source": [
    "#     BsmtQual\n",
    "\n"
   ]
  },
  {
   "cell_type": "code",
   "execution_count": 31,
   "metadata": {},
   "outputs": [],
   "source": [
    "df = cvtRatingToNumeric(df,'BsmtQual')"
   ]
  },
  {
   "cell_type": "markdown",
   "metadata": {},
   "source": [
    "#     BsmtCond\n",
    "\n"
   ]
  },
  {
   "cell_type": "code",
   "execution_count": 32,
   "metadata": {},
   "outputs": [],
   "source": [
    "df = cvtRatingToNumeric(df,'BsmtCond')"
   ]
  },
  {
   "cell_type": "markdown",
   "metadata": {},
   "source": [
    "#     BsmtExposure\n",
    "\n"
   ]
  },
  {
   "cell_type": "code",
   "execution_count": 33,
   "metadata": {},
   "outputs": [],
   "source": [
    "df = cvtRatingToNumeric2(df,'BsmtExposure')"
   ]
  },
  {
   "cell_type": "markdown",
   "metadata": {},
   "source": [
    "#     BsmtFinType1\n",
    "\n"
   ]
  },
  {
   "cell_type": "code",
   "execution_count": 34,
   "metadata": {},
   "outputs": [],
   "source": [
    "df =cvtRatingToNumeric3(df,'BsmtFinType1')"
   ]
  },
  {
   "cell_type": "markdown",
   "metadata": {},
   "source": [
    "#     BsmtFinSF1 -> numeric"
   ]
  },
  {
   "cell_type": "code",
   "execution_count": 35,
   "metadata": {},
   "outputs": [],
   "source": [
    "temp_df = df[df['isTrain'] == True]\n",
    "temp = df['BsmtFinSF1'].dropna()\n",
    "df['BsmtFinSF1'] = df['BsmtFinSF1'].fillna(float(int(temp.mean())))"
   ]
  },
  {
   "cell_type": "markdown",
   "metadata": {},
   "source": [
    "#     BsmtFinType2\n",
    "\n"
   ]
  },
  {
   "cell_type": "code",
   "execution_count": 36,
   "metadata": {},
   "outputs": [],
   "source": [
    "df = cvtRatingToNumeric3(df,'BsmtFinType2')"
   ]
  },
  {
   "cell_type": "markdown",
   "metadata": {},
   "source": [
    "#     BsmtFinSF2,BsmtUnfSF,TotalBsmtSf -> numeric"
   ]
  },
  {
   "cell_type": "markdown",
   "metadata": {},
   "source": [
    "#     TotalBsmtSf"
   ]
  },
  {
   "cell_type": "code",
   "execution_count": 37,
   "metadata": {},
   "outputs": [],
   "source": [
    "temp_df = df[df['isTrain'] == True]\n",
    "temp = df['TotalBsmtSF'].dropna()\n",
    "df['TotalBsmtSF'] = df['TotalBsmtSF'].fillna(int(temp.mean()))"
   ]
  },
  {
   "cell_type": "markdown",
   "metadata": {},
   "source": [
    "#     BsmtFinSF2"
   ]
  },
  {
   "cell_type": "code",
   "execution_count": 38,
   "metadata": {},
   "outputs": [],
   "source": [
    "temp_df = df[df['isTrain'] == True]\n",
    "temp = df['BsmtFinSF2'].dropna()\n",
    "df['BsmtFinSF2'] = df['BsmtFinSF2'].fillna(float(int(temp.mean())))"
   ]
  },
  {
   "cell_type": "markdown",
   "metadata": {},
   "source": [
    "#     BsmtUnfSF"
   ]
  },
  {
   "cell_type": "code",
   "execution_count": 39,
   "metadata": {},
   "outputs": [],
   "source": [
    "temp_df = df[df['isTrain'] == True]\n",
    "temp = df['BsmtUnfSF'].dropna()\n",
    "df['BsmtUnfSF'] = df['BsmtUnfSF'].fillna(float(int(temp.mean())))"
   ]
  },
  {
   "cell_type": "markdown",
   "metadata": {},
   "source": [
    "#     Heating"
   ]
  },
  {
   "cell_type": "code",
   "execution_count": 40,
   "metadata": {},
   "outputs": [],
   "source": [
    "df = label_encoder(df,'Heating')"
   ]
  },
  {
   "cell_type": "markdown",
   "metadata": {},
   "source": [
    "#     HeatingQC"
   ]
  },
  {
   "cell_type": "code",
   "execution_count": 41,
   "metadata": {},
   "outputs": [],
   "source": [
    "df = cvtRatingToNumeric(df,'HeatingQC')"
   ]
  },
  {
   "cell_type": "markdown",
   "metadata": {},
   "source": [
    "#     CentalAir\n",
    "\n"
   ]
  },
  {
   "cell_type": "code",
   "execution_count": 42,
   "metadata": {},
   "outputs": [],
   "source": [
    "df = label_encoder(df,'CentralAir')"
   ]
  },
  {
   "cell_type": "markdown",
   "metadata": {},
   "source": [
    "#     Electrical\n",
    "\n"
   ]
  },
  {
   "cell_type": "code",
   "execution_count": 43,
   "metadata": {},
   "outputs": [],
   "source": [
    "df['Electrical'] = df['Electrical'].fillna(\"dontknow\")\n",
    "df = label_encoder(df,'Electrical')"
   ]
  },
  {
   "cell_type": "markdown",
   "metadata": {},
   "source": [
    "#     1stFlrSf,2ndFlrSF,LowQualFinSF,GrLivArea,FullBath,HalfBath,BedroomadvGr,KitchenAbvGr,->numeric\n",
    "\n"
   ]
  },
  {
   "cell_type": "markdown",
   "metadata": {},
   "source": [
    "#     BsmtFullBath->numeric\n",
    "\n"
   ]
  },
  {
   "cell_type": "code",
   "execution_count": 44,
   "metadata": {},
   "outputs": [],
   "source": [
    "temp = df[df['isTrain'] == True]\n",
    "temp = temp['BsmtFullBath'].dropna()\n",
    "df['BsmtFullBath'] = df['BsmtFullBath'].fillna(float(int(temp.mean())))"
   ]
  },
  {
   "cell_type": "markdown",
   "metadata": {},
   "source": [
    "#     BsmtHalfBath->numeric\n",
    "\n"
   ]
  },
  {
   "cell_type": "code",
   "execution_count": 45,
   "metadata": {},
   "outputs": [],
   "source": [
    "temp = df[df['isTrain'] == True]\n",
    "temp = temp['BsmtHalfBath'].dropna()\n",
    "df['BsmtHalfBath'] = df['BsmtHalfBath'].fillna(float(int(temp.mean())))"
   ]
  },
  {
   "cell_type": "markdown",
   "metadata": {},
   "source": [
    "#     KitchenQual\n",
    "\n"
   ]
  },
  {
   "cell_type": "code",
   "execution_count": 46,
   "metadata": {},
   "outputs": [],
   "source": [
    "df = cvtRatingToNumeric(df,'KitchenQual')"
   ]
  },
  {
   "cell_type": "markdown",
   "metadata": {},
   "source": [
    "#     TotRmsAbvGrd -> numeric\n",
    "\n"
   ]
  },
  {
   "cell_type": "markdown",
   "metadata": {},
   "source": [
    "#     Functional\n",
    "\n"
   ]
  },
  {
   "cell_type": "code",
   "execution_count": 47,
   "metadata": {},
   "outputs": [],
   "source": [
    "df['Functional'] = df['Functional'].fillna(\"None\")\n",
    "df = label_encoder(df,'Functional')"
   ]
  },
  {
   "cell_type": "markdown",
   "metadata": {},
   "source": [
    "#     Fireplace ->numeric\n",
    "\n"
   ]
  },
  {
   "cell_type": "markdown",
   "metadata": {},
   "source": [
    "#     FireplaceQU\n",
    "\n"
   ]
  },
  {
   "cell_type": "code",
   "execution_count": 48,
   "metadata": {},
   "outputs": [],
   "source": [
    "df = cvtRatingToNumeric(df,'FireplaceQu')"
   ]
  },
  {
   "cell_type": "markdown",
   "metadata": {},
   "source": [
    "#     GarageType\n",
    "\n"
   ]
  },
  {
   "cell_type": "code",
   "execution_count": 49,
   "metadata": {},
   "outputs": [],
   "source": [
    "df['GarageType'].fillna(\"No garage\", inplace = True)\n",
    "df = label_encoder(df,'GarageType')"
   ]
  },
  {
   "cell_type": "markdown",
   "metadata": {},
   "source": [
    "#     GarageYrBlt\n",
    "\n"
   ]
  },
  {
   "cell_type": "code",
   "execution_count": 50,
   "metadata": {},
   "outputs": [],
   "source": [
    "df = df.drop(columns=['GarageYrBlt'])"
   ]
  },
  {
   "cell_type": "markdown",
   "metadata": {},
   "source": [
    "#     GarageFinish\n",
    "\n"
   ]
  },
  {
   "cell_type": "code",
   "execution_count": 51,
   "metadata": {},
   "outputs": [],
   "source": [
    "df['GarageFinish']=df['GarageFinish'].fillna(\"No garage\")\n",
    "df = label_encoder(df,'GarageFinish')"
   ]
  },
  {
   "cell_type": "markdown",
   "metadata": {},
   "source": [
    "#     GarageCar->numeirc\n",
    "\n"
   ]
  },
  {
   "cell_type": "code",
   "execution_count": 52,
   "metadata": {},
   "outputs": [],
   "source": [
    "temp = df[df['isTrain'] == True]\n",
    "temp = temp['GarageCars'].dropna()\n",
    "df['GarageCars'] = df['GarageCars'].fillna(int(temp.mean()))"
   ]
  },
  {
   "cell_type": "markdown",
   "metadata": {},
   "source": [
    "#     GarageArea->numeirc\n",
    "\n"
   ]
  },
  {
   "cell_type": "code",
   "execution_count": 53,
   "metadata": {},
   "outputs": [
    {
     "name": "stderr",
     "output_type": "stream",
     "text": [
      "/Library/Frameworks/Python.framework/Versions/3.7/lib/python3.7/site-packages/ipykernel_launcher.py:2: SettingWithCopyWarning: \n",
      "A value is trying to be set on a copy of a slice from a DataFrame.\n",
      "Try using .loc[row_indexer,col_indexer] = value instead\n",
      "\n",
      "See the caveats in the documentation: http://pandas.pydata.org/pandas-docs/stable/indexing.html#indexing-view-versus-copy\n",
      "  \n"
     ]
    }
   ],
   "source": [
    "temp = df[df['isTrain'] == True]\n",
    "temp['GarageArea'] = temp['GarageArea'].dropna()\n",
    "df['GarageArea'] = df['GarageArea'].fillna(int(temp['GarageArea'].mean()))"
   ]
  },
  {
   "cell_type": "markdown",
   "metadata": {},
   "source": [
    "#     GarageQual\n",
    "\n"
   ]
  },
  {
   "cell_type": "code",
   "execution_count": 54,
   "metadata": {},
   "outputs": [],
   "source": [
    "df = cvtRatingToNumeric(df,'GarageQual')"
   ]
  },
  {
   "cell_type": "markdown",
   "metadata": {},
   "source": [
    "#     GarageCond\n",
    "\n"
   ]
  },
  {
   "cell_type": "code",
   "execution_count": 55,
   "metadata": {},
   "outputs": [],
   "source": [
    "df = cvtRatingToNumeric(df,'GarageCond')"
   ]
  },
  {
   "cell_type": "markdown",
   "metadata": {},
   "source": [
    "#     PavedDrive\n",
    "\n"
   ]
  },
  {
   "cell_type": "code",
   "execution_count": 56,
   "metadata": {},
   "outputs": [],
   "source": [
    "df = label_encoder(df,'PavedDrive')"
   ]
  },
  {
   "cell_type": "markdown",
   "metadata": {},
   "source": [
    "#     WoodDeckSF,OpenPorchSF,EnclosedPorch,3SsnPorch,ScreenPorch,PoolArea,\n",
    "\n"
   ]
  },
  {
   "cell_type": "markdown",
   "metadata": {},
   "source": [
    "#     PoolQC\n",
    "\n"
   ]
  },
  {
   "cell_type": "code",
   "execution_count": 57,
   "metadata": {},
   "outputs": [],
   "source": [
    "df = cvtRatingToNumeric(df,'PoolQC')"
   ]
  },
  {
   "cell_type": "markdown",
   "metadata": {},
   "source": [
    "#     Fence\n",
    "\n"
   ]
  },
  {
   "cell_type": "code",
   "execution_count": 58,
   "metadata": {},
   "outputs": [],
   "source": [
    "df = cvtRatingToNumeric4(df,'Fence')"
   ]
  },
  {
   "cell_type": "markdown",
   "metadata": {},
   "source": [
    "#     MiscFeature"
   ]
  },
  {
   "cell_type": "code",
   "execution_count": 59,
   "metadata": {},
   "outputs": [],
   "source": [
    "df['MiscFeature'] = df['MiscFeature'].fillna('None')\n",
    "df = label_encoder(df,'MiscFeature')"
   ]
  },
  {
   "cell_type": "markdown",
   "metadata": {},
   "source": [
    "#     MiscVal,MoSold,YrSold -> numeric\n",
    "\n"
   ]
  },
  {
   "cell_type": "markdown",
   "metadata": {},
   "source": [
    "#     SaleType\n",
    "\n"
   ]
  },
  {
   "cell_type": "code",
   "execution_count": 60,
   "metadata": {},
   "outputs": [],
   "source": [
    "df['SaleType'] = df['SaleType'].fillna(\"None\")\n",
    "df = label_encoder(df,'SaleType')"
   ]
  },
  {
   "cell_type": "markdown",
   "metadata": {},
   "source": [
    "#     salecondition"
   ]
  },
  {
   "cell_type": "code",
   "execution_count": 61,
   "metadata": {},
   "outputs": [],
   "source": [
    "df = label_encoder(df,'SaleCondition')"
   ]
  },
  {
   "cell_type": "code",
   "execution_count": 62,
   "metadata": {},
   "outputs": [
    {
     "name": "stdout",
     "output_type": "stream",
     "text": [
      "  Column which have null have 0\n"
     ]
    },
    {
     "data": {
      "text/plain": [
       "[]"
      ]
     },
     "execution_count": 62,
     "metadata": {},
     "output_type": "execute_result"
    }
   ],
   "source": [
    "check_null_each_column(df)"
   ]
  },
  {
   "cell_type": "markdown",
   "metadata": {},
   "source": [
    "# End cleanning"
   ]
  },
  {
   "cell_type": "code",
   "execution_count": 119,
   "metadata": {},
   "outputs": [],
   "source": [
    "df_train = df[df['isTrain'] == True]\n",
    "df_test = df[df['isTrain'] == False]"
   ]
  },
  {
   "cell_type": "code",
   "execution_count": 120,
   "metadata": {},
   "outputs": [],
   "source": [
    "df_train = df_train.drop(['isTrain'], axis=1)"
   ]
  },
  {
   "cell_type": "code",
   "execution_count": 121,
   "metadata": {},
   "outputs": [],
   "source": [
    "df_test = df_test.drop(['isTrain','SalePrice'], axis=1)"
   ]
  },
  {
   "cell_type": "markdown",
   "metadata": {},
   "source": [
    "# Split test train"
   ]
  },
  {
   "cell_type": "code",
   "execution_count": 114,
   "metadata": {},
   "outputs": [],
   "source": [
    "X = df_train.drop(['SalePrice','Street_Grvl','Street_Pave'], axis=1)\n",
    "Y = df_train['SalePrice']"
   ]
  },
  {
   "cell_type": "code",
   "execution_count": 115,
   "metadata": {},
   "outputs": [],
   "source": [
    "x_train, x_test, y_train, y_test = train_test_split(X, Y, test_size = 0.20)"
   ]
  },
  {
   "cell_type": "markdown",
   "metadata": {},
   "source": [
    "# Feature Selection"
   ]
  },
  {
   "cell_type": "code",
   "execution_count": null,
   "metadata": {},
   "outputs": [],
   "source": []
  },
  {
   "cell_type": "code",
   "execution_count": null,
   "metadata": {},
   "outputs": [],
   "source": []
  },
  {
   "cell_type": "code",
   "execution_count": null,
   "metadata": {},
   "outputs": [],
   "source": []
  },
  {
   "cell_type": "code",
   "execution_count": null,
   "metadata": {},
   "outputs": [],
   "source": []
  },
  {
   "cell_type": "code",
   "execution_count": 67,
   "metadata": {},
   "outputs": [],
   "source": [
    "df_train_alg = df_train.drop(['SalePrice'], axis=1)"
   ]
  },
  {
   "cell_type": "code",
   "execution_count": 68,
   "metadata": {},
   "outputs": [],
   "source": [
    "col_list = []\n",
    "for col in df_train_alg.columns:\n",
    "    temp_array=[]\n",
    "    temp_array.append(col)\n",
    "    col_list.append(temp_array)"
   ]
  },
  {
   "cell_type": "code",
   "execution_count": 69,
   "metadata": {},
   "outputs": [],
   "source": [
    "# def check_contain(loop_list,index):\n",
    "#     for i in loop_list:\n",
    "#         temp_i = []\n",
    "#         temp_i.append(i)\n",
    "#         if temp_i == index:\n",
    "#             return True\n",
    "#     return False\n",
    "    \n",
    "    \n",
    "# def recursive(question_list,temp_str,number_iteration,print_list):\n",
    "# #     print(\"Start Recursive\")\n",
    "#     if number_iteration == 2:\n",
    "#         for index in question_list:\n",
    "#             add_str = temp_str+index\n",
    "#             if len(temp_str)>1:\n",
    "# #                 print(temp_str)\n",
    "# #                 print(index)\n",
    "                \n",
    "#                 if check_contain(temp_str,index) == True:\n",
    "#                     print('not add')\n",
    "#                 else:\n",
    "#                     print_list.append(add_str)   \n",
    "#             else:    \n",
    "#                 print_list.append(add_str)                   \n",
    "#     else:\n",
    "#         for temp_question in question_list:\n",
    "#             new_temp_str = temp_str+temp_question\n",
    "#             recursive(question_list[1:],new_temp_str,number_iteration-1,print_list)\n",
    "# while len(col_list) !=0:\n",
    "#     first_index = col_list[0]\n",
    "#     print_list.append(first_index)\n",
    "#     temp_list = col_list[1:]\n",
    "#     for iteration in range(1,len(col_list)+1):\n",
    "#         temp_str = first_index\n",
    "# #         print_list.append(temp_str)\n",
    "#         recursive(temp_list,temp_str,iteration,print_list)    \n",
    "#     col_list.remove(first_index)"
   ]
  },
  {
   "cell_type": "markdown",
   "metadata": {},
   "source": [
    "# End Feature Selection"
   ]
  },
  {
   "cell_type": "markdown",
   "metadata": {},
   "source": [
    "# Test Model and Model Selection"
   ]
  },
  {
   "cell_type": "markdown",
   "metadata": {},
   "source": [
    "# Linear Regression"
   ]
  },
  {
   "cell_type": "code",
   "execution_count": 70,
   "metadata": {},
   "outputs": [],
   "source": [
    "import tensorflow as tf\n",
    "from tensorflow import keras\n",
    "from tensorflow.keras import layers\n",
    "from sklearn import linear_model\n",
    "from sklearn.model_selection import train_test_split\n",
    "from sklearn.linear_model import LinearRegression\n",
    "from sklearn.metrics import mean_squared_error\n",
    "from sklearn.metrics import mean_absolute_error"
   ]
  },
  {
   "cell_type": "code",
   "execution_count": 140,
   "metadata": {},
   "outputs": [],
   "source": [
    "X = df_train.drop(['SalePrice','Street_Grvl','Street_Pave'], axis=1)\n",
    "Y = df_train['SalePrice']"
   ]
  },
  {
   "cell_type": "code",
   "execution_count": 141,
   "metadata": {},
   "outputs": [],
   "source": [
    "x_train, x_test, y_train, y_test = train_test_split(X, Y, test_size = 0.20)"
   ]
  },
  {
   "cell_type": "code",
   "execution_count": 142,
   "metadata": {},
   "outputs": [],
   "source": [
    "linearRegressor = LinearRegression()"
   ]
  },
  {
   "cell_type": "code",
   "execution_count": 147,
   "metadata": {},
   "outputs": [
    {
     "data": {
      "text/plain": [
       "LinearRegression(copy_X=True, fit_intercept=True, n_jobs=None,\n",
       "         normalize=False)"
      ]
     },
     "execution_count": 147,
     "metadata": {},
     "output_type": "execute_result"
    }
   ],
   "source": [
    "linearRegressor.fit(x_train, y_train)"
   ]
  },
  {
   "cell_type": "code",
   "execution_count": 148,
   "metadata": {},
   "outputs": [],
   "source": [
    "y_trainPrediction = linearRegressor.predict(x_train)"
   ]
  },
  {
   "cell_type": "code",
   "execution_count": 149,
   "metadata": {},
   "outputs": [],
   "source": [
    "y_testPrediction = linearRegressor.predict(x_test)"
   ]
  },
  {
   "cell_type": "code",
   "execution_count": 150,
   "metadata": {},
   "outputs": [
    {
     "name": "stdout",
     "output_type": "stream",
     "text": [
      "train:  674504351.9218544\n",
      "test:  1565574072.8276207\n"
     ]
    }
   ],
   "source": [
    "print('train: ', mean_squared_error(y_train, y_trainPrediction))\n",
    "print('test: ', mean_squared_error(y_test, y_testPrediction))"
   ]
  },
  {
   "cell_type": "code",
   "execution_count": 151,
   "metadata": {},
   "outputs": [
    {
     "name": "stdout",
     "output_type": "stream",
     "text": [
      "train:  17082.9434174984\n",
      "test:  20286.738908634477\n"
     ]
    }
   ],
   "source": [
    "print('train: ', mean_absolute_error(y_train, y_trainPrediction))\n",
    "print('test: ', mean_absolute_error(y_test, y_testPrediction))"
   ]
  },
  {
   "cell_type": "code",
   "execution_count": null,
   "metadata": {},
   "outputs": [],
   "source": []
  },
  {
   "cell_type": "markdown",
   "metadata": {},
   "source": [
    "# Keras"
   ]
  },
  {
   "cell_type": "code",
   "execution_count": 85,
   "metadata": {},
   "outputs": [],
   "source": [
    "model = keras.Sequential([\n",
    "    layers.Dense(64, activation=tf.nn.relu),\n",
    "    layers.Dense(64, activation=tf.nn.relu),\n",
    "    layers.Dense(1)\n",
    "  ])"
   ]
  },
  {
   "cell_type": "code",
   "execution_count": 101,
   "metadata": {},
   "outputs": [],
   "source": [
    "# optimizer = tf.keras.optimizers.RMSprop(0.001)\n",
    "optimizer = tf.keras.optimizers.Adam(lr=0.001, beta_1=0.9, beta_2=0.999, epsilon=None, decay=0.0, amsgrad=False)\n"
   ]
  },
  {
   "cell_type": "code",
   "execution_count": 103,
   "metadata": {},
   "outputs": [],
   "source": [
    "model.compile(loss='mean_squared_error',\n",
    "                optimizer=optimizer,\n",
    "                metrics=['mean_absolute_error', 'mean_squared_error'])"
   ]
  },
  {
   "cell_type": "code",
   "execution_count": 104,
   "metadata": {},
   "outputs": [],
   "source": [
    "# model.summary()"
   ]
  },
  {
   "cell_type": "code",
   "execution_count": 105,
   "metadata": {},
   "outputs": [],
   "source": [
    "EPOCHS = 1000"
   ]
  },
  {
   "cell_type": "code",
   "execution_count": 106,
   "metadata": {},
   "outputs": [
    {
     "data": {
      "text/plain": [
       "array([[ 943.,  695.,    0., ...,    0.,    0.,    0.],\n",
       "       [1072.,    0.,    0., ...,    0.,    0.,    0.],\n",
       "       [ 979.,  979.,    0., ...,    0.,    0.,    0.],\n",
       "       ...,\n",
       "       [1012.,  778.,    0., ...,    0.,    0.,    0.],\n",
       "       [1856.,    0.,    0., ...,    0.,    0.,    0.],\n",
       "       [1445.,    0.,    0., ...,    0.,    0.,    0.]])"
      ]
     },
     "execution_count": 106,
     "metadata": {},
     "output_type": "execute_result"
    }
   ],
   "source": [
    "x_train.values"
   ]
  },
  {
   "cell_type": "code",
   "execution_count": 128,
   "metadata": {},
   "outputs": [
    {
     "name": "stdout",
     "output_type": "stream",
     "text": [
      "Train on 934 samples, validate on 234 samples\n",
      "Epoch 1/1000\n",
      "934/934 [==============================] - 0s 55us/sample - loss: 2050973824.6852 - mean_absolute_error: 20815.0977 - mean_squared_error: 2050973824.0000 - val_loss: 2459458019.0085 - val_mean_absolute_error: 28583.8535 - val_mean_squared_error: 2459458048.0000\n",
      "Epoch 2/1000\n",
      "934/934 [==============================] - 0s 61us/sample - loss: 2079506812.0942 - mean_absolute_error: 28584.7988 - mean_squared_error: 2079506560.0000 - val_loss: 844565929.0256 - val_mean_absolute_error: 17151.2793 - val_mean_squared_error: 844565952.0000\n",
      "Epoch 3/1000\n",
      "934/934 [==============================] - 0s 56us/sample - loss: 632659235.2891 - mean_absolute_error: 15670.5088 - mean_squared_error: 632659200.0000 - val_loss: 727407822.4957 - val_mean_absolute_error: 17271.1582 - val_mean_squared_error: 727407808.0000\n",
      "Epoch 4/1000\n",
      "934/934 [==============================] - 0s 50us/sample - loss: 609484124.8480 - mean_absolute_error: 15731.3604 - mean_squared_error: 609484160.0000 - val_loss: 787529183.7265 - val_mean_absolute_error: 18103.6094 - val_mean_squared_error: 787529216.0000\n",
      "Epoch 5/1000\n",
      "934/934 [==============================] - 0s 52us/sample - loss: 638000021.3448 - mean_absolute_error: 16297.2188 - mean_squared_error: 638000064.0000 - val_loss: 821971009.6410 - val_mean_absolute_error: 18707.5352 - val_mean_squared_error: 821971008.0000\n",
      "Epoch 6/1000\n",
      "934/934 [==============================] - 0s 47us/sample - loss: 601361171.2891 - mean_absolute_error: 15812.0977 - mean_squared_error: 601361152.0000 - val_loss: 735035783.6581 - val_mean_absolute_error: 17557.0410 - val_mean_squared_error: 735035712.0000\n",
      "Epoch 7/1000\n",
      "934/934 [==============================] - 0s 46us/sample - loss: 437434654.0128 - mean_absolute_error: 14033.5078 - mean_squared_error: 437434624.0000 - val_loss: 749362035.4188 - val_mean_absolute_error: 16745.3223 - val_mean_squared_error: 749361984.0000\n",
      "Epoch 8/1000\n",
      "934/934 [==============================] - 0s 51us/sample - loss: 461730100.8651 - mean_absolute_error: 15719.8105 - mean_squared_error: 461729984.0000 - val_loss: 763259304.4786 - val_mean_absolute_error: 15634.9609 - val_mean_squared_error: 763259200.0000\n",
      "Epoch 9/1000\n",
      "934/934 [==============================] - 0s 52us/sample - loss: 431538572.3340 - mean_absolute_error: 13652.2139 - mean_squared_error: 431538624.0000 - val_loss: 738069111.2479 - val_mean_absolute_error: 15644.1553 - val_mean_squared_error: 738069120.0000\n",
      "Epoch 10/1000\n",
      "934/934 [==============================] - 0s 49us/sample - loss: 409484915.5289 - mean_absolute_error: 13656.7666 - mean_squared_error: 409484896.0000 - val_loss: 768129956.6496 - val_mean_absolute_error: 15797.4531 - val_mean_squared_error: 768130048.0000\n",
      "Epoch 11/1000\n",
      "934/934 [==============================] - 0s 51us/sample - loss: 426058051.0150 - mean_absolute_error: 14005.2324 - mean_squared_error: 426058016.0000 - val_loss: 758983730.3248 - val_mean_absolute_error: 15879.2236 - val_mean_squared_error: 758983744.0000\n",
      "Epoch 12/1000\n",
      "934/934 [==============================] - 0s 49us/sample - loss: 404423361.9529 - mean_absolute_error: 13712.9160 - mean_squared_error: 404423392.0000 - val_loss: 738353297.5043 - val_mean_absolute_error: 15995.4805 - val_mean_squared_error: 738353280.0000\n",
      "Epoch 13/1000\n",
      "934/934 [==============================] - 0s 46us/sample - loss: 399420476.0257 - mean_absolute_error: 13439.1143 - mean_squared_error: 399420448.0000 - val_loss: 799947736.7521 - val_mean_absolute_error: 17101.6172 - val_mean_squared_error: 799947648.0000\n",
      "Epoch 14/1000\n",
      "934/934 [==============================] - 0s 51us/sample - loss: 373335709.2248 - mean_absolute_error: 13172.5469 - mean_squared_error: 373335712.0000 - val_loss: 774428765.2650 - val_mean_absolute_error: 15896.5449 - val_mean_squared_error: 774428736.0000\n",
      "Epoch 15/1000\n",
      "934/934 [==============================] - 0s 50us/sample - loss: 373479644.5054 - mean_absolute_error: 13202.8525 - mean_squared_error: 373479616.0000 - val_loss: 786443867.8974 - val_mean_absolute_error: 16928.5352 - val_mean_squared_error: 786443840.0000\n",
      "Epoch 16/1000\n",
      "934/934 [==============================] - 0s 52us/sample - loss: 372640661.6531 - mean_absolute_error: 13405.7031 - mean_squared_error: 372640640.0000 - val_loss: 766002206.6325 - val_mean_absolute_error: 15772.6221 - val_mean_squared_error: 766002176.0000\n",
      "Epoch 17/1000\n",
      "934/934 [==============================] - 0s 52us/sample - loss: 373704085.4475 - mean_absolute_error: 13444.0811 - mean_squared_error: 373704128.0000 - val_loss: 823483407.0427 - val_mean_absolute_error: 16382.7949 - val_mean_squared_error: 823483456.0000\n",
      "Epoch 18/1000\n",
      "934/934 [==============================] - 0s 53us/sample - loss: 359146050.4668 - mean_absolute_error: 12952.4658 - mean_squared_error: 359146080.0000 - val_loss: 764448462.4957 - val_mean_absolute_error: 15936.3789 - val_mean_squared_error: 764448448.0000\n",
      "Epoch 19/1000\n",
      "934/934 [==============================] - 0s 50us/sample - loss: 354136929.1649 - mean_absolute_error: 12909.7402 - mean_squared_error: 354136928.0000 - val_loss: 770008880.2735 - val_mean_absolute_error: 16343.4775 - val_mean_squared_error: 770008832.0000\n",
      "Epoch 20/1000\n",
      "934/934 [==============================] - 0s 51us/sample - loss: 356474469.0707 - mean_absolute_error: 12879.5195 - mean_squared_error: 356474464.0000 - val_loss: 844395560.4786 - val_mean_absolute_error: 18370.8672 - val_mean_squared_error: 844395648.0000\n",
      "Epoch 21/1000\n",
      "934/934 [==============================] - 0s 56us/sample - loss: 369984586.8094 - mean_absolute_error: 13438.0996 - mean_squared_error: 369984608.0000 - val_loss: 782080503.2479 - val_mean_absolute_error: 16758.4023 - val_mean_squared_error: 782080512.0000\n",
      "Epoch 22/1000\n",
      "934/934 [==============================] - 0s 54us/sample - loss: 356307131.5460 - mean_absolute_error: 13079.1133 - mean_squared_error: 356307136.0000 - val_loss: 819899765.0598 - val_mean_absolute_error: 16263.5137 - val_mean_squared_error: 819899712.0000\n",
      "Epoch 23/1000\n",
      "934/934 [==============================] - 0s 49us/sample - loss: 378079924.4026 - mean_absolute_error: 13526.7656 - mean_squared_error: 378079968.0000 - val_loss: 789909102.9744 - val_mean_absolute_error: 16155.1025 - val_mean_squared_error: 789909056.0000\n",
      "Epoch 24/1000\n",
      "934/934 [==============================] - 0s 53us/sample - loss: 705951971.7687 - mean_absolute_error: 15165.3203 - mean_squared_error: 705952064.0000 - val_loss: 1125826177.0940 - val_mean_absolute_error: 17582.8320 - val_mean_squared_error: 1125826176.0000\n",
      "Epoch 25/1000\n",
      "934/934 [==============================] - 0s 69us/sample - loss: 798356893.8758 - mean_absolute_error: 16190.4453 - mean_squared_error: 798357056.0000 - val_loss: 1057099640.6154 - val_mean_absolute_error: 18886.7051 - val_mean_squared_error: 1057099648.0000\n",
      "Epoch 26/1000\n",
      "934/934 [==============================] - 0s 58us/sample - loss: 581534745.9358 - mean_absolute_error: 17437.7695 - mean_squared_error: 581534720.0000 - val_loss: 811426158.4957 - val_mean_absolute_error: 16583.0723 - val_mean_squared_error: 811426112.0000\n",
      "Epoch 27/1000\n",
      "934/934 [==============================] - 0s 74us/sample - loss: 400227208.0343 - mean_absolute_error: 13586.7520 - mean_squared_error: 400227200.0000 - val_loss: 847042716.9915 - val_mean_absolute_error: 16822.6113 - val_mean_squared_error: 847042688.0000\n",
      "Epoch 28/1000\n",
      "934/934 [==============================] - 0s 58us/sample - loss: 354694991.9058 - mean_absolute_error: 12940.8604 - mean_squared_error: 354694976.0000 - val_loss: 801533171.9658 - val_mean_absolute_error: 16537.6270 - val_mean_squared_error: 801533248.0000\n",
      "Epoch 29/1000\n",
      "934/934 [==============================] - 0s 53us/sample - loss: 343308788.7623 - mean_absolute_error: 12841.1309 - mean_squared_error: 343308800.0000 - val_loss: 825941077.0598 - val_mean_absolute_error: 16410.0586 - val_mean_squared_error: 825941120.0000\n",
      "Epoch 30/1000\n",
      "934/934 [==============================] - 0s 50us/sample - loss: 343858958.8009 - mean_absolute_error: 12886.5635 - mean_squared_error: 343858944.0000 - val_loss: 797621351.9316 - val_mean_absolute_error: 16334.9980 - val_mean_squared_error: 797621312.0000\n"
     ]
    },
    {
     "name": "stdout",
     "output_type": "stream",
     "text": [
      "Epoch 31/1000\n",
      "934/934 [==============================] - 0s 49us/sample - loss: 341108670.8351 - mean_absolute_error: 12697.9736 - mean_squared_error: 341108672.0000 - val_loss: 814557663.0427 - val_mean_absolute_error: 16455.8535 - val_mean_squared_error: 814557632.0000\n",
      "Epoch 32/1000\n",
      "934/934 [==============================] - 0s 45us/sample - loss: 348755118.9722 - mean_absolute_error: 12861.7373 - mean_squared_error: 348755136.0000 - val_loss: 787156095.9316 - val_mean_absolute_error: 16366.7119 - val_mean_squared_error: 787156032.0000\n",
      "Epoch 33/1000\n",
      "934/934 [==============================] - 0s 44us/sample - loss: 355783870.4925 - mean_absolute_error: 13320.2744 - mean_squared_error: 355783808.0000 - val_loss: 834452020.7863 - val_mean_absolute_error: 16272.4922 - val_mean_squared_error: 834452032.0000\n",
      "Epoch 34/1000\n",
      "934/934 [==============================] - 0s 44us/sample - loss: 354463609.7987 - mean_absolute_error: 13102.5918 - mean_squared_error: 354463584.0000 - val_loss: 792349210.2564 - val_mean_absolute_error: 16185.5078 - val_mean_squared_error: 792349312.0000\n",
      "Epoch 35/1000\n",
      "934/934 [==============================] - 0s 47us/sample - loss: 338149009.5418 - mean_absolute_error: 12618.1826 - mean_squared_error: 338149024.0000 - val_loss: 806924033.0940 - val_mean_absolute_error: 17090.7188 - val_mean_squared_error: 806923968.0000\n",
      "Epoch 36/1000\n",
      "934/934 [==============================] - 0s 49us/sample - loss: 343774077.5332 - mean_absolute_error: 12963.0342 - mean_squared_error: 343774080.0000 - val_loss: 829056715.4872 - val_mean_absolute_error: 17073.1309 - val_mean_squared_error: 829056768.0000\n",
      "Epoch 37/1000\n",
      "934/934 [==============================] - 0s 48us/sample - loss: 352137532.2313 - mean_absolute_error: 13026.5352 - mean_squared_error: 352137536.0000 - val_loss: 795282284.3077 - val_mean_absolute_error: 16467.7402 - val_mean_squared_error: 795282304.0000\n",
      "Epoch 38/1000\n",
      "934/934 [==============================] - 0s 51us/sample - loss: 342052686.2527 - mean_absolute_error: 12963.0928 - mean_squared_error: 342052704.0000 - val_loss: 820915371.4872 - val_mean_absolute_error: 16321.5410 - val_mean_squared_error: 820915328.0000\n",
      "Epoch 39/1000\n",
      "934/934 [==============================] - 0s 52us/sample - loss: 366917793.4732 - mean_absolute_error: 13512.9355 - mean_squared_error: 366917760.0000 - val_loss: 884576708.9231 - val_mean_absolute_error: 17195.7969 - val_mean_squared_error: 884576640.0000\n",
      "Epoch 40/1000\n",
      "934/934 [==============================] - 0s 53us/sample - loss: 343864448.1028 - mean_absolute_error: 12894.5771 - mean_squared_error: 343864416.0000 - val_loss: 853629163.7607 - val_mean_absolute_error: 16416.7520 - val_mean_squared_error: 853629184.0000\n",
      "Epoch 41/1000\n",
      "934/934 [==============================] - 0s 58us/sample - loss: 355226272.6852 - mean_absolute_error: 13492.1992 - mean_squared_error: 355226272.0000 - val_loss: 829047296.4103 - val_mean_absolute_error: 17153.8672 - val_mean_squared_error: 829047360.0000\n",
      "Epoch 42/1000\n",
      "934/934 [==============================] - 0s 49us/sample - loss: 363868946.3640 - mean_absolute_error: 13682.4785 - mean_squared_error: 363868928.0000 - val_loss: 811740204.5812 - val_mean_absolute_error: 17364.5059 - val_mean_squared_error: 811740160.0000\n",
      "Epoch 43/1000\n",
      "934/934 [==============================] - 0s 50us/sample - loss: 328606182.9208 - mean_absolute_error: 12839.8652 - mean_squared_error: 328606176.0000 - val_loss: 825937489.2308 - val_mean_absolute_error: 17587.4863 - val_mean_squared_error: 825937472.0000\n",
      "Epoch 44/1000\n",
      "934/934 [==============================] - 0s 45us/sample - loss: 329097681.6788 - mean_absolute_error: 12913.4473 - mean_squared_error: 329097696.0000 - val_loss: 916288324.3761 - val_mean_absolute_error: 19620.4082 - val_mean_squared_error: 916288320.0000\n",
      "Epoch 45/1000\n",
      "934/934 [==============================] - 0s 43us/sample - loss: 348631875.3747 - mean_absolute_error: 13216.6572 - mean_squared_error: 348631904.0000 - val_loss: 810205385.3675 - val_mean_absolute_error: 16304.2725 - val_mean_squared_error: 810205376.0000\n",
      "Epoch 46/1000\n",
      "934/934 [==============================] - 0s 44us/sample - loss: 334818997.7216 - mean_absolute_error: 12730.1074 - mean_squared_error: 334819008.0000 - val_loss: 836094141.8120 - val_mean_absolute_error: 16958.4004 - val_mean_squared_error: 836094080.0000\n",
      "Epoch 47/1000\n",
      "934/934 [==============================] - 0s 48us/sample - loss: 322580127.5203 - mean_absolute_error: 12544.4990 - mean_squared_error: 322580064.0000 - val_loss: 812689729.0940 - val_mean_absolute_error: 16677.8984 - val_mean_squared_error: 812689664.0000\n",
      "Epoch 48/1000\n",
      "934/934 [==============================] - 0s 43us/sample - loss: 320883948.5396 - mean_absolute_error: 12543.8027 - mean_squared_error: 320883968.0000 - val_loss: 848798479.3162 - val_mean_absolute_error: 17332.6035 - val_mean_squared_error: 848798464.0000\n",
      "Epoch 49/1000\n",
      "934/934 [==============================] - 0s 44us/sample - loss: 338959547.7345 - mean_absolute_error: 12870.5264 - mean_squared_error: 338959552.0000 - val_loss: 825502547.1453 - val_mean_absolute_error: 16753.6309 - val_mean_squared_error: 825502592.0000\n",
      "Epoch 50/1000\n",
      "934/934 [==============================] - 0s 45us/sample - loss: 322912737.8501 - mean_absolute_error: 12608.8047 - mean_squared_error: 322912704.0000 - val_loss: 846373535.4530 - val_mean_absolute_error: 16959.9121 - val_mean_squared_error: 846373568.0000\n",
      "Epoch 51/1000\n",
      "934/934 [==============================] - 0s 44us/sample - loss: 332470716.8480 - mean_absolute_error: 12525.8965 - mean_squared_error: 332470720.0000 - val_loss: 867577475.0085 - val_mean_absolute_error: 16612.3379 - val_mean_squared_error: 867577472.0000\n",
      "Epoch 52/1000\n",
      "934/934 [==============================] - 0s 44us/sample - loss: 410627300.0428 - mean_absolute_error: 13286.0859 - mean_squared_error: 410627328.0000 - val_loss: 1212781578.9402 - val_mean_absolute_error: 22113.7148 - val_mean_squared_error: 1212781440.0000\n",
      "Epoch 53/1000\n",
      "934/934 [==============================] - 0s 47us/sample - loss: 2534129631.6916 - mean_absolute_error: 29934.1621 - mean_squared_error: 2534129408.0000 - val_loss: 2969802801.2308 - val_mean_absolute_error: 27906.2148 - val_mean_squared_error: 2969802752.0000\n",
      "Epoch 54/1000\n",
      "934/934 [==============================] - 0s 46us/sample - loss: 1354793729.7816 - mean_absolute_error: 21085.6758 - mean_squared_error: 1354793856.0000 - val_loss: 1420737603.5556 - val_mean_absolute_error: 22548.6777 - val_mean_squared_error: 1420737408.0000\n",
      "Epoch 55/1000\n",
      "934/934 [==============================] - 0s 47us/sample - loss: 461056311.6574 - mean_absolute_error: 14591.7158 - mean_squared_error: 461056256.0000 - val_loss: 926693696.6838 - val_mean_absolute_error: 17111.6934 - val_mean_squared_error: 926693632.0000\n",
      "Epoch 56/1000\n",
      "934/934 [==============================] - 0s 50us/sample - loss: 396491657.8330 - mean_absolute_error: 13673.9893 - mean_squared_error: 396491616.0000 - val_loss: 825903632.4103 - val_mean_absolute_error: 16501.8086 - val_mean_squared_error: 825903552.0000\n",
      "Epoch 57/1000\n",
      "934/934 [==============================] - 0s 47us/sample - loss: 343138726.3726 - mean_absolute_error: 12684.8086 - mean_squared_error: 343138720.0000 - val_loss: 842562591.7265 - val_mean_absolute_error: 16680.4219 - val_mean_squared_error: 842562624.0000\n",
      "Epoch 58/1000\n",
      "934/934 [==============================] - 0s 48us/sample - loss: 328135176.4283 - mean_absolute_error: 12771.1572 - mean_squared_error: 328135200.0000 - val_loss: 865480472.0684 - val_mean_absolute_error: 17487.1602 - val_mean_squared_error: 865480448.0000\n",
      "Epoch 59/1000\n",
      "934/934 [==============================] - 0s 52us/sample - loss: 379895370.4839 - mean_absolute_error: 13227.1094 - mean_squared_error: 379895360.0000 - val_loss: 769045639.1111 - val_mean_absolute_error: 16010.4883 - val_mean_squared_error: 769045568.0000\n",
      "Epoch 60/1000\n",
      "934/934 [==============================] - 0s 52us/sample - loss: 540727007.4518 - mean_absolute_error: 14117.5859 - mean_squared_error: 540727040.0000 - val_loss: 875518132.3761 - val_mean_absolute_error: 16755.5977 - val_mean_squared_error: 875518080.0000\n",
      "Epoch 61/1000\n",
      "934/934 [==============================] - 0s 48us/sample - loss: 354870762.8951 - mean_absolute_error: 12664.2891 - mean_squared_error: 354870784.0000 - val_loss: 837260850.0513 - val_mean_absolute_error: 16689.4121 - val_mean_squared_error: 837260928.0000\n",
      "Epoch 62/1000\n",
      "934/934 [==============================] - 0s 46us/sample - loss: 320096937.9358 - mean_absolute_error: 12386.8984 - mean_squared_error: 320096864.0000 - val_loss: 804299514.5299 - val_mean_absolute_error: 16618.5977 - val_mean_squared_error: 804299520.0000\n",
      "Epoch 63/1000\n",
      "934/934 [==============================] - 0s 47us/sample - loss: 317266305.4390 - mean_absolute_error: 12319.8447 - mean_squared_error: 317266304.0000 - val_loss: 830028867.8291 - val_mean_absolute_error: 17129.5508 - val_mean_squared_error: 830028928.0000\n",
      "Epoch 64/1000\n",
      "934/934 [==============================] - 0s 48us/sample - loss: 317733082.8308 - mean_absolute_error: 12435.9014 - mean_squared_error: 317733088.0000 - val_loss: 843529235.6923 - val_mean_absolute_error: 17165.5137 - val_mean_squared_error: 843529280.0000\n",
      "Epoch 65/1000\n",
      "934/934 [==============================] - 0s 48us/sample - loss: 318603029.2077 - mean_absolute_error: 12571.7686 - mean_squared_error: 318603008.0000 - val_loss: 809463532.8547 - val_mean_absolute_error: 16549.7734 - val_mean_squared_error: 809463488.0000\n",
      "Epoch 66/1000\n",
      "934/934 [==============================] - 0s 45us/sample - loss: 333697834.0043 - mean_absolute_error: 12853.3359 - mean_squared_error: 333697888.0000 - val_loss: 828533744.9573 - val_mean_absolute_error: 16836.7578 - val_mean_squared_error: 828533760.0000\n",
      "Epoch 67/1000\n",
      "934/934 [==============================] - 0s 45us/sample - loss: 318733438.9379 - mean_absolute_error: 12628.1738 - mean_squared_error: 318733472.0000 - val_loss: 803907831.7949 - val_mean_absolute_error: 17414.5391 - val_mean_squared_error: 803907776.0000\n",
      "Epoch 68/1000\n",
      "934/934 [==============================] - 0s 45us/sample - loss: 328777838.7666 - mean_absolute_error: 12629.6182 - mean_squared_error: 328777856.0000 - val_loss: 838395858.3248 - val_mean_absolute_error: 17678.0039 - val_mean_squared_error: 838395840.0000\n",
      "Epoch 69/1000\n",
      "934/934 [==============================] - 0s 51us/sample - loss: 316925139.8715 - mean_absolute_error: 12559.6299 - mean_squared_error: 316925152.0000 - val_loss: 815215650.9402 - val_mean_absolute_error: 16613.3027 - val_mean_squared_error: 815215680.0000\n",
      "Epoch 70/1000\n",
      "934/934 [==============================] - 0s 49us/sample - loss: 345556789.6188 - mean_absolute_error: 13139.9395 - mean_squared_error: 345556800.0000 - val_loss: 848870787.8291 - val_mean_absolute_error: 16658.8262 - val_mean_squared_error: 848870720.0000\n",
      "Epoch 71/1000\n",
      "934/934 [==============================] - 0s 49us/sample - loss: 343997419.1692 - mean_absolute_error: 12961.3398 - mean_squared_error: 343997440.0000 - val_loss: 990002721.9145 - val_mean_absolute_error: 18370.6426 - val_mean_squared_error: 990002688.0000\n",
      "Epoch 72/1000\n",
      "934/934 [==============================] - 0s 46us/sample - loss: 336397046.3041 - mean_absolute_error: 12883.7354 - mean_squared_error: 336397056.0000 - val_loss: 863530847.7265 - val_mean_absolute_error: 17259.1582 - val_mean_squared_error: 863530816.0000\n",
      "Epoch 73/1000\n",
      "934/934 [==============================] - 0s 50us/sample - loss: 348779999.1092 - mean_absolute_error: 13162.9658 - mean_squared_error: 348779968.0000 - val_loss: 1005862932.7863 - val_mean_absolute_error: 20825.5020 - val_mean_squared_error: 1005862976.0000\n",
      "Epoch 74/1000\n",
      "934/934 [==============================] - 0s 45us/sample - loss: 369189893.5846 - mean_absolute_error: 13629.3691 - mean_squared_error: 369189888.0000 - val_loss: 964978277.7436 - val_mean_absolute_error: 18928.7461 - val_mean_squared_error: 964978304.0000\n",
      "Epoch 75/1000\n",
      "934/934 [==============================] - 0s 44us/sample - loss: 330354545.8501 - mean_absolute_error: 12967.6562 - mean_squared_error: 330354528.0000 - val_loss: 833006134.4274 - val_mean_absolute_error: 17086.1367 - val_mean_squared_error: 833006080.0000\n",
      "Epoch 76/1000\n",
      "934/934 [==============================] - 0s 45us/sample - loss: 311150391.4347 - mean_absolute_error: 12334.3604 - mean_squared_error: 311150400.0000 - val_loss: 853599669.6068 - val_mean_absolute_error: 16758.2500 - val_mean_squared_error: 853599680.0000\n",
      "Epoch 77/1000\n",
      "934/934 [==============================] - 0s 45us/sample - loss: 300706504.7366 - mean_absolute_error: 12215.7510 - mean_squared_error: 300706496.0000 - val_loss: 833348913.2308 - val_mean_absolute_error: 17031.3691 - val_mean_squared_error: 833348928.0000\n",
      "Epoch 78/1000\n",
      "934/934 [==============================] - 0s 45us/sample - loss: 307252384.6167 - mean_absolute_error: 12337.3271 - mean_squared_error: 307252384.0000 - val_loss: 813600307.4188 - val_mean_absolute_error: 16742.8613 - val_mean_squared_error: 813600256.0000\n",
      "Epoch 79/1000\n",
      "934/934 [==============================] - 0s 45us/sample - loss: 299253494.6809 - mean_absolute_error: 12106.8330 - mean_squared_error: 299253504.0000 - val_loss: 815112525.6752 - val_mean_absolute_error: 16643.6348 - val_mean_squared_error: 815112512.0000\n",
      "Epoch 80/1000\n",
      "934/934 [==============================] - 0s 45us/sample - loss: 303487100.8651 - mean_absolute_error: 12287.9912 - mean_squared_error: 303487136.0000 - val_loss: 866879845.8803 - val_mean_absolute_error: 16662.3594 - val_mean_squared_error: 866879808.0000\n",
      "Epoch 81/1000\n",
      "934/934 [==============================] - 0s 44us/sample - loss: 308176921.4047 - mean_absolute_error: 12377.3115 - mean_squared_error: 308176960.0000 - val_loss: 828406503.6581 - val_mean_absolute_error: 16803.6387 - val_mean_squared_error: 828406464.0000\n",
      "Epoch 82/1000\n",
      "934/934 [==============================] - 0s 45us/sample - loss: 311358550.2013 - mean_absolute_error: 12517.2471 - mean_squared_error: 311358560.0000 - val_loss: 889904539.8974 - val_mean_absolute_error: 17959.8906 - val_mean_squared_error: 889904576.0000\n",
      "Epoch 83/1000\n",
      "934/934 [==============================] - 0s 46us/sample - loss: 305819284.8308 - mean_absolute_error: 12212.3926 - mean_squared_error: 305819296.0000 - val_loss: 864582001.7778 - val_mean_absolute_error: 16559.9180 - val_mean_squared_error: 864582080.0000\n",
      "Epoch 84/1000\n",
      "934/934 [==============================] - 0s 45us/sample - loss: 307047034.8266 - mean_absolute_error: 12311.6357 - mean_squared_error: 307047008.0000 - val_loss: 821582422.9744 - val_mean_absolute_error: 16749.9102 - val_mean_squared_error: 821582464.0000\n",
      "Epoch 85/1000\n",
      "934/934 [==============================] - 0s 45us/sample - loss: 313322069.7302 - mean_absolute_error: 12364.0459 - mean_squared_error: 313322080.0000 - val_loss: 808003803.0769 - val_mean_absolute_error: 16475.4727 - val_mean_squared_error: 808003776.0000\n",
      "Epoch 86/1000\n",
      "934/934 [==============================] - 0s 48us/sample - loss: 295263391.4518 - mean_absolute_error: 12152.9580 - mean_squared_error: 295263392.0000 - val_loss: 824260574.0855 - val_mean_absolute_error: 16509.0020 - val_mean_squared_error: 824260544.0000\n",
      "Epoch 87/1000\n",
      "934/934 [==============================] - 0s 48us/sample - loss: 308148062.8351 - mean_absolute_error: 12413.1445 - mean_squared_error: 308148032.0000 - val_loss: 896119184.6838 - val_mean_absolute_error: 16809.9531 - val_mean_squared_error: 896119232.0000\n",
      "Epoch 88/1000\n",
      "934/934 [==============================] - 0s 49us/sample - loss: 315908434.3298 - mean_absolute_error: 12209.0195 - mean_squared_error: 315908480.0000 - val_loss: 867750106.8034 - val_mean_absolute_error: 16998.7578 - val_mean_squared_error: 867750144.0000\n",
      "Epoch 89/1000\n",
      "934/934 [==============================] - 0s 46us/sample - loss: 314719352.5996 - mean_absolute_error: 12510.3867 - mean_squared_error: 314719328.0000 - val_loss: 824611359.1795 - val_mean_absolute_error: 16625.0684 - val_mean_squared_error: 824611328.0000\n",
      "Epoch 90/1000\n",
      "934/934 [==============================] - 0s 48us/sample - loss: 313302627.2548 - mean_absolute_error: 12688.3711 - mean_squared_error: 313302624.0000 - val_loss: 867003702.1538 - val_mean_absolute_error: 17032.4395 - val_mean_squared_error: 867003712.0000\n",
      "Epoch 91/1000\n"
     ]
    },
    {
     "name": "stdout",
     "output_type": "stream",
     "text": [
      "934/934 [==============================] - 0s 51us/sample - loss: 303849716.1799 - mean_absolute_error: 12204.2842 - mean_squared_error: 303849728.0000 - val_loss: 867563200.4103 - val_mean_absolute_error: 16527.5820 - val_mean_squared_error: 867563200.0000\n",
      "Epoch 92/1000\n",
      "934/934 [==============================] - 0s 44us/sample - loss: 343725119.3833 - mean_absolute_error: 12792.1074 - mean_squared_error: 343725184.0000 - val_loss: 882978044.1709 - val_mean_absolute_error: 16847.7305 - val_mean_squared_error: 882977984.0000\n",
      "Epoch 93/1000\n",
      "934/934 [==============================] - 0s 49us/sample - loss: 298305004.9507 - mean_absolute_error: 12162.0283 - mean_squared_error: 298304992.0000 - val_loss: 881766599.1111 - val_mean_absolute_error: 16916.1289 - val_mean_squared_error: 881766656.0000\n",
      "Epoch 94/1000\n",
      "934/934 [==============================] - 0s 49us/sample - loss: 291795234.7409 - mean_absolute_error: 12001.5703 - mean_squared_error: 291795200.0000 - val_loss: 819517360.4103 - val_mean_absolute_error: 16408.6738 - val_mean_squared_error: 819517376.0000\n",
      "Epoch 95/1000\n",
      "934/934 [==============================] - 0s 48us/sample - loss: 327936583.8801 - mean_absolute_error: 12669.9033 - mean_squared_error: 327936608.0000 - val_loss: 786602406.2906 - val_mean_absolute_error: 16107.7412 - val_mean_squared_error: 786602432.0000\n",
      "Epoch 96/1000\n",
      "934/934 [==============================] - 0s 44us/sample - loss: 315588836.0428 - mean_absolute_error: 12473.7031 - mean_squared_error: 315588768.0000 - val_loss: 856489261.9487 - val_mean_absolute_error: 17456.9590 - val_mean_squared_error: 856489280.0000\n",
      "Epoch 97/1000\n",
      "934/934 [==============================] - 0s 44us/sample - loss: 339618375.6660 - mean_absolute_error: 13205.8809 - mean_squared_error: 339618336.0000 - val_loss: 846100978.8718 - val_mean_absolute_error: 16518.6973 - val_mean_squared_error: 846100928.0000\n",
      "Epoch 98/1000\n",
      "934/934 [==============================] - 0s 44us/sample - loss: 300316683.8201 - mean_absolute_error: 12289.9971 - mean_squared_error: 300316672.0000 - val_loss: 850569310.6325 - val_mean_absolute_error: 17267.2129 - val_mean_squared_error: 850569280.0000\n",
      "Epoch 99/1000\n",
      "934/934 [==============================] - 0s 41us/sample - loss: 306705822.0128 - mean_absolute_error: 12323.0938 - mean_squared_error: 306705824.0000 - val_loss: 868383040.0000 - val_mean_absolute_error: 16519.8789 - val_mean_squared_error: 868382976.0000\n",
      "Epoch 100/1000\n",
      "934/934 [==============================] - 0s 44us/sample - loss: 434594068.8994 - mean_absolute_error: 14207.4951 - mean_squared_error: 434594016.0000 - val_loss: 943371754.1197 - val_mean_absolute_error: 18413.2930 - val_mean_squared_error: 943371776.0000\n",
      "Epoch 101/1000\n",
      "934/934 [==============================] - 0s 44us/sample - loss: 448290278.4069 - mean_absolute_error: 13988.2109 - mean_squared_error: 448290272.0000 - val_loss: 865636736.5470 - val_mean_absolute_error: 17679.0664 - val_mean_squared_error: 865636736.0000\n",
      "Epoch 102/1000\n",
      "934/934 [==============================] - 0s 45us/sample - loss: 313941481.2505 - mean_absolute_error: 12649.9424 - mean_squared_error: 313941472.0000 - val_loss: 816104822.9744 - val_mean_absolute_error: 16482.7363 - val_mean_squared_error: 816104832.0000\n",
      "Epoch 103/1000\n",
      "934/934 [==============================] - 0s 45us/sample - loss: 314757934.8694 - mean_absolute_error: 12605.4512 - mean_squared_error: 314757920.0000 - val_loss: 836818819.2821 - val_mean_absolute_error: 16361.7539 - val_mean_squared_error: 836818880.0000\n",
      "Epoch 104/1000\n",
      "934/934 [==============================] - 0s 46us/sample - loss: 323839320.8051 - mean_absolute_error: 12823.2197 - mean_squared_error: 323839296.0000 - val_loss: 841985446.8376 - val_mean_absolute_error: 16390.3594 - val_mean_squared_error: 841985472.0000\n",
      "Epoch 105/1000\n",
      "934/934 [==============================] - 0s 43us/sample - loss: 297903574.7495 - mean_absolute_error: 12034.9512 - mean_squared_error: 297903616.0000 - val_loss: 878086717.8120 - val_mean_absolute_error: 17225.3125 - val_mean_squared_error: 878086656.0000\n",
      "Epoch 106/1000\n",
      "934/934 [==============================] - 0s 44us/sample - loss: 308340347.1692 - mean_absolute_error: 12245.9971 - mean_squared_error: 308340320.0000 - val_loss: 892503227.3504 - val_mean_absolute_error: 16623.3086 - val_mean_squared_error: 892503296.0000\n",
      "Epoch 107/1000\n",
      "934/934 [==============================] - 0s 47us/sample - loss: 367282971.8544 - mean_absolute_error: 13134.0869 - mean_squared_error: 367282912.0000 - val_loss: 781066004.7863 - val_mean_absolute_error: 16415.8223 - val_mean_squared_error: 781065984.0000\n",
      "Epoch 108/1000\n",
      "934/934 [==============================] - 0s 50us/sample - loss: 357512323.6317 - mean_absolute_error: 12678.1592 - mean_squared_error: 357512320.0000 - val_loss: 973427959.2479 - val_mean_absolute_error: 19364.2051 - val_mean_squared_error: 973428032.0000\n",
      "Epoch 109/1000\n",
      "934/934 [==============================] - 0s 46us/sample - loss: 344652940.4368 - mean_absolute_error: 13342.8916 - mean_squared_error: 344652960.0000 - val_loss: 886823498.5299 - val_mean_absolute_error: 16694.3945 - val_mean_squared_error: 886823552.0000\n",
      "Epoch 110/1000\n",
      "934/934 [==============================] - 0s 46us/sample - loss: 291894676.2998 - mean_absolute_error: 12126.9795 - mean_squared_error: 291894656.0000 - val_loss: 867538088.6154 - val_mean_absolute_error: 16624.8379 - val_mean_squared_error: 867538112.0000\n",
      "Epoch 111/1000\n",
      "934/934 [==============================] - 0s 47us/sample - loss: 293185030.3041 - mean_absolute_error: 12133.6377 - mean_squared_error: 293184992.0000 - val_loss: 900713453.1282 - val_mean_absolute_error: 16634.9844 - val_mean_squared_error: 900713472.0000\n",
      "Epoch 112/1000\n",
      "934/934 [==============================] - 0s 48us/sample - loss: 348884662.8180 - mean_absolute_error: 13220.0674 - mean_squared_error: 348884672.0000 - val_loss: 1088504917.3333 - val_mean_absolute_error: 20243.0352 - val_mean_squared_error: 1088504960.0000\n",
      "Epoch 113/1000\n",
      "934/934 [==============================] - 0s 93us/sample - loss: 325082719.3833 - mean_absolute_error: 13077.5352 - mean_squared_error: 325082720.0000 - val_loss: 866681593.4359 - val_mean_absolute_error: 16984.7773 - val_mean_squared_error: 866681600.0000\n",
      "Epoch 114/1000\n",
      "934/934 [==============================] - 0s 59us/sample - loss: 284388979.1520 - mean_absolute_error: 11907.7334 - mean_squared_error: 284388960.0000 - val_loss: 832209765.1966 - val_mean_absolute_error: 16187.4629 - val_mean_squared_error: 832209792.0000\n",
      "Epoch 115/1000\n",
      "934/934 [==============================] - 0s 54us/sample - loss: 313264938.4154 - mean_absolute_error: 12433.1465 - mean_squared_error: 313264928.0000 - val_loss: 879374894.4957 - val_mean_absolute_error: 16643.5312 - val_mean_squared_error: 879374912.0000\n",
      "Epoch 116/1000\n",
      "934/934 [==============================] - 0s 47us/sample - loss: 322329909.8929 - mean_absolute_error: 12800.4521 - mean_squared_error: 322329920.0000 - val_loss: 1023659588.3761 - val_mean_absolute_error: 18050.6074 - val_mean_squared_error: 1023659584.0000\n",
      "Epoch 117/1000\n",
      "934/934 [==============================] - 0s 49us/sample - loss: 315701204.5225 - mean_absolute_error: 12582.1787 - mean_squared_error: 315701152.0000 - val_loss: 847539024.9573 - val_mean_absolute_error: 16874.1328 - val_mean_squared_error: 847539072.0000\n",
      "Epoch 118/1000\n",
      "934/934 [==============================] - 0s 49us/sample - loss: 283780894.5610 - mean_absolute_error: 11928.9873 - mean_squared_error: 283780864.0000 - val_loss: 872985652.5128 - val_mean_absolute_error: 16605.8008 - val_mean_squared_error: 872985728.0000\n",
      "Epoch 119/1000\n",
      "934/934 [==============================] - 0s 45us/sample - loss: 303722301.0193 - mean_absolute_error: 12529.3574 - mean_squared_error: 303722304.0000 - val_loss: 895856295.5214 - val_mean_absolute_error: 17020.3457 - val_mean_squared_error: 895856256.0000\n",
      "Epoch 120/1000\n",
      "934/934 [==============================] - 0s 46us/sample - loss: 295245161.7302 - mean_absolute_error: 12180.6973 - mean_squared_error: 295245184.0000 - val_loss: 914734168.0684 - val_mean_absolute_error: 16810.7871 - val_mean_squared_error: 914734144.0000\n",
      "Epoch 121/1000\n",
      "934/934 [==============================] - 0s 46us/sample - loss: 290602864.9251 - mean_absolute_error: 12213.3867 - mean_squared_error: 290602880.0000 - val_loss: 870896902.5641 - val_mean_absolute_error: 16913.1836 - val_mean_squared_error: 870896896.0000\n",
      "Epoch 122/1000\n",
      "934/934 [==============================] - 0s 44us/sample - loss: 352688693.2420 - mean_absolute_error: 13259.7617 - mean_squared_error: 352688736.0000 - val_loss: 917249024.9573 - val_mean_absolute_error: 16817.2129 - val_mean_squared_error: 917249024.0000\n",
      "Epoch 123/1000\n",
      "934/934 [==============================] - 0s 43us/sample - loss: 298652926.4240 - mean_absolute_error: 12436.1455 - mean_squared_error: 298652928.0000 - val_loss: 860516455.7949 - val_mean_absolute_error: 16994.7383 - val_mean_squared_error: 860516416.0000\n",
      "Epoch 124/1000\n",
      "934/934 [==============================] - 0s 44us/sample - loss: 283140685.7216 - mean_absolute_error: 11953.4990 - mean_squared_error: 283140704.0000 - val_loss: 866577845.8803 - val_mean_absolute_error: 16413.3105 - val_mean_squared_error: 866577856.0000\n",
      "Epoch 125/1000\n",
      "934/934 [==============================] - 0s 45us/sample - loss: 338061879.3662 - mean_absolute_error: 12865.5469 - mean_squared_error: 338061856.0000 - val_loss: 855461697.0940 - val_mean_absolute_error: 16379.0957 - val_mean_squared_error: 855461696.0000\n",
      "Epoch 126/1000\n",
      "934/934 [==============================] - 0s 44us/sample - loss: 338376774.7152 - mean_absolute_error: 12644.1045 - mean_squared_error: 338376800.0000 - val_loss: 889345468.1709 - val_mean_absolute_error: 17720.7793 - val_mean_squared_error: 889345536.0000\n",
      "Epoch 127/1000\n",
      "934/934 [==============================] - 0s 45us/sample - loss: 304330713.5931 - mean_absolute_error: 12265.9648 - mean_squared_error: 304330688.0000 - val_loss: 868987240.7521 - val_mean_absolute_error: 16647.1914 - val_mean_squared_error: 868987136.0000\n",
      "Epoch 128/1000\n",
      "934/934 [==============================] - 0s 44us/sample - loss: 307158976.3769 - mean_absolute_error: 12366.6016 - mean_squared_error: 307159008.0000 - val_loss: 990709586.8718 - val_mean_absolute_error: 17508.3789 - val_mean_squared_error: 990709632.0000\n",
      "Epoch 129/1000\n",
      "934/934 [==============================] - 0s 44us/sample - loss: 330242205.6017 - mean_absolute_error: 12973.2012 - mean_squared_error: 330242208.0000 - val_loss: 949178679.7949 - val_mean_absolute_error: 19029.7500 - val_mean_squared_error: 949178688.0000\n",
      "Epoch 130/1000\n",
      "934/934 [==============================] - 0s 50us/sample - loss: 4358122350.2527 - mean_absolute_error: 29052.0957 - mean_squared_error: 4358122496.0000 - val_loss: 1575470584.6154 - val_mean_absolute_error: 23386.2637 - val_mean_squared_error: 1575470720.0000\n",
      "Epoch 131/1000\n",
      "934/934 [==============================] - 0s 48us/sample - loss: 2764347256.5996 - mean_absolute_error: 24127.2441 - mean_squared_error: 2764347136.0000 - val_loss: 1220095249.5043 - val_mean_absolute_error: 21047.9277 - val_mean_squared_error: 1220095232.0000\n",
      "Epoch 132/1000\n",
      "934/934 [==============================] - 0s 48us/sample - loss: 753441047.5032 - mean_absolute_error: 17182.2070 - mean_squared_error: 753441024.0000 - val_loss: 1229645767.1111 - val_mean_absolute_error: 18697.8184 - val_mean_squared_error: 1229645696.0000\n",
      "Epoch 133/1000\n",
      "934/934 [==============================] - 0s 46us/sample - loss: 553497936.5824 - mean_absolute_error: 13799.2979 - mean_squared_error: 553497920.0000 - val_loss: 991640916.3761 - val_mean_absolute_error: 17928.0879 - val_mean_squared_error: 991640896.0000\n",
      "Epoch 134/1000\n",
      "934/934 [==============================] - 0s 47us/sample - loss: 340482758.9722 - mean_absolute_error: 12904.4326 - mean_squared_error: 340482784.0000 - val_loss: 908346523.1453 - val_mean_absolute_error: 17579.4219 - val_mean_squared_error: 908346560.0000\n",
      "Epoch 135/1000\n",
      "934/934 [==============================] - 0s 47us/sample - loss: 324531212.4711 - mean_absolute_error: 12731.6455 - mean_squared_error: 324531232.0000 - val_loss: 894367663.0427 - val_mean_absolute_error: 17150.0918 - val_mean_squared_error: 894367616.0000\n",
      "Epoch 136/1000\n",
      "934/934 [==============================] - 0s 48us/sample - loss: 315838985.9700 - mean_absolute_error: 12623.4688 - mean_squared_error: 315839008.0000 - val_loss: 860494808.0684 - val_mean_absolute_error: 16908.1758 - val_mean_squared_error: 860494848.0000\n",
      "Epoch 137/1000\n",
      "934/934 [==============================] - 0s 49us/sample - loss: 288602762.2099 - mean_absolute_error: 11939.0303 - mean_squared_error: 288602752.0000 - val_loss: 885576964.6496 - val_mean_absolute_error: 16873.2637 - val_mean_squared_error: 885576960.0000\n",
      "Epoch 138/1000\n",
      "934/934 [==============================] - 0s 50us/sample - loss: 283721307.3405 - mean_absolute_error: 11940.0137 - mean_squared_error: 283721280.0000 - val_loss: 850452865.3675 - val_mean_absolute_error: 16923.1797 - val_mean_squared_error: 850452928.0000\n",
      "Epoch 139/1000\n",
      "934/934 [==============================] - 0s 49us/sample - loss: 304070065.5760 - mean_absolute_error: 12311.3623 - mean_squared_error: 304070080.0000 - val_loss: 889611484.1709 - val_mean_absolute_error: 17377.9844 - val_mean_squared_error: 889611520.0000\n",
      "Epoch 140/1000\n",
      "934/934 [==============================] - 0s 44us/sample - loss: 290512569.9700 - mean_absolute_error: 11966.5957 - mean_squared_error: 290512544.0000 - val_loss: 851881752.0000 - val_mean_absolute_error: 16469.9473 - val_mean_squared_error: 851881792.0000\n",
      "Epoch 141/1000\n",
      "934/934 [==============================] - 0s 45us/sample - loss: 315705835.2377 - mean_absolute_error: 12749.3779 - mean_squared_error: 315705824.0000 - val_loss: 850030738.3248 - val_mean_absolute_error: 17033.3086 - val_mean_squared_error: 850030784.0000\n",
      "Epoch 142/1000\n",
      "934/934 [==============================] - 0s 43us/sample - loss: 280214442.7580 - mean_absolute_error: 11971.5107 - mean_squared_error: 280214432.0000 - val_loss: 861133813.8803 - val_mean_absolute_error: 16541.5488 - val_mean_squared_error: 861133824.0000\n",
      "Epoch 143/1000\n",
      "934/934 [==============================] - 0s 49us/sample - loss: 302356307.8887 - mean_absolute_error: 12204.7305 - mean_squared_error: 302356320.0000 - val_loss: 911485480.4786 - val_mean_absolute_error: 17075.6387 - val_mean_squared_error: 911485568.0000\n",
      "Epoch 144/1000\n",
      "934/934 [==============================] - 0s 51us/sample - loss: 293685481.7987 - mean_absolute_error: 12311.6699 - mean_squared_error: 293685472.0000 - val_loss: 866727155.4188 - val_mean_absolute_error: 17029.3945 - val_mean_squared_error: 866727168.0000\n",
      "Epoch 145/1000\n",
      "934/934 [==============================] - 0s 49us/sample - loss: 340078670.3212 - mean_absolute_error: 13433.7061 - mean_squared_error: 340078656.0000 - val_loss: 872278711.7949 - val_mean_absolute_error: 17729.2715 - val_mean_squared_error: 872278720.0000\n",
      "Epoch 146/1000\n",
      "934/934 [==============================] - 0s 50us/sample - loss: 287351064.1199 - mean_absolute_error: 12105.6787 - mean_squared_error: 287351072.0000 - val_loss: 866028642.7350 - val_mean_absolute_error: 16561.8828 - val_mean_squared_error: 866028544.0000\n",
      "Epoch 147/1000\n",
      "934/934 [==============================] - 0s 47us/sample - loss: 289772860.0600 - mean_absolute_error: 12114.1670 - mean_squared_error: 289772864.0000 - val_loss: 845890423.7949 - val_mean_absolute_error: 16719.7910 - val_mean_squared_error: 845890432.0000\n",
      "Epoch 148/1000\n",
      "934/934 [==============================] - 0s 48us/sample - loss: 282769951.6574 - mean_absolute_error: 12063.5469 - mean_squared_error: 282769952.0000 - val_loss: 881616677.4701 - val_mean_absolute_error: 16817.2773 - val_mean_squared_error: 881616768.0000\n",
      "Epoch 149/1000\n",
      "934/934 [==============================] - 0s 42us/sample - loss: 274338119.5118 - mean_absolute_error: 11747.2178 - mean_squared_error: 274338112.0000 - val_loss: 859339795.5556 - val_mean_absolute_error: 16910.9375 - val_mean_squared_error: 859339904.0000\n",
      "Epoch 150/1000\n",
      "934/934 [==============================] - 0s 46us/sample - loss: 276636563.1863 - mean_absolute_error: 11808.8145 - mean_squared_error: 276636576.0000 - val_loss: 831851803.0769 - val_mean_absolute_error: 16701.7793 - val_mean_squared_error: 831851904.0000\n",
      "Epoch 151/1000\n"
     ]
    },
    {
     "name": "stdout",
     "output_type": "stream",
     "text": [
      "934/934 [==============================] - 0s 46us/sample - loss: 277691699.9058 - mean_absolute_error: 11905.1680 - mean_squared_error: 277691712.0000 - val_loss: 861779784.4786 - val_mean_absolute_error: 16710.0801 - val_mean_squared_error: 861779840.0000\n",
      "Epoch 152/1000\n",
      "934/934 [==============================] - 0s 44us/sample - loss: 270716209.1649 - mean_absolute_error: 11603.0264 - mean_squared_error: 270716224.0000 - val_loss: 848329148.9915 - val_mean_absolute_error: 16487.8535 - val_mean_squared_error: 848329152.0000\n",
      "Epoch 153/1000\n",
      "934/934 [==============================] - 0s 42us/sample - loss: 269424026.5867 - mean_absolute_error: 11624.0068 - mean_squared_error: 269424032.0000 - val_loss: 858462435.8291 - val_mean_absolute_error: 16678.4785 - val_mean_squared_error: 858462464.0000\n",
      "Epoch 154/1000\n",
      "934/934 [==============================] - 0s 45us/sample - loss: 269773798.5439 - mean_absolute_error: 11693.3730 - mean_squared_error: 269773824.0000 - val_loss: 860361248.8205 - val_mean_absolute_error: 16388.5293 - val_mean_squared_error: 860361216.0000\n",
      "Epoch 155/1000\n",
      "934/934 [==============================] - 0s 46us/sample - loss: 274798336.7966 - mean_absolute_error: 11701.9824 - mean_squared_error: 274798368.0000 - val_loss: 864506160.1368 - val_mean_absolute_error: 16489.4141 - val_mean_squared_error: 864506176.0000\n",
      "Epoch 156/1000\n",
      "934/934 [==============================] - 0s 44us/sample - loss: 274035290.0300 - mean_absolute_error: 11697.7217 - mean_squared_error: 274035264.0000 - val_loss: 872270682.2564 - val_mean_absolute_error: 16492.7129 - val_mean_squared_error: 872270720.0000\n",
      "Epoch 157/1000\n",
      "934/934 [==============================] - 0s 44us/sample - loss: 267371989.3619 - mean_absolute_error: 11587.4766 - mean_squared_error: 267371936.0000 - val_loss: 877882788.1026 - val_mean_absolute_error: 17093.1523 - val_mean_squared_error: 877882816.0000\n",
      "Epoch 158/1000\n",
      "934/934 [==============================] - 0s 43us/sample - loss: 274434011.9229 - mean_absolute_error: 11855.9219 - mean_squared_error: 274434048.0000 - val_loss: 847654665.0256 - val_mean_absolute_error: 16900.7090 - val_mean_squared_error: 847654720.0000\n",
      "Epoch 159/1000\n",
      "934/934 [==============================] - 0s 44us/sample - loss: 273558156.5139 - mean_absolute_error: 11889.4150 - mean_squared_error: 273558144.0000 - val_loss: 852725240.3419 - val_mean_absolute_error: 16707.0859 - val_mean_squared_error: 852725248.0000\n",
      "Epoch 160/1000\n",
      "934/934 [==============================] - 0s 47us/sample - loss: 282379752.3597 - mean_absolute_error: 12122.9619 - mean_squared_error: 282379776.0000 - val_loss: 860029066.1197 - val_mean_absolute_error: 16494.1426 - val_mean_squared_error: 860029056.0000\n",
      "Epoch 161/1000\n",
      "934/934 [==============================] - 0s 48us/sample - loss: 315959129.6188 - mean_absolute_error: 12871.6357 - mean_squared_error: 315959136.0000 - val_loss: 905747712.9573 - val_mean_absolute_error: 17137.0898 - val_mean_squared_error: 905747712.0000\n",
      "Epoch 162/1000\n",
      "934/934 [==============================] - 0s 47us/sample - loss: 282549666.2612 - mean_absolute_error: 11984.8486 - mean_squared_error: 282549696.0000 - val_loss: 858879415.3846 - val_mean_absolute_error: 16634.2988 - val_mean_squared_error: 858879360.0000\n",
      "Epoch 163/1000\n",
      "934/934 [==============================] - 0s 45us/sample - loss: 271847722.5182 - mean_absolute_error: 11818.2695 - mean_squared_error: 271847744.0000 - val_loss: 867207527.3846 - val_mean_absolute_error: 16711.9609 - val_mean_squared_error: 867207552.0000\n",
      "Epoch 164/1000\n",
      "934/934 [==============================] - 0s 48us/sample - loss: 303562878.6296 - mean_absolute_error: 12415.4785 - mean_squared_error: 303562880.0000 - val_loss: 886291068.7179 - val_mean_absolute_error: 16857.5996 - val_mean_squared_error: 886291008.0000\n",
      "Epoch 165/1000\n",
      "934/934 [==============================] - 0s 48us/sample - loss: 269098429.3961 - mean_absolute_error: 11709.3203 - mean_squared_error: 269098400.0000 - val_loss: 878283804.5128 - val_mean_absolute_error: 16483.4062 - val_mean_squared_error: 878283776.0000\n",
      "Epoch 166/1000\n",
      "934/934 [==============================] - 0s 46us/sample - loss: 278902347.3747 - mean_absolute_error: 11946.1553 - mean_squared_error: 278902336.0000 - val_loss: 931477578.3932 - val_mean_absolute_error: 16976.9980 - val_mean_squared_error: 931477568.0000\n",
      "Epoch 167/1000\n",
      "934/934 [==============================] - 0s 45us/sample - loss: 343765292.7109 - mean_absolute_error: 13578.1592 - mean_squared_error: 343765312.0000 - val_loss: 934256858.5299 - val_mean_absolute_error: 17338.2578 - val_mean_squared_error: 934256896.0000\n",
      "Epoch 168/1000\n",
      "934/934 [==============================] - 0s 48us/sample - loss: 272228138.9636 - mean_absolute_error: 11705.6309 - mean_squared_error: 272228192.0000 - val_loss: 877908401.2308 - val_mean_absolute_error: 16535.6641 - val_mean_squared_error: 877908352.0000\n",
      "Epoch 169/1000\n",
      "934/934 [==============================] - 0s 48us/sample - loss: 267131813.0707 - mean_absolute_error: 11645.7227 - mean_squared_error: 267131792.0000 - val_loss: 876000367.3162 - val_mean_absolute_error: 16633.8281 - val_mean_squared_error: 876000320.0000\n",
      "Epoch 170/1000\n",
      "934/934 [==============================] - 0s 48us/sample - loss: 311327390.8694 - mean_absolute_error: 12163.4141 - mean_squared_error: 311327360.0000 - val_loss: 867802878.9060 - val_mean_absolute_error: 16847.4531 - val_mean_squared_error: 867802880.0000\n",
      "Epoch 171/1000\n",
      "934/934 [==============================] - 0s 46us/sample - loss: 473962573.8415 - mean_absolute_error: 13711.8340 - mean_squared_error: 473962560.0000 - val_loss: 956790108.1709 - val_mean_absolute_error: 18478.7910 - val_mean_squared_error: 956790080.0000\n",
      "Epoch 172/1000\n",
      "934/934 [==============================] - 0s 46us/sample - loss: 347623411.3233 - mean_absolute_error: 13566.8105 - mean_squared_error: 347623424.0000 - val_loss: 1172850846.3590 - val_mean_absolute_error: 18714.7070 - val_mean_squared_error: 1172850816.0000\n",
      "Epoch 173/1000\n",
      "934/934 [==============================] - 0s 50us/sample - loss: 518083401.4561 - mean_absolute_error: 13716.0586 - mean_squared_error: 518083328.0000 - val_loss: 1030278035.1453 - val_mean_absolute_error: 19131.5645 - val_mean_squared_error: 1030278016.0000\n",
      "Epoch 174/1000\n",
      "934/934 [==============================] - 0s 49us/sample - loss: 466699376.9593 - mean_absolute_error: 14217.3203 - mean_squared_error: 466699392.0000 - val_loss: 986245535.1795 - val_mean_absolute_error: 18589.9297 - val_mean_squared_error: 986245440.0000\n",
      "Epoch 175/1000\n",
      "934/934 [==============================] - 0s 49us/sample - loss: 293941317.0707 - mean_absolute_error: 12217.6670 - mean_squared_error: 293941344.0000 - val_loss: 846986141.8120 - val_mean_absolute_error: 16448.1113 - val_mean_squared_error: 846986240.0000\n",
      "Epoch 176/1000\n",
      "934/934 [==============================] - 0s 48us/sample - loss: 272518743.4347 - mean_absolute_error: 11929.8682 - mean_squared_error: 272518752.0000 - val_loss: 885784188.9915 - val_mean_absolute_error: 17062.9590 - val_mean_squared_error: 885784256.0000\n",
      "Epoch 177/1000\n",
      "934/934 [==============================] - 0s 48us/sample - loss: 265616615.3490 - mean_absolute_error: 11485.8018 - mean_squared_error: 265616608.0000 - val_loss: 841070209.0940 - val_mean_absolute_error: 16807.3672 - val_mean_squared_error: 841070208.0000\n",
      "Epoch 178/1000\n",
      "934/934 [==============================] - 0s 46us/sample - loss: 266092229.9615 - mean_absolute_error: 11641.9121 - mean_squared_error: 266092256.0000 - val_loss: 909317392.8889 - val_mean_absolute_error: 16813.1680 - val_mean_squared_error: 909317312.0000\n",
      "Epoch 179/1000\n",
      "934/934 [==============================] - 0s 48us/sample - loss: 273537585.4047 - mean_absolute_error: 11798.1973 - mean_squared_error: 273537568.0000 - val_loss: 854082743.7949 - val_mean_absolute_error: 16808.1191 - val_mean_squared_error: 854082752.0000\n",
      "Epoch 180/1000\n",
      "934/934 [==============================] - 0s 47us/sample - loss: 276497571.6317 - mean_absolute_error: 11745.0420 - mean_squared_error: 276497600.0000 - val_loss: 888880974.7692 - val_mean_absolute_error: 17569.3320 - val_mean_squared_error: 888881024.0000\n",
      "Epoch 181/1000\n"
     ]
    },
    {
     "name": "stdout",
     "output_type": "stream",
     "text": [
      "934/934 [==============================] - 0s 50us/sample - loss: 277580323.3405 - mean_absolute_error: 11977.1416 - mean_squared_error: 277580352.0000 - val_loss: 965637098.6667 - val_mean_absolute_error: 18023.1348 - val_mean_squared_error: 965637120.0000\n",
      "Epoch 182/1000\n",
      "934/934 [==============================] - 0s 47us/sample - loss: 275254981.3448 - mean_absolute_error: 11789.1777 - mean_squared_error: 275254944.0000 - val_loss: 860043412.5128 - val_mean_absolute_error: 16513.4238 - val_mean_squared_error: 860043392.0000\n",
      "Epoch 183/1000\n",
      "934/934 [==============================] - 0s 48us/sample - loss: 273089808.1713 - mean_absolute_error: 11983.8018 - mean_squared_error: 273089792.0000 - val_loss: 848975478.7009 - val_mean_absolute_error: 16986.6367 - val_mean_squared_error: 848975488.0000\n",
      "Epoch 184/1000\n",
      "934/934 [==============================] - 0s 46us/sample - loss: 277152078.1842 - mean_absolute_error: 11758.0371 - mean_squared_error: 277152064.0000 - val_loss: 869910879.1795 - val_mean_absolute_error: 16935.0469 - val_mean_squared_error: 869910848.0000\n",
      "Epoch 185/1000\n",
      "934/934 [==============================] - 0s 46us/sample - loss: 259467761.3876 - mean_absolute_error: 11549.9209 - mean_squared_error: 259467760.0000 - val_loss: 928396314.1197 - val_mean_absolute_error: 16923.1289 - val_mean_squared_error: 928396288.0000\n",
      "Epoch 186/1000\n",
      "934/934 [==============================] - 0s 48us/sample - loss: 271832485.1392 - mean_absolute_error: 11738.5859 - mean_squared_error: 271832512.0000 - val_loss: 898423964.9915 - val_mean_absolute_error: 18040.9453 - val_mean_squared_error: 898423936.0000\n",
      "Epoch 187/1000\n",
      "934/934 [==============================] - 0s 47us/sample - loss: 274555409.7473 - mean_absolute_error: 11950.8789 - mean_squared_error: 274555360.0000 - val_loss: 887517819.6923 - val_mean_absolute_error: 17076.2422 - val_mean_squared_error: 887517888.0000\n",
      "Epoch 188/1000\n",
      "934/934 [==============================] - 0s 46us/sample - loss: 257957281.2934 - mean_absolute_error: 11475.7100 - mean_squared_error: 257957312.0000 - val_loss: 864734072.3419 - val_mean_absolute_error: 17128.8926 - val_mean_squared_error: 864734016.0000\n",
      "Epoch 189/1000\n",
      "934/934 [==============================] - 0s 47us/sample - loss: 275663681.3191 - mean_absolute_error: 11829.0742 - mean_squared_error: 275663680.0000 - val_loss: 869068176.4103 - val_mean_absolute_error: 16643.6074 - val_mean_squared_error: 869068224.0000\n",
      "Epoch 190/1000\n",
      "934/934 [==============================] - 0s 44us/sample - loss: 278743279.4861 - mean_absolute_error: 12016.2842 - mean_squared_error: 278743264.0000 - val_loss: 862667134.4957 - val_mean_absolute_error: 16658.5957 - val_mean_squared_error: 862667008.0000\n",
      "Epoch 191/1000\n",
      "934/934 [==============================] - 0s 43us/sample - loss: 264952314.6552 - mean_absolute_error: 11629.2617 - mean_squared_error: 264952336.0000 - val_loss: 852119768.0684 - val_mean_absolute_error: 16611.9824 - val_mean_squared_error: 852119808.0000\n",
      "Epoch 192/1000\n",
      "934/934 [==============================] - 0s 49us/sample - loss: 260362745.2848 - mean_absolute_error: 11497.6689 - mean_squared_error: 260362720.0000 - val_loss: 862680481.9145 - val_mean_absolute_error: 17040.2734 - val_mean_squared_error: 862680576.0000\n",
      "Epoch 193/1000\n",
      "934/934 [==============================] - 0s 49us/sample - loss: 300172820.5824 - mean_absolute_error: 12171.3857 - mean_squared_error: 300172800.0000 - val_loss: 873587791.8632 - val_mean_absolute_error: 16259.7432 - val_mean_squared_error: 873587840.0000\n",
      "Epoch 194/1000\n",
      "934/934 [==============================] - 0s 45us/sample - loss: 401499728.0343 - mean_absolute_error: 13193.3857 - mean_squared_error: 401499744.0000 - val_loss: 980683940.2393 - val_mean_absolute_error: 19682.0000 - val_mean_squared_error: 980683904.0000\n",
      "Epoch 195/1000\n",
      "934/934 [==============================] - 0s 46us/sample - loss: 295512615.2120 - mean_absolute_error: 12248.4902 - mean_squared_error: 295512640.0000 - val_loss: 888169176.0000 - val_mean_absolute_error: 17123.5020 - val_mean_squared_error: 888169152.0000\n",
      "Epoch 196/1000\n",
      "934/934 [==============================] - 0s 51us/sample - loss: 256947837.6702 - mean_absolute_error: 11520.4658 - mean_squared_error: 256947840.0000 - val_loss: 894544020.6496 - val_mean_absolute_error: 17079.5352 - val_mean_squared_error: 894544064.0000\n",
      "Epoch 197/1000\n",
      "934/934 [==============================] - 0s 45us/sample - loss: 293066261.6531 - mean_absolute_error: 12523.6885 - mean_squared_error: 293066272.0000 - val_loss: 884176463.5897 - val_mean_absolute_error: 16804.5312 - val_mean_squared_error: 884176448.0000\n",
      "Epoch 198/1000\n",
      "934/934 [==============================] - 0s 44us/sample - loss: 276156554.0043 - mean_absolute_error: 11858.8799 - mean_squared_error: 276156544.0000 - val_loss: 871543855.5897 - val_mean_absolute_error: 16475.3242 - val_mean_squared_error: 871543808.0000\n",
      "Epoch 199/1000\n",
      "934/934 [==============================] - 0s 44us/sample - loss: 258504114.6381 - mean_absolute_error: 11470.6885 - mean_squared_error: 258504160.0000 - val_loss: 874504168.4786 - val_mean_absolute_error: 17220.5293 - val_mean_squared_error: 874504128.0000\n",
      "Epoch 200/1000\n",
      "934/934 [==============================] - 0s 46us/sample - loss: 266913602.0557 - mean_absolute_error: 11713.4268 - mean_squared_error: 266913616.0000 - val_loss: 894710272.5470 - val_mean_absolute_error: 16767.2676 - val_mean_squared_error: 894710208.0000\n",
      "Epoch 201/1000\n",
      "934/934 [==============================] - 0s 44us/sample - loss: 281143341.4989 - mean_absolute_error: 12088.1152 - mean_squared_error: 281143360.0000 - val_loss: 891856098.7350 - val_mean_absolute_error: 16895.0039 - val_mean_squared_error: 891856128.0000\n",
      "Epoch 202/1000\n",
      "934/934 [==============================] - 0s 45us/sample - loss: 300570542.3212 - mean_absolute_error: 12509.9639 - mean_squared_error: 300570560.0000 - val_loss: 857007997.6752 - val_mean_absolute_error: 16945.5059 - val_mean_squared_error: 857008064.0000\n",
      "Epoch 203/1000\n",
      "934/934 [==============================] - 0s 45us/sample - loss: 294539951.4518 - mean_absolute_error: 12181.2803 - mean_squared_error: 294539968.0000 - val_loss: 1028315865.8462 - val_mean_absolute_error: 17394.4805 - val_mean_squared_error: 1028315776.0000\n",
      "Epoch 204/1000\n",
      "934/934 [==============================] - 0s 44us/sample - loss: 427956348.7109 - mean_absolute_error: 12805.0146 - mean_squared_error: 427956384.0000 - val_loss: 940396948.7863 - val_mean_absolute_error: 18112.4492 - val_mean_squared_error: 940396928.0000\n",
      "Epoch 205/1000\n",
      "934/934 [==============================] - 0s 45us/sample - loss: 454703151.5546 - mean_absolute_error: 14152.0811 - mean_squared_error: 454703200.0000 - val_loss: 996361410.7350 - val_mean_absolute_error: 18676.2266 - val_mean_squared_error: 996361472.0000\n",
      "Epoch 206/1000\n",
      "934/934 [==============================] - 0s 48us/sample - loss: 315059978.1413 - mean_absolute_error: 12331.6309 - mean_squared_error: 315059968.0000 - val_loss: 863627943.1111 - val_mean_absolute_error: 16478.3125 - val_mean_squared_error: 863627904.0000\n",
      "Epoch 207/1000\n",
      "934/934 [==============================] - 0s 49us/sample - loss: 263446424.4454 - mean_absolute_error: 11670.9160 - mean_squared_error: 263446448.0000 - val_loss: 956126235.8974 - val_mean_absolute_error: 17205.9785 - val_mean_squared_error: 956126208.0000\n",
      "Epoch 208/1000\n",
      "934/934 [==============================] - 0s 48us/sample - loss: 287422666.3812 - mean_absolute_error: 11892.3037 - mean_squared_error: 287422656.0000 - val_loss: 954789843.6923 - val_mean_absolute_error: 18900.9258 - val_mean_squared_error: 954789760.0000\n",
      "Epoch 209/1000\n",
      "934/934 [==============================] - 0s 47us/sample - loss: 287098445.5675 - mean_absolute_error: 12234.9668 - mean_squared_error: 287098432.0000 - val_loss: 931945501.4017 - val_mean_absolute_error: 17367.6738 - val_mean_squared_error: 931945536.0000\n",
      "Epoch 210/1000\n",
      "934/934 [==============================] - 0s 48us/sample - loss: 294880896.2741 - mean_absolute_error: 12538.5566 - mean_squared_error: 294880896.0000 - val_loss: 915696152.3419 - val_mean_absolute_error: 16909.0449 - val_mean_squared_error: 915696064.0000\n",
      "Epoch 211/1000\n",
      "934/934 [==============================] - 0s 49us/sample - loss: 268782833.6103 - mean_absolute_error: 11949.6465 - mean_squared_error: 268782848.0000 - val_loss: 938694095.5897 - val_mean_absolute_error: 16947.3027 - val_mean_squared_error: 938694208.0000\n",
      "Epoch 212/1000\n",
      "934/934 [==============================] - 0s 46us/sample - loss: 295970528.7195 - mean_absolute_error: 12604.4805 - mean_squared_error: 295970560.0000 - val_loss: 920283801.1624 - val_mean_absolute_error: 17165.6914 - val_mean_squared_error: 920283776.0000\n",
      "Epoch 213/1000\n",
      "934/934 [==============================] - 0s 45us/sample - loss: 258673628.9507 - mean_absolute_error: 11497.1494 - mean_squared_error: 258673632.0000 - val_loss: 918056435.1453 - val_mean_absolute_error: 16716.7070 - val_mean_squared_error: 918056512.0000\n",
      "Epoch 214/1000\n",
      "934/934 [==============================] - 0s 50us/sample - loss: 269249200.4968 - mean_absolute_error: 12015.3369 - mean_squared_error: 269249216.0000 - val_loss: 902534666.3932 - val_mean_absolute_error: 16830.5273 - val_mean_squared_error: 902534656.0000\n",
      "Epoch 215/1000\n",
      "934/934 [==============================] - 0s 47us/sample - loss: 265540119.5717 - mean_absolute_error: 11721.9873 - mean_squared_error: 265540096.0000 - val_loss: 902463790.2222 - val_mean_absolute_error: 16936.4180 - val_mean_squared_error: 902463808.0000\n",
      "Epoch 216/1000\n",
      "934/934 [==============================] - 0s 46us/sample - loss: 252286281.7302 - mean_absolute_error: 11280.2412 - mean_squared_error: 252286256.0000 - val_loss: 902824646.1538 - val_mean_absolute_error: 16967.5996 - val_mean_squared_error: 902824640.0000\n",
      "Epoch 217/1000\n",
      "934/934 [==============================] - 0s 45us/sample - loss: 275855344.9936 - mean_absolute_error: 12009.9629 - mean_squared_error: 275855360.0000 - val_loss: 951609674.3932 - val_mean_absolute_error: 18787.5684 - val_mean_squared_error: 951609664.0000\n",
      "Epoch 218/1000\n",
      "934/934 [==============================] - 0s 45us/sample - loss: 258222969.6959 - mean_absolute_error: 11594.9111 - mean_squared_error: 258222992.0000 - val_loss: 910891082.3932 - val_mean_absolute_error: 16851.6582 - val_mean_squared_error: 910891072.0000\n",
      "Epoch 219/1000\n",
      "934/934 [==============================] - 0s 43us/sample - loss: 278012986.7580 - mean_absolute_error: 12117.2910 - mean_squared_error: 278012992.0000 - val_loss: 911559506.5983 - val_mean_absolute_error: 17888.5586 - val_mean_squared_error: 911559488.0000\n",
      "Epoch 220/1000\n",
      "934/934 [==============================] - 0s 44us/sample - loss: 265472268.8822 - mean_absolute_error: 11806.2803 - mean_squared_error: 265472240.0000 - val_loss: 867137205.8803 - val_mean_absolute_error: 16698.0488 - val_mean_squared_error: 867137216.0000\n",
      "Epoch 221/1000\n",
      "934/934 [==============================] - 0s 43us/sample - loss: 266077865.1135 - mean_absolute_error: 11544.2568 - mean_squared_error: 266077824.0000 - val_loss: 950984048.4103 - val_mean_absolute_error: 17984.8887 - val_mean_squared_error: 950984064.0000\n",
      "Epoch 222/1000\n",
      "934/934 [==============================] - 0s 48us/sample - loss: 266693478.8522 - mean_absolute_error: 11769.1416 - mean_squared_error: 266693456.0000 - val_loss: 993420042.9402 - val_mean_absolute_error: 17900.0605 - val_mean_squared_error: 993420032.0000\n",
      "Epoch 223/1000\n",
      "934/934 [==============================] - 0s 51us/sample - loss: 332578373.9957 - mean_absolute_error: 13152.2041 - mean_squared_error: 332578368.0000 - val_loss: 1031737876.7863 - val_mean_absolute_error: 18172.8887 - val_mean_squared_error: 1031737920.0000\n",
      "Epoch 224/1000\n",
      "934/934 [==============================] - 0s 48us/sample - loss: 495954774.0985 - mean_absolute_error: 13370.1445 - mean_squared_error: 495954752.0000 - val_loss: 1211965630.6325 - val_mean_absolute_error: 19245.1289 - val_mean_squared_error: 1211965696.0000\n",
      "Epoch 225/1000\n",
      "934/934 [==============================] - 0s 48us/sample - loss: 546516697.4218 - mean_absolute_error: 15183.1592 - mean_squared_error: 546516672.0000 - val_loss: 1015217467.0769 - val_mean_absolute_error: 18842.1855 - val_mean_squared_error: 1015217472.0000\n",
      "Epoch 226/1000\n",
      "934/934 [==============================] - 0s 50us/sample - loss: 419158636.2655 - mean_absolute_error: 13274.6650 - mean_squared_error: 419158688.0000 - val_loss: 1181412334.6325 - val_mean_absolute_error: 18816.6074 - val_mean_squared_error: 1181412352.0000\n",
      "Epoch 227/1000\n",
      "934/934 [==============================] - 0s 49us/sample - loss: 364052118.0642 - mean_absolute_error: 12966.8193 - mean_squared_error: 364052128.0000 - val_loss: 941192304.5470 - val_mean_absolute_error: 17037.8477 - val_mean_squared_error: 941192320.0000\n",
      "Epoch 228/1000\n",
      "934/934 [==============================] - 0s 52us/sample - loss: 284855902.1842 - mean_absolute_error: 12045.2305 - mean_squared_error: 284855904.0000 - val_loss: 892148255.4530 - val_mean_absolute_error: 17620.0605 - val_mean_squared_error: 892148224.0000\n",
      "Epoch 229/1000\n",
      "934/934 [==============================] - 0s 49us/sample - loss: 253635590.3383 - mean_absolute_error: 11299.6191 - mean_squared_error: 253635616.0000 - val_loss: 893600054.7009 - val_mean_absolute_error: 16648.4746 - val_mean_squared_error: 893600064.0000\n",
      "Epoch 230/1000\n",
      "934/934 [==============================] - 0s 51us/sample - loss: 284061390.3212 - mean_absolute_error: 12014.4648 - mean_squared_error: 284061408.0000 - val_loss: 1069638994.8718 - val_mean_absolute_error: 20305.1367 - val_mean_squared_error: 1069639040.0000\n",
      "Epoch 231/1000\n",
      "934/934 [==============================] - 0s 51us/sample - loss: 279473360.9251 - mean_absolute_error: 12107.2861 - mean_squared_error: 279473344.0000 - val_loss: 881518336.8205 - val_mean_absolute_error: 16987.2539 - val_mean_squared_error: 881518336.0000\n",
      "Epoch 232/1000\n",
      "934/934 [==============================] - 0s 44us/sample - loss: 245261235.4604 - mean_absolute_error: 11114.4590 - mean_squared_error: 245261264.0000 - val_loss: 889382453.4701 - val_mean_absolute_error: 16577.3906 - val_mean_squared_error: 889382464.0000\n",
      "Epoch 233/1000\n",
      "934/934 [==============================] - 0s 44us/sample - loss: 243339723.3062 - mean_absolute_error: 11098.8018 - mean_squared_error: 243339728.0000 - val_loss: 876696287.1795 - val_mean_absolute_error: 16611.4121 - val_mean_squared_error: 876696256.0000\n",
      "Epoch 234/1000\n",
      "934/934 [==============================] - 0s 44us/sample - loss: 239220396.8822 - mean_absolute_error: 11044.9023 - mean_squared_error: 239220384.0000 - val_loss: 903506581.3333 - val_mean_absolute_error: 17414.9824 - val_mean_squared_error: 903506624.0000\n",
      "Epoch 235/1000\n",
      "934/934 [==============================] - 0s 44us/sample - loss: 244361616.2570 - mean_absolute_error: 11098.1289 - mean_squared_error: 244361616.0000 - val_loss: 849767354.8034 - val_mean_absolute_error: 16793.7227 - val_mean_squared_error: 849767360.0000\n",
      "Epoch 236/1000\n",
      "934/934 [==============================] - 0s 45us/sample - loss: 249362376.7709 - mean_absolute_error: 11397.0225 - mean_squared_error: 249362368.0000 - val_loss: 916859497.8462 - val_mean_absolute_error: 16607.2266 - val_mean_squared_error: 916859520.0000\n",
      "Epoch 237/1000\n",
      "934/934 [==============================] - 0s 43us/sample - loss: 250949221.9615 - mean_absolute_error: 11417.8145 - mean_squared_error: 250949184.0000 - val_loss: 976714328.2051 - val_mean_absolute_error: 17521.4375 - val_mean_squared_error: 976714304.0000\n",
      "Epoch 238/1000\n",
      "934/934 [==============================] - 0s 46us/sample - loss: 272079286.8522 - mean_absolute_error: 11917.0928 - mean_squared_error: 272079264.0000 - val_loss: 910193934.4957 - val_mean_absolute_error: 17589.2285 - val_mean_squared_error: 910193920.0000\n",
      "Epoch 239/1000\n",
      "934/934 [==============================] - 0s 44us/sample - loss: 258349234.7066 - mean_absolute_error: 11632.4336 - mean_squared_error: 258349264.0000 - val_loss: 915058950.4274 - val_mean_absolute_error: 17092.0820 - val_mean_squared_error: 915058944.0000\n",
      "Epoch 240/1000\n",
      "934/934 [==============================] - 0s 46us/sample - loss: 255300752.1713 - mean_absolute_error: 11491.8301 - mean_squared_error: 255300768.0000 - val_loss: 924027405.1282 - val_mean_absolute_error: 17978.3242 - val_mean_squared_error: 924027328.0000\n",
      "Epoch 241/1000\n"
     ]
    },
    {
     "name": "stdout",
     "output_type": "stream",
     "text": [
      "934/934 [==============================] - 0s 48us/sample - loss: 253627809.0278 - mean_absolute_error: 11507.4326 - mean_squared_error: 253627824.0000 - val_loss: 930209632.5470 - val_mean_absolute_error: 17506.2656 - val_mean_squared_error: 930209728.0000\n",
      "Epoch 242/1000\n",
      "934/934 [==============================] - 0s 45us/sample - loss: 263037384.5653 - mean_absolute_error: 11636.6641 - mean_squared_error: 263037392.0000 - val_loss: 956136190.9060 - val_mean_absolute_error: 17804.7930 - val_mean_squared_error: 956136192.0000\n",
      "Epoch 243/1000\n",
      "934/934 [==============================] - 0s 47us/sample - loss: 261537027.3919 - mean_absolute_error: 11532.0264 - mean_squared_error: 261537040.0000 - val_loss: 874279768.0684 - val_mean_absolute_error: 16831.4570 - val_mean_squared_error: 874279808.0000\n",
      "Epoch 244/1000\n",
      "934/934 [==============================] - 0s 47us/sample - loss: 248697742.9722 - mean_absolute_error: 11399.5449 - mean_squared_error: 248697712.0000 - val_loss: 886021448.8205 - val_mean_absolute_error: 16752.2031 - val_mean_squared_error: 886021376.0000\n",
      "Epoch 245/1000\n",
      "934/934 [==============================] - 0s 46us/sample - loss: 262020419.9400 - mean_absolute_error: 11595.5791 - mean_squared_error: 262020400.0000 - val_loss: 891092396.5812 - val_mean_absolute_error: 17000.3828 - val_mean_squared_error: 891092352.0000\n",
      "Epoch 246/1000\n",
      "934/934 [==============================] - 0s 46us/sample - loss: 251174454.4069 - mean_absolute_error: 11302.9922 - mean_squared_error: 251174448.0000 - val_loss: 894385556.2393 - val_mean_absolute_error: 17085.2520 - val_mean_squared_error: 894385600.0000\n",
      "Epoch 247/1000\n",
      "934/934 [==============================] - 0s 47us/sample - loss: 319003149.9786 - mean_absolute_error: 12899.7178 - mean_squared_error: 319003168.0000 - val_loss: 942746079.1795 - val_mean_absolute_error: 18952.8613 - val_mean_squared_error: 942746048.0000\n",
      "Epoch 248/1000\n",
      "934/934 [==============================] - 0s 47us/sample - loss: 272642263.9143 - mean_absolute_error: 11683.7344 - mean_squared_error: 272642272.0000 - val_loss: 1012172086.7009 - val_mean_absolute_error: 17750.4336 - val_mean_squared_error: 1012172160.0000\n",
      "Epoch 249/1000\n",
      "934/934 [==============================] - 0s 45us/sample - loss: 378360210.0728 - mean_absolute_error: 12852.4199 - mean_squared_error: 378360288.0000 - val_loss: 1249017477.4701 - val_mean_absolute_error: 21969.7227 - val_mean_squared_error: 1249017472.0000\n",
      "Epoch 250/1000\n",
      "934/934 [==============================] - 0s 48us/sample - loss: 520325623.7088 - mean_absolute_error: 15268.7988 - mean_squared_error: 520325632.0000 - val_loss: 923828348.1709 - val_mean_absolute_error: 17046.0195 - val_mean_squared_error: 923828352.0000\n",
      "Epoch 251/1000\n",
      "934/934 [==============================] - 0s 47us/sample - loss: 735739490.6724 - mean_absolute_error: 15541.2012 - mean_squared_error: 735739456.0000 - val_loss: 973650208.2735 - val_mean_absolute_error: 18658.0352 - val_mean_squared_error: 973650304.0000\n",
      "Epoch 252/1000\n",
      "934/934 [==============================] - 0s 47us/sample - loss: 453896703.6574 - mean_absolute_error: 13561.5195 - mean_squared_error: 453896640.0000 - val_loss: 936348243.2821 - val_mean_absolute_error: 17932.7207 - val_mean_squared_error: 936348352.0000\n",
      "Epoch 253/1000\n",
      "934/934 [==============================] - 0s 46us/sample - loss: 302891021.0193 - mean_absolute_error: 12150.0430 - mean_squared_error: 302891008.0000 - val_loss: 921947755.4872 - val_mean_absolute_error: 16842.2520 - val_mean_squared_error: 921947776.0000\n",
      "Epoch 254/1000\n",
      "934/934 [==============================] - 0s 47us/sample - loss: 267554310.9550 - mean_absolute_error: 11667.4482 - mean_squared_error: 267554336.0000 - val_loss: 864992114.7350 - val_mean_absolute_error: 16958.3184 - val_mean_squared_error: 864992128.0000\n",
      "Epoch 255/1000\n",
      "934/934 [==============================] - 0s 44us/sample - loss: 259602153.8630 - mean_absolute_error: 11548.7695 - mean_squared_error: 259602160.0000 - val_loss: 903495419.8974 - val_mean_absolute_error: 17972.5820 - val_mean_squared_error: 903495488.0000\n",
      "Epoch 256/1000\n",
      "934/934 [==============================] - 0s 43us/sample - loss: 240271301.0193 - mean_absolute_error: 11113.4668 - mean_squared_error: 240271296.0000 - val_loss: 1053278703.5897 - val_mean_absolute_error: 18078.8242 - val_mean_squared_error: 1053278784.0000\n",
      "Epoch 257/1000\n",
      "934/934 [==============================] - 0s 49us/sample - loss: 313624385.2334 - mean_absolute_error: 12876.0977 - mean_squared_error: 313624384.0000 - val_loss: 881285670.0171 - val_mean_absolute_error: 17282.7715 - val_mean_squared_error: 881285696.0000\n",
      "Epoch 258/1000\n",
      "934/934 [==============================] - 0s 49us/sample - loss: 266100937.4218 - mean_absolute_error: 11754.4043 - mean_squared_error: 266100928.0000 - val_loss: 860324119.2479 - val_mean_absolute_error: 16564.4199 - val_mean_squared_error: 860324096.0000\n",
      "Epoch 259/1000\n",
      "934/934 [==============================] - 0s 45us/sample - loss: 273106062.4240 - mean_absolute_error: 12088.7891 - mean_squared_error: 273106048.0000 - val_loss: 879758860.5812 - val_mean_absolute_error: 17139.7148 - val_mean_squared_error: 879758848.0000\n",
      "Epoch 260/1000\n",
      "934/934 [==============================] - 0s 46us/sample - loss: 254109340.6424 - mean_absolute_error: 11325.4248 - mean_squared_error: 254109360.0000 - val_loss: 881651022.7692 - val_mean_absolute_error: 16908.1660 - val_mean_squared_error: 881651072.0000\n",
      "Epoch 261/1000\n",
      "934/934 [==============================] - 0s 44us/sample - loss: 265148171.9229 - mean_absolute_error: 11748.4619 - mean_squared_error: 265148128.0000 - val_loss: 924047864.8889 - val_mean_absolute_error: 18129.9570 - val_mean_squared_error: 924047872.0000\n",
      "Epoch 262/1000\n",
      "934/934 [==============================] - 0s 47us/sample - loss: 248121550.1156 - mean_absolute_error: 11170.9785 - mean_squared_error: 248121536.0000 - val_loss: 864971340.0342 - val_mean_absolute_error: 16697.3398 - val_mean_squared_error: 864971392.0000\n",
      "Epoch 263/1000\n",
      "934/934 [==============================] - 0s 46us/sample - loss: 258038784.7537 - mean_absolute_error: 11479.8340 - mean_squared_error: 258038784.0000 - val_loss: 920957436.7179 - val_mean_absolute_error: 17291.9609 - val_mean_squared_error: 920957376.0000\n",
      "Epoch 264/1000\n",
      "934/934 [==============================] - 0s 43us/sample - loss: 249466991.0064 - mean_absolute_error: 11256.0078 - mean_squared_error: 249466992.0000 - val_loss: 919936848.1368 - val_mean_absolute_error: 17137.2246 - val_mean_squared_error: 919936896.0000\n",
      "Epoch 265/1000\n",
      "934/934 [==============================] - 0s 46us/sample - loss: 244321675.2377 - mean_absolute_error: 11209.3564 - mean_squared_error: 244321696.0000 - val_loss: 880371310.4957 - val_mean_absolute_error: 16980.6602 - val_mean_squared_error: 880371264.0000\n",
      "Epoch 266/1000\n",
      "934/934 [==============================] - 0s 44us/sample - loss: 234941495.9829 - mean_absolute_error: 10974.5469 - mean_squared_error: 234941504.0000 - val_loss: 909943606.7009 - val_mean_absolute_error: 17900.8945 - val_mean_squared_error: 909943616.0000\n",
      "Epoch 267/1000\n",
      "934/934 [==============================] - 0s 44us/sample - loss: 239826872.4797 - mean_absolute_error: 11118.0449 - mean_squared_error: 239826928.0000 - val_loss: 922759101.2650 - val_mean_absolute_error: 17991.8555 - val_mean_squared_error: 922759104.0000\n",
      "Epoch 268/1000\n",
      "934/934 [==============================] - 0s 44us/sample - loss: 242355314.7752 - mean_absolute_error: 11088.0234 - mean_squared_error: 242355328.0000 - val_loss: 890995213.1282 - val_mean_absolute_error: 16857.0078 - val_mean_squared_error: 890995200.0000\n",
      "Epoch 269/1000\n",
      "934/934 [==============================] - 0s 46us/sample - loss: 257885399.6745 - mean_absolute_error: 11168.4766 - mean_squared_error: 257885392.0000 - val_loss: 926275019.4872 - val_mean_absolute_error: 17664.7637 - val_mean_squared_error: 926275072.0000\n",
      "Epoch 270/1000\n",
      "934/934 [==============================] - 0s 47us/sample - loss: 337857285.6188 - mean_absolute_error: 12206.0684 - mean_squared_error: 337857312.0000 - val_loss: 895568878.0171 - val_mean_absolute_error: 16910.1680 - val_mean_squared_error: 895568896.0000\n",
      "Epoch 271/1000\n"
     ]
    },
    {
     "name": "stdout",
     "output_type": "stream",
     "text": [
      "934/934 [==============================] - 0s 44us/sample - loss: 294554725.7559 - mean_absolute_error: 11839.9658 - mean_squared_error: 294554720.0000 - val_loss: 869097954.4615 - val_mean_absolute_error: 17303.5098 - val_mean_squared_error: 869097984.0000\n",
      "Epoch 272/1000\n",
      "934/934 [==============================] - 0s 45us/sample - loss: 245675801.2163 - mean_absolute_error: 11199.3184 - mean_squared_error: 245675856.0000 - val_loss: 912813242.8034 - val_mean_absolute_error: 16934.7832 - val_mean_squared_error: 912813248.0000\n",
      "Epoch 273/1000\n",
      "934/934 [==============================] - 0s 47us/sample - loss: 234127254.1499 - mean_absolute_error: 10991.4121 - mean_squared_error: 234127296.0000 - val_loss: 869462340.9231 - val_mean_absolute_error: 17196.7070 - val_mean_squared_error: 869462336.0000\n",
      "Epoch 274/1000\n",
      "934/934 [==============================] - 0s 46us/sample - loss: 255566275.6660 - mean_absolute_error: 11352.1250 - mean_squared_error: 255566256.0000 - val_loss: 890765580.0342 - val_mean_absolute_error: 17112.4629 - val_mean_squared_error: 890765568.0000\n",
      "Epoch 275/1000\n",
      "934/934 [==============================] - 0s 47us/sample - loss: 244060857.3533 - mean_absolute_error: 11279.3896 - mean_squared_error: 244060864.0000 - val_loss: 922632664.6154 - val_mean_absolute_error: 17766.7070 - val_mean_squared_error: 922632768.0000\n",
      "Epoch 276/1000\n",
      "934/934 [==============================] - 0s 48us/sample - loss: 276158938.7238 - mean_absolute_error: 11920.0176 - mean_squared_error: 276158944.0000 - val_loss: 905009057.3675 - val_mean_absolute_error: 16829.4746 - val_mean_squared_error: 905009024.0000\n",
      "Epoch 277/1000\n",
      "934/934 [==============================] - 0s 45us/sample - loss: 252896003.9743 - mean_absolute_error: 11488.3154 - mean_squared_error: 252895984.0000 - val_loss: 899837625.8462 - val_mean_absolute_error: 17267.7246 - val_mean_squared_error: 899837568.0000\n",
      "Epoch 278/1000\n",
      "934/934 [==============================] - 0s 44us/sample - loss: 234150635.3576 - mean_absolute_error: 10941.4473 - mean_squared_error: 234150640.0000 - val_loss: 952871355.0769 - val_mean_absolute_error: 18019.6875 - val_mean_squared_error: 952871360.0000\n",
      "Epoch 279/1000\n",
      "934/934 [==============================] - 0s 43us/sample - loss: 243216627.8030 - mean_absolute_error: 11120.3467 - mean_squared_error: 243216624.0000 - val_loss: 880548083.1453 - val_mean_absolute_error: 16917.7969 - val_mean_squared_error: 880548096.0000\n",
      "Epoch 280/1000\n",
      "934/934 [==============================] - 0s 44us/sample - loss: 234746309.5503 - mean_absolute_error: 10960.5010 - mean_squared_error: 234746288.0000 - val_loss: 905847926.1538 - val_mean_absolute_error: 17376.2461 - val_mean_squared_error: 905848000.0000\n",
      "Epoch 281/1000\n",
      "934/934 [==============================] - 0s 42us/sample - loss: 252379973.4475 - mean_absolute_error: 11419.8584 - mean_squared_error: 252379984.0000 - val_loss: 898341176.6154 - val_mean_absolute_error: 17716.9844 - val_mean_squared_error: 898341184.0000\n",
      "Epoch 282/1000\n",
      "934/934 [==============================] - 0s 44us/sample - loss: 242993933.1563 - mean_absolute_error: 11035.6846 - mean_squared_error: 242993936.0000 - val_loss: 988371144.7521 - val_mean_absolute_error: 19372.1641 - val_mean_squared_error: 988371072.0000\n",
      "Epoch 283/1000\n",
      "934/934 [==============================] - 0s 43us/sample - loss: 295590762.8779 - mean_absolute_error: 12094.0449 - mean_squared_error: 295590752.0000 - val_loss: 1097443050.1197 - val_mean_absolute_error: 18537.9805 - val_mean_squared_error: 1097443072.0000\n",
      "Epoch 284/1000\n",
      "934/934 [==============================] - 0s 44us/sample - loss: 506474380.9850 - mean_absolute_error: 13857.8857 - mean_squared_error: 506474368.0000 - val_loss: 1095471817.2991 - val_mean_absolute_error: 18247.2637 - val_mean_squared_error: 1095471744.0000\n",
      "Epoch 285/1000\n",
      "934/934 [==============================] - 0s 47us/sample - loss: 270045148.1113 - mean_absolute_error: 11947.7871 - mean_squared_error: 270045184.0000 - val_loss: 905431672.3419 - val_mean_absolute_error: 17943.1230 - val_mean_squared_error: 905431744.0000\n",
      "Epoch 286/1000\n",
      "934/934 [==============================] - 0s 46us/sample - loss: 237758009.3533 - mean_absolute_error: 11154.0029 - mean_squared_error: 237758000.0000 - val_loss: 899047927.2479 - val_mean_absolute_error: 17248.3203 - val_mean_squared_error: 899047936.0000\n",
      "Epoch 287/1000\n",
      "934/934 [==============================] - 0s 43us/sample - loss: 234093911.1906 - mean_absolute_error: 10901.8096 - mean_squared_error: 234093920.0000 - val_loss: 930576560.1368 - val_mean_absolute_error: 17261.0703 - val_mean_squared_error: 930576640.0000\n",
      "Epoch 288/1000\n",
      "934/934 [==============================] - 0s 46us/sample - loss: 235971280.3255 - mean_absolute_error: 10986.9150 - mean_squared_error: 235971280.0000 - val_loss: 947960359.9316 - val_mean_absolute_error: 17095.6797 - val_mean_squared_error: 947960448.0000\n",
      "Epoch 289/1000\n",
      "934/934 [==============================] - 0s 45us/sample - loss: 307578185.5589 - mean_absolute_error: 12257.7158 - mean_squared_error: 307578208.0000 - val_loss: 1011880444.5812 - val_mean_absolute_error: 17742.5918 - val_mean_squared_error: 1011880384.0000\n",
      "Epoch 290/1000\n",
      "934/934 [==============================] - 0s 50us/sample - loss: 594925563.9572 - mean_absolute_error: 14378.6758 - mean_squared_error: 594925568.0000 - val_loss: 968665954.3248 - val_mean_absolute_error: 17411.3359 - val_mean_squared_error: 968665984.0000\n",
      "Epoch 291/1000\n",
      "934/934 [==============================] - 0s 47us/sample - loss: 1772983489.2334 - mean_absolute_error: 20123.7344 - mean_squared_error: 1772983552.0000 - val_loss: 1307989709.6752 - val_mean_absolute_error: 20197.0371 - val_mean_squared_error: 1307989760.0000\n",
      "Epoch 292/1000\n",
      "934/934 [==============================] - 0s 47us/sample - loss: 423940565.8929 - mean_absolute_error: 13798.1016 - mean_squared_error: 423940512.0000 - val_loss: 1094438727.9316 - val_mean_absolute_error: 20678.9023 - val_mean_squared_error: 1094438656.0000\n",
      "Epoch 293/1000\n",
      "934/934 [==============================] - 0s 45us/sample - loss: 370640987.7002 - mean_absolute_error: 14137.7217 - mean_squared_error: 370641024.0000 - val_loss: 972355010.7350 - val_mean_absolute_error: 18897.9961 - val_mean_squared_error: 972355136.0000\n",
      "Epoch 294/1000\n",
      "934/934 [==============================] - 0s 47us/sample - loss: 252587784.0514 - mean_absolute_error: 11247.7891 - mean_squared_error: 252587760.0000 - val_loss: 905537584.1368 - val_mean_absolute_error: 17428.3008 - val_mean_squared_error: 905537600.0000\n",
      "Epoch 295/1000\n",
      "934/934 [==============================] - 0s 45us/sample - loss: 242767477.6531 - mean_absolute_error: 11126.8926 - mean_squared_error: 242767504.0000 - val_loss: 904729433.1624 - val_mean_absolute_error: 17951.0176 - val_mean_squared_error: 904729408.0000\n",
      "Epoch 296/1000\n",
      "934/934 [==============================] - 0s 43us/sample - loss: 248178366.2869 - mean_absolute_error: 11264.8906 - mean_squared_error: 248178336.0000 - val_loss: 894573528.6154 - val_mean_absolute_error: 17577.1562 - val_mean_squared_error: 894573568.0000\n",
      "Epoch 297/1000\n",
      "934/934 [==============================] - 0s 43us/sample - loss: 235761057.4133 - mean_absolute_error: 11016.4785 - mean_squared_error: 235761056.0000 - val_loss: 882125469.2650 - val_mean_absolute_error: 17204.7773 - val_mean_squared_error: 882125504.0000\n",
      "Epoch 298/1000\n",
      "934/934 [==============================] - 0s 46us/sample - loss: 227312837.4647 - mean_absolute_error: 10739.4131 - mean_squared_error: 227312832.0000 - val_loss: 883125849.7094 - val_mean_absolute_error: 17408.5527 - val_mean_squared_error: 883125888.0000\n",
      "Epoch 299/1000\n",
      "934/934 [==============================] - 0s 48us/sample - loss: 229113449.9872 - mean_absolute_error: 10787.9287 - mean_squared_error: 229113440.0000 - val_loss: 873001493.8803 - val_mean_absolute_error: 17513.6738 - val_mean_squared_error: 873001536.0000\n",
      "Epoch 300/1000\n",
      "934/934 [==============================] - 0s 49us/sample - loss: 241513833.1135 - mean_absolute_error: 11216.9766 - mean_squared_error: 241513840.0000 - val_loss: 903564355.9658 - val_mean_absolute_error: 16940.1289 - val_mean_squared_error: 903564416.0000\n",
      "Epoch 301/1000\n"
     ]
    },
    {
     "name": "stdout",
     "output_type": "stream",
     "text": [
      "934/934 [==============================] - 0s 48us/sample - loss: 242334816.8908 - mean_absolute_error: 11217.2432 - mean_squared_error: 242334832.0000 - val_loss: 900562911.1795 - val_mean_absolute_error: 17824.9473 - val_mean_squared_error: 900563008.0000\n",
      "Epoch 302/1000\n",
      "934/934 [==============================] - 0s 49us/sample - loss: 229873056.2741 - mean_absolute_error: 10990.0996 - mean_squared_error: 229873040.0000 - val_loss: 890148657.2308 - val_mean_absolute_error: 17583.9805 - val_mean_squared_error: 890148608.0000\n",
      "Epoch 303/1000\n",
      "934/934 [==============================] - 0s 43us/sample - loss: 252529842.1927 - mean_absolute_error: 11751.7969 - mean_squared_error: 252529840.0000 - val_loss: 876349574.0855 - val_mean_absolute_error: 17730.5254 - val_mean_squared_error: 876349568.0000\n",
      "Epoch 304/1000\n",
      "934/934 [==============================] - 0s 43us/sample - loss: 243025217.4047 - mean_absolute_error: 11262.9580 - mean_squared_error: 243025248.0000 - val_loss: 903505071.0427 - val_mean_absolute_error: 17364.0996 - val_mean_squared_error: 903505088.0000\n",
      "Epoch 305/1000\n",
      "934/934 [==============================] - 0s 47us/sample - loss: 234834012.4882 - mean_absolute_error: 11005.6045 - mean_squared_error: 234834000.0000 - val_loss: 914393574.2906 - val_mean_absolute_error: 17571.5020 - val_mean_squared_error: 914393600.0000\n",
      "Epoch 306/1000\n",
      "934/934 [==============================] - 0s 48us/sample - loss: 233589092.2998 - mean_absolute_error: 11045.7021 - mean_squared_error: 233589120.0000 - val_loss: 891648741.4701 - val_mean_absolute_error: 17166.7676 - val_mean_squared_error: 891648704.0000\n",
      "Epoch 307/1000\n",
      "934/934 [==============================] - 0s 43us/sample - loss: 223076981.5161 - mean_absolute_error: 10779.5625 - mean_squared_error: 223076976.0000 - val_loss: 886133249.3675 - val_mean_absolute_error: 17167.9121 - val_mean_squared_error: 886133248.0000\n",
      "Epoch 308/1000\n",
      "934/934 [==============================] - 0s 42us/sample - loss: 234370368.4625 - mean_absolute_error: 10922.4014 - mean_squared_error: 234370368.0000 - val_loss: 885465250.8718 - val_mean_absolute_error: 16943.9336 - val_mean_squared_error: 885465216.0000\n",
      "Epoch 309/1000\n",
      "934/934 [==============================] - 0s 47us/sample - loss: 242157995.9229 - mean_absolute_error: 11187.7939 - mean_squared_error: 242158000.0000 - val_loss: 890520283.0769 - val_mean_absolute_error: 17051.5352 - val_mean_squared_error: 890520320.0000\n",
      "Epoch 310/1000\n",
      "934/934 [==============================] - 0s 46us/sample - loss: 357252195.7859 - mean_absolute_error: 12321.6016 - mean_squared_error: 357252192.0000 - val_loss: 1112297408.4103 - val_mean_absolute_error: 18387.7969 - val_mean_squared_error: 1112297344.0000\n",
      "Epoch 311/1000\n",
      "934/934 [==============================] - 0s 44us/sample - loss: 253633380.2827 - mean_absolute_error: 11433.1846 - mean_squared_error: 253633392.0000 - val_loss: 897845780.9915 - val_mean_absolute_error: 17605.7129 - val_mean_squared_error: 897845760.0000\n",
      "Epoch 312/1000\n",
      "934/934 [==============================] - 0s 48us/sample - loss: 235473088.5482 - mean_absolute_error: 11051.7197 - mean_squared_error: 235473088.0000 - val_loss: 919770910.6325 - val_mean_absolute_error: 18156.9863 - val_mean_squared_error: 919770880.0000\n",
      "Epoch 313/1000\n",
      "934/934 [==============================] - 0s 47us/sample - loss: 256165055.0407 - mean_absolute_error: 11631.2705 - mean_squared_error: 256165072.0000 - val_loss: 890378216.2051 - val_mean_absolute_error: 17065.4688 - val_mean_squared_error: 890378240.0000\n",
      "Epoch 314/1000\n",
      "934/934 [==============================] - 0s 48us/sample - loss: 242412002.1670 - mean_absolute_error: 11181.4150 - mean_squared_error: 242412000.0000 - val_loss: 930611700.5128 - val_mean_absolute_error: 18549.8965 - val_mean_squared_error: 930611712.0000\n",
      "Epoch 315/1000\n",
      "934/934 [==============================] - 0s 44us/sample - loss: 252278225.2677 - mean_absolute_error: 11657.1992 - mean_squared_error: 252278208.0000 - val_loss: 913166262.4274 - val_mean_absolute_error: 17028.3828 - val_mean_squared_error: 913166208.0000\n",
      "Epoch 316/1000\n",
      "934/934 [==============================] - 0s 45us/sample - loss: 227608808.2912 - mean_absolute_error: 10848.5752 - mean_squared_error: 227608832.0000 - val_loss: 891870323.0085 - val_mean_absolute_error: 17072.3496 - val_mean_squared_error: 891870336.0000\n",
      "Epoch 317/1000\n",
      "934/934 [==============================] - 0s 49us/sample - loss: 253018197.0364 - mean_absolute_error: 11126.2100 - mean_squared_error: 253018224.0000 - val_loss: 888487494.0171 - val_mean_absolute_error: 16720.4062 - val_mean_squared_error: 888487488.0000\n",
      "Epoch 318/1000\n",
      "934/934 [==============================] - 0s 49us/sample - loss: 229579439.3490 - mean_absolute_error: 10832.1289 - mean_squared_error: 229579472.0000 - val_loss: 932236187.8974 - val_mean_absolute_error: 18898.7441 - val_mean_squared_error: 932236160.0000\n",
      "Epoch 319/1000\n",
      "934/934 [==============================] - 0s 49us/sample - loss: 245146485.2420 - mean_absolute_error: 11465.9531 - mean_squared_error: 245146480.0000 - val_loss: 918394844.9915 - val_mean_absolute_error: 17286.4141 - val_mean_squared_error: 918394816.0000\n",
      "Epoch 320/1000\n",
      "934/934 [==============================] - 0s 46us/sample - loss: 221304066.2527 - mean_absolute_error: 10725.8623 - mean_squared_error: 221304112.0000 - val_loss: 884191326.6325 - val_mean_absolute_error: 17189.5488 - val_mean_squared_error: 884191360.0000\n",
      "Epoch 321/1000\n",
      "934/934 [==============================] - 0s 44us/sample - loss: 221476927.6403 - mean_absolute_error: 10746.9639 - mean_squared_error: 221476928.0000 - val_loss: 895511228.1709 - val_mean_absolute_error: 17036.7773 - val_mean_squared_error: 895511232.0000\n",
      "Epoch 322/1000\n",
      "934/934 [==============================] - 0s 50us/sample - loss: 231228956.0600 - mean_absolute_error: 10909.4424 - mean_squared_error: 231228960.0000 - val_loss: 891175909.4701 - val_mean_absolute_error: 17149.4629 - val_mean_squared_error: 891175872.0000\n",
      "Epoch 323/1000\n",
      "934/934 [==============================] - 0s 49us/sample - loss: 238023453.2762 - mean_absolute_error: 11077.7539 - mean_squared_error: 238023424.0000 - val_loss: 908637469.5385 - val_mean_absolute_error: 17147.0605 - val_mean_squared_error: 908637440.0000\n",
      "Epoch 324/1000\n",
      "934/934 [==============================] - 0s 48us/sample - loss: 222584559.4176 - mean_absolute_error: 10731.4229 - mean_squared_error: 222584528.0000 - val_loss: 889497984.5470 - val_mean_absolute_error: 17128.5547 - val_mean_squared_error: 889497984.0000\n",
      "Epoch 325/1000\n",
      "934/934 [==============================] - 0s 47us/sample - loss: 260906890.0385 - mean_absolute_error: 11588.6680 - mean_squared_error: 260906880.0000 - val_loss: 920787523.5556 - val_mean_absolute_error: 17636.3066 - val_mean_squared_error: 920787520.0000\n",
      "Epoch 326/1000\n",
      "934/934 [==============================] - 0s 51us/sample - loss: 257797293.5332 - mean_absolute_error: 11869.4102 - mean_squared_error: 257797280.0000 - val_loss: 877783719.3846 - val_mean_absolute_error: 16914.6523 - val_mean_squared_error: 877783680.0000\n",
      "Epoch 327/1000\n",
      "934/934 [==============================] - 0s 46us/sample - loss: 226068040.1884 - mean_absolute_error: 10742.7334 - mean_squared_error: 226068064.0000 - val_loss: 919744695.2479 - val_mean_absolute_error: 18443.5625 - val_mean_squared_error: 919744704.0000\n",
      "Epoch 328/1000\n",
      "934/934 [==============================] - 0s 43us/sample - loss: 238140181.2420 - mean_absolute_error: 11283.7031 - mean_squared_error: 238140176.0000 - val_loss: 911675470.7692 - val_mean_absolute_error: 17808.2207 - val_mean_squared_error: 911675520.0000\n",
      "Epoch 329/1000\n",
      "934/934 [==============================] - 0s 45us/sample - loss: 243531852.9165 - mean_absolute_error: 11291.5791 - mean_squared_error: 243531824.0000 - val_loss: 888567742.6325 - val_mean_absolute_error: 17061.6152 - val_mean_squared_error: 888567744.0000\n",
      "Epoch 330/1000\n",
      "934/934 [==============================] - 0s 45us/sample - loss: 224232547.0835 - mean_absolute_error: 10710.4854 - mean_squared_error: 224232560.0000 - val_loss: 851729578.1197 - val_mean_absolute_error: 16905.4922 - val_mean_squared_error: 851729536.0000\n",
      "Epoch 331/1000\n",
      "934/934 [==============================] - 0s 46us/sample - loss: 239509810.7066 - mean_absolute_error: 11086.7695 - mean_squared_error: 239509808.0000 - val_loss: 913278147.2821 - val_mean_absolute_error: 17191.0059 - val_mean_squared_error: 913278208.0000\n",
      "Epoch 332/1000\n",
      "934/934 [==============================] - 0s 45us/sample - loss: 232496706.4668 - mean_absolute_error: 11100.1709 - mean_squared_error: 232496720.0000 - val_loss: 904453373.8120 - val_mean_absolute_error: 17848.6973 - val_mean_squared_error: 904453440.0000\n",
      "Epoch 333/1000\n",
      "934/934 [==============================] - 0s 44us/sample - loss: 230187544.5653 - mean_absolute_error: 11166.2764 - mean_squared_error: 230187536.0000 - val_loss: 889387085.1282 - val_mean_absolute_error: 16917.0547 - val_mean_squared_error: 889387072.0000\n",
      "Epoch 334/1000\n",
      "934/934 [==============================] - 0s 44us/sample - loss: 221844674.0557 - mean_absolute_error: 10692.5674 - mean_squared_error: 221844688.0000 - val_loss: 895833088.5470 - val_mean_absolute_error: 17720.7480 - val_mean_squared_error: 895833088.0000\n",
      "Epoch 335/1000\n",
      "934/934 [==============================] - 0s 42us/sample - loss: 223177847.0578 - mean_absolute_error: 10703.6885 - mean_squared_error: 223177856.0000 - val_loss: 925977360.9573 - val_mean_absolute_error: 17297.6211 - val_mean_squared_error: 925977408.0000\n",
      "Epoch 336/1000\n",
      "934/934 [==============================] - 0s 57us/sample - loss: 220206321.1991 - mean_absolute_error: 10623.5664 - mean_squared_error: 220206304.0000 - val_loss: 897005647.0427 - val_mean_absolute_error: 16966.5039 - val_mean_squared_error: 897005632.0000\n",
      "Epoch 337/1000\n",
      "934/934 [==============================] - 0s 48us/sample - loss: 216160433.9186 - mean_absolute_error: 10548.7080 - mean_squared_error: 216160448.0000 - val_loss: 918703535.5897 - val_mean_absolute_error: 17922.9590 - val_mean_squared_error: 918703616.0000\n",
      "Epoch 338/1000\n",
      "934/934 [==============================] - 0s 52us/sample - loss: 220082929.3362 - mean_absolute_error: 10711.2402 - mean_squared_error: 220082928.0000 - val_loss: 898996263.3846 - val_mean_absolute_error: 16901.7500 - val_mean_squared_error: 898996224.0000\n",
      "Epoch 339/1000\n",
      "934/934 [==============================] - 0s 60us/sample - loss: 229190830.1156 - mean_absolute_error: 10798.3047 - mean_squared_error: 229190800.0000 - val_loss: 909387878.5641 - val_mean_absolute_error: 17070.8320 - val_mean_squared_error: 909387968.0000\n",
      "Epoch 340/1000\n",
      "934/934 [==============================] - 0s 50us/sample - loss: 247007663.8266 - mean_absolute_error: 11231.7773 - mean_squared_error: 247007680.0000 - val_loss: 976267235.2821 - val_mean_absolute_error: 17790.2344 - val_mean_squared_error: 976267264.0000\n",
      "Epoch 341/1000\n",
      "934/934 [==============================] - 0s 54us/sample - loss: 243417406.5953 - mean_absolute_error: 11252.4521 - mean_squared_error: 243417408.0000 - val_loss: 903097465.0256 - val_mean_absolute_error: 18076.9902 - val_mean_squared_error: 903097472.0000\n",
      "Epoch 342/1000\n",
      "934/934 [==============================] - 0s 44us/sample - loss: 226523444.0086 - mean_absolute_error: 10945.2314 - mean_squared_error: 226523424.0000 - val_loss: 911611911.6581 - val_mean_absolute_error: 17033.7500 - val_mean_squared_error: 911611904.0000\n",
      "Epoch 343/1000\n",
      "934/934 [==============================] - 0s 44us/sample - loss: 231821081.6103 - mean_absolute_error: 11048.6396 - mean_squared_error: 231821072.0000 - val_loss: 885730426.2564 - val_mean_absolute_error: 17694.2793 - val_mean_squared_error: 885730432.0000\n",
      "Epoch 344/1000\n",
      "934/934 [==============================] - 0s 44us/sample - loss: 221676858.6552 - mean_absolute_error: 10759.7090 - mean_squared_error: 221676864.0000 - val_loss: 944096208.8205 - val_mean_absolute_error: 18351.7559 - val_mean_squared_error: 944096192.0000\n",
      "Epoch 345/1000\n",
      "934/934 [==============================] - 0s 43us/sample - loss: 242002892.8822 - mean_absolute_error: 11324.9180 - mean_squared_error: 242002912.0000 - val_loss: 891383329.3675 - val_mean_absolute_error: 17426.5664 - val_mean_squared_error: 891383296.0000\n",
      "Epoch 346/1000\n",
      "934/934 [==============================] - 0s 45us/sample - loss: 226806799.3490 - mean_absolute_error: 10911.6758 - mean_squared_error: 226806816.0000 - val_loss: 1006646793.5726 - val_mean_absolute_error: 18772.1680 - val_mean_squared_error: 1006646784.0000\n",
      "Epoch 347/1000\n",
      "934/934 [==============================] - 0s 45us/sample - loss: 764176998.5782 - mean_absolute_error: 14919.7070 - mean_squared_error: 764177152.0000 - val_loss: 1149596537.4359 - val_mean_absolute_error: 20735.1602 - val_mean_squared_error: 1149596544.0000\n",
      "Epoch 348/1000\n",
      "934/934 [==============================] - 0s 45us/sample - loss: 1128970427.4775 - mean_absolute_error: 16088.1016 - mean_squared_error: 1128970368.0000 - val_loss: 1216772683.4872 - val_mean_absolute_error: 21876.5000 - val_mean_squared_error: 1216772608.0000\n",
      "Epoch 349/1000\n",
      "934/934 [==============================] - 0s 48us/sample - loss: 914362647.2291 - mean_absolute_error: 17882.0059 - mean_squared_error: 914362688.0000 - val_loss: 1046249340.7179 - val_mean_absolute_error: 19195.3652 - val_mean_squared_error: 1046249280.0000\n",
      "Epoch 350/1000\n",
      "934/934 [==============================] - 0s 47us/sample - loss: 744548210.7580 - mean_absolute_error: 14597.1484 - mean_squared_error: 744548160.0000 - val_loss: 950656343.5897 - val_mean_absolute_error: 17215.1113 - val_mean_squared_error: 950656320.0000\n",
      "Epoch 351/1000\n",
      "934/934 [==============================] - 0s 46us/sample - loss: 266141004.2313 - mean_absolute_error: 11701.8516 - mean_squared_error: 266140976.0000 - val_loss: 878328697.4359 - val_mean_absolute_error: 17641.5098 - val_mean_squared_error: 878328640.0000\n",
      "Epoch 352/1000\n",
      "934/934 [==============================] - 0s 47us/sample - loss: 243795294.4240 - mean_absolute_error: 11294.3018 - mean_squared_error: 243795328.0000 - val_loss: 910491317.7436 - val_mean_absolute_error: 16891.4922 - val_mean_squared_error: 910491200.0000\n",
      "Epoch 353/1000\n",
      "934/934 [==============================] - 0s 48us/sample - loss: 225264276.8223 - mean_absolute_error: 10802.7910 - mean_squared_error: 225264272.0000 - val_loss: 891588984.3419 - val_mean_absolute_error: 18212.6387 - val_mean_squared_error: 891588992.0000\n",
      "Epoch 354/1000\n",
      "934/934 [==============================] - 0s 47us/sample - loss: 227063626.2099 - mean_absolute_error: 10857.0850 - mean_squared_error: 227063632.0000 - val_loss: 859437755.0769 - val_mean_absolute_error: 17319.4688 - val_mean_squared_error: 859437760.0000\n",
      "Epoch 355/1000\n",
      "934/934 [==============================] - 0s 45us/sample - loss: 230160163.1863 - mean_absolute_error: 10916.7041 - mean_squared_error: 230160208.0000 - val_loss: 903041958.1538 - val_mean_absolute_error: 17016.7871 - val_mean_squared_error: 903041984.0000\n",
      "Epoch 356/1000\n",
      "934/934 [==============================] - 0s 44us/sample - loss: 223450324.9679 - mean_absolute_error: 10807.4492 - mean_squared_error: 223450304.0000 - val_loss: 910114436.3761 - val_mean_absolute_error: 17891.2578 - val_mean_squared_error: 910114496.0000\n",
      "Epoch 357/1000\n",
      "934/934 [==============================] - 0s 50us/sample - loss: 245589913.2848 - mean_absolute_error: 11366.6738 - mean_squared_error: 245589904.0000 - val_loss: 890107621.7436 - val_mean_absolute_error: 17614.1621 - val_mean_squared_error: 890107648.0000\n",
      "Epoch 358/1000\n",
      "934/934 [==============================] - 0s 50us/sample - loss: 229373063.9143 - mean_absolute_error: 11031.9346 - mean_squared_error: 229373072.0000 - val_loss: 932159526.8376 - val_mean_absolute_error: 17190.2793 - val_mean_squared_error: 932159552.0000\n",
      "Epoch 359/1000\n",
      "934/934 [==============================] - 0s 48us/sample - loss: 223375413.4475 - mean_absolute_error: 10592.8340 - mean_squared_error: 223375424.0000 - val_loss: 909955144.0684 - val_mean_absolute_error: 17344.6836 - val_mean_squared_error: 909955200.0000\n",
      "Epoch 360/1000\n",
      "934/934 [==============================] - 0s 48us/sample - loss: 231963526.4069 - mean_absolute_error: 11136.5439 - mean_squared_error: 231963520.0000 - val_loss: 913651662.2222 - val_mean_absolute_error: 17482.8359 - val_mean_squared_error: 913651584.0000\n",
      "Epoch 361/1000\n"
     ]
    },
    {
     "name": "stdout",
     "output_type": "stream",
     "text": [
      "934/934 [==============================] - 0s 46us/sample - loss: 237322800.2227 - mean_absolute_error: 11172.9316 - mean_squared_error: 237322784.0000 - val_loss: 947766674.5983 - val_mean_absolute_error: 18560.9277 - val_mean_squared_error: 947766720.0000\n",
      "Epoch 362/1000\n",
      "934/934 [==============================] - 0s 44us/sample - loss: 230530505.9015 - mean_absolute_error: 10951.1025 - mean_squared_error: 230530528.0000 - val_loss: 921048751.0427 - val_mean_absolute_error: 17832.7148 - val_mean_squared_error: 921048768.0000\n",
      "Epoch 363/1000\n",
      "934/934 [==============================] - 0s 52us/sample - loss: 227019831.5375 - mean_absolute_error: 10894.7412 - mean_squared_error: 227019824.0000 - val_loss: 902652582.5641 - val_mean_absolute_error: 16989.9668 - val_mean_squared_error: 902652608.0000\n",
      "Epoch 364/1000\n",
      "934/934 [==============================] - 0s 44us/sample - loss: 215451462.1328 - mean_absolute_error: 10603.1660 - mean_squared_error: 215451456.0000 - val_loss: 902309468.9915 - val_mean_absolute_error: 17808.1895 - val_mean_squared_error: 902309440.0000\n",
      "Epoch 365/1000\n",
      "934/934 [==============================] - 0s 43us/sample - loss: 214467205.4818 - mean_absolute_error: 10533.3643 - mean_squared_error: 214467184.0000 - val_loss: 905199481.4359 - val_mean_absolute_error: 17097.7715 - val_mean_squared_error: 905199552.0000\n",
      "Epoch 366/1000\n",
      "934/934 [==============================] - 0s 45us/sample - loss: 217785371.0664 - mean_absolute_error: 10594.5234 - mean_squared_error: 217785376.0000 - val_loss: 889131854.7692 - val_mean_absolute_error: 16962.1113 - val_mean_squared_error: 889131904.0000\n",
      "Epoch 367/1000\n",
      "934/934 [==============================] - 0s 46us/sample - loss: 218690169.3533 - mean_absolute_error: 10642.5859 - mean_squared_error: 218690192.0000 - val_loss: 932067550.0855 - val_mean_absolute_error: 17139.4609 - val_mean_squared_error: 932067584.0000\n",
      "Epoch 368/1000\n",
      "934/934 [==============================] - 0s 46us/sample - loss: 238741370.9636 - mean_absolute_error: 11200.0938 - mean_squared_error: 238741376.0000 - val_loss: 902113641.0256 - val_mean_absolute_error: 17898.1953 - val_mean_squared_error: 902113600.0000\n",
      "Epoch 369/1000\n",
      "934/934 [==============================] - 0s 46us/sample - loss: 220964838.9893 - mean_absolute_error: 10880.8086 - mean_squared_error: 220964832.0000 - val_loss: 905362149.7436 - val_mean_absolute_error: 17373.9922 - val_mean_squared_error: 905362176.0000\n",
      "Epoch 370/1000\n",
      "934/934 [==============================] - 0s 44us/sample - loss: 210423503.4176 - mean_absolute_error: 10537.0752 - mean_squared_error: 210423520.0000 - val_loss: 940193942.9744 - val_mean_absolute_error: 17580.3926 - val_mean_squared_error: 940193920.0000\n",
      "Epoch 371/1000\n",
      "934/934 [==============================] - 0s 45us/sample - loss: 215772921.8415 - mean_absolute_error: 10542.8623 - mean_squared_error: 215772944.0000 - val_loss: 921900626.5983 - val_mean_absolute_error: 17008.3594 - val_mean_squared_error: 921900672.0000\n",
      "Epoch 372/1000\n",
      "934/934 [==============================] - 0s 47us/sample - loss: 235785083.4261 - mean_absolute_error: 10966.5713 - mean_squared_error: 235785088.0000 - val_loss: 1000248929.3675 - val_mean_absolute_error: 18370.8613 - val_mean_squared_error: 1000248960.0000\n",
      "Epoch 373/1000\n",
      "934/934 [==============================] - 0s 47us/sample - loss: 234227288.3940 - mean_absolute_error: 10952.9629 - mean_squared_error: 234227296.0000 - val_loss: 907082292.2393 - val_mean_absolute_error: 17203.4492 - val_mean_squared_error: 907082368.0000\n",
      "Epoch 374/1000\n",
      "934/934 [==============================] - 0s 48us/sample - loss: 256927953.1991 - mean_absolute_error: 11319.8174 - mean_squared_error: 256927984.0000 - val_loss: 913261818.3932 - val_mean_absolute_error: 17361.9102 - val_mean_squared_error: 913261824.0000\n",
      "Epoch 375/1000\n",
      "934/934 [==============================] - 0s 46us/sample - loss: 234683742.2184 - mean_absolute_error: 11192.8467 - mean_squared_error: 234683760.0000 - val_loss: 938816792.3419 - val_mean_absolute_error: 18460.7930 - val_mean_squared_error: 938816832.0000\n",
      "Epoch 376/1000\n",
      "934/934 [==============================] - 0s 45us/sample - loss: 226415143.1606 - mean_absolute_error: 10924.2842 - mean_squared_error: 226415152.0000 - val_loss: 929240848.8205 - val_mean_absolute_error: 18332.9414 - val_mean_squared_error: 929240896.0000\n",
      "Epoch 377/1000\n",
      "934/934 [==============================] - 0s 48us/sample - loss: 229492969.8501 - mean_absolute_error: 10972.4492 - mean_squared_error: 229492992.0000 - val_loss: 941728958.9060 - val_mean_absolute_error: 17281.4414 - val_mean_squared_error: 941728896.0000\n",
      "Epoch 378/1000\n",
      "934/934 [==============================] - 0s 47us/sample - loss: 212302889.4218 - mean_absolute_error: 10541.1621 - mean_squared_error: 212302896.0000 - val_loss: 953239836.4444 - val_mean_absolute_error: 18667.6426 - val_mean_squared_error: 953239744.0000\n",
      "Epoch 379/1000\n",
      "934/934 [==============================] - 0s 46us/sample - loss: 231241029.0021 - mean_absolute_error: 11151.2529 - mean_squared_error: 231241040.0000 - val_loss: 925358576.9573 - val_mean_absolute_error: 18445.0723 - val_mean_squared_error: 925358592.0000\n",
      "Epoch 380/1000\n",
      "934/934 [==============================] - 0s 46us/sample - loss: 224106191.9315 - mean_absolute_error: 10912.4395 - mean_squared_error: 224106208.0000 - val_loss: 924346078.9060 - val_mean_absolute_error: 17429.9102 - val_mean_squared_error: 924346048.0000\n",
      "Epoch 381/1000\n",
      "934/934 [==============================] - 0s 47us/sample - loss: 214168679.3319 - mean_absolute_error: 10538.9775 - mean_squared_error: 214168704.0000 - val_loss: 908050339.5556 - val_mean_absolute_error: 17412.8477 - val_mean_squared_error: 908050368.0000\n",
      "Epoch 382/1000\n",
      "934/934 [==============================] - 0s 48us/sample - loss: 218876477.9443 - mean_absolute_error: 10567.4111 - mean_squared_error: 218876480.0000 - val_loss: 960127076.3761 - val_mean_absolute_error: 17632.4766 - val_mean_squared_error: 960127104.0000\n",
      "Epoch 383/1000\n",
      "934/934 [==============================] - 0s 53us/sample - loss: 273670229.9101 - mean_absolute_error: 11907.8584 - mean_squared_error: 273670240.0000 - val_loss: 924597423.0427 - val_mean_absolute_error: 17744.3770 - val_mean_squared_error: 924597440.0000\n",
      "Epoch 384/1000\n",
      "934/934 [==============================] - 0s 51us/sample - loss: 206876863.1092 - mean_absolute_error: 10358.9326 - mean_squared_error: 206876832.0000 - val_loss: 903819502.7692 - val_mean_absolute_error: 17306.4336 - val_mean_squared_error: 903819520.0000\n",
      "Epoch 385/1000\n",
      "934/934 [==============================] - 0s 49us/sample - loss: 223686873.3533 - mean_absolute_error: 10736.9072 - mean_squared_error: 223686896.0000 - val_loss: 891065444.9231 - val_mean_absolute_error: 17085.7070 - val_mean_squared_error: 891065472.0000\n",
      "Epoch 386/1000\n",
      "934/934 [==============================] - 0s 49us/sample - loss: 215970097.3019 - mean_absolute_error: 10645.9736 - mean_squared_error: 215970112.0000 - val_loss: 956339712.5470 - val_mean_absolute_error: 17302.6074 - val_mean_squared_error: 956339712.0000\n",
      "Epoch 387/1000\n",
      "934/934 [==============================] - 0s 48us/sample - loss: 225923483.6488 - mean_absolute_error: 10708.7383 - mean_squared_error: 225923472.0000 - val_loss: 909569063.3846 - val_mean_absolute_error: 17163.8613 - val_mean_squared_error: 909569024.0000\n",
      "Epoch 388/1000\n",
      "934/934 [==============================] - 0s 50us/sample - loss: 221655693.4304 - mean_absolute_error: 11047.1074 - mean_squared_error: 221655696.0000 - val_loss: 979282268.4444 - val_mean_absolute_error: 17686.5801 - val_mean_squared_error: 979282240.0000\n",
      "Epoch 389/1000\n",
      "934/934 [==============================] - 0s 47us/sample - loss: 254997743.8287 - mean_absolute_error: 11861.6572 - mean_squared_error: 254997744.0000 - val_loss: 954853449.0256 - val_mean_absolute_error: 18104.4258 - val_mean_squared_error: 954853440.0000\n",
      "Epoch 390/1000\n",
      "934/934 [==============================] - 0s 49us/sample - loss: 253802010.0642 - mean_absolute_error: 11799.0479 - mean_squared_error: 253802032.0000 - val_loss: 928560415.4530 - val_mean_absolute_error: 17393.5410 - val_mean_squared_error: 928560384.0000\n",
      "Epoch 391/1000\n",
      "934/934 [==============================] - 0s 55us/sample - loss: 210880122.9636 - mean_absolute_error: 10361.0371 - mean_squared_error: 210880112.0000 - val_loss: 919782966.1538 - val_mean_absolute_error: 17326.5957 - val_mean_squared_error: 919782976.0000\n",
      "Epoch 392/1000\n",
      "934/934 [==============================] - 0s 49us/sample - loss: 206511137.2848 - mean_absolute_error: 10315.6201 - mean_squared_error: 206511136.0000 - val_loss: 987112207.8632 - val_mean_absolute_error: 18056.4863 - val_mean_squared_error: 987112256.0000\n",
      "Epoch 393/1000\n",
      "934/934 [==============================] - 0s 46us/sample - loss: 210334631.4004 - mean_absolute_error: 10523.0352 - mean_squared_error: 210334640.0000 - val_loss: 893542924.8547 - val_mean_absolute_error: 17122.0156 - val_mean_squared_error: 893542976.0000\n",
      "Epoch 394/1000\n",
      "934/934 [==============================] - 0s 48us/sample - loss: 212602966.2698 - mean_absolute_error: 10500.9287 - mean_squared_error: 212602960.0000 - val_loss: 944126735.8632 - val_mean_absolute_error: 17567.0234 - val_mean_squared_error: 944126720.0000\n",
      "Epoch 395/1000\n",
      "934/934 [==============================] - 0s 47us/sample - loss: 213902492.8651 - mean_absolute_error: 10562.3516 - mean_squared_error: 213902464.0000 - val_loss: 910900333.3333 - val_mean_absolute_error: 17646.2480 - val_mean_squared_error: 910900352.0000\n",
      "Epoch 396/1000\n",
      "934/934 [==============================] - 0s 50us/sample - loss: 211744805.7901 - mean_absolute_error: 10586.2568 - mean_squared_error: 211744832.0000 - val_loss: 925421332.7863 - val_mean_absolute_error: 17468.6562 - val_mean_squared_error: 925421248.0000\n",
      "Epoch 397/1000\n",
      "934/934 [==============================] - 0s 48us/sample - loss: 237003403.9743 - mean_absolute_error: 11262.6328 - mean_squared_error: 237003408.0000 - val_loss: 983483575.5214 - val_mean_absolute_error: 18708.1094 - val_mean_squared_error: 983483648.0000\n",
      "Epoch 398/1000\n",
      "934/934 [==============================] - 0s 46us/sample - loss: 297924168.0857 - mean_absolute_error: 12167.4961 - mean_squared_error: 297924160.0000 - val_loss: 880543960.6154 - val_mean_absolute_error: 17692.4707 - val_mean_squared_error: 880544000.0000\n",
      "Epoch 399/1000\n",
      "934/934 [==============================] - 0s 47us/sample - loss: 266291028.6938 - mean_absolute_error: 11127.3066 - mean_squared_error: 266291008.0000 - val_loss: 902669312.0000 - val_mean_absolute_error: 17719.4844 - val_mean_squared_error: 902669312.0000\n",
      "Epoch 400/1000\n",
      "934/934 [==============================] - 0s 46us/sample - loss: 241570912.6681 - mean_absolute_error: 11277.6777 - mean_squared_error: 241570912.0000 - val_loss: 910420739.5556 - val_mean_absolute_error: 17312.9512 - val_mean_squared_error: 910420736.0000\n",
      "Epoch 401/1000\n",
      "934/934 [==============================] - 0s 47us/sample - loss: 213511699.8030 - mean_absolute_error: 10439.3633 - mean_squared_error: 213511712.0000 - val_loss: 921994000.1368 - val_mean_absolute_error: 17297.0957 - val_mean_squared_error: 921993984.0000\n",
      "Epoch 402/1000\n",
      "934/934 [==============================] - 0s 47us/sample - loss: 241566940.9165 - mean_absolute_error: 10899.1104 - mean_squared_error: 241566944.0000 - val_loss: 1003680504.8889 - val_mean_absolute_error: 18522.7480 - val_mean_squared_error: 1003680576.0000\n",
      "Epoch 403/1000\n",
      "934/934 [==============================] - 0s 47us/sample - loss: 343437983.5203 - mean_absolute_error: 12819.4824 - mean_squared_error: 343437984.0000 - val_loss: 1090567204.9231 - val_mean_absolute_error: 18528.2148 - val_mean_squared_error: 1090567168.0000\n",
      "Epoch 404/1000\n",
      "934/934 [==============================] - 0s 47us/sample - loss: 302278087.8801 - mean_absolute_error: 11615.4668 - mean_squared_error: 302278048.0000 - val_loss: 1010517610.3932 - val_mean_absolute_error: 18488.4492 - val_mean_squared_error: 1010517504.0000\n",
      "Epoch 405/1000\n",
      "934/934 [==============================] - 0s 49us/sample - loss: 384091884.4711 - mean_absolute_error: 13484.9570 - mean_squared_error: 384091904.0000 - val_loss: 969909958.5641 - val_mean_absolute_error: 19349.1035 - val_mean_squared_error: 969909952.0000\n",
      "Epoch 406/1000\n",
      "934/934 [==============================] - 0s 47us/sample - loss: 246986298.1242 - mean_absolute_error: 11250.8115 - mean_squared_error: 246986304.0000 - val_loss: 1035554919.1111 - val_mean_absolute_error: 17596.3359 - val_mean_squared_error: 1035554944.0000\n",
      "Epoch 407/1000\n",
      "934/934 [==============================] - 0s 49us/sample - loss: 222818320.3769 - mean_absolute_error: 10894.4639 - mean_squared_error: 222818272.0000 - val_loss: 942493602.4615 - val_mean_absolute_error: 17140.8320 - val_mean_squared_error: 942493568.0000\n",
      "Epoch 408/1000\n",
      "934/934 [==============================] - 0s 48us/sample - loss: 207589930.7580 - mean_absolute_error: 10452.7598 - mean_squared_error: 207589936.0000 - val_loss: 926109360.1368 - val_mean_absolute_error: 17630.2031 - val_mean_squared_error: 926109312.0000\n",
      "Epoch 409/1000\n",
      "934/934 [==============================] - 0s 48us/sample - loss: 209571588.6938 - mean_absolute_error: 10416.8809 - mean_squared_error: 209571616.0000 - val_loss: 919631582.0855 - val_mean_absolute_error: 17206.5059 - val_mean_squared_error: 919631552.0000\n",
      "Epoch 410/1000\n",
      "934/934 [==============================] - 0s 48us/sample - loss: 206499666.9807 - mean_absolute_error: 10355.9316 - mean_squared_error: 206499680.0000 - val_loss: 917463355.0769 - val_mean_absolute_error: 17326.2871 - val_mean_squared_error: 917463296.0000\n",
      "Epoch 411/1000\n",
      "934/934 [==============================] - 0s 47us/sample - loss: 212216994.9807 - mean_absolute_error: 10510.7852 - mean_squared_error: 212217008.0000 - val_loss: 894598773.0598 - val_mean_absolute_error: 17295.0020 - val_mean_squared_error: 894598720.0000\n",
      "Epoch 412/1000\n",
      "934/934 [==============================] - 0s 48us/sample - loss: 276851180.9507 - mean_absolute_error: 11195.4014 - mean_squared_error: 276851168.0000 - val_loss: 942625766.0171 - val_mean_absolute_error: 17797.6914 - val_mean_squared_error: 942625792.0000\n",
      "Epoch 413/1000\n",
      "934/934 [==============================] - 0s 56us/sample - loss: 370079220.5225 - mean_absolute_error: 12084.4326 - mean_squared_error: 370079200.0000 - val_loss: 937890563.8291 - val_mean_absolute_error: 17876.8652 - val_mean_squared_error: 937890688.0000\n",
      "Epoch 414/1000\n",
      "934/934 [==============================] - 0s 48us/sample - loss: 223095876.7966 - mean_absolute_error: 10650.6484 - mean_squared_error: 223095888.0000 - val_loss: 921841878.9744 - val_mean_absolute_error: 17467.2109 - val_mean_squared_error: 921841856.0000\n",
      "Epoch 415/1000\n",
      "934/934 [==============================] - 0s 46us/sample - loss: 215030381.6274 - mean_absolute_error: 10802.7139 - mean_squared_error: 215030400.0000 - val_loss: 961637330.0513 - val_mean_absolute_error: 17430.9941 - val_mean_squared_error: 961637376.0000\n",
      "Epoch 416/1000\n",
      "934/934 [==============================] - 0s 49us/sample - loss: 216552658.3983 - mean_absolute_error: 10744.5332 - mean_squared_error: 216552656.0000 - val_loss: 934784594.0513 - val_mean_absolute_error: 17784.7773 - val_mean_squared_error: 934784640.0000\n",
      "Epoch 417/1000\n",
      "934/934 [==============================] - 0s 47us/sample - loss: 222039495.4861 - mean_absolute_error: 10667.0596 - mean_squared_error: 222039504.0000 - val_loss: 941135268.1026 - val_mean_absolute_error: 17362.1367 - val_mean_squared_error: 941135232.0000\n",
      "Epoch 418/1000\n",
      "934/934 [==============================] - 0s 48us/sample - loss: 217722923.7173 - mean_absolute_error: 10744.1768 - mean_squared_error: 217722912.0000 - val_loss: 935282792.4786 - val_mean_absolute_error: 17601.0039 - val_mean_squared_error: 935282752.0000\n",
      "Epoch 419/1000\n",
      "934/934 [==============================] - 0s 49us/sample - loss: 341712304.1884 - mean_absolute_error: 11740.3643 - mean_squared_error: 341712320.0000 - val_loss: 858809667.2821 - val_mean_absolute_error: 17234.5488 - val_mean_squared_error: 858809664.0000\n",
      "Epoch 420/1000\n",
      "934/934 [==============================] - 0s 47us/sample - loss: 281650777.3876 - mean_absolute_error: 11713.0146 - mean_squared_error: 281650752.0000 - val_loss: 1015080601.7094 - val_mean_absolute_error: 18363.3965 - val_mean_squared_error: 1015080576.0000\n",
      "Epoch 421/1000\n"
     ]
    },
    {
     "name": "stdout",
     "output_type": "stream",
     "text": [
      "934/934 [==============================] - 0s 47us/sample - loss: 277039603.2548 - mean_absolute_error: 11594.1084 - mean_squared_error: 277039552.0000 - val_loss: 892589357.9487 - val_mean_absolute_error: 17507.1348 - val_mean_squared_error: 892589312.0000\n",
      "Epoch 422/1000\n",
      "934/934 [==============================] - 0s 47us/sample - loss: 244372050.3126 - mean_absolute_error: 11369.3213 - mean_squared_error: 244372064.0000 - val_loss: 924799816.7521 - val_mean_absolute_error: 17419.9336 - val_mean_squared_error: 924799872.0000\n",
      "Epoch 423/1000\n",
      "934/934 [==============================] - 0s 49us/sample - loss: 204493207.9829 - mean_absolute_error: 10359.5771 - mean_squared_error: 204493232.0000 - val_loss: 916319175.1111 - val_mean_absolute_error: 17575.4336 - val_mean_squared_error: 916319168.0000\n",
      "Epoch 424/1000\n",
      "934/934 [==============================] - 0s 44us/sample - loss: 216498221.4304 - mean_absolute_error: 10756.9961 - mean_squared_error: 216498224.0000 - val_loss: 926342238.3590 - val_mean_absolute_error: 17262.2715 - val_mean_squared_error: 926342272.0000\n",
      "Epoch 425/1000\n",
      "934/934 [==============================] - 0s 43us/sample - loss: 227956062.4925 - mean_absolute_error: 11160.3418 - mean_squared_error: 227956032.0000 - val_loss: 934026599.3846 - val_mean_absolute_error: 17525.0957 - val_mean_squared_error: 934026560.0000\n",
      "Epoch 426/1000\n",
      "934/934 [==============================] - 0s 47us/sample - loss: 202737711.8287 - mean_absolute_error: 10340.4492 - mean_squared_error: 202737728.0000 - val_loss: 929386302.9060 - val_mean_absolute_error: 17481.4805 - val_mean_squared_error: 929386304.0000\n",
      "Epoch 427/1000\n",
      "934/934 [==============================] - 0s 50us/sample - loss: 208724821.0021 - mean_absolute_error: 10381.6289 - mean_squared_error: 208724816.0000 - val_loss: 928012053.8803 - val_mean_absolute_error: 17533.7793 - val_mean_squared_error: 928012032.0000\n",
      "Epoch 428/1000\n",
      "934/934 [==============================] - 0s 45us/sample - loss: 208263594.6552 - mean_absolute_error: 10531.6475 - mean_squared_error: 208263584.0000 - val_loss: 911939224.8889 - val_mean_absolute_error: 17791.8926 - val_mean_squared_error: 911939200.0000\n",
      "Epoch 429/1000\n",
      "934/934 [==============================] - 0s 47us/sample - loss: 217162028.4368 - mean_absolute_error: 10640.3857 - mean_squared_error: 217162048.0000 - val_loss: 915787889.7778 - val_mean_absolute_error: 17311.9023 - val_mean_squared_error: 915787840.0000\n",
      "Epoch 430/1000\n",
      "934/934 [==============================] - 0s 46us/sample - loss: 297187783.9657 - mean_absolute_error: 11572.0215 - mean_squared_error: 297187808.0000 - val_loss: 1000982579.4188 - val_mean_absolute_error: 20329.5469 - val_mean_squared_error: 1000982592.0000\n",
      "Epoch 431/1000\n",
      "934/934 [==============================] - 0s 46us/sample - loss: 237367456.0171 - mean_absolute_error: 11270.5371 - mean_squared_error: 237367456.0000 - val_loss: 901829156.6496 - val_mean_absolute_error: 17385.8047 - val_mean_squared_error: 901829184.0000\n",
      "Epoch 432/1000\n",
      "934/934 [==============================] - 0s 43us/sample - loss: 254128315.1349 - mean_absolute_error: 11260.0098 - mean_squared_error: 254128368.0000 - val_loss: 912558461.2650 - val_mean_absolute_error: 17252.8574 - val_mean_squared_error: 912558400.0000\n",
      "Epoch 433/1000\n",
      "934/934 [==============================] - 0s 57us/sample - loss: 292716587.0321 - mean_absolute_error: 11425.4365 - mean_squared_error: 292716608.0000 - val_loss: 905394182.5641 - val_mean_absolute_error: 17144.9414 - val_mean_squared_error: 905394112.0000\n",
      "Epoch 434/1000\n",
      "934/934 [==============================] - 0s 46us/sample - loss: 227716681.8844 - mean_absolute_error: 10674.1377 - mean_squared_error: 227716656.0000 - val_loss: 917081953.0940 - val_mean_absolute_error: 17397.2168 - val_mean_squared_error: 917082048.0000\n",
      "Epoch 435/1000\n",
      "934/934 [==============================] - 0s 46us/sample - loss: 230139761.4732 - mean_absolute_error: 11151.2676 - mean_squared_error: 230139776.0000 - val_loss: 900409876.6496 - val_mean_absolute_error: 17646.2012 - val_mean_squared_error: 900409792.0000\n",
      "Epoch 436/1000\n",
      "934/934 [==============================] - 0s 46us/sample - loss: 205332994.7752 - mean_absolute_error: 10353.9004 - mean_squared_error: 205332976.0000 - val_loss: 931762812.7179 - val_mean_absolute_error: 17323.5957 - val_mean_squared_error: 931762816.0000\n",
      "Epoch 437/1000\n",
      "934/934 [==============================] - 0s 44us/sample - loss: 222466433.9872 - mean_absolute_error: 10951.8008 - mean_squared_error: 222466400.0000 - val_loss: 921485107.6923 - val_mean_absolute_error: 17928.6973 - val_mean_squared_error: 921485184.0000\n",
      "Epoch 438/1000\n",
      "934/934 [==============================] - 0s 45us/sample - loss: 221909431.2976 - mean_absolute_error: 11080.2803 - mean_squared_error: 221909456.0000 - val_loss: 967692051.4188 - val_mean_absolute_error: 17715.7812 - val_mean_squared_error: 967691968.0000\n",
      "Epoch 439/1000\n",
      "934/934 [==============================] - 0s 45us/sample - loss: 239660872.8394 - mean_absolute_error: 11566.6035 - mean_squared_error: 239660864.0000 - val_loss: 982590737.3675 - val_mean_absolute_error: 18036.6211 - val_mean_squared_error: 982590784.0000\n",
      "Epoch 440/1000\n",
      "934/934 [==============================] - 0s 48us/sample - loss: 213405435.2377 - mean_absolute_error: 10536.4746 - mean_squared_error: 213405424.0000 - val_loss: 941437453.6752 - val_mean_absolute_error: 17767.0430 - val_mean_squared_error: 941437440.0000\n",
      "Epoch 441/1000\n",
      "934/934 [==============================] - 0s 47us/sample - loss: 197747139.7345 - mean_absolute_error: 10215.8828 - mean_squared_error: 197747120.0000 - val_loss: 931341035.7607 - val_mean_absolute_error: 17294.7559 - val_mean_squared_error: 931341056.0000\n",
      "Epoch 442/1000\n",
      "934/934 [==============================] - 0s 48us/sample - loss: 202185034.4497 - mean_absolute_error: 10258.1680 - mean_squared_error: 202185040.0000 - val_loss: 920585285.0598 - val_mean_absolute_error: 17589.9551 - val_mean_squared_error: 920585344.0000\n",
      "Epoch 443/1000\n",
      "934/934 [==============================] - 0s 49us/sample - loss: 223403527.7430 - mean_absolute_error: 11204.7959 - mean_squared_error: 223403536.0000 - val_loss: 921613220.3761 - val_mean_absolute_error: 17737.3887 - val_mean_squared_error: 921613184.0000\n",
      "Epoch 444/1000\n",
      "934/934 [==============================] - 0s 47us/sample - loss: 206180241.7131 - mean_absolute_error: 10502.9736 - mean_squared_error: 206180224.0000 - val_loss: 1028130654.0855 - val_mean_absolute_error: 18509.5410 - val_mean_squared_error: 1028130688.0000\n",
      "Epoch 445/1000\n",
      "934/934 [==============================] - 0s 43us/sample - loss: 220606796.7109 - mean_absolute_error: 11073.0801 - mean_squared_error: 220606800.0000 - val_loss: 887362494.9060 - val_mean_absolute_error: 17143.3457 - val_mean_squared_error: 887362496.0000\n",
      "Epoch 446/1000\n",
      "934/934 [==============================] - 0s 45us/sample - loss: 203564031.9657 - mean_absolute_error: 10355.5225 - mean_squared_error: 203563984.0000 - val_loss: 918071937.0940 - val_mean_absolute_error: 17194.0371 - val_mean_squared_error: 918072000.0000\n",
      "Epoch 447/1000\n",
      "934/934 [==============================] - 0s 48us/sample - loss: 208222503.9143 - mean_absolute_error: 10403.0117 - mean_squared_error: 208222480.0000 - val_loss: 958922404.1026 - val_mean_absolute_error: 17775.4043 - val_mean_squared_error: 958922432.0000\n",
      "Epoch 448/1000\n",
      "934/934 [==============================] - 0s 50us/sample - loss: 197580620.9593 - mean_absolute_error: 10185.7646 - mean_squared_error: 197580624.0000 - val_loss: 907630788.9231 - val_mean_absolute_error: 17588.1797 - val_mean_squared_error: 907630656.0000\n",
      "Epoch 449/1000\n",
      "934/934 [==============================] - 0s 49us/sample - loss: 201846847.4861 - mean_absolute_error: 10420.5879 - mean_squared_error: 201846864.0000 - val_loss: 926548011.7607 - val_mean_absolute_error: 17752.7754 - val_mean_squared_error: 926548032.0000\n",
      "Epoch 450/1000\n",
      "934/934 [==============================] - 0s 46us/sample - loss: 200236795.3405 - mean_absolute_error: 10288.4424 - mean_squared_error: 200236800.0000 - val_loss: 965320924.4444 - val_mean_absolute_error: 18018.8613 - val_mean_squared_error: 965320896.0000\n",
      "Epoch 451/1000\n"
     ]
    },
    {
     "name": "stdout",
     "output_type": "stream",
     "text": [
      "934/934 [==============================] - 0s 46us/sample - loss: 211783428.9336 - mean_absolute_error: 10698.9014 - mean_squared_error: 211783440.0000 - val_loss: 924553049.7094 - val_mean_absolute_error: 17426.2441 - val_mean_squared_error: 924553024.0000\n",
      "Epoch 452/1000\n",
      "934/934 [==============================] - 0s 45us/sample - loss: 231598278.9893 - mean_absolute_error: 11231.2803 - mean_squared_error: 231598320.0000 - val_loss: 958852699.0769 - val_mean_absolute_error: 17931.9414 - val_mean_squared_error: 958852672.0000\n",
      "Epoch 453/1000\n",
      "934/934 [==============================] - 0s 44us/sample - loss: 248588602.8608 - mean_absolute_error: 11594.0898 - mean_squared_error: 248588576.0000 - val_loss: 1012958115.8291 - val_mean_absolute_error: 19645.7305 - val_mean_squared_error: 1012958144.0000\n",
      "Epoch 454/1000\n",
      "934/934 [==============================] - 0s 43us/sample - loss: 209134167.0236 - mean_absolute_error: 10558.5400 - mean_squared_error: 209134144.0000 - val_loss: 936625054.6325 - val_mean_absolute_error: 17190.1172 - val_mean_squared_error: 936625024.0000\n",
      "Epoch 455/1000\n",
      "934/934 [==============================] - 0s 46us/sample - loss: 198030423.1263 - mean_absolute_error: 10081.3018 - mean_squared_error: 198030432.0000 - val_loss: 976512025.7094 - val_mean_absolute_error: 17326.3730 - val_mean_squared_error: 976512128.0000\n",
      "Epoch 456/1000\n",
      "934/934 [==============================] - 0s 49us/sample - loss: 213407870.4240 - mean_absolute_error: 10591.4004 - mean_squared_error: 213407856.0000 - val_loss: 943933679.8632 - val_mean_absolute_error: 17879.1875 - val_mean_squared_error: 943933632.0000\n",
      "Epoch 457/1000\n",
      "934/934 [==============================] - 0s 48us/sample - loss: 208072628.6167 - mean_absolute_error: 10487.3145 - mean_squared_error: 208072624.0000 - val_loss: 975186813.1282 - val_mean_absolute_error: 17561.7969 - val_mean_squared_error: 975186880.0000\n",
      "Epoch 458/1000\n",
      "934/934 [==============================] - 0s 48us/sample - loss: 232048507.4090 - mean_absolute_error: 10860.1230 - mean_squared_error: 232048480.0000 - val_loss: 937226949.4701 - val_mean_absolute_error: 17956.6113 - val_mean_squared_error: 937226944.0000\n",
      "Epoch 459/1000\n",
      "934/934 [==============================] - 0s 48us/sample - loss: 208089164.3683 - mean_absolute_error: 10633.2070 - mean_squared_error: 208089152.0000 - val_loss: 975161038.2222 - val_mean_absolute_error: 17552.8730 - val_mean_squared_error: 975160960.0000\n",
      "Epoch 460/1000\n",
      "934/934 [==============================] - 0s 48us/sample - loss: 208792078.4754 - mean_absolute_error: 10479.5791 - mean_squared_error: 208792080.0000 - val_loss: 932947027.4188 - val_mean_absolute_error: 17335.3203 - val_mean_squared_error: 932947072.0000\n",
      "Epoch 461/1000\n",
      "934/934 [==============================] - 0s 42us/sample - loss: 227711391.7687 - mean_absolute_error: 11034.6709 - mean_squared_error: 227711392.0000 - val_loss: 947746268.9915 - val_mean_absolute_error: 18670.9180 - val_mean_squared_error: 947746304.0000\n",
      "Epoch 462/1000\n",
      "934/934 [==============================] - 0s 45us/sample - loss: 212181921.2677 - mean_absolute_error: 10633.2637 - mean_squared_error: 212181904.0000 - val_loss: 913397955.0085 - val_mean_absolute_error: 17162.2676 - val_mean_squared_error: 913398080.0000\n",
      "Epoch 463/1000\n",
      "934/934 [==============================] - 0s 43us/sample - loss: 209943038.4925 - mean_absolute_error: 10450.3770 - mean_squared_error: 209943072.0000 - val_loss: 932427006.3590 - val_mean_absolute_error: 17696.3887 - val_mean_squared_error: 932427008.0000\n",
      "Epoch 464/1000\n",
      "934/934 [==============================] - 0s 46us/sample - loss: 201666771.0150 - mean_absolute_error: 10280.1855 - mean_squared_error: 201666784.0000 - val_loss: 943753156.9231 - val_mean_absolute_error: 17652.1523 - val_mean_squared_error: 943753152.0000\n",
      "Epoch 465/1000\n",
      "934/934 [==============================] - 0s 45us/sample - loss: 196844534.7152 - mean_absolute_error: 10109.0215 - mean_squared_error: 196844576.0000 - val_loss: 943183227.4872 - val_mean_absolute_error: 17534.1230 - val_mean_squared_error: 943183232.0000\n",
      "Epoch 466/1000\n",
      "934/934 [==============================] - 0s 43us/sample - loss: 219532026.1071 - mean_absolute_error: 11017.2178 - mean_squared_error: 219532016.0000 - val_loss: 961392001.6410 - val_mean_absolute_error: 18579.2070 - val_mean_squared_error: 961392000.0000\n",
      "Epoch 467/1000\n",
      "934/934 [==============================] - 0s 44us/sample - loss: 197288979.4775 - mean_absolute_error: 10188.0039 - mean_squared_error: 197288960.0000 - val_loss: 913048038.8376 - val_mean_absolute_error: 17145.6074 - val_mean_squared_error: 913048064.0000\n",
      "Epoch 468/1000\n",
      "934/934 [==============================] - 0s 46us/sample - loss: 194265497.1478 - mean_absolute_error: 10139.7822 - mean_squared_error: 194265504.0000 - val_loss: 945662101.8803 - val_mean_absolute_error: 17244.7012 - val_mean_squared_error: 945662080.0000\n",
      "Epoch 469/1000\n",
      "934/934 [==============================] - 0s 45us/sample - loss: 201500148.4711 - mean_absolute_error: 10361.5322 - mean_squared_error: 201500160.0000 - val_loss: 891775374.7692 - val_mean_absolute_error: 17310.2129 - val_mean_squared_error: 891775360.0000\n",
      "Epoch 470/1000\n",
      "934/934 [==============================] - 0s 44us/sample - loss: 215957980.3683 - mean_absolute_error: 10654.3545 - mean_squared_error: 215957968.0000 - val_loss: 989358390.8376 - val_mean_absolute_error: 17726.3242 - val_mean_squared_error: 989358336.0000\n",
      "Epoch 471/1000\n",
      "934/934 [==============================] - 0s 45us/sample - loss: 203069917.3448 - mean_absolute_error: 10469.4746 - mean_squared_error: 203069952.0000 - val_loss: 952281466.5299 - val_mean_absolute_error: 17746.7305 - val_mean_squared_error: 952281408.0000\n",
      "Epoch 472/1000\n",
      "934/934 [==============================] - 0s 49us/sample - loss: 199344956.4711 - mean_absolute_error: 10249.7344 - mean_squared_error: 199344976.0000 - val_loss: 913642673.7778 - val_mean_absolute_error: 17189.2090 - val_mean_squared_error: 913642688.0000\n",
      "Epoch 473/1000\n",
      "934/934 [==============================] - 0s 57us/sample - loss: 195323566.6467 - mean_absolute_error: 10220.4541 - mean_squared_error: 195323568.0000 - val_loss: 887891810.5983 - val_mean_absolute_error: 17304.1895 - val_mean_squared_error: 887891840.0000\n",
      "Epoch 474/1000\n",
      "934/934 [==============================] - 0s 56us/sample - loss: 192914225.3362 - mean_absolute_error: 10135.7090 - mean_squared_error: 192914208.0000 - val_loss: 906163467.7607 - val_mean_absolute_error: 17296.7930 - val_mean_squared_error: 906163392.0000\n",
      "Epoch 475/1000\n",
      "934/934 [==============================] - 0s 49us/sample - loss: 266781602.4325 - mean_absolute_error: 11242.3252 - mean_squared_error: 266781568.0000 - val_loss: 1107885213.5385 - val_mean_absolute_error: 19087.7891 - val_mean_squared_error: 1107885184.0000\n",
      "Epoch 476/1000\n",
      "934/934 [==============================] - 0s 49us/sample - loss: 1265138647.7088 - mean_absolute_error: 19174.4668 - mean_squared_error: 1265138688.0000 - val_loss: 1734582003.4188 - val_mean_absolute_error: 24210.2520 - val_mean_squared_error: 1734582016.0000\n",
      "Epoch 477/1000\n",
      "934/934 [==============================] - 0s 48us/sample - loss: 1177378320.9936 - mean_absolute_error: 18734.4609 - mean_squared_error: 1177378432.0000 - val_loss: 1014058814.3590 - val_mean_absolute_error: 20726.8438 - val_mean_squared_error: 1014058816.0000\n",
      "Epoch 478/1000\n",
      "934/934 [==============================] - 0s 48us/sample - loss: 384299776.2655 - mean_absolute_error: 12772.0664 - mean_squared_error: 384299808.0000 - val_loss: 933986508.5812 - val_mean_absolute_error: 17766.5371 - val_mean_squared_error: 933986496.0000\n",
      "Epoch 479/1000\n",
      "934/934 [==============================] - 0s 49us/sample - loss: 249980892.7281 - mean_absolute_error: 11316.0381 - mean_squared_error: 249980896.0000 - val_loss: 1004740025.1624 - val_mean_absolute_error: 18055.3242 - val_mean_squared_error: 1004740032.0000\n",
      "Epoch 480/1000\n",
      "934/934 [==============================] - 0s 50us/sample - loss: 279815249.2334 - mean_absolute_error: 11170.3809 - mean_squared_error: 279815264.0000 - val_loss: 1002024091.6239 - val_mean_absolute_error: 18138.5078 - val_mean_squared_error: 1002024064.0000\n",
      "Epoch 481/1000\n"
     ]
    },
    {
     "name": "stdout",
     "output_type": "stream",
     "text": [
      "934/934 [==============================] - 0s 47us/sample - loss: 365154673.9529 - mean_absolute_error: 12938.4023 - mean_squared_error: 365154656.0000 - val_loss: 1154259001.7094 - val_mean_absolute_error: 19093.3730 - val_mean_squared_error: 1154258944.0000\n",
      "Epoch 482/1000\n",
      "934/934 [==============================] - 0s 51us/sample - loss: 497937947.6253 - mean_absolute_error: 13609.8398 - mean_squared_error: 497938016.0000 - val_loss: 926802681.9829 - val_mean_absolute_error: 18078.6719 - val_mean_squared_error: 926802688.0000\n",
      "Epoch 483/1000\n",
      "934/934 [==============================] - 0s 50us/sample - loss: 259311248.1713 - mean_absolute_error: 11049.7666 - mean_squared_error: 259311232.0000 - val_loss: 952054974.3590 - val_mean_absolute_error: 17863.5391 - val_mean_squared_error: 952054912.0000\n",
      "Epoch 484/1000\n",
      "934/934 [==============================] - 0s 49us/sample - loss: 394611956.4197 - mean_absolute_error: 12275.9658 - mean_squared_error: 394611904.0000 - val_loss: 936740546.1880 - val_mean_absolute_error: 18643.6621 - val_mean_squared_error: 936740544.0000\n",
      "Epoch 485/1000\n",
      "934/934 [==============================] - 0s 49us/sample - loss: 468141411.3576 - mean_absolute_error: 13260.2422 - mean_squared_error: 468141344.0000 - val_loss: 1028624418.1880 - val_mean_absolute_error: 19124.3496 - val_mean_squared_error: 1028624448.0000\n",
      "Epoch 486/1000\n",
      "934/934 [==============================] - 0s 48us/sample - loss: 228535984.1713 - mean_absolute_error: 11030.2744 - mean_squared_error: 228535984.0000 - val_loss: 906137282.7350 - val_mean_absolute_error: 18113.0996 - val_mean_squared_error: 906137280.0000\n",
      "Epoch 487/1000\n",
      "934/934 [==============================] - 0s 43us/sample - loss: 208533302.2184 - mean_absolute_error: 10396.1436 - mean_squared_error: 208533312.0000 - val_loss: 888770741.0598 - val_mean_absolute_error: 17524.6465 - val_mean_squared_error: 888770752.0000\n",
      "Epoch 488/1000\n",
      "934/934 [==============================] - 0s 43us/sample - loss: 199937306.5696 - mean_absolute_error: 10287.9531 - mean_squared_error: 199937296.0000 - val_loss: 927200141.9487 - val_mean_absolute_error: 18427.0410 - val_mean_squared_error: 927200192.0000\n",
      "Epoch 489/1000\n",
      "934/934 [==============================] - 0s 43us/sample - loss: 216668268.8137 - mean_absolute_error: 10516.4248 - mean_squared_error: 216668288.0000 - val_loss: 948628208.6838 - val_mean_absolute_error: 18058.2129 - val_mean_squared_error: 948628224.0000\n",
      "Epoch 490/1000\n",
      "934/934 [==============================] - 0s 45us/sample - loss: 218019567.0664 - mean_absolute_error: 11120.2568 - mean_squared_error: 218019552.0000 - val_loss: 878697977.9829 - val_mean_absolute_error: 17217.8320 - val_mean_squared_error: 878697984.0000\n",
      "Epoch 491/1000\n",
      "934/934 [==============================] - 0s 45us/sample - loss: 206417275.2034 - mean_absolute_error: 10291.3857 - mean_squared_error: 206417280.0000 - val_loss: 888077602.7350 - val_mean_absolute_error: 17354.9531 - val_mean_squared_error: 888077568.0000\n",
      "Epoch 492/1000\n",
      "934/934 [==============================] - 0s 44us/sample - loss: 250218982.3041 - mean_absolute_error: 11057.7803 - mean_squared_error: 250218960.0000 - val_loss: 1007691281.7778 - val_mean_absolute_error: 17695.1836 - val_mean_squared_error: 1007691328.0000\n",
      "Epoch 493/1000\n",
      "934/934 [==============================] - 0s 44us/sample - loss: 306870936.0514 - mean_absolute_error: 11618.5420 - mean_squared_error: 306870944.0000 - val_loss: 932887286.1538 - val_mean_absolute_error: 18599.1289 - val_mean_squared_error: 932887296.0000\n",
      "Epoch 494/1000\n",
      "934/934 [==============================] - 0s 45us/sample - loss: 232300103.1949 - mean_absolute_error: 10930.5703 - mean_squared_error: 232300128.0000 - val_loss: 980446295.6581 - val_mean_absolute_error: 17932.6074 - val_mean_squared_error: 980446336.0000\n",
      "Epoch 495/1000\n",
      "934/934 [==============================] - 0s 43us/sample - loss: 218354676.5910 - mean_absolute_error: 10571.2021 - mean_squared_error: 218354672.0000 - val_loss: 902055557.8803 - val_mean_absolute_error: 17912.3555 - val_mean_squared_error: 902055552.0000\n",
      "Epoch 496/1000\n",
      "934/934 [==============================] - 0s 44us/sample - loss: 257453599.5203 - mean_absolute_error: 11181.0908 - mean_squared_error: 257453584.0000 - val_loss: 995239224.8889 - val_mean_absolute_error: 18836.0312 - val_mean_squared_error: 995239232.0000\n",
      "Epoch 497/1000\n",
      "934/934 [==============================] - 0s 45us/sample - loss: 322922413.7730 - mean_absolute_error: 11601.1660 - mean_squared_error: 322922464.0000 - val_loss: 927603196.5812 - val_mean_absolute_error: 17599.5762 - val_mean_squared_error: 927603264.0000\n",
      "Epoch 498/1000\n",
      "934/934 [==============================] - 0s 46us/sample - loss: 205843090.2099 - mean_absolute_error: 10415.2461 - mean_squared_error: 205843104.0000 - val_loss: 923304268.8547 - val_mean_absolute_error: 17578.0176 - val_mean_squared_error: 923304256.0000\n",
      "Epoch 499/1000\n",
      "934/934 [==============================] - 0s 46us/sample - loss: 204034374.6467 - mean_absolute_error: 10334.8105 - mean_squared_error: 204034368.0000 - val_loss: 896930815.4530 - val_mean_absolute_error: 17586.0488 - val_mean_squared_error: 896930752.0000\n",
      "Epoch 500/1000\n",
      "934/934 [==============================] - 0s 47us/sample - loss: 200430227.0664 - mean_absolute_error: 10331.7734 - mean_squared_error: 200430224.0000 - val_loss: 916536050.5983 - val_mean_absolute_error: 17708.0137 - val_mean_squared_error: 916536064.0000\n",
      "Epoch 501/1000\n",
      "934/934 [==============================] - 0s 48us/sample - loss: 194333918.4497 - mean_absolute_error: 10098.6758 - mean_squared_error: 194333936.0000 - val_loss: 915037412.6496 - val_mean_absolute_error: 17464.2676 - val_mean_squared_error: 915037376.0000\n",
      "Epoch 502/1000\n",
      "934/934 [==============================] - 0s 49us/sample - loss: 204799154.6724 - mean_absolute_error: 10332.9961 - mean_squared_error: 204799152.0000 - val_loss: 903905216.6838 - val_mean_absolute_error: 17428.2969 - val_mean_squared_error: 903905152.0000\n",
      "Epoch 503/1000\n",
      "934/934 [==============================] - 0s 49us/sample - loss: 194552683.0064 - mean_absolute_error: 10136.0645 - mean_squared_error: 194552656.0000 - val_loss: 894373949.2650 - val_mean_absolute_error: 17745.2207 - val_mean_squared_error: 894374016.0000\n",
      "Epoch 504/1000\n",
      "934/934 [==============================] - 0s 48us/sample - loss: 189887239.6060 - mean_absolute_error: 9979.3115 - mean_squared_error: 189887248.0000 - val_loss: 936990092.0342 - val_mean_absolute_error: 18284.6387 - val_mean_squared_error: 936990016.0000\n",
      "Epoch 505/1000\n",
      "934/934 [==============================] - 0s 46us/sample - loss: 213493963.8373 - mean_absolute_error: 10685.6016 - mean_squared_error: 213493952.0000 - val_loss: 949937289.8462 - val_mean_absolute_error: 17604.9180 - val_mean_squared_error: 949937344.0000\n",
      "Epoch 506/1000\n",
      "934/934 [==============================] - 0s 47us/sample - loss: 210716828.2441 - mean_absolute_error: 10577.5283 - mean_squared_error: 210716848.0000 - val_loss: 921985573.7436 - val_mean_absolute_error: 17636.8359 - val_mean_squared_error: 921985600.0000\n",
      "Epoch 507/1000\n",
      "934/934 [==============================] - 0s 48us/sample - loss: 202715479.9143 - mean_absolute_error: 10277.0000 - mean_squared_error: 202715472.0000 - val_loss: 910241179.7607 - val_mean_absolute_error: 17997.3438 - val_mean_squared_error: 910241216.0000\n",
      "Epoch 508/1000\n",
      "934/934 [==============================] - 0s 50us/sample - loss: 199776561.5974 - mean_absolute_error: 10238.0986 - mean_squared_error: 199776528.0000 - val_loss: 925465070.2222 - val_mean_absolute_error: 17387.9453 - val_mean_squared_error: 925465024.0000\n",
      "Epoch 509/1000\n",
      "934/934 [==============================] - 0s 46us/sample - loss: 198977778.2955 - mean_absolute_error: 10413.6426 - mean_squared_error: 198977808.0000 - val_loss: 876689040.1368 - val_mean_absolute_error: 17512.5625 - val_mean_squared_error: 876689024.0000\n",
      "Epoch 510/1000\n",
      "934/934 [==============================] - 0s 46us/sample - loss: 191331856.2398 - mean_absolute_error: 9993.8252 - mean_squared_error: 191331856.0000 - val_loss: 892262833.2308 - val_mean_absolute_error: 17361.3652 - val_mean_squared_error: 892262848.0000\n",
      "Epoch 511/1000\n"
     ]
    },
    {
     "name": "stdout",
     "output_type": "stream",
     "text": [
      "934/934 [==============================] - 0s 46us/sample - loss: 200527072.5482 - mean_absolute_error: 10311.1455 - mean_squared_error: 200527072.0000 - val_loss: 902656380.7179 - val_mean_absolute_error: 17249.3398 - val_mean_squared_error: 902656384.0000\n",
      "Epoch 512/1000\n",
      "934/934 [==============================] - 0s 47us/sample - loss: 202443519.6745 - mean_absolute_error: 10294.2490 - mean_squared_error: 202443536.0000 - val_loss: 881981202.0513 - val_mean_absolute_error: 17385.8711 - val_mean_squared_error: 881981248.0000\n",
      "Epoch 513/1000\n",
      "934/934 [==============================] - 0s 48us/sample - loss: 231433103.6660 - mean_absolute_error: 10612.9619 - mean_squared_error: 231433120.0000 - val_loss: 896918780.9915 - val_mean_absolute_error: 17490.4668 - val_mean_squared_error: 896918784.0000\n",
      "Epoch 514/1000\n",
      "934/934 [==============================] - 0s 45us/sample - loss: 260931163.8887 - mean_absolute_error: 11362.2158 - mean_squared_error: 260931200.0000 - val_loss: 901765033.9829 - val_mean_absolute_error: 17602.8262 - val_mean_squared_error: 901764992.0000\n",
      "Epoch 515/1000\n",
      "934/934 [==============================] - 0s 47us/sample - loss: 288086653.5161 - mean_absolute_error: 11469.0264 - mean_squared_error: 288086624.0000 - val_loss: 832714163.5556 - val_mean_absolute_error: 16918.2031 - val_mean_squared_error: 832714112.0000\n",
      "Epoch 516/1000\n",
      "934/934 [==============================] - 0s 48us/sample - loss: 240060419.0835 - mean_absolute_error: 10901.3857 - mean_squared_error: 240060400.0000 - val_loss: 980168396.3077 - val_mean_absolute_error: 18233.2988 - val_mean_squared_error: 980168512.0000\n",
      "Epoch 517/1000\n",
      "934/934 [==============================] - 0s 48us/sample - loss: 240877689.4218 - mean_absolute_error: 11125.8076 - mean_squared_error: 240877728.0000 - val_loss: 897937590.1538 - val_mean_absolute_error: 17532.9570 - val_mean_squared_error: 897937536.0000\n",
      "Epoch 518/1000\n",
      "934/934 [==============================] - 0s 47us/sample - loss: 314177521.8158 - mean_absolute_error: 11738.6621 - mean_squared_error: 314177472.0000 - val_loss: 867469808.6838 - val_mean_absolute_error: 17394.5703 - val_mean_squared_error: 867469760.0000\n",
      "Epoch 519/1000\n",
      "934/934 [==============================] - 0s 47us/sample - loss: 205569006.1627 - mean_absolute_error: 10325.2891 - mean_squared_error: 205569024.0000 - val_loss: 887182729.8462 - val_mean_absolute_error: 17501.2344 - val_mean_squared_error: 887182656.0000\n",
      "Epoch 520/1000\n",
      "934/934 [==============================] - 0s 45us/sample - loss: 205779143.8801 - mean_absolute_error: 10302.2803 - mean_squared_error: 205779136.0000 - val_loss: 892989499.3504 - val_mean_absolute_error: 17684.1094 - val_mean_squared_error: 892989504.0000\n",
      "Epoch 521/1000\n",
      "934/934 [==============================] - 0s 47us/sample - loss: 187119936.7537 - mean_absolute_error: 9855.7559 - mean_squared_error: 187119952.0000 - val_loss: 877064542.3590 - val_mean_absolute_error: 17406.8203 - val_mean_squared_error: 877064640.0000\n",
      "Epoch 522/1000\n",
      "934/934 [==============================] - 0s 46us/sample - loss: 190488178.6210 - mean_absolute_error: 9961.9365 - mean_squared_error: 190488160.0000 - val_loss: 890679495.3846 - val_mean_absolute_error: 17998.5195 - val_mean_squared_error: 890679424.0000\n",
      "Epoch 523/1000\n",
      "934/934 [==============================] - 0s 45us/sample - loss: 234573734.6124 - mean_absolute_error: 10895.0225 - mean_squared_error: 234573728.0000 - val_loss: 938818034.5983 - val_mean_absolute_error: 18475.0098 - val_mean_squared_error: 938818048.0000\n",
      "Epoch 524/1000\n",
      "934/934 [==============================] - 0s 46us/sample - loss: 231470884.0771 - mean_absolute_error: 11097.9248 - mean_squared_error: 231470864.0000 - val_loss: 901091040.5470 - val_mean_absolute_error: 17371.0801 - val_mean_squared_error: 901091072.0000\n",
      "Epoch 525/1000\n",
      "934/934 [==============================] - 0s 47us/sample - loss: 196237136.4454 - mean_absolute_error: 10182.7783 - mean_squared_error: 196237136.0000 - val_loss: 886788748.0342 - val_mean_absolute_error: 17453.9219 - val_mean_squared_error: 886788672.0000\n",
      "Epoch 526/1000\n",
      "934/934 [==============================] - 0s 48us/sample - loss: 191521973.2420 - mean_absolute_error: 10043.0244 - mean_squared_error: 191522000.0000 - val_loss: 874384032.2735 - val_mean_absolute_error: 17315.3613 - val_mean_squared_error: 874384064.0000\n",
      "Epoch 527/1000\n",
      "934/934 [==============================] - 0s 47us/sample - loss: 241893630.9722 - mean_absolute_error: 10873.2891 - mean_squared_error: 241893632.0000 - val_loss: 954094653.2650 - val_mean_absolute_error: 18208.0293 - val_mean_squared_error: 954094656.0000\n",
      "Epoch 528/1000\n",
      "934/934 [==============================] - 0s 47us/sample - loss: 241875549.6874 - mean_absolute_error: 11516.1035 - mean_squared_error: 241875568.0000 - val_loss: 944298095.8632 - val_mean_absolute_error: 18574.8281 - val_mean_squared_error: 944298112.0000\n",
      "Epoch 529/1000\n",
      "934/934 [==============================] - 0s 46us/sample - loss: 256019328.5482 - mean_absolute_error: 11944.6064 - mean_squared_error: 256019296.0000 - val_loss: 894637074.3248 - val_mean_absolute_error: 17212.8848 - val_mean_squared_error: 894637056.0000\n",
      "Epoch 530/1000\n",
      "934/934 [==============================] - 0s 48us/sample - loss: 203733722.4154 - mean_absolute_error: 10404.7764 - mean_squared_error: 203733728.0000 - val_loss: 964169737.2991 - val_mean_absolute_error: 18711.5820 - val_mean_squared_error: 964169664.0000\n",
      "Epoch 531/1000\n",
      "934/934 [==============================] - 0s 46us/sample - loss: 203915805.3961 - mean_absolute_error: 10378.7666 - mean_squared_error: 203915792.0000 - val_loss: 887539835.7607 - val_mean_absolute_error: 17359.3711 - val_mean_squared_error: 887539840.0000\n",
      "Epoch 532/1000\n",
      "934/934 [==============================] - 0s 45us/sample - loss: 211463890.3983 - mean_absolute_error: 10603.5547 - mean_squared_error: 211463872.0000 - val_loss: 929270408.7521 - val_mean_absolute_error: 17774.5547 - val_mean_squared_error: 929270464.0000\n",
      "Epoch 533/1000\n",
      "934/934 [==============================] - 0s 46us/sample - loss: 230977426.6039 - mean_absolute_error: 10914.3203 - mean_squared_error: 230977440.0000 - val_loss: 980143218.0513 - val_mean_absolute_error: 17995.2031 - val_mean_squared_error: 980143232.0000\n",
      "Epoch 534/1000\n",
      "934/934 [==============================] - 0s 50us/sample - loss: 248675493.2848 - mean_absolute_error: 11197.8926 - mean_squared_error: 248675504.0000 - val_loss: 1073156498.0513 - val_mean_absolute_error: 18452.3926 - val_mean_squared_error: 1073156608.0000\n",
      "Epoch 535/1000\n",
      "934/934 [==============================] - 0s 48us/sample - loss: 561539974.2013 - mean_absolute_error: 13461.9512 - mean_squared_error: 561539968.0000 - val_loss: 971014309.1966 - val_mean_absolute_error: 19855.4961 - val_mean_squared_error: 971014272.0000\n",
      "Epoch 536/1000\n",
      "934/934 [==============================] - 0s 45us/sample - loss: 222399080.0514 - mean_absolute_error: 10725.1406 - mean_squared_error: 222399072.0000 - val_loss: 876980364.0342 - val_mean_absolute_error: 17462.6289 - val_mean_squared_error: 876980416.0000\n",
      "Epoch 537/1000\n",
      "934/934 [==============================] - 0s 48us/sample - loss: 194898294.4069 - mean_absolute_error: 10124.8730 - mean_squared_error: 194898352.0000 - val_loss: 903528242.3248 - val_mean_absolute_error: 18115.8477 - val_mean_squared_error: 903528320.0000\n",
      "Epoch 538/1000\n",
      "934/934 [==============================] - 0s 44us/sample - loss: 191556956.3683 - mean_absolute_error: 10114.0264 - mean_squared_error: 191556944.0000 - val_loss: 926782097.5043 - val_mean_absolute_error: 17333.7773 - val_mean_squared_error: 926782080.0000\n",
      "Epoch 539/1000\n",
      "934/934 [==============================] - 0s 43us/sample - loss: 184488253.0535 - mean_absolute_error: 9817.1709 - mean_squared_error: 184488256.0000 - val_loss: 920016767.4530 - val_mean_absolute_error: 17380.6309 - val_mean_squared_error: 920016768.0000\n",
      "Epoch 540/1000\n",
      "934/934 [==============================] - 0s 44us/sample - loss: 193543442.8351 - mean_absolute_error: 10176.0078 - mean_squared_error: 193543440.0000 - val_loss: 891946841.9829 - val_mean_absolute_error: 17446.7695 - val_mean_squared_error: 891946880.0000\n",
      "Epoch 541/1000\n",
      "934/934 [==============================] - 0s 45us/sample - loss: 187121152.2398 - mean_absolute_error: 9905.8682 - mean_squared_error: 187121168.0000 - val_loss: 932765675.2137 - val_mean_absolute_error: 18133.4746 - val_mean_squared_error: 932765696.0000\n",
      "Epoch 542/1000\n",
      "934/934 [==============================] - 0s 46us/sample - loss: 207597933.7045 - mean_absolute_error: 10523.8555 - mean_squared_error: 207597968.0000 - val_loss: 896269101.9487 - val_mean_absolute_error: 17295.1309 - val_mean_squared_error: 896269056.0000\n",
      "Epoch 543/1000\n",
      "934/934 [==============================] - 0s 44us/sample - loss: 191618788.1627 - mean_absolute_error: 10033.5742 - mean_squared_error: 191618768.0000 - val_loss: 909546410.3932 - val_mean_absolute_error: 17539.3223 - val_mean_squared_error: 909546432.0000\n",
      "Epoch 544/1000\n",
      "934/934 [==============================] - 0s 46us/sample - loss: 187575391.7259 - mean_absolute_error: 9799.9062 - mean_squared_error: 187575424.0000 - val_loss: 896996343.9316 - val_mean_absolute_error: 17382.0312 - val_mean_squared_error: 896996352.0000\n",
      "Epoch 545/1000\n",
      "934/934 [==============================] - 0s 49us/sample - loss: 188584703.3833 - mean_absolute_error: 10002.5703 - mean_squared_error: 188584688.0000 - val_loss: 917865353.5726 - val_mean_absolute_error: 17731.9590 - val_mean_squared_error: 917865280.0000\n",
      "Epoch 546/1000\n",
      "934/934 [==============================] - 0s 47us/sample - loss: 218617661.1221 - mean_absolute_error: 11138.7695 - mean_squared_error: 218617680.0000 - val_loss: 883730077.2650 - val_mean_absolute_error: 17367.5234 - val_mean_squared_error: 883730176.0000\n",
      "Epoch 547/1000\n",
      "934/934 [==============================] - 0s 47us/sample - loss: 193425121.3362 - mean_absolute_error: 10008.9473 - mean_squared_error: 193425136.0000 - val_loss: 897883130.1197 - val_mean_absolute_error: 17312.3613 - val_mean_squared_error: 897883136.0000\n",
      "Epoch 548/1000\n",
      "934/934 [==============================] - 0s 46us/sample - loss: 190925877.8244 - mean_absolute_error: 10006.9785 - mean_squared_error: 190925856.0000 - val_loss: 918876730.5299 - val_mean_absolute_error: 17644.7324 - val_mean_squared_error: 918876672.0000\n",
      "Epoch 549/1000\n",
      "934/934 [==============================] - 0s 45us/sample - loss: 190614894.1842 - mean_absolute_error: 10037.7490 - mean_squared_error: 190614912.0000 - val_loss: 895379626.8034 - val_mean_absolute_error: 17259.9629 - val_mean_squared_error: 895379584.0000\n",
      "Epoch 550/1000\n",
      "934/934 [==============================] - 0s 43us/sample - loss: 207523416.0857 - mean_absolute_error: 10696.5088 - mean_squared_error: 207523408.0000 - val_loss: 869454698.6667 - val_mean_absolute_error: 17318.1602 - val_mean_squared_error: 869454720.0000\n",
      "Epoch 551/1000\n",
      "934/934 [==============================] - 0s 46us/sample - loss: 247249423.6231 - mean_absolute_error: 11666.5312 - mean_squared_error: 247249424.0000 - val_loss: 907875363.8291 - val_mean_absolute_error: 17276.5938 - val_mean_squared_error: 907875328.0000\n",
      "Epoch 552/1000\n",
      "934/934 [==============================] - 0s 45us/sample - loss: 195395671.3833 - mean_absolute_error: 10311.1094 - mean_squared_error: 195395664.0000 - val_loss: 904444109.6752 - val_mean_absolute_error: 17633.0586 - val_mean_squared_error: 904444160.0000\n",
      "Epoch 553/1000\n",
      "934/934 [==============================] - 0s 42us/sample - loss: 183199045.1392 - mean_absolute_error: 9845.1094 - mean_squared_error: 183199024.0000 - val_loss: 898032820.2393 - val_mean_absolute_error: 17205.5312 - val_mean_squared_error: 898032896.0000\n",
      "Epoch 554/1000\n",
      "934/934 [==============================] - 0s 44us/sample - loss: 188676218.1927 - mean_absolute_error: 9970.7842 - mean_squared_error: 188676192.0000 - val_loss: 982458725.7436 - val_mean_absolute_error: 17957.7051 - val_mean_squared_error: 982458688.0000\n",
      "Epoch 555/1000\n",
      "934/934 [==============================] - 0s 46us/sample - loss: 289758136.6681 - mean_absolute_error: 11114.3311 - mean_squared_error: 289758176.0000 - val_loss: 960340878.2222 - val_mean_absolute_error: 17730.7031 - val_mean_squared_error: 960340864.0000\n",
      "Epoch 556/1000\n",
      "934/934 [==============================] - 0s 44us/sample - loss: 248220767.7259 - mean_absolute_error: 11352.8369 - mean_squared_error: 248220752.0000 - val_loss: 878912746.1197 - val_mean_absolute_error: 18458.8496 - val_mean_squared_error: 878912768.0000\n",
      "Epoch 557/1000\n",
      "934/934 [==============================] - 0s 44us/sample - loss: 235228642.9465 - mean_absolute_error: 11094.9229 - mean_squared_error: 235228624.0000 - val_loss: 932481400.3419 - val_mean_absolute_error: 17606.0820 - val_mean_squared_error: 932481344.0000\n",
      "Epoch 558/1000\n",
      "934/934 [==============================] - 0s 48us/sample - loss: 208573498.3469 - mean_absolute_error: 10605.1582 - mean_squared_error: 208573536.0000 - val_loss: 898723524.9231 - val_mean_absolute_error: 17556.8926 - val_mean_squared_error: 898723520.0000\n",
      "Epoch 559/1000\n",
      "934/934 [==============================] - 0s 49us/sample - loss: 197933740.3940 - mean_absolute_error: 10138.5908 - mean_squared_error: 197933760.0000 - val_loss: 962229877.6068 - val_mean_absolute_error: 18066.6152 - val_mean_squared_error: 962229888.0000\n",
      "Epoch 560/1000\n",
      "934/934 [==============================] - 0s 48us/sample - loss: 225722014.0814 - mean_absolute_error: 10591.0264 - mean_squared_error: 225722016.0000 - val_loss: 870315276.1709 - val_mean_absolute_error: 17373.8047 - val_mean_squared_error: 870315200.0000\n",
      "Epoch 561/1000\n",
      "934/934 [==============================] - 0s 47us/sample - loss: 275588343.9486 - mean_absolute_error: 11279.9912 - mean_squared_error: 275588288.0000 - val_loss: 895584278.4274 - val_mean_absolute_error: 17369.3359 - val_mean_squared_error: 895584320.0000\n",
      "Epoch 562/1000\n",
      "934/934 [==============================] - 0s 45us/sample - loss: 209662287.5203 - mean_absolute_error: 10444.8525 - mean_squared_error: 209662304.0000 - val_loss: 942075766.7009 - val_mean_absolute_error: 17389.2559 - val_mean_squared_error: 942075712.0000\n",
      "Epoch 563/1000\n",
      "934/934 [==============================] - 0s 48us/sample - loss: 268519841.3362 - mean_absolute_error: 11431.1592 - mean_squared_error: 268519840.0000 - val_loss: 969443540.2393 - val_mean_absolute_error: 18035.7656 - val_mean_squared_error: 969443520.0000\n",
      "Epoch 564/1000\n",
      "934/934 [==============================] - 0s 49us/sample - loss: 298429387.8887 - mean_absolute_error: 11226.2910 - mean_squared_error: 298429440.0000 - val_loss: 1119532228.6496 - val_mean_absolute_error: 19696.1387 - val_mean_squared_error: 1119532160.0000\n",
      "Epoch 565/1000\n",
      "934/934 [==============================] - 0s 53us/sample - loss: 1030640916.0086 - mean_absolute_error: 16933.6660 - mean_squared_error: 1030640896.0000 - val_loss: 1499638897.7778 - val_mean_absolute_error: 26372.7500 - val_mean_squared_error: 1499638912.0000\n",
      "Epoch 566/1000\n",
      "934/934 [==============================] - 0s 48us/sample - loss: 759034111.7602 - mean_absolute_error: 13629.9160 - mean_squared_error: 759034240.0000 - val_loss: 846093382.2906 - val_mean_absolute_error: 17047.0547 - val_mean_squared_error: 846093376.0000\n",
      "Epoch 567/1000\n",
      "934/934 [==============================] - 0s 49us/sample - loss: 200616064.1456 - mean_absolute_error: 10253.7871 - mean_squared_error: 200616080.0000 - val_loss: 888980442.2564 - val_mean_absolute_error: 17372.4297 - val_mean_squared_error: 888980416.0000\n",
      "Epoch 568/1000\n",
      "934/934 [==============================] - 0s 48us/sample - loss: 187787683.0150 - mean_absolute_error: 9918.2080 - mean_squared_error: 187787664.0000 - val_loss: 899938567.6581 - val_mean_absolute_error: 17406.4473 - val_mean_squared_error: 899938560.0000\n",
      "Epoch 569/1000\n",
      "934/934 [==============================] - 0s 49us/sample - loss: 195617588.4026 - mean_absolute_error: 10241.5703 - mean_squared_error: 195617600.0000 - val_loss: 882386747.0769 - val_mean_absolute_error: 17531.3262 - val_mean_squared_error: 882386688.0000\n",
      "Epoch 570/1000\n",
      "934/934 [==============================] - 0s 46us/sample - loss: 193011195.0664 - mean_absolute_error: 10061.1758 - mean_squared_error: 193011168.0000 - val_loss: 894682787.2821 - val_mean_absolute_error: 17341.2070 - val_mean_squared_error: 894682816.0000\n",
      "Epoch 571/1000\n"
     ]
    },
    {
     "name": "stdout",
     "output_type": "stream",
     "text": [
      "934/934 [==============================] - 0s 47us/sample - loss: 192183003.8887 - mean_absolute_error: 10091.7412 - mean_squared_error: 192183008.0000 - val_loss: 877545862.5641 - val_mean_absolute_error: 17546.6484 - val_mean_squared_error: 877545792.0000\n",
      "Epoch 572/1000\n",
      "934/934 [==============================] - 0s 48us/sample - loss: 182900371.9829 - mean_absolute_error: 9849.8320 - mean_squared_error: 182900416.0000 - val_loss: 879016154.8034 - val_mean_absolute_error: 17411.3262 - val_mean_squared_error: 879016192.0000\n",
      "Epoch 573/1000\n",
      "934/934 [==============================] - 0s 48us/sample - loss: 185399760.7880 - mean_absolute_error: 9861.1113 - mean_squared_error: 185399744.0000 - val_loss: 889527781.4701 - val_mean_absolute_error: 17310.0078 - val_mean_squared_error: 889527808.0000\n",
      "Epoch 574/1000\n",
      "934/934 [==============================] - 0s 49us/sample - loss: 186948779.4604 - mean_absolute_error: 10005.9375 - mean_squared_error: 186948752.0000 - val_loss: 861686600.2051 - val_mean_absolute_error: 17331.2637 - val_mean_squared_error: 861686528.0000\n",
      "Epoch 575/1000\n",
      "934/934 [==============================] - 0s 45us/sample - loss: 179991267.7173 - mean_absolute_error: 9702.2754 - mean_squared_error: 179991296.0000 - val_loss: 870607613.9487 - val_mean_absolute_error: 17254.2266 - val_mean_squared_error: 870607680.0000\n",
      "Epoch 576/1000\n",
      "934/934 [==============================] - 0s 45us/sample - loss: 176385592.9165 - mean_absolute_error: 9646.5156 - mean_squared_error: 176385600.0000 - val_loss: 879219145.0256 - val_mean_absolute_error: 17493.0391 - val_mean_squared_error: 879219200.0000\n",
      "Epoch 577/1000\n",
      "934/934 [==============================] - 0s 47us/sample - loss: 187979915.7859 - mean_absolute_error: 9881.7207 - mean_squared_error: 187979904.0000 - val_loss: 876612866.7350 - val_mean_absolute_error: 17439.8613 - val_mean_squared_error: 876612800.0000\n",
      "Epoch 578/1000\n",
      "934/934 [==============================] - 0s 48us/sample - loss: 180871240.9422 - mean_absolute_error: 9745.8301 - mean_squared_error: 180871232.0000 - val_loss: 883955509.4701 - val_mean_absolute_error: 17432.7129 - val_mean_squared_error: 883955520.0000\n",
      "Epoch 579/1000\n",
      "934/934 [==============================] - 0s 46us/sample - loss: 177509822.4668 - mean_absolute_error: 9645.8154 - mean_squared_error: 177509840.0000 - val_loss: 875481151.1795 - val_mean_absolute_error: 17811.9570 - val_mean_squared_error: 875481152.0000\n",
      "Epoch 580/1000\n",
      "934/934 [==============================] - 0s 46us/sample - loss: 191539985.0278 - mean_absolute_error: 10285.5850 - mean_squared_error: 191540000.0000 - val_loss: 886965961.5726 - val_mean_absolute_error: 17623.7402 - val_mean_squared_error: 886965952.0000\n",
      "Epoch 581/1000\n",
      "934/934 [==============================] - 0s 49us/sample - loss: 195276972.3683 - mean_absolute_error: 10429.6289 - mean_squared_error: 195276960.0000 - val_loss: 888431909.0598 - val_mean_absolute_error: 17334.7148 - val_mean_squared_error: 888431936.0000\n",
      "Epoch 582/1000\n",
      "934/934 [==============================] - 0s 47us/sample - loss: 182752237.9786 - mean_absolute_error: 9686.6904 - mean_squared_error: 182752256.0000 - val_loss: 889831887.8632 - val_mean_absolute_error: 17356.0684 - val_mean_squared_error: 889831872.0000\n",
      "Epoch 583/1000\n",
      "934/934 [==============================] - 0s 48us/sample - loss: 197557780.8651 - mean_absolute_error: 10115.6133 - mean_squared_error: 197557776.0000 - val_loss: 899498533.1966 - val_mean_absolute_error: 17564.6270 - val_mean_squared_error: 899498624.0000\n",
      "Epoch 584/1000\n",
      "934/934 [==============================] - 0s 45us/sample - loss: 216508738.6039 - mean_absolute_error: 10738.1855 - mean_squared_error: 216508704.0000 - val_loss: 901231955.0085 - val_mean_absolute_error: 17452.5879 - val_mean_squared_error: 901231936.0000\n",
      "Epoch 585/1000\n",
      "934/934 [==============================] - 0s 48us/sample - loss: 293011755.0407 - mean_absolute_error: 11946.0742 - mean_squared_error: 293011744.0000 - val_loss: 974674477.9487 - val_mean_absolute_error: 17793.2559 - val_mean_squared_error: 974674496.0000\n",
      "Epoch 586/1000\n",
      "934/934 [==============================] - 0s 47us/sample - loss: 195577875.1863 - mean_absolute_error: 10346.7217 - mean_squared_error: 195577856.0000 - val_loss: 877267100.9915 - val_mean_absolute_error: 17292.7324 - val_mean_squared_error: 877267136.0000\n",
      "Epoch 587/1000\n",
      "934/934 [==============================] - 0s 48us/sample - loss: 180303787.8887 - mean_absolute_error: 9805.4248 - mean_squared_error: 180303760.0000 - val_loss: 915388861.8120 - val_mean_absolute_error: 17483.4609 - val_mean_squared_error: 915388864.0000\n",
      "Epoch 588/1000\n",
      "934/934 [==============================] - 0s 47us/sample - loss: 175299799.0236 - mean_absolute_error: 9655.6084 - mean_squared_error: 175299808.0000 - val_loss: 886924570.8034 - val_mean_absolute_error: 17443.1973 - val_mean_squared_error: 886924672.0000\n",
      "Epoch 589/1000\n",
      "934/934 [==============================] - 0s 45us/sample - loss: 176030082.6039 - mean_absolute_error: 9608.1758 - mean_squared_error: 176030096.0000 - val_loss: 916904274.8718 - val_mean_absolute_error: 17617.9805 - val_mean_squared_error: 916904320.0000\n",
      "Epoch 590/1000\n",
      "934/934 [==============================] - 0s 50us/sample - loss: 275835748.5996 - mean_absolute_error: 11037.2188 - mean_squared_error: 275835712.0000 - val_loss: 846196955.2137 - val_mean_absolute_error: 17263.1309 - val_mean_squared_error: 846197056.0000\n",
      "Epoch 591/1000\n",
      "934/934 [==============================] - 0s 49us/sample - loss: 213018079.0064 - mean_absolute_error: 10335.9082 - mean_squared_error: 213018064.0000 - val_loss: 881724187.3504 - val_mean_absolute_error: 17297.7266 - val_mean_squared_error: 881724160.0000\n",
      "Epoch 592/1000\n",
      "934/934 [==============================] - 0s 47us/sample - loss: 196012334.3940 - mean_absolute_error: 9987.5098 - mean_squared_error: 196012320.0000 - val_loss: 860197842.0513 - val_mean_absolute_error: 17200.0195 - val_mean_squared_error: 860197824.0000\n",
      "Epoch 593/1000\n",
      "934/934 [==============================] - 0s 47us/sample - loss: 194902087.4004 - mean_absolute_error: 10007.9473 - mean_squared_error: 194902096.0000 - val_loss: 871201832.4786 - val_mean_absolute_error: 17275.6719 - val_mean_squared_error: 871201856.0000\n",
      "Epoch 594/1000\n",
      "934/934 [==============================] - 0s 45us/sample - loss: 202477297.9872 - mean_absolute_error: 10657.5420 - mean_squared_error: 202477296.0000 - val_loss: 891974262.0171 - val_mean_absolute_error: 17405.3555 - val_mean_squared_error: 891974208.0000\n",
      "Epoch 595/1000\n",
      "934/934 [==============================] - 0s 44us/sample - loss: 184603428.3512 - mean_absolute_error: 9893.7412 - mean_squared_error: 184603424.0000 - val_loss: 890113252.6496 - val_mean_absolute_error: 17541.0137 - val_mean_squared_error: 890113216.0000\n",
      "Epoch 596/1000\n",
      "934/934 [==============================] - 0s 45us/sample - loss: 182565909.7901 - mean_absolute_error: 9770.4102 - mean_squared_error: 182565952.0000 - val_loss: 883308866.8718 - val_mean_absolute_error: 17212.7676 - val_mean_squared_error: 883308928.0000\n",
      "Epoch 597/1000\n",
      "934/934 [==============================] - 0s 43us/sample - loss: 199939045.3019 - mean_absolute_error: 10268.1201 - mean_squared_error: 199939040.0000 - val_loss: 958350800.9573 - val_mean_absolute_error: 18497.9707 - val_mean_squared_error: 958350848.0000\n",
      "Epoch 598/1000\n",
      "934/934 [==============================] - 0s 47us/sample - loss: 242198376.7537 - mean_absolute_error: 10667.9697 - mean_squared_error: 242198368.0000 - val_loss: 968249742.7692 - val_mean_absolute_error: 18470.1543 - val_mean_squared_error: 968249792.0000\n",
      "Epoch 599/1000\n",
      "934/934 [==============================] - 0s 44us/sample - loss: 489147685.6188 - mean_absolute_error: 12780.6992 - mean_squared_error: 489147648.0000 - val_loss: 1043788881.5043 - val_mean_absolute_error: 18988.4766 - val_mean_squared_error: 1043788864.0000\n",
      "Epoch 600/1000\n",
      "934/934 [==============================] - 0s 42us/sample - loss: 310046664.4797 - mean_absolute_error: 12247.7246 - mean_squared_error: 310046656.0000 - val_loss: 1021839588.1026 - val_mean_absolute_error: 18714.7969 - val_mean_squared_error: 1021839616.0000\n",
      "Epoch 601/1000\n",
      "934/934 [==============================] - 0s 47us/sample - loss: 235380048.3426 - mean_absolute_error: 10945.7383 - mean_squared_error: 235380064.0000 - val_loss: 817903611.8974 - val_mean_absolute_error: 17113.1152 - val_mean_squared_error: 817903616.0000\n",
      "Epoch 602/1000\n",
      "934/934 [==============================] - 0s 48us/sample - loss: 186723821.2077 - mean_absolute_error: 9872.1729 - mean_squared_error: 186723824.0000 - val_loss: 878093382.5641 - val_mean_absolute_error: 17529.9336 - val_mean_squared_error: 878093440.0000\n",
      "Epoch 603/1000\n",
      "934/934 [==============================] - 0s 47us/sample - loss: 202372608.3426 - mean_absolute_error: 10512.0420 - mean_squared_error: 202372624.0000 - val_loss: 871498355.9658 - val_mean_absolute_error: 17226.2891 - val_mean_squared_error: 871498432.0000\n",
      "Epoch 604/1000\n",
      "934/934 [==============================] - 0s 45us/sample - loss: 179230683.2762 - mean_absolute_error: 9744.3564 - mean_squared_error: 179230688.0000 - val_loss: 893137635.0085 - val_mean_absolute_error: 17772.0664 - val_mean_squared_error: 893137600.0000\n",
      "Epoch 605/1000\n",
      "934/934 [==============================] - 0s 49us/sample - loss: 192521614.4240 - mean_absolute_error: 10123.8340 - mean_squared_error: 192521632.0000 - val_loss: 882893614.2222 - val_mean_absolute_error: 17289.1602 - val_mean_squared_error: 882893568.0000\n",
      "Epoch 606/1000\n",
      "934/934 [==============================] - 0s 44us/sample - loss: 183068280.4454 - mean_absolute_error: 9907.5547 - mean_squared_error: 183068288.0000 - val_loss: 926374096.4103 - val_mean_absolute_error: 17616.3379 - val_mean_squared_error: 926374016.0000\n",
      "Epoch 607/1000\n",
      "934/934 [==============================] - 0s 47us/sample - loss: 180786353.9529 - mean_absolute_error: 9817.7490 - mean_squared_error: 180786336.0000 - val_loss: 959143754.5299 - val_mean_absolute_error: 17842.7598 - val_mean_squared_error: 959143680.0000\n",
      "Epoch 608/1000\n",
      "934/934 [==============================] - 0s 47us/sample - loss: 374284017.4732 - mean_absolute_error: 12685.9297 - mean_squared_error: 374284064.0000 - val_loss: 924421364.9231 - val_mean_absolute_error: 18462.4141 - val_mean_squared_error: 924421440.0000\n",
      "Epoch 609/1000\n",
      "934/934 [==============================] - 0s 49us/sample - loss: 192896130.9465 - mean_absolute_error: 10294.1152 - mean_squared_error: 192896128.0000 - val_loss: 918967703.9316 - val_mean_absolute_error: 17844.4961 - val_mean_squared_error: 918967680.0000\n",
      "Epoch 610/1000\n",
      "934/934 [==============================] - 0s 49us/sample - loss: 183445392.4111 - mean_absolute_error: 9969.6113 - mean_squared_error: 183445392.0000 - val_loss: 891580058.8034 - val_mean_absolute_error: 17353.3848 - val_mean_squared_error: 891580032.0000\n",
      "Epoch 611/1000\n",
      "934/934 [==============================] - 0s 49us/sample - loss: 200585318.9722 - mean_absolute_error: 10404.3379 - mean_squared_error: 200585328.0000 - val_loss: 874754757.6068 - val_mean_absolute_error: 17842.1895 - val_mean_squared_error: 874754688.0000\n",
      "Epoch 612/1000\n",
      "934/934 [==============================] - 0s 49us/sample - loss: 189555944.1884 - mean_absolute_error: 10263.6240 - mean_squared_error: 189555936.0000 - val_loss: 904606041.1624 - val_mean_absolute_error: 17553.1172 - val_mean_squared_error: 904606080.0000\n",
      "Epoch 613/1000\n",
      "934/934 [==============================] - 0s 49us/sample - loss: 178122413.5846 - mean_absolute_error: 9883.3096 - mean_squared_error: 178122416.0000 - val_loss: 887510624.1368 - val_mean_absolute_error: 17485.6777 - val_mean_squared_error: 887510656.0000\n",
      "Epoch 614/1000\n",
      "934/934 [==============================] - 0s 50us/sample - loss: 173681583.0064 - mean_absolute_error: 9569.8789 - mean_squared_error: 173681616.0000 - val_loss: 875415812.1026 - val_mean_absolute_error: 17219.6660 - val_mean_squared_error: 875415744.0000\n",
      "Epoch 615/1000\n",
      "934/934 [==============================] - 0s 49us/sample - loss: 178285798.1328 - mean_absolute_error: 9786.8789 - mean_squared_error: 178285776.0000 - val_loss: 878261627.6239 - val_mean_absolute_error: 17491.0742 - val_mean_squared_error: 878261632.0000\n",
      "Epoch 616/1000\n",
      "934/934 [==============================] - 0s 46us/sample - loss: 180878942.2698 - mean_absolute_error: 9798.1250 - mean_squared_error: 180878944.0000 - val_loss: 878846958.4957 - val_mean_absolute_error: 17277.4961 - val_mean_squared_error: 878846912.0000\n",
      "Epoch 617/1000\n",
      "934/934 [==============================] - 0s 43us/sample - loss: 187518599.6745 - mean_absolute_error: 9782.9883 - mean_squared_error: 187518576.0000 - val_loss: 955287232.5470 - val_mean_absolute_error: 17828.4863 - val_mean_squared_error: 955287232.0000\n",
      "Epoch 618/1000\n",
      "934/934 [==============================] - 0s 44us/sample - loss: 205634137.8330 - mean_absolute_error: 10396.7988 - mean_squared_error: 205634144.0000 - val_loss: 905025434.2564 - val_mean_absolute_error: 17458.9980 - val_mean_squared_error: 905025344.0000\n",
      "Epoch 619/1000\n",
      "934/934 [==============================] - 0s 46us/sample - loss: 180869559.0236 - mean_absolute_error: 9874.9375 - mean_squared_error: 180869536.0000 - val_loss: 891786326.9744 - val_mean_absolute_error: 17217.8691 - val_mean_squared_error: 891786304.0000\n",
      "Epoch 620/1000\n",
      "934/934 [==============================] - 0s 47us/sample - loss: 188599465.2848 - mean_absolute_error: 10185.3848 - mean_squared_error: 188599472.0000 - val_loss: 1004870184.4786 - val_mean_absolute_error: 18650.6836 - val_mean_squared_error: 1004870208.0000\n",
      "Epoch 621/1000\n",
      "934/934 [==============================] - 0s 49us/sample - loss: 188956916.6081 - mean_absolute_error: 10220.8555 - mean_squared_error: 188956896.0000 - val_loss: 935937529.7094 - val_mean_absolute_error: 17314.1016 - val_mean_squared_error: 935937472.0000\n",
      "Epoch 622/1000\n",
      "934/934 [==============================] - 0s 49us/sample - loss: 182735687.4004 - mean_absolute_error: 9842.6133 - mean_squared_error: 182735696.0000 - val_loss: 903647648.0000 - val_mean_absolute_error: 17359.4043 - val_mean_squared_error: 903647616.0000\n",
      "Epoch 623/1000\n",
      "934/934 [==============================] - 0s 47us/sample - loss: 175249400.1927 - mean_absolute_error: 9633.3662 - mean_squared_error: 175249424.0000 - val_loss: 893951961.9829 - val_mean_absolute_error: 17772.2461 - val_mean_squared_error: 893951936.0000\n",
      "Epoch 624/1000\n",
      "934/934 [==============================] - 0s 47us/sample - loss: 188901262.5610 - mean_absolute_error: 10298.2432 - mean_squared_error: 188901264.0000 - val_loss: 902993946.5299 - val_mean_absolute_error: 17212.8398 - val_mean_squared_error: 902993920.0000\n",
      "Epoch 625/1000\n",
      "934/934 [==============================] - 0s 49us/sample - loss: 172679860.7281 - mean_absolute_error: 9587.8086 - mean_squared_error: 172679872.0000 - val_loss: 911792880.0000 - val_mean_absolute_error: 17601.6895 - val_mean_squared_error: 911792832.0000\n",
      "Epoch 626/1000\n",
      "934/934 [==============================] - 0s 44us/sample - loss: 174057970.8779 - mean_absolute_error: 9593.2510 - mean_squared_error: 174057952.0000 - val_loss: 914857426.0513 - val_mean_absolute_error: 17660.0312 - val_mean_squared_error: 914857408.0000\n",
      "Epoch 627/1000\n",
      "934/934 [==============================] - 0s 44us/sample - loss: 215667430.2184 - mean_absolute_error: 10442.2422 - mean_squared_error: 215667440.0000 - val_loss: 843551343.5897 - val_mean_absolute_error: 17124.6426 - val_mean_squared_error: 843551296.0000\n",
      "Epoch 628/1000\n",
      "934/934 [==============================] - 0s 45us/sample - loss: 195466576.4454 - mean_absolute_error: 10169.1133 - mean_squared_error: 195466560.0000 - val_loss: 888714030.4957 - val_mean_absolute_error: 17990.0996 - val_mean_squared_error: 888714048.0000\n",
      "Epoch 629/1000\n",
      "934/934 [==============================] - 0s 45us/sample - loss: 212803410.0214 - mean_absolute_error: 10361.1553 - mean_squared_error: 212803392.0000 - val_loss: 896001240.6154 - val_mean_absolute_error: 17256.9707 - val_mean_squared_error: 896001216.0000\n",
      "Epoch 630/1000\n",
      "934/934 [==============================] - 0s 45us/sample - loss: 208851453.0193 - mean_absolute_error: 10229.7715 - mean_squared_error: 208851472.0000 - val_loss: 915249083.0769 - val_mean_absolute_error: 17894.2988 - val_mean_squared_error: 915249088.0000\n",
      "Epoch 631/1000\n"
     ]
    },
    {
     "name": "stdout",
     "output_type": "stream",
     "text": [
      "934/934 [==============================] - 0s 47us/sample - loss: 192941178.1756 - mean_absolute_error: 10279.4336 - mean_squared_error: 192941152.0000 - val_loss: 934665153.0940 - val_mean_absolute_error: 17848.8789 - val_mean_squared_error: 934665088.0000\n",
      "Epoch 632/1000\n",
      "934/934 [==============================] - 0s 46us/sample - loss: 173712087.0236 - mean_absolute_error: 9625.4658 - mean_squared_error: 173712080.0000 - val_loss: 907459399.1111 - val_mean_absolute_error: 17388.3730 - val_mean_squared_error: 907459328.0000\n",
      "Epoch 633/1000\n",
      "934/934 [==============================] - 0s 43us/sample - loss: 184476261.4133 - mean_absolute_error: 10086.6865 - mean_squared_error: 184476272.0000 - val_loss: 887430411.7607 - val_mean_absolute_error: 17437.5762 - val_mean_squared_error: 887430400.0000\n",
      "Epoch 634/1000\n",
      "934/934 [==============================] - 0s 44us/sample - loss: 181245113.4047 - mean_absolute_error: 9678.7070 - mean_squared_error: 181245104.0000 - val_loss: 905034751.4530 - val_mean_absolute_error: 17484.2344 - val_mean_squared_error: 905034752.0000\n",
      "Epoch 635/1000\n",
      "934/934 [==============================] - 0s 45us/sample - loss: 168471730.6895 - mean_absolute_error: 9390.6982 - mean_squared_error: 168471744.0000 - val_loss: 934477076.2393 - val_mean_absolute_error: 17681.5918 - val_mean_squared_error: 934477120.0000\n",
      "Epoch 636/1000\n",
      "934/934 [==============================] - 0s 47us/sample - loss: 186468279.3662 - mean_absolute_error: 10095.1230 - mean_squared_error: 186468304.0000 - val_loss: 916487653.4701 - val_mean_absolute_error: 17819.4980 - val_mean_squared_error: 916487680.0000\n",
      "Epoch 637/1000\n",
      "934/934 [==============================] - 0s 47us/sample - loss: 192748848.5653 - mean_absolute_error: 10404.9922 - mean_squared_error: 192748848.0000 - val_loss: 907594236.7179 - val_mean_absolute_error: 17640.2070 - val_mean_squared_error: 907594240.0000\n",
      "Epoch 638/1000\n",
      "934/934 [==============================] - 0s 47us/sample - loss: 182093874.6039 - mean_absolute_error: 9781.9209 - mean_squared_error: 182093888.0000 - val_loss: 885009528.3419 - val_mean_absolute_error: 18054.6914 - val_mean_squared_error: 885009536.0000\n",
      "Epoch 639/1000\n",
      "934/934 [==============================] - 0s 48us/sample - loss: 197352879.4176 - mean_absolute_error: 10026.6533 - mean_squared_error: 197352864.0000 - val_loss: 931666299.6239 - val_mean_absolute_error: 18965.4629 - val_mean_squared_error: 931666304.0000\n",
      "Epoch 640/1000\n",
      "934/934 [==============================] - 0s 48us/sample - loss: 874064099.2891 - mean_absolute_error: 16692.3965 - mean_squared_error: 874064256.0000 - val_loss: 1371651355.4872 - val_mean_absolute_error: 20023.5879 - val_mean_squared_error: 1371651200.0000\n",
      "Epoch 641/1000\n",
      "934/934 [==============================] - 0s 46us/sample - loss: 327589039.7602 - mean_absolute_error: 12194.6064 - mean_squared_error: 327588960.0000 - val_loss: 1040924804.9231 - val_mean_absolute_error: 19098.8047 - val_mean_squared_error: 1040924800.0000\n",
      "Epoch 642/1000\n",
      "934/934 [==============================] - 0s 44us/sample - loss: 516471273.1820 - mean_absolute_error: 13864.0693 - mean_squared_error: 516471264.0000 - val_loss: 983497566.0855 - val_mean_absolute_error: 19676.3652 - val_mean_squared_error: 983497536.0000\n",
      "Epoch 643/1000\n",
      "934/934 [==============================] - 0s 45us/sample - loss: 730785962.4839 - mean_absolute_error: 15932.9307 - mean_squared_error: 730785920.0000 - val_loss: 1119480079.8632 - val_mean_absolute_error: 20626.7656 - val_mean_squared_error: 1119480064.0000\n",
      "Epoch 644/1000\n",
      "934/934 [==============================] - 0s 47us/sample - loss: 328228642.9807 - mean_absolute_error: 12067.9297 - mean_squared_error: 328228640.0000 - val_loss: 889368720.9573 - val_mean_absolute_error: 17610.9492 - val_mean_squared_error: 889368768.0000\n",
      "Epoch 645/1000\n",
      "934/934 [==============================] - 0s 48us/sample - loss: 360795128.5310 - mean_absolute_error: 12448.5938 - mean_squared_error: 360795136.0000 - val_loss: 857740608.8205 - val_mean_absolute_error: 17784.0410 - val_mean_squared_error: 857740608.0000\n",
      "Epoch 646/1000\n",
      "934/934 [==============================] - 0s 45us/sample - loss: 257486388.3512 - mean_absolute_error: 11538.6533 - mean_squared_error: 257486416.0000 - val_loss: 935238974.4957 - val_mean_absolute_error: 18877.5488 - val_mean_squared_error: 935238912.0000\n",
      "Epoch 647/1000\n",
      "934/934 [==============================] - 0s 47us/sample - loss: 190074724.8737 - mean_absolute_error: 9877.2236 - mean_squared_error: 190074736.0000 - val_loss: 899912768.8205 - val_mean_absolute_error: 17480.1621 - val_mean_squared_error: 899912768.0000\n",
      "Epoch 648/1000\n",
      "934/934 [==============================] - 0s 47us/sample - loss: 175005349.5760 - mean_absolute_error: 9602.0576 - mean_squared_error: 175005344.0000 - val_loss: 898617339.0769 - val_mean_absolute_error: 17818.3652 - val_mean_squared_error: 898617472.0000\n",
      "Epoch 649/1000\n",
      "934/934 [==============================] - 0s 45us/sample - loss: 169512026.7495 - mean_absolute_error: 9507.8545 - mean_squared_error: 169512016.0000 - val_loss: 889103657.7094 - val_mean_absolute_error: 17373.7227 - val_mean_squared_error: 889103680.0000\n",
      "Epoch 650/1000\n",
      "934/934 [==============================] - 0s 43us/sample - loss: 172905693.9786 - mean_absolute_error: 9581.3340 - mean_squared_error: 172905696.0000 - val_loss: 887285608.4786 - val_mean_absolute_error: 17544.6191 - val_mean_squared_error: 887285632.0000\n",
      "Epoch 651/1000\n",
      "934/934 [==============================] - 0s 44us/sample - loss: 168904790.0814 - mean_absolute_error: 9444.7734 - mean_squared_error: 168904784.0000 - val_loss: 912869030.2906 - val_mean_absolute_error: 17758.6953 - val_mean_squared_error: 912868992.0000\n",
      "Epoch 652/1000\n",
      "934/934 [==============================] - 0s 43us/sample - loss: 176279475.0321 - mean_absolute_error: 9681.3203 - mean_squared_error: 176279488.0000 - val_loss: 896785036.0342 - val_mean_absolute_error: 17717.8281 - val_mean_squared_error: 896784960.0000\n",
      "Epoch 653/1000\n",
      "934/934 [==============================] - 0s 43us/sample - loss: 170329012.7966 - mean_absolute_error: 9535.7236 - mean_squared_error: 170329008.0000 - val_loss: 885109930.3932 - val_mean_absolute_error: 17563.1875 - val_mean_squared_error: 885109952.0000\n",
      "Epoch 654/1000\n",
      "934/934 [==============================] - 0s 43us/sample - loss: 172973881.4390 - mean_absolute_error: 9650.7549 - mean_squared_error: 172973872.0000 - val_loss: 882924915.9658 - val_mean_absolute_error: 17519.5430 - val_mean_squared_error: 882924864.0000\n",
      "Epoch 655/1000\n",
      "934/934 [==============================] - 0s 49us/sample - loss: 170127390.8009 - mean_absolute_error: 9515.4590 - mean_squared_error: 170127408.0000 - val_loss: 868394621.1282 - val_mean_absolute_error: 17544.5781 - val_mean_squared_error: 868394560.0000\n",
      "Epoch 656/1000\n",
      "934/934 [==============================] - 0s 50us/sample - loss: 182303486.9036 - mean_absolute_error: 9919.2383 - mean_squared_error: 182303520.0000 - val_loss: 894438416.4103 - val_mean_absolute_error: 17507.5078 - val_mean_squared_error: 894438336.0000\n",
      "Epoch 657/1000\n",
      "934/934 [==============================] - 0s 45us/sample - loss: 175959712.4797 - mean_absolute_error: 9672.1475 - mean_squared_error: 175959728.0000 - val_loss: 884418163.8291 - val_mean_absolute_error: 17836.3691 - val_mean_squared_error: 884418112.0000\n",
      "Epoch 658/1000\n",
      "934/934 [==============================] - 0s 47us/sample - loss: 186423515.5118 - mean_absolute_error: 10070.1025 - mean_squared_error: 186423520.0000 - val_loss: 909255148.8547 - val_mean_absolute_error: 17555.3008 - val_mean_squared_error: 909255168.0000\n",
      "Epoch 659/1000\n",
      "934/934 [==============================] - 0s 48us/sample - loss: 180464199.6745 - mean_absolute_error: 9853.0977 - mean_squared_error: 180464224.0000 - val_loss: 910703836.9915 - val_mean_absolute_error: 17565.2441 - val_mean_squared_error: 910703872.0000\n",
      "Epoch 660/1000\n",
      "934/934 [==============================] - 0s 47us/sample - loss: 204395516.4026 - mean_absolute_error: 10230.2070 - mean_squared_error: 204395536.0000 - val_loss: 922789793.0940 - val_mean_absolute_error: 17788.1504 - val_mean_squared_error: 922789824.0000\n",
      "Epoch 661/1000\n",
      "934/934 [==============================] - 0s 44us/sample - loss: 332415901.9443 - mean_absolute_error: 11256.0479 - mean_squared_error: 332415904.0000 - val_loss: 867620211.9658 - val_mean_absolute_error: 18100.8496 - val_mean_squared_error: 867620160.0000\n",
      "Epoch 662/1000\n",
      "934/934 [==============================] - 0s 45us/sample - loss: 281444258.5182 - mean_absolute_error: 11414.9424 - mean_squared_error: 281444256.0000 - val_loss: 929658939.8974 - val_mean_absolute_error: 17773.1230 - val_mean_squared_error: 929658880.0000\n",
      "Epoch 663/1000\n",
      "934/934 [==============================] - 0s 47us/sample - loss: 189371506.2955 - mean_absolute_error: 10050.8906 - mean_squared_error: 189371520.0000 - val_loss: 913873823.7265 - val_mean_absolute_error: 17981.6074 - val_mean_squared_error: 913873792.0000\n",
      "Epoch 664/1000\n",
      "934/934 [==============================] - 0s 46us/sample - loss: 411027480.3769 - mean_absolute_error: 12167.1191 - mean_squared_error: 411027552.0000 - val_loss: 1188479667.2821 - val_mean_absolute_error: 20008.1191 - val_mean_squared_error: 1188479616.0000\n",
      "Epoch 665/1000\n",
      "934/934 [==============================] - 0s 46us/sample - loss: 342326334.6296 - mean_absolute_error: 11394.0088 - mean_squared_error: 342326336.0000 - val_loss: 1154103957.8803 - val_mean_absolute_error: 19176.8867 - val_mean_squared_error: 1154103936.0000\n",
      "Epoch 666/1000\n",
      "934/934 [==============================] - 0s 45us/sample - loss: 367338716.7452 - mean_absolute_error: 12751.4541 - mean_squared_error: 367338720.0000 - val_loss: 1010331460.9231 - val_mean_absolute_error: 18343.6113 - val_mean_squared_error: 1010331456.0000\n",
      "Epoch 667/1000\n",
      "934/934 [==============================] - 0s 46us/sample - loss: 213349862.2184 - mean_absolute_error: 10155.7715 - mean_squared_error: 213349872.0000 - val_loss: 939009505.6410 - val_mean_absolute_error: 17905.1309 - val_mean_squared_error: 939009472.0000\n",
      "Epoch 668/1000\n",
      "934/934 [==============================] - 0s 45us/sample - loss: 178501872.3469 - mean_absolute_error: 9669.4824 - mean_squared_error: 178501856.0000 - val_loss: 912636390.0171 - val_mean_absolute_error: 17756.9824 - val_mean_squared_error: 912636480.0000\n",
      "Epoch 669/1000\n",
      "934/934 [==============================] - 0s 43us/sample - loss: 167317253.4133 - mean_absolute_error: 9416.1631 - mean_squared_error: 167317280.0000 - val_loss: 889400153.7094 - val_mean_absolute_error: 17416.9180 - val_mean_squared_error: 889400128.0000\n",
      "Epoch 670/1000\n",
      "934/934 [==============================] - 0s 44us/sample - loss: 173981632.3169 - mean_absolute_error: 9649.4785 - mean_squared_error: 173981616.0000 - val_loss: 954548657.2308 - val_mean_absolute_error: 18592.1973 - val_mean_squared_error: 954548672.0000\n",
      "Epoch 671/1000\n",
      "934/934 [==============================] - 0s 43us/sample - loss: 176487454.8009 - mean_absolute_error: 9778.8887 - mean_squared_error: 176487504.0000 - val_loss: 901762579.4188 - val_mean_absolute_error: 17774.9746 - val_mean_squared_error: 901762624.0000\n",
      "Epoch 672/1000\n",
      "934/934 [==============================] - 0s 44us/sample - loss: 170928690.1242 - mean_absolute_error: 9658.8184 - mean_squared_error: 170928672.0000 - val_loss: 869219058.3248 - val_mean_absolute_error: 17746.1562 - val_mean_squared_error: 869218944.0000\n",
      "Epoch 673/1000\n",
      "934/934 [==============================] - 0s 45us/sample - loss: 168159355.1777 - mean_absolute_error: 9480.1797 - mean_squared_error: 168159344.0000 - val_loss: 890208974.7692 - val_mean_absolute_error: 17505.8770 - val_mean_squared_error: 890208960.0000\n",
      "Epoch 674/1000\n",
      "934/934 [==============================] - 0s 44us/sample - loss: 177948696.8565 - mean_absolute_error: 9762.9697 - mean_squared_error: 177948704.0000 - val_loss: 902144039.6581 - val_mean_absolute_error: 18005.7656 - val_mean_squared_error: 902144064.0000\n",
      "Epoch 675/1000\n",
      "934/934 [==============================] - 0s 43us/sample - loss: 176811482.1071 - mean_absolute_error: 9661.1270 - mean_squared_error: 176811472.0000 - val_loss: 879233091.8291 - val_mean_absolute_error: 17578.1328 - val_mean_squared_error: 879233024.0000\n",
      "Epoch 676/1000\n",
      "934/934 [==============================] - 0s 46us/sample - loss: 189743265.4390 - mean_absolute_error: 9921.1084 - mean_squared_error: 189743248.0000 - val_loss: 981214697.2991 - val_mean_absolute_error: 19152.0078 - val_mean_squared_error: 981214720.0000\n",
      "Epoch 677/1000\n",
      "934/934 [==============================] - 0s 46us/sample - loss: 180230062.2527 - mean_absolute_error: 9757.0635 - mean_squared_error: 180230032.0000 - val_loss: 914961117.8120 - val_mean_absolute_error: 17890.2344 - val_mean_squared_error: 914961024.0000\n",
      "Epoch 678/1000\n",
      "934/934 [==============================] - 0s 46us/sample - loss: 177864577.0621 - mean_absolute_error: 9665.8857 - mean_squared_error: 177864544.0000 - val_loss: 885957625.4359 - val_mean_absolute_error: 17503.3496 - val_mean_squared_error: 885957632.0000\n",
      "Epoch 679/1000\n",
      "934/934 [==============================] - 0s 48us/sample - loss: 167311943.4475 - mean_absolute_error: 9435.0459 - mean_squared_error: 167311952.0000 - val_loss: 914045071.8632 - val_mean_absolute_error: 17493.9863 - val_mean_squared_error: 914044992.0000\n",
      "Epoch 680/1000\n",
      "934/934 [==============================] - 0s 48us/sample - loss: 164674970.5610 - mean_absolute_error: 9498.8047 - mean_squared_error: 164674992.0000 - val_loss: 878088743.3846 - val_mean_absolute_error: 17625.1562 - val_mean_squared_error: 878088704.0000\n",
      "Epoch 681/1000\n",
      "934/934 [==============================] - 0s 50us/sample - loss: 162790399.8630 - mean_absolute_error: 9306.5918 - mean_squared_error: 162790400.0000 - val_loss: 889956498.8718 - val_mean_absolute_error: 17650.5059 - val_mean_squared_error: 889956608.0000\n",
      "Epoch 682/1000\n",
      "934/934 [==============================] - 0s 48us/sample - loss: 165430643.1349 - mean_absolute_error: 9367.0713 - mean_squared_error: 165430656.0000 - val_loss: 903079579.8974 - val_mean_absolute_error: 17560.0996 - val_mean_squared_error: 903079552.0000\n",
      "Epoch 683/1000\n",
      "934/934 [==============================] - 0s 46us/sample - loss: 169754986.0728 - mean_absolute_error: 9588.2520 - mean_squared_error: 169754992.0000 - val_loss: 890190771.2821 - val_mean_absolute_error: 17545.7188 - val_mean_squared_error: 890190720.0000\n",
      "Epoch 684/1000\n",
      "934/934 [==============================] - 0s 46us/sample - loss: 224941353.9872 - mean_absolute_error: 11108.4238 - mean_squared_error: 224941376.0000 - val_loss: 922702001.5043 - val_mean_absolute_error: 18319.6367 - val_mean_squared_error: 922702016.0000\n",
      "Epoch 685/1000\n",
      "934/934 [==============================] - 0s 48us/sample - loss: 336950982.9550 - mean_absolute_error: 11357.4922 - mean_squared_error: 336950944.0000 - val_loss: 847100551.6581 - val_mean_absolute_error: 17593.4023 - val_mean_squared_error: 847100608.0000\n",
      "Epoch 686/1000\n",
      "934/934 [==============================] - 0s 48us/sample - loss: 344249283.4261 - mean_absolute_error: 12120.7129 - mean_squared_error: 344249312.0000 - val_loss: 978298595.8291 - val_mean_absolute_error: 18698.1562 - val_mean_squared_error: 978298560.0000\n",
      "Epoch 687/1000\n",
      "934/934 [==============================] - 0s 49us/sample - loss: 564345891.0150 - mean_absolute_error: 14055.7637 - mean_squared_error: 564345856.0000 - val_loss: 2710155535.8632 - val_mean_absolute_error: 24982.1270 - val_mean_squared_error: 2710155264.0000\n",
      "Epoch 688/1000\n",
      "934/934 [==============================] - 0s 48us/sample - loss: 914634744.1884 - mean_absolute_error: 15777.7451 - mean_squared_error: 914634368.0000 - val_loss: 919641257.0256 - val_mean_absolute_error: 19234.5312 - val_mean_squared_error: 919641280.0000\n",
      "Epoch 689/1000\n",
      "934/934 [==============================] - 0s 47us/sample - loss: 220050272.6510 - mean_absolute_error: 10830.5029 - mean_squared_error: 220050288.0000 - val_loss: 877549108.7863 - val_mean_absolute_error: 18067.5391 - val_mean_squared_error: 877549184.0000\n",
      "Epoch 690/1000\n",
      "934/934 [==============================] - 0s 47us/sample - loss: 183996688.9251 - mean_absolute_error: 10070.7646 - mean_squared_error: 183996704.0000 - val_loss: 884427849.1624 - val_mean_absolute_error: 17862.6250 - val_mean_squared_error: 884427840.0000\n",
      "Epoch 691/1000\n"
     ]
    },
    {
     "name": "stdout",
     "output_type": "stream",
     "text": [
      "934/934 [==============================] - 0s 47us/sample - loss: 169698090.3769 - mean_absolute_error: 9538.6240 - mean_squared_error: 169698064.0000 - val_loss: 903310000.6838 - val_mean_absolute_error: 17752.5977 - val_mean_squared_error: 903310016.0000\n",
      "Epoch 692/1000\n",
      "934/934 [==============================] - 0s 45us/sample - loss: 170568784.4797 - mean_absolute_error: 9480.7910 - mean_squared_error: 170568768.0000 - val_loss: 875006621.5385 - val_mean_absolute_error: 18164.3711 - val_mean_squared_error: 875006720.0000\n",
      "Epoch 693/1000\n",
      "934/934 [==============================] - 0s 47us/sample - loss: 168682493.4818 - mean_absolute_error: 9590.0225 - mean_squared_error: 168682496.0000 - val_loss: 881493833.1624 - val_mean_absolute_error: 17519.1504 - val_mean_squared_error: 881493888.0000\n",
      "Epoch 694/1000\n",
      "934/934 [==============================] - 0s 49us/sample - loss: 173557679.5546 - mean_absolute_error: 9619.6416 - mean_squared_error: 173557664.0000 - val_loss: 904614467.7607 - val_mean_absolute_error: 17544.6113 - val_mean_squared_error: 904614400.0000\n",
      "Epoch 695/1000\n",
      "934/934 [==============================] - 0s 46us/sample - loss: 175533946.0043 - mean_absolute_error: 9709.7471 - mean_squared_error: 175533936.0000 - val_loss: 864244904.6154 - val_mean_absolute_error: 17465.3164 - val_mean_squared_error: 864244928.0000\n",
      "Epoch 696/1000\n",
      "934/934 [==============================] - 0s 44us/sample - loss: 171677173.0364 - mean_absolute_error: 9566.9297 - mean_squared_error: 171677152.0000 - val_loss: 889913222.7009 - val_mean_absolute_error: 17679.0977 - val_mean_squared_error: 889913216.0000\n",
      "Epoch 697/1000\n",
      "934/934 [==============================] - 0s 49us/sample - loss: 173935044.1799 - mean_absolute_error: 9694.9521 - mean_squared_error: 173935056.0000 - val_loss: 939269979.6239 - val_mean_absolute_error: 18369.4395 - val_mean_squared_error: 939269888.0000\n",
      "Epoch 698/1000\n",
      "934/934 [==============================] - 0s 45us/sample - loss: 183713038.4925 - mean_absolute_error: 10135.2646 - mean_squared_error: 183713056.0000 - val_loss: 919796944.1368 - val_mean_absolute_error: 18101.1523 - val_mean_squared_error: 919797056.0000\n",
      "Epoch 699/1000\n",
      "934/934 [==============================] - 0s 44us/sample - loss: 188872763.9058 - mean_absolute_error: 10212.7705 - mean_squared_error: 188872736.0000 - val_loss: 890165128.2051 - val_mean_absolute_error: 17784.1055 - val_mean_squared_error: 890165056.0000\n",
      "Epoch 700/1000\n",
      "934/934 [==============================] - 0s 45us/sample - loss: 176352570.3812 - mean_absolute_error: 9811.3379 - mean_squared_error: 176352608.0000 - val_loss: 926833719.7949 - val_mean_absolute_error: 17634.4141 - val_mean_squared_error: 926833728.0000\n",
      "Epoch 701/1000\n",
      "934/934 [==============================] - 0s 49us/sample - loss: 209317536.0514 - mean_absolute_error: 10704.7041 - mean_squared_error: 209317536.0000 - val_loss: 895992272.9573 - val_mean_absolute_error: 17544.6621 - val_mean_squared_error: 895992320.0000\n",
      "Epoch 702/1000\n",
      "934/934 [==============================] - 0s 47us/sample - loss: 195321022.8351 - mean_absolute_error: 9816.6270 - mean_squared_error: 195321056.0000 - val_loss: 904672679.6581 - val_mean_absolute_error: 17883.8613 - val_mean_squared_error: 904672640.0000\n",
      "Epoch 703/1000\n",
      "934/934 [==============================] - 0s 49us/sample - loss: 244359114.6210 - mean_absolute_error: 10532.9912 - mean_squared_error: 244359136.0000 - val_loss: 935961463.7949 - val_mean_absolute_error: 18144.4492 - val_mean_squared_error: 935961536.0000\n",
      "Epoch 704/1000\n",
      "934/934 [==============================] - 0s 47us/sample - loss: 257113449.9358 - mean_absolute_error: 10932.9775 - mean_squared_error: 257113456.0000 - val_loss: 933281342.9060 - val_mean_absolute_error: 17829.9355 - val_mean_squared_error: 933281280.0000\n",
      "Epoch 705/1000\n",
      "934/934 [==============================] - 0s 49us/sample - loss: 192459042.2612 - mean_absolute_error: 10145.3486 - mean_squared_error: 192459040.0000 - val_loss: 944016073.2991 - val_mean_absolute_error: 18785.5254 - val_mean_squared_error: 944016064.0000\n",
      "Epoch 706/1000\n",
      "934/934 [==============================] - 0s 51us/sample - loss: 256384913.5760 - mean_absolute_error: 11749.8135 - mean_squared_error: 256384912.0000 - val_loss: 1086041061.1966 - val_mean_absolute_error: 20426.5781 - val_mean_squared_error: 1086041088.0000\n",
      "Epoch 707/1000\n",
      "934/934 [==============================] - 0s 43us/sample - loss: 234390531.1520 - mean_absolute_error: 11514.0752 - mean_squared_error: 234390528.0000 - val_loss: 935787335.6581 - val_mean_absolute_error: 17934.5547 - val_mean_squared_error: 935787264.0000\n",
      "Epoch 708/1000\n",
      "934/934 [==============================] - 0s 46us/sample - loss: 206513734.7752 - mean_absolute_error: 9989.8184 - mean_squared_error: 206513728.0000 - val_loss: 1091025021.9487 - val_mean_absolute_error: 19481.5625 - val_mean_squared_error: 1091025024.0000\n",
      "Epoch 709/1000\n",
      "934/934 [==============================] - 0s 43us/sample - loss: 568203163.2206 - mean_absolute_error: 12720.3193 - mean_squared_error: 568203072.0000 - val_loss: 1101315506.8718 - val_mean_absolute_error: 21245.2070 - val_mean_squared_error: 1101315584.0000\n",
      "Epoch 710/1000\n",
      "934/934 [==============================] - 0s 45us/sample - loss: 256438752.4797 - mean_absolute_error: 11224.2588 - mean_squared_error: 256438736.0000 - val_loss: 1007087281.2308 - val_mean_absolute_error: 19598.6895 - val_mean_squared_error: 1007087296.0000\n",
      "Epoch 711/1000\n",
      "934/934 [==============================] - 0s 45us/sample - loss: 1536340759.2976 - mean_absolute_error: 18487.1211 - mean_squared_error: 1536340992.0000 - val_loss: 1038552889.8462 - val_mean_absolute_error: 19852.3555 - val_mean_squared_error: 1038552896.0000\n",
      "Epoch 712/1000\n",
      "934/934 [==============================] - 0s 44us/sample - loss: 353982827.2377 - mean_absolute_error: 13533.1113 - mean_squared_error: 353982848.0000 - val_loss: 1034690734.2222 - val_mean_absolute_error: 19339.3555 - val_mean_squared_error: 1034690688.0000\n",
      "Epoch 713/1000\n",
      "934/934 [==============================] - 0s 45us/sample - loss: 196276157.6017 - mean_absolute_error: 10267.3623 - mean_squared_error: 196276160.0000 - val_loss: 945461623.5214 - val_mean_absolute_error: 17633.9824 - val_mean_squared_error: 945461696.0000\n",
      "Epoch 714/1000\n",
      "934/934 [==============================] - 0s 46us/sample - loss: 182028644.9679 - mean_absolute_error: 9780.4238 - mean_squared_error: 182028656.0000 - val_loss: 904981141.8803 - val_mean_absolute_error: 17688.1074 - val_mean_squared_error: 904981120.0000\n",
      "Epoch 715/1000\n",
      "934/934 [==============================] - 0s 45us/sample - loss: 166339960.1285 - mean_absolute_error: 9492.1807 - mean_squared_error: 166339968.0000 - val_loss: 942811685.1966 - val_mean_absolute_error: 17954.0840 - val_mean_squared_error: 942811584.0000\n",
      "Epoch 716/1000\n",
      "934/934 [==============================] - 0s 44us/sample - loss: 171617961.0792 - mean_absolute_error: 9587.7988 - mean_squared_error: 171617952.0000 - val_loss: 885076055.7949 - val_mean_absolute_error: 17738.6465 - val_mean_squared_error: 885076096.0000\n",
      "Epoch 717/1000\n",
      "934/934 [==============================] - 0s 48us/sample - loss: 167554709.3276 - mean_absolute_error: 9430.8330 - mean_squared_error: 167554736.0000 - val_loss: 888731166.0855 - val_mean_absolute_error: 17657.3516 - val_mean_squared_error: 888731200.0000\n",
      "Epoch 718/1000\n",
      "934/934 [==============================] - 0s 47us/sample - loss: 159487636.7966 - mean_absolute_error: 9219.3252 - mean_squared_error: 159487632.0000 - val_loss: 890673658.5299 - val_mean_absolute_error: 17805.4258 - val_mean_squared_error: 890673664.0000\n",
      "Epoch 719/1000\n",
      "934/934 [==============================] - 0s 50us/sample - loss: 169973937.2677 - mean_absolute_error: 9513.6924 - mean_squared_error: 169973952.0000 - val_loss: 921825011.4188 - val_mean_absolute_error: 18215.0762 - val_mean_squared_error: 921824960.0000\n",
      "Epoch 720/1000\n",
      "934/934 [==============================] - 0s 47us/sample - loss: 166553115.9400 - mean_absolute_error: 9539.7715 - mean_squared_error: 166553120.0000 - val_loss: 874051338.9402 - val_mean_absolute_error: 17772.6562 - val_mean_squared_error: 874051392.0000\n",
      "Epoch 721/1000\n",
      "934/934 [==============================] - 0s 45us/sample - loss: 163024527.8630 - mean_absolute_error: 9275.6807 - mean_squared_error: 163024512.0000 - val_loss: 884483262.6325 - val_mean_absolute_error: 17677.7598 - val_mean_squared_error: 884483264.0000\n",
      "Epoch 722/1000\n",
      "934/934 [==============================] - 0s 45us/sample - loss: 160877072.0685 - mean_absolute_error: 9275.5459 - mean_squared_error: 160877072.0000 - val_loss: 894538252.5812 - val_mean_absolute_error: 17448.3789 - val_mean_squared_error: 894538304.0000\n",
      "Epoch 723/1000\n",
      "934/934 [==============================] - 0s 42us/sample - loss: 163235908.7966 - mean_absolute_error: 9394.4971 - mean_squared_error: 163235920.0000 - val_loss: 903086692.3761 - val_mean_absolute_error: 17731.1309 - val_mean_squared_error: 903086656.0000\n",
      "Epoch 724/1000\n",
      "934/934 [==============================] - 0s 41us/sample - loss: 160838644.6595 - mean_absolute_error: 9282.0039 - mean_squared_error: 160838640.0000 - val_loss: 878683094.4274 - val_mean_absolute_error: 17709.0898 - val_mean_squared_error: 878683072.0000\n",
      "Epoch 725/1000\n",
      "934/934 [==============================] - 0s 43us/sample - loss: 161939512.1884 - mean_absolute_error: 9388.6484 - mean_squared_error: 161939504.0000 - val_loss: 928598313.5726 - val_mean_absolute_error: 17962.8086 - val_mean_squared_error: 928598208.0000\n",
      "Epoch 726/1000\n",
      "934/934 [==============================] - 0s 41us/sample - loss: 169504813.1906 - mean_absolute_error: 9596.9844 - mean_squared_error: 169504800.0000 - val_loss: 916539129.4359 - val_mean_absolute_error: 18802.7246 - val_mean_squared_error: 916539072.0000\n",
      "Epoch 727/1000\n",
      "934/934 [==============================] - 0s 44us/sample - loss: 180632735.4176 - mean_absolute_error: 10059.3750 - mean_squared_error: 180632720.0000 - val_loss: 875701923.0085 - val_mean_absolute_error: 17578.2480 - val_mean_squared_error: 875701952.0000\n",
      "Epoch 728/1000\n",
      "934/934 [==============================] - 0s 44us/sample - loss: 160822932.7623 - mean_absolute_error: 9316.2217 - mean_squared_error: 160822928.0000 - val_loss: 915805000.2051 - val_mean_absolute_error: 17739.9648 - val_mean_squared_error: 915804992.0000\n",
      "Epoch 729/1000\n",
      "934/934 [==============================] - 0s 43us/sample - loss: 166071131.5696 - mean_absolute_error: 9389.4141 - mean_squared_error: 166071120.0000 - val_loss: 894640161.9145 - val_mean_absolute_error: 18078.9766 - val_mean_squared_error: 894640064.0000\n",
      "Epoch 730/1000\n",
      "934/934 [==============================] - 0s 45us/sample - loss: 168634871.2976 - mean_absolute_error: 9508.8457 - mean_squared_error: 168634880.0000 - val_loss: 884422034.0513 - val_mean_absolute_error: 17618.8906 - val_mean_squared_error: 884422016.0000\n",
      "Epoch 731/1000\n",
      "934/934 [==============================] - 0s 45us/sample - loss: 170497591.1263 - mean_absolute_error: 9723.4355 - mean_squared_error: 170497600.0000 - val_loss: 935473654.7009 - val_mean_absolute_error: 18222.4590 - val_mean_squared_error: 935473664.0000\n",
      "Epoch 732/1000\n",
      "934/934 [==============================] - 0s 44us/sample - loss: 167853503.2719 - mean_absolute_error: 9575.6006 - mean_squared_error: 167853520.0000 - val_loss: 886985211.6239 - val_mean_absolute_error: 17590.3809 - val_mean_squared_error: 886985216.0000\n",
      "Epoch 733/1000\n",
      "934/934 [==============================] - 0s 45us/sample - loss: 161161381.3790 - mean_absolute_error: 9286.9268 - mean_squared_error: 161161392.0000 - val_loss: 914691868.4444 - val_mean_absolute_error: 18098.8594 - val_mean_squared_error: 914691840.0000\n",
      "Epoch 734/1000\n",
      "934/934 [==============================] - 0s 49us/sample - loss: 160987540.0086 - mean_absolute_error: 9296.5361 - mean_squared_error: 160987552.0000 - val_loss: 915867591.6581 - val_mean_absolute_error: 17722.4414 - val_mean_squared_error: 915867584.0000\n",
      "Epoch 735/1000\n",
      "934/934 [==============================] - 0s 49us/sample - loss: 172485641.5931 - mean_absolute_error: 9584.0732 - mean_squared_error: 172485648.0000 - val_loss: 909502919.1111 - val_mean_absolute_error: 18838.2441 - val_mean_squared_error: 909502976.0000\n",
      "Epoch 736/1000\n",
      "934/934 [==============================] - 0s 47us/sample - loss: 167356869.7901 - mean_absolute_error: 9583.1670 - mean_squared_error: 167356864.0000 - val_loss: 889737853.8120 - val_mean_absolute_error: 17750.3262 - val_mean_squared_error: 889737856.0000\n",
      "Epoch 737/1000\n",
      "934/934 [==============================] - 0s 45us/sample - loss: 164461299.7516 - mean_absolute_error: 9389.8213 - mean_squared_error: 164461280.0000 - val_loss: 892500022.9744 - val_mean_absolute_error: 17552.0918 - val_mean_squared_error: 892500032.0000\n",
      "Epoch 738/1000\n",
      "934/934 [==============================] - 0s 49us/sample - loss: 162440421.6188 - mean_absolute_error: 9363.4902 - mean_squared_error: 162440416.0000 - val_loss: 892010817.0940 - val_mean_absolute_error: 17648.6191 - val_mean_squared_error: 892010944.0000\n",
      "Epoch 739/1000\n",
      "934/934 [==============================] - 0s 46us/sample - loss: 175408738.8266 - mean_absolute_error: 9883.0469 - mean_squared_error: 175408736.0000 - val_loss: 898717594.2564 - val_mean_absolute_error: 18105.4727 - val_mean_squared_error: 898717632.0000\n",
      "Epoch 740/1000\n",
      "934/934 [==============================] - 0s 44us/sample - loss: 165544153.9700 - mean_absolute_error: 9401.0137 - mean_squared_error: 165544128.0000 - val_loss: 886737059.1453 - val_mean_absolute_error: 17695.8203 - val_mean_squared_error: 886737088.0000\n",
      "Epoch 741/1000\n",
      "934/934 [==============================] - 0s 44us/sample - loss: 156186499.2719 - mean_absolute_error: 9177.5381 - mean_squared_error: 156186512.0000 - val_loss: 874483094.7009 - val_mean_absolute_error: 17529.9277 - val_mean_squared_error: 874483136.0000\n",
      "Epoch 742/1000\n",
      "934/934 [==============================] - 0s 45us/sample - loss: 165769374.1842 - mean_absolute_error: 9608.1641 - mean_squared_error: 165769360.0000 - val_loss: 930851531.4872 - val_mean_absolute_error: 17947.7910 - val_mean_squared_error: 930851520.0000\n",
      "Epoch 743/1000\n",
      "934/934 [==============================] - 0s 44us/sample - loss: 182104744.2655 - mean_absolute_error: 10253.1787 - mean_squared_error: 182104736.0000 - val_loss: 903602132.7863 - val_mean_absolute_error: 17967.7539 - val_mean_squared_error: 903602048.0000\n",
      "Epoch 744/1000\n",
      "934/934 [==============================] - 0s 42us/sample - loss: 163448198.7152 - mean_absolute_error: 9406.6738 - mean_squared_error: 163448192.0000 - val_loss: 913792454.8376 - val_mean_absolute_error: 17882.1152 - val_mean_squared_error: 913792448.0000\n",
      "Epoch 745/1000\n",
      "934/934 [==============================] - 0s 48us/sample - loss: 198042094.1670 - mean_absolute_error: 10481.4365 - mean_squared_error: 198042096.0000 - val_loss: 929814177.9145 - val_mean_absolute_error: 18923.3359 - val_mean_squared_error: 929814144.0000\n",
      "Epoch 746/1000\n",
      "934/934 [==============================] - 0s 46us/sample - loss: 166298385.8501 - mean_absolute_error: 9489.7344 - mean_squared_error: 166298384.0000 - val_loss: 913583886.2222 - val_mean_absolute_error: 18190.5879 - val_mean_squared_error: 913583808.0000\n",
      "Epoch 747/1000\n",
      "934/934 [==============================] - 0s 46us/sample - loss: 168488772.8565 - mean_absolute_error: 9552.7969 - mean_squared_error: 168488768.0000 - val_loss: 893203366.8376 - val_mean_absolute_error: 17717.3281 - val_mean_squared_error: 893203456.0000\n",
      "Epoch 748/1000\n",
      "934/934 [==============================] - 0s 47us/sample - loss: 158534424.0857 - mean_absolute_error: 9265.6318 - mean_squared_error: 158534448.0000 - val_loss: 920162174.0855 - val_mean_absolute_error: 17837.2012 - val_mean_squared_error: 920162176.0000\n",
      "Epoch 749/1000\n",
      "934/934 [==============================] - 0s 47us/sample - loss: 179073147.5803 - mean_absolute_error: 9913.6357 - mean_squared_error: 179073120.0000 - val_loss: 900759850.9402 - val_mean_absolute_error: 18258.9980 - val_mean_squared_error: 900759808.0000\n",
      "Epoch 750/1000\n",
      "934/934 [==============================] - 0s 48us/sample - loss: 168458493.7045 - mean_absolute_error: 9571.2695 - mean_squared_error: 168458496.0000 - val_loss: 910825994.6667 - val_mean_absolute_error: 17629.5371 - val_mean_squared_error: 910825984.0000\n",
      "Epoch 751/1000\n"
     ]
    },
    {
     "name": "stdout",
     "output_type": "stream",
     "text": [
      "934/934 [==============================] - 0s 47us/sample - loss: 174030512.4454 - mean_absolute_error: 9740.9795 - mean_squared_error: 174030512.0000 - val_loss: 898200632.2051 - val_mean_absolute_error: 18112.7227 - val_mean_squared_error: 898200576.0000\n",
      "Epoch 752/1000\n",
      "934/934 [==============================] - 0s 49us/sample - loss: 162036707.8030 - mean_absolute_error: 9298.2744 - mean_squared_error: 162036720.0000 - val_loss: 907261700.5128 - val_mean_absolute_error: 17899.0234 - val_mean_squared_error: 907261824.0000\n",
      "Epoch 753/1000\n",
      "934/934 [==============================] - 0s 47us/sample - loss: 161441887.4390 - mean_absolute_error: 9216.5078 - mean_squared_error: 161441904.0000 - val_loss: 894597732.7863 - val_mean_absolute_error: 17956.7988 - val_mean_squared_error: 894597696.0000\n",
      "Epoch 754/1000\n",
      "934/934 [==============================] - 0s 48us/sample - loss: 182843315.3233 - mean_absolute_error: 10023.8545 - mean_squared_error: 182843296.0000 - val_loss: 1035686414.2222 - val_mean_absolute_error: 19570.7031 - val_mean_squared_error: 1035686272.0000\n",
      "Epoch 755/1000\n",
      "934/934 [==============================] - 0s 46us/sample - loss: 197088709.4647 - mean_absolute_error: 10498.0127 - mean_squared_error: 197088720.0000 - val_loss: 909638080.0000 - val_mean_absolute_error: 17658.8496 - val_mean_squared_error: 909638080.0000\n",
      "Epoch 756/1000\n",
      "934/934 [==============================] - 0s 47us/sample - loss: 162482900.5396 - mean_absolute_error: 9411.8525 - mean_squared_error: 162482880.0000 - val_loss: 919510230.4274 - val_mean_absolute_error: 18396.8496 - val_mean_squared_error: 919510208.0000\n",
      "Epoch 757/1000\n",
      "934/934 [==============================] - 0s 48us/sample - loss: 165967424.3426 - mean_absolute_error: 9485.5117 - mean_squared_error: 165967424.0000 - val_loss: 921763910.0171 - val_mean_absolute_error: 18288.7676 - val_mean_squared_error: 921763968.0000\n",
      "Epoch 758/1000\n",
      "934/934 [==============================] - 0s 46us/sample - loss: 178519984.0857 - mean_absolute_error: 9991.1494 - mean_squared_error: 178519952.0000 - val_loss: 923883504.6838 - val_mean_absolute_error: 18303.4043 - val_mean_squared_error: 923883520.0000\n",
      "Epoch 759/1000\n",
      "934/934 [==============================] - 0s 44us/sample - loss: 167217213.2420 - mean_absolute_error: 9485.4189 - mean_squared_error: 167217216.0000 - val_loss: 888727559.6581 - val_mean_absolute_error: 17812.3223 - val_mean_squared_error: 888727552.0000\n",
      "Epoch 760/1000\n",
      "934/934 [==============================] - 0s 45us/sample - loss: 153523983.4176 - mean_absolute_error: 9051.4482 - mean_squared_error: 153523968.0000 - val_loss: 908122807.7949 - val_mean_absolute_error: 17684.8555 - val_mean_squared_error: 908122816.0000\n",
      "Epoch 761/1000\n",
      "934/934 [==============================] - 0s 47us/sample - loss: 162053592.3255 - mean_absolute_error: 9404.7471 - mean_squared_error: 162053600.0000 - val_loss: 899825161.8462 - val_mean_absolute_error: 17686.2656 - val_mean_squared_error: 899825088.0000\n",
      "Epoch 762/1000\n",
      "934/934 [==============================] - 0s 47us/sample - loss: 173763309.6445 - mean_absolute_error: 9782.0068 - mean_squared_error: 173763312.0000 - val_loss: 904260365.9487 - val_mean_absolute_error: 17773.8984 - val_mean_squared_error: 904260416.0000\n",
      "Epoch 763/1000\n",
      "934/934 [==============================] - 0s 48us/sample - loss: 159562365.7901 - mean_absolute_error: 9264.8262 - mean_squared_error: 159562368.0000 - val_loss: 915451466.1197 - val_mean_absolute_error: 17772.5898 - val_mean_squared_error: 915451456.0000\n",
      "Epoch 764/1000\n",
      "934/934 [==============================] - 0s 44us/sample - loss: 176184006.4411 - mean_absolute_error: 9752.9424 - mean_squared_error: 176184000.0000 - val_loss: 955983336.2051 - val_mean_absolute_error: 17875.2773 - val_mean_squared_error: 955983360.0000\n",
      "Epoch 765/1000\n",
      "934/934 [==============================] - 0s 47us/sample - loss: 175035134.1499 - mean_absolute_error: 9788.4902 - mean_squared_error: 175035120.0000 - val_loss: 883366196.5128 - val_mean_absolute_error: 17627.1914 - val_mean_squared_error: 883366272.0000\n",
      "Epoch 766/1000\n",
      "934/934 [==============================] - 0s 47us/sample - loss: 163074538.3726 - mean_absolute_error: 9442.2305 - mean_squared_error: 163074528.0000 - val_loss: 900141267.4188 - val_mean_absolute_error: 17877.5938 - val_mean_squared_error: 900141184.0000\n",
      "Epoch 767/1000\n",
      "934/934 [==============================] - 0s 49us/sample - loss: 153733522.4411 - mean_absolute_error: 9070.4141 - mean_squared_error: 153733488.0000 - val_loss: 888741060.9231 - val_mean_absolute_error: 17761.0820 - val_mean_squared_error: 888741120.0000\n",
      "Epoch 768/1000\n",
      "934/934 [==============================] - 0s 48us/sample - loss: 154967402.2441 - mean_absolute_error: 9074.1846 - mean_squared_error: 154967392.0000 - val_loss: 907432146.0513 - val_mean_absolute_error: 17716.2852 - val_mean_squared_error: 907432192.0000\n",
      "Epoch 769/1000\n",
      "934/934 [==============================] - 0s 47us/sample - loss: 218366207.2719 - mean_absolute_error: 10035.1133 - mean_squared_error: 218366192.0000 - val_loss: 894685682.3248 - val_mean_absolute_error: 17852.3535 - val_mean_squared_error: 894685760.0000\n",
      "Epoch 770/1000\n",
      "934/934 [==============================] - 0s 49us/sample - loss: 254219686.9036 - mean_absolute_error: 11221.0254 - mean_squared_error: 254219680.0000 - val_loss: 967242454.4274 - val_mean_absolute_error: 19563.9414 - val_mean_squared_error: 967242432.0000\n",
      "Epoch 771/1000\n",
      "934/934 [==============================] - 0s 48us/sample - loss: 194625706.7238 - mean_absolute_error: 10250.7764 - mean_squared_error: 194625712.0000 - val_loss: 927253759.0427 - val_mean_absolute_error: 18990.6191 - val_mean_squared_error: 927253760.0000\n",
      "Epoch 772/1000\n",
      "934/934 [==============================] - 0s 45us/sample - loss: 186725898.0043 - mean_absolute_error: 10369.7363 - mean_squared_error: 186725904.0000 - val_loss: 896690907.5556 - val_mean_absolute_error: 17802.6172 - val_mean_squared_error: 896690944.0000\n",
      "Epoch 773/1000\n",
      "934/934 [==============================] - 0s 45us/sample - loss: 153740350.2698 - mean_absolute_error: 9092.4619 - mean_squared_error: 153740352.0000 - val_loss: 901805958.5641 - val_mean_absolute_error: 17635.3926 - val_mean_squared_error: 901806080.0000\n",
      "Epoch 774/1000\n",
      "934/934 [==============================] - 0s 43us/sample - loss: 152938538.9636 - mean_absolute_error: 9025.6113 - mean_squared_error: 152938528.0000 - val_loss: 862091421.5385 - val_mean_absolute_error: 17867.0586 - val_mean_squared_error: 862091392.0000\n",
      "Epoch 775/1000\n",
      "934/934 [==============================] - 0s 46us/sample - loss: 157248038.2527 - mean_absolute_error: 9205.3359 - mean_squared_error: 157248032.0000 - val_loss: 902758927.1795 - val_mean_absolute_error: 18309.6875 - val_mean_squared_error: 902759040.0000\n",
      "Epoch 776/1000\n",
      "934/934 [==============================] - 0s 46us/sample - loss: 164400016.5054 - mean_absolute_error: 9479.1396 - mean_squared_error: 164400016.0000 - val_loss: 910433684.5128 - val_mean_absolute_error: 17736.2812 - val_mean_squared_error: 910433600.0000\n",
      "Epoch 777/1000\n",
      "934/934 [==============================] - 0s 46us/sample - loss: 167771638.8180 - mean_absolute_error: 9410.0352 - mean_squared_error: 167771664.0000 - val_loss: 913668839.3846 - val_mean_absolute_error: 17944.5742 - val_mean_squared_error: 913668864.0000\n",
      "Epoch 778/1000\n",
      "934/934 [==============================] - 0s 46us/sample - loss: 179073258.6895 - mean_absolute_error: 9806.4678 - mean_squared_error: 179073248.0000 - val_loss: 906159659.2137 - val_mean_absolute_error: 17863.8359 - val_mean_squared_error: 906159616.0000\n",
      "Epoch 779/1000\n",
      "934/934 [==============================] - 0s 47us/sample - loss: 177257944.0857 - mean_absolute_error: 9739.9922 - mean_squared_error: 177257952.0000 - val_loss: 982222327.2479 - val_mean_absolute_error: 18276.5879 - val_mean_squared_error: 982222336.0000\n",
      "Epoch 780/1000\n",
      "934/934 [==============================] - 0s 46us/sample - loss: 183531504.3340 - mean_absolute_error: 9572.1777 - mean_squared_error: 183531520.0000 - val_loss: 900643191.3846 - val_mean_absolute_error: 17737.8594 - val_mean_squared_error: 900643200.0000\n",
      "Epoch 781/1000\n",
      "934/934 [==============================] - 0s 44us/sample - loss: 168606003.7002 - mean_absolute_error: 9499.1113 - mean_squared_error: 168606000.0000 - val_loss: 940850339.5556 - val_mean_absolute_error: 18425.0371 - val_mean_squared_error: 940850368.0000\n",
      "Epoch 782/1000\n",
      "934/934 [==============================] - 0s 43us/sample - loss: 178438597.1734 - mean_absolute_error: 9944.1670 - mean_squared_error: 178438576.0000 - val_loss: 907558819.8291 - val_mean_absolute_error: 17983.6191 - val_mean_squared_error: 907558784.0000\n",
      "Epoch 783/1000\n",
      "934/934 [==============================] - 0s 47us/sample - loss: 162189317.0021 - mean_absolute_error: 9380.2783 - mean_squared_error: 162189344.0000 - val_loss: 888806492.4444 - val_mean_absolute_error: 17629.4121 - val_mean_squared_error: 888806528.0000\n",
      "Epoch 784/1000\n",
      "934/934 [==============================] - 0s 48us/sample - loss: 180488734.4240 - mean_absolute_error: 9496.6475 - mean_squared_error: 180488736.0000 - val_loss: 894542434.3248 - val_mean_absolute_error: 17739.5703 - val_mean_squared_error: 894542464.0000\n",
      "Epoch 785/1000\n",
      "934/934 [==============================] - 0s 45us/sample - loss: 153377750.4925 - mean_absolute_error: 9075.2383 - mean_squared_error: 153377760.0000 - val_loss: 893439914.1197 - val_mean_absolute_error: 17749.2852 - val_mean_squared_error: 893439872.0000\n",
      "Epoch 786/1000\n",
      "934/934 [==============================] - 0s 48us/sample - loss: 153300324.9336 - mean_absolute_error: 9098.2861 - mean_squared_error: 153300336.0000 - val_loss: 901492032.2735 - val_mean_absolute_error: 18005.2598 - val_mean_squared_error: 901492032.0000\n",
      "Epoch 787/1000\n",
      "934/934 [==============================] - 0s 48us/sample - loss: 166285685.2334 - mean_absolute_error: 9572.0000 - mean_squared_error: 166285696.0000 - val_loss: 913759777.3675 - val_mean_absolute_error: 18284.8223 - val_mean_squared_error: 913759808.0000\n",
      "Epoch 788/1000\n",
      "934/934 [==============================] - 0s 47us/sample - loss: 166313215.5889 - mean_absolute_error: 9515.0635 - mean_squared_error: 166313216.0000 - val_loss: 891500088.3419 - val_mean_absolute_error: 17710.0098 - val_mean_squared_error: 891500160.0000\n",
      "Epoch 789/1000\n",
      "934/934 [==============================] - 0s 45us/sample - loss: 153156496.0685 - mean_absolute_error: 9118.0889 - mean_squared_error: 153156496.0000 - val_loss: 911650881.6410 - val_mean_absolute_error: 17987.5098 - val_mean_squared_error: 911650880.0000\n",
      "Epoch 790/1000\n",
      "934/934 [==============================] - 0s 47us/sample - loss: 154751956.4368 - mean_absolute_error: 9176.7461 - mean_squared_error: 154751952.0000 - val_loss: 906468662.1538 - val_mean_absolute_error: 17992.9492 - val_mean_squared_error: 906468736.0000\n",
      "Epoch 791/1000\n",
      "934/934 [==============================] - 0s 48us/sample - loss: 157418083.0150 - mean_absolute_error: 9245.3242 - mean_squared_error: 157418128.0000 - val_loss: 907557503.4530 - val_mean_absolute_error: 18095.3906 - val_mean_squared_error: 907557440.0000\n",
      "Epoch 792/1000\n",
      "934/934 [==============================] - 0s 47us/sample - loss: 156120319.2463 - mean_absolute_error: 9155.7812 - mean_squared_error: 156120304.0000 - val_loss: 923603743.1795 - val_mean_absolute_error: 18374.5430 - val_mean_squared_error: 923603648.0000\n",
      "Epoch 793/1000\n",
      "934/934 [==============================] - 0s 47us/sample - loss: 168824204.8994 - mean_absolute_error: 9568.5732 - mean_squared_error: 168824208.0000 - val_loss: 901471194.8034 - val_mean_absolute_error: 18068.6992 - val_mean_squared_error: 901471232.0000\n",
      "Epoch 794/1000\n",
      "934/934 [==============================] - 0s 44us/sample - loss: 156860659.4604 - mean_absolute_error: 9317.9160 - mean_squared_error: 156860656.0000 - val_loss: 914925158.5641 - val_mean_absolute_error: 17717.9980 - val_mean_squared_error: 914925120.0000\n",
      "Epoch 795/1000\n",
      "934/934 [==============================] - 0s 45us/sample - loss: 161735678.4925 - mean_absolute_error: 9430.5410 - mean_squared_error: 161735696.0000 - val_loss: 891482716.1709 - val_mean_absolute_error: 17950.5469 - val_mean_squared_error: 891482752.0000\n",
      "Epoch 796/1000\n",
      "934/934 [==============================] - 0s 47us/sample - loss: 161446563.6360 - mean_absolute_error: 9273.0381 - mean_squared_error: 161446528.0000 - val_loss: 886407075.0085 - val_mean_absolute_error: 17817.4199 - val_mean_squared_error: 886407104.0000\n",
      "Epoch 797/1000\n",
      "934/934 [==============================] - 0s 46us/sample - loss: 176157099.4176 - mean_absolute_error: 9657.7939 - mean_squared_error: 176157120.0000 - val_loss: 943620671.8632 - val_mean_absolute_error: 18178.1914 - val_mean_squared_error: 943620672.0000\n",
      "Epoch 798/1000\n",
      "934/934 [==============================] - 0s 49us/sample - loss: 184448309.6360 - mean_absolute_error: 9531.8848 - mean_squared_error: 184448320.0000 - val_loss: 995581947.0769 - val_mean_absolute_error: 19301.0293 - val_mean_squared_error: 995581952.0000\n",
      "Epoch 799/1000\n",
      "934/934 [==============================] - 0s 46us/sample - loss: 230307325.8929 - mean_absolute_error: 11073.2930 - mean_squared_error: 230307328.0000 - val_loss: 1057806576.1368 - val_mean_absolute_error: 20482.6309 - val_mean_squared_error: 1057806592.0000\n",
      "Epoch 800/1000\n",
      "934/934 [==============================] - 0s 46us/sample - loss: 196087893.3105 - mean_absolute_error: 10206.6064 - mean_squared_error: 196087872.0000 - val_loss: 884061894.5641 - val_mean_absolute_error: 17766.8965 - val_mean_squared_error: 884061952.0000\n",
      "Epoch 801/1000\n",
      "934/934 [==============================] - 0s 45us/sample - loss: 174861146.6552 - mean_absolute_error: 9721.2754 - mean_squared_error: 174861152.0000 - val_loss: 884910172.9915 - val_mean_absolute_error: 18058.7188 - val_mean_squared_error: 884910144.0000\n",
      "Epoch 802/1000\n",
      "934/934 [==============================] - 0s 43us/sample - loss: 161375167.8972 - mean_absolute_error: 9415.9404 - mean_squared_error: 161375152.0000 - val_loss: 874147484.9915 - val_mean_absolute_error: 17784.8496 - val_mean_squared_error: 874147520.0000\n",
      "Epoch 803/1000\n",
      "934/934 [==============================] - 0s 44us/sample - loss: 169537273.1820 - mean_absolute_error: 9171.7119 - mean_squared_error: 169537296.0000 - val_loss: 877828525.9487 - val_mean_absolute_error: 17980.5449 - val_mean_squared_error: 877828480.0000\n",
      "Epoch 804/1000\n",
      "934/934 [==============================] - 0s 44us/sample - loss: 149814287.5803 - mean_absolute_error: 8985.3154 - mean_squared_error: 149814320.0000 - val_loss: 874877553.7778 - val_mean_absolute_error: 17718.1094 - val_mean_squared_error: 874877568.0000\n",
      "Epoch 805/1000\n",
      "934/934 [==============================] - 0s 45us/sample - loss: 168696502.3383 - mean_absolute_error: 9446.6689 - mean_squared_error: 168696528.0000 - val_loss: 930042900.5128 - val_mean_absolute_error: 17973.6367 - val_mean_squared_error: 930042944.0000\n",
      "Epoch 806/1000\n",
      "934/934 [==============================] - 0s 48us/sample - loss: 219934811.4090 - mean_absolute_error: 10215.4844 - mean_squared_error: 219934832.0000 - val_loss: 1031562747.6239 - val_mean_absolute_error: 19193.5664 - val_mean_squared_error: 1031562752.0000\n",
      "Epoch 807/1000\n",
      "934/934 [==============================] - 0s 45us/sample - loss: 459389523.4604 - mean_absolute_error: 13174.4336 - mean_squared_error: 459389536.0000 - val_loss: 972544504.6154 - val_mean_absolute_error: 18561.5527 - val_mean_squared_error: 972544448.0000\n",
      "Epoch 808/1000\n",
      "934/934 [==============================] - 0s 44us/sample - loss: 263401720.2056 - mean_absolute_error: 11080.0127 - mean_squared_error: 263401728.0000 - val_loss: 919424483.0085 - val_mean_absolute_error: 18445.5918 - val_mean_squared_error: 919424512.0000\n",
      "Epoch 809/1000\n",
      "934/934 [==============================] - 0s 45us/sample - loss: 347685475.8373 - mean_absolute_error: 11517.7148 - mean_squared_error: 347685472.0000 - val_loss: 1087781058.8034 - val_mean_absolute_error: 21384.0938 - val_mean_squared_error: 1087780992.0000\n",
      "Epoch 810/1000\n",
      "934/934 [==============================] - 0s 46us/sample - loss: 285284804.3854 - mean_absolute_error: 12143.4180 - mean_squared_error: 285284768.0000 - val_loss: 1001560744.7521 - val_mean_absolute_error: 19018.9941 - val_mean_squared_error: 1001560768.0000\n",
      "Epoch 811/1000\n"
     ]
    },
    {
     "name": "stdout",
     "output_type": "stream",
     "text": [
      "934/934 [==============================] - 0s 48us/sample - loss: 345307569.8672 - mean_absolute_error: 11574.0410 - mean_squared_error: 345307616.0000 - val_loss: 1003167802.5299 - val_mean_absolute_error: 18601.2051 - val_mean_squared_error: 1003167872.0000\n",
      "Epoch 812/1000\n",
      "934/934 [==============================] - 0s 47us/sample - loss: 402915617.8672 - mean_absolute_error: 12655.7891 - mean_squared_error: 402915616.0000 - val_loss: 917671329.9145 - val_mean_absolute_error: 18578.5918 - val_mean_squared_error: 917671296.0000\n",
      "Epoch 813/1000\n",
      "934/934 [==============================] - 0s 44us/sample - loss: 344987561.9358 - mean_absolute_error: 11982.9629 - mean_squared_error: 344987648.0000 - val_loss: 935500703.4530 - val_mean_absolute_error: 18676.7070 - val_mean_squared_error: 935500672.0000\n",
      "Epoch 814/1000\n",
      "934/934 [==============================] - 0s 43us/sample - loss: 218881157.5503 - mean_absolute_error: 10324.7637 - mean_squared_error: 218881152.0000 - val_loss: 864601822.9060 - val_mean_absolute_error: 17718.4902 - val_mean_squared_error: 864601792.0000\n",
      "Epoch 815/1000\n",
      "934/934 [==============================] - 0s 44us/sample - loss: 165921429.7045 - mean_absolute_error: 9494.3916 - mean_squared_error: 165921424.0000 - val_loss: 876853163.7607 - val_mean_absolute_error: 17678.4102 - val_mean_squared_error: 876853120.0000\n",
      "Epoch 816/1000\n",
      "934/934 [==============================] - 0s 48us/sample - loss: 147744045.6702 - mean_absolute_error: 8837.6514 - mean_squared_error: 147744048.0000 - val_loss: 900496397.6752 - val_mean_absolute_error: 18282.5273 - val_mean_squared_error: 900496384.0000\n",
      "Epoch 817/1000\n",
      "934/934 [==============================] - 0s 49us/sample - loss: 156681949.8073 - mean_absolute_error: 9139.8086 - mean_squared_error: 156681968.0000 - val_loss: 876189596.5812 - val_mean_absolute_error: 17575.5332 - val_mean_squared_error: 876189568.0000\n",
      "Epoch 818/1000\n",
      "934/934 [==============================] - 0s 46us/sample - loss: 161401391.6916 - mean_absolute_error: 9416.1064 - mean_squared_error: 161401360.0000 - val_loss: 881807525.1966 - val_mean_absolute_error: 17931.9414 - val_mean_squared_error: 881807488.0000\n",
      "Epoch 819/1000\n",
      "934/934 [==============================] - 0s 46us/sample - loss: 159317489.2677 - mean_absolute_error: 9274.4570 - mean_squared_error: 159317488.0000 - val_loss: 909763805.2650 - val_mean_absolute_error: 18404.3867 - val_mean_squared_error: 909763776.0000\n",
      "Epoch 820/1000\n",
      "934/934 [==============================] - 0s 46us/sample - loss: 165659462.9293 - mean_absolute_error: 9612.0049 - mean_squared_error: 165659472.0000 - val_loss: 924201545.8462 - val_mean_absolute_error: 17846.6895 - val_mean_squared_error: 924201472.0000\n",
      "Epoch 821/1000\n",
      "934/934 [==============================] - 0s 45us/sample - loss: 160348317.2848 - mean_absolute_error: 9125.6729 - mean_squared_error: 160348288.0000 - val_loss: 911273918.3590 - val_mean_absolute_error: 17878.1719 - val_mean_squared_error: 911273856.0000\n",
      "Epoch 822/1000\n",
      "934/934 [==============================] - 0s 44us/sample - loss: 160475162.9979 - mean_absolute_error: 9213.2324 - mean_squared_error: 160475200.0000 - val_loss: 889583731.4188 - val_mean_absolute_error: 18035.2598 - val_mean_squared_error: 889583680.0000\n",
      "Epoch 823/1000\n",
      "934/934 [==============================] - 0s 43us/sample - loss: 159695519.1606 - mean_absolute_error: 9406.6260 - mean_squared_error: 159695520.0000 - val_loss: 917372492.8547 - val_mean_absolute_error: 17864.2793 - val_mean_squared_error: 917372416.0000\n",
      "Epoch 824/1000\n",
      "934/934 [==============================] - 0s 55us/sample - loss: 152398918.1585 - mean_absolute_error: 9154.0215 - mean_squared_error: 152398912.0000 - val_loss: 887468431.3162 - val_mean_absolute_error: 17674.8770 - val_mean_squared_error: 887468416.0000\n",
      "Epoch 825/1000\n",
      "934/934 [==============================] - 0s 43us/sample - loss: 149885635.8030 - mean_absolute_error: 9016.5215 - mean_squared_error: 149885616.0000 - val_loss: 894553394.8718 - val_mean_absolute_error: 18241.1504 - val_mean_squared_error: 894553408.0000\n",
      "Epoch 826/1000\n",
      "934/934 [==============================] - 0s 45us/sample - loss: 160480438.9550 - mean_absolute_error: 9421.5283 - mean_squared_error: 160480416.0000 - val_loss: 918098865.2308 - val_mean_absolute_error: 18587.8477 - val_mean_squared_error: 918098880.0000\n",
      "Epoch 827/1000\n",
      "934/934 [==============================] - 0s 43us/sample - loss: 164876443.9229 - mean_absolute_error: 9527.6660 - mean_squared_error: 164876432.0000 - val_loss: 887164358.2906 - val_mean_absolute_error: 17866.9629 - val_mean_squared_error: 887164352.0000\n",
      "Epoch 828/1000\n",
      "934/934 [==============================] - 0s 45us/sample - loss: 166120164.8994 - mean_absolute_error: 9256.3750 - mean_squared_error: 166120144.0000 - val_loss: 1004879475.2821 - val_mean_absolute_error: 18839.6309 - val_mean_squared_error: 1004879424.0000\n",
      "Epoch 829/1000\n",
      "934/934 [==============================] - 0s 45us/sample - loss: 158646094.7323 - mean_absolute_error: 9338.6738 - mean_squared_error: 158646112.0000 - val_loss: 908606354.5983 - val_mean_absolute_error: 17893.7070 - val_mean_squared_error: 908606336.0000\n",
      "Epoch 830/1000\n",
      "934/934 [==============================] - 0s 44us/sample - loss: 157533792.1542 - mean_absolute_error: 9289.2822 - mean_squared_error: 157533776.0000 - val_loss: 927038460.1709 - val_mean_absolute_error: 17951.8672 - val_mean_squared_error: 927038464.0000\n",
      "Epoch 831/1000\n",
      "934/934 [==============================] - 0s 45us/sample - loss: 157674629.7559 - mean_absolute_error: 9349.2578 - mean_squared_error: 157674656.0000 - val_loss: 903296004.3761 - val_mean_absolute_error: 18006.5273 - val_mean_squared_error: 903296000.0000\n",
      "Epoch 832/1000\n",
      "934/934 [==============================] - 0s 48us/sample - loss: 154240035.3919 - mean_absolute_error: 9170.1758 - mean_squared_error: 154240032.0000 - val_loss: 867972321.3675 - val_mean_absolute_error: 17709.8379 - val_mean_squared_error: 867972288.0000\n",
      "Epoch 833/1000\n",
      "934/934 [==============================] - 0s 54us/sample - loss: 168687309.3619 - mean_absolute_error: 9453.9258 - mean_squared_error: 168687296.0000 - val_loss: 885185187.0085 - val_mean_absolute_error: 18036.9043 - val_mean_squared_error: 885185152.0000\n",
      "Epoch 834/1000\n",
      "934/934 [==============================] - 0s 48us/sample - loss: 210126541.3619 - mean_absolute_error: 10542.2637 - mean_squared_error: 210126512.0000 - val_loss: 912382131.8291 - val_mean_absolute_error: 18059.2324 - val_mean_squared_error: 912382208.0000\n",
      "Epoch 835/1000\n",
      "934/934 [==============================] - 0s 48us/sample - loss: 249351338.1413 - mean_absolute_error: 10102.7686 - mean_squared_error: 249351328.0000 - val_loss: 1106597997.9487 - val_mean_absolute_error: 20150.1426 - val_mean_squared_error: 1106597888.0000\n",
      "Epoch 836/1000\n",
      "934/934 [==============================] - 0s 50us/sample - loss: 168526405.2762 - mean_absolute_error: 9372.4189 - mean_squared_error: 168526400.0000 - val_loss: 934512709.0598 - val_mean_absolute_error: 18159.3027 - val_mean_squared_error: 934512704.0000\n",
      "Epoch 837/1000\n",
      "934/934 [==============================] - 0s 47us/sample - loss: 162829782.4411 - mean_absolute_error: 9415.6582 - mean_squared_error: 162829792.0000 - val_loss: 915393573.1966 - val_mean_absolute_error: 17993.3164 - val_mean_squared_error: 915393600.0000\n",
      "Epoch 838/1000\n",
      "934/934 [==============================] - 0s 46us/sample - loss: 157854298.0535 - mean_absolute_error: 9426.6973 - mean_squared_error: 157854320.0000 - val_loss: 883755922.0513 - val_mean_absolute_error: 18076.0645 - val_mean_squared_error: 883755968.0000\n",
      "Epoch 839/1000\n",
      "934/934 [==============================] - 0s 47us/sample - loss: 157944957.7901 - mean_absolute_error: 9191.8350 - mean_squared_error: 157944960.0000 - val_loss: 910871474.3248 - val_mean_absolute_error: 17961.9102 - val_mean_squared_error: 910871424.0000\n",
      "Epoch 840/1000\n",
      "934/934 [==============================] - 0s 51us/sample - loss: 153673268.9465 - mean_absolute_error: 9166.6064 - mean_squared_error: 153673296.0000 - val_loss: 885371789.9145 - val_mean_absolute_error: 17852.0273 - val_mean_squared_error: 885371840.0000\n",
      "Epoch 841/1000\n",
      "934/934 [==============================] - 0s 47us/sample - loss: 147081421.8758 - mean_absolute_error: 8918.8516 - mean_squared_error: 147081408.0000 - val_loss: 889284743.9316 - val_mean_absolute_error: 17740.9004 - val_mean_squared_error: 889284800.0000\n",
      "Epoch 842/1000\n",
      "934/934 [==============================] - 0s 48us/sample - loss: 150449420.9979 - mean_absolute_error: 8979.1416 - mean_squared_error: 150449392.0000 - val_loss: 894544145.2308 - val_mean_absolute_error: 17834.5098 - val_mean_squared_error: 894544192.0000\n",
      "Epoch 843/1000\n",
      "934/934 [==============================] - 0s 51us/sample - loss: 156391433.9872 - mean_absolute_error: 9138.5381 - mean_squared_error: 156391440.0000 - val_loss: 901466696.2051 - val_mean_absolute_error: 18446.9941 - val_mean_squared_error: 901466752.0000\n",
      "Epoch 844/1000\n",
      "934/934 [==============================] - 0s 53us/sample - loss: 161144723.7173 - mean_absolute_error: 9524.1211 - mean_squared_error: 161144720.0000 - val_loss: 885289446.0171 - val_mean_absolute_error: 17978.7266 - val_mean_squared_error: 885289408.0000\n",
      "Epoch 845/1000\n",
      "934/934 [==============================] - 0s 47us/sample - loss: 164848528.0685 - mean_absolute_error: 9511.6084 - mean_squared_error: 164848528.0000 - val_loss: 926759516.9915 - val_mean_absolute_error: 18007.9727 - val_mean_squared_error: 926759488.0000\n",
      "Epoch 846/1000\n",
      "934/934 [==============================] - 0s 51us/sample - loss: 154399667.6831 - mean_absolute_error: 9174.0078 - mean_squared_error: 154399664.0000 - val_loss: 888169997.1282 - val_mean_absolute_error: 17892.3496 - val_mean_squared_error: 888169984.0000\n",
      "Epoch 847/1000\n",
      "934/934 [==============================] - 0s 50us/sample - loss: 165522724.4197 - mean_absolute_error: 9635.4570 - mean_squared_error: 165522752.0000 - val_loss: 937863740.4444 - val_mean_absolute_error: 18106.8555 - val_mean_squared_error: 937863680.0000\n",
      "Epoch 848/1000\n",
      "934/934 [==============================] - 0s 49us/sample - loss: 167200520.7709 - mean_absolute_error: 9512.8848 - mean_squared_error: 167200528.0000 - val_loss: 892417016.6154 - val_mean_absolute_error: 17836.4473 - val_mean_squared_error: 892417024.0000\n",
      "Epoch 849/1000\n",
      "934/934 [==============================] - 0s 51us/sample - loss: 167071302.5439 - mean_absolute_error: 9523.6309 - mean_squared_error: 167071312.0000 - val_loss: 941564661.0598 - val_mean_absolute_error: 17942.3613 - val_mean_squared_error: 941564608.0000\n",
      "Epoch 850/1000\n",
      "934/934 [==============================] - 0s 53us/sample - loss: 157750698.7923 - mean_absolute_error: 9370.8584 - mean_squared_error: 157750720.0000 - val_loss: 907504745.7094 - val_mean_absolute_error: 17897.7266 - val_mean_squared_error: 907504640.0000\n",
      "Epoch 851/1000\n",
      "934/934 [==============================] - 0s 47us/sample - loss: 146612543.6660 - mean_absolute_error: 8898.7822 - mean_squared_error: 146612544.0000 - val_loss: 894785253.4701 - val_mean_absolute_error: 17528.0156 - val_mean_squared_error: 894785280.0000\n",
      "Epoch 852/1000\n",
      "934/934 [==============================] - 0s 49us/sample - loss: 145103224.1199 - mean_absolute_error: 8916.9092 - mean_squared_error: 145103216.0000 - val_loss: 890895326.8718 - val_mean_absolute_error: 17916.3711 - val_mean_squared_error: 890895360.0000\n",
      "Epoch 853/1000\n",
      "934/934 [==============================] - 0s 51us/sample - loss: 151076164.4882 - mean_absolute_error: 8982.4785 - mean_squared_error: 151076176.0000 - val_loss: 904472365.9487 - val_mean_absolute_error: 17898.9707 - val_mean_squared_error: 904472320.0000\n",
      "Epoch 854/1000\n",
      "934/934 [==============================] - 0s 49us/sample - loss: 152046263.6060 - mean_absolute_error: 9013.3223 - mean_squared_error: 152046256.0000 - val_loss: 899034455.6581 - val_mean_absolute_error: 17906.3457 - val_mean_squared_error: 899034432.0000\n",
      "Epoch 855/1000\n",
      "934/934 [==============================] - 0s 80us/sample - loss: 161463609.6959 - mean_absolute_error: 9427.2197 - mean_squared_error: 161463600.0000 - val_loss: 949667927.5214 - val_mean_absolute_error: 18295.8633 - val_mean_squared_error: 949667904.0000\n",
      "Epoch 856/1000\n",
      "934/934 [==============================] - 0s 72us/sample - loss: 182420222.2869 - mean_absolute_error: 9645.5000 - mean_squared_error: 182420224.0000 - val_loss: 897236745.8462 - val_mean_absolute_error: 18088.2207 - val_mean_squared_error: 897236800.0000\n",
      "Epoch 857/1000\n",
      "934/934 [==============================] - 0s 78us/sample - loss: 179526756.1799 - mean_absolute_error: 10054.2334 - mean_squared_error: 179526752.0000 - val_loss: 878493907.6923 - val_mean_absolute_error: 18380.0137 - val_mean_squared_error: 878493824.0000\n",
      "Epoch 858/1000\n",
      "934/934 [==============================] - 0s 68us/sample - loss: 156654524.8480 - mean_absolute_error: 9305.9951 - mean_squared_error: 156654512.0000 - val_loss: 950002878.3590 - val_mean_absolute_error: 18715.5449 - val_mean_squared_error: 950002944.0000\n",
      "Epoch 859/1000\n",
      "934/934 [==============================] - 0s 66us/sample - loss: 152625364.7109 - mean_absolute_error: 9009.2852 - mean_squared_error: 152625344.0000 - val_loss: 882243730.5983 - val_mean_absolute_error: 17795.8242 - val_mean_squared_error: 882243648.0000\n",
      "Epoch 860/1000\n",
      "934/934 [==============================] - 0s 51us/sample - loss: 162511495.5375 - mean_absolute_error: 9638.4219 - mean_squared_error: 162511488.0000 - val_loss: 992304243.1453 - val_mean_absolute_error: 19170.7500 - val_mean_squared_error: 992304192.0000\n",
      "Epoch 861/1000\n",
      "934/934 [==============================] - 0s 50us/sample - loss: 162727899.3662 - mean_absolute_error: 9511.7295 - mean_squared_error: 162727904.0000 - val_loss: 918612111.5897 - val_mean_absolute_error: 17708.7910 - val_mean_squared_error: 918612096.0000\n",
      "Epoch 862/1000\n",
      "934/934 [==============================] - 0s 48us/sample - loss: 211172342.7495 - mean_absolute_error: 10409.0674 - mean_squared_error: 211172336.0000 - val_loss: 926183765.3333 - val_mean_absolute_error: 17768.1406 - val_mean_squared_error: 926183808.0000\n",
      "Epoch 863/1000\n",
      "934/934 [==============================] - 0s 51us/sample - loss: 179068985.4047 - mean_absolute_error: 9425.7998 - mean_squared_error: 179068976.0000 - val_loss: 911978358.1538 - val_mean_absolute_error: 18033.6641 - val_mean_squared_error: 911978368.0000\n",
      "Epoch 864/1000\n",
      "934/934 [==============================] - 0s 59us/sample - loss: 148752051.5289 - mean_absolute_error: 8925.9131 - mean_squared_error: 148752048.0000 - val_loss: 912999825.4359 - val_mean_absolute_error: 18253.8809 - val_mean_squared_error: 912999808.0000\n",
      "Epoch 865/1000\n",
      "934/934 [==============================] - 0s 65us/sample - loss: 161437242.0043 - mean_absolute_error: 9502.1318 - mean_squared_error: 161437296.0000 - val_loss: 890220454.2906 - val_mean_absolute_error: 17880.8066 - val_mean_squared_error: 890220416.0000\n",
      "Epoch 866/1000\n",
      "934/934 [==============================] - 0s 55us/sample - loss: 146753192.6852 - mean_absolute_error: 8879.1777 - mean_squared_error: 146753200.0000 - val_loss: 915568700.9915 - val_mean_absolute_error: 18018.8047 - val_mean_squared_error: 915568704.0000\n",
      "Epoch 867/1000\n",
      "934/934 [==============================] - 0s 63us/sample - loss: 154050097.1135 - mean_absolute_error: 8998.2715 - mean_squared_error: 154050096.0000 - val_loss: 894370093.9487 - val_mean_absolute_error: 17684.2031 - val_mean_squared_error: 894370112.0000\n",
      "Epoch 868/1000\n",
      "934/934 [==============================] - 0s 66us/sample - loss: 147092518.7966 - mean_absolute_error: 8835.7900 - mean_squared_error: 147092512.0000 - val_loss: 963484675.8291 - val_mean_absolute_error: 18136.2578 - val_mean_squared_error: 963484672.0000\n",
      "Epoch 869/1000\n",
      "934/934 [==============================] - 0s 53us/sample - loss: 156357345.5931 - mean_absolute_error: 9123.1484 - mean_squared_error: 156357376.0000 - val_loss: 949098005.0598 - val_mean_absolute_error: 18162.1875 - val_mean_squared_error: 949097984.0000\n",
      "Epoch 870/1000\n",
      "934/934 [==============================] - 0s 50us/sample - loss: 214808917.3961 - mean_absolute_error: 9740.6553 - mean_squared_error: 214808928.0000 - val_loss: 1063169278.7692 - val_mean_absolute_error: 18897.5527 - val_mean_squared_error: 1063169344.0000\n",
      "Epoch 871/1000\n"
     ]
    },
    {
     "name": "stdout",
     "output_type": "stream",
     "text": [
      "934/934 [==============================] - 0s 49us/sample - loss: 290299284.2570 - mean_absolute_error: 11229.1846 - mean_squared_error: 290299264.0000 - val_loss: 986582980.6496 - val_mean_absolute_error: 18144.5840 - val_mean_squared_error: 986582912.0000\n",
      "Epoch 872/1000\n",
      "934/934 [==============================] - 0s 47us/sample - loss: 162608263.8287 - mean_absolute_error: 9283.3154 - mean_squared_error: 162608288.0000 - val_loss: 920035421.5385 - val_mean_absolute_error: 18061.0234 - val_mean_squared_error: 920035456.0000\n",
      "Epoch 873/1000\n",
      "934/934 [==============================] - 0s 47us/sample - loss: 166250004.7452 - mean_absolute_error: 9523.3955 - mean_squared_error: 166250032.0000 - val_loss: 976970949.8803 - val_mean_absolute_error: 18185.4980 - val_mean_squared_error: 976971008.0000\n",
      "Epoch 874/1000\n",
      "934/934 [==============================] - 0s 60us/sample - loss: 164848958.7323 - mean_absolute_error: 9639.0527 - mean_squared_error: 164848944.0000 - val_loss: 933546621.8120 - val_mean_absolute_error: 18235.6055 - val_mean_squared_error: 933546688.0000\n",
      "Epoch 875/1000\n",
      "934/934 [==============================] - 0s 70us/sample - loss: 165367768.6681 - mean_absolute_error: 9629.8193 - mean_squared_error: 165367744.0000 - val_loss: 971486743.1111 - val_mean_absolute_error: 18769.3047 - val_mean_squared_error: 971486720.0000\n",
      "Epoch 876/1000\n",
      "934/934 [==============================] - 0s 68us/sample - loss: 183528681.3876 - mean_absolute_error: 10320.5547 - mean_squared_error: 183528704.0000 - val_loss: 959861095.9316 - val_mean_absolute_error: 18601.8770 - val_mean_squared_error: 959861120.0000\n",
      "Epoch 877/1000\n",
      "934/934 [==============================] - 0s 61us/sample - loss: 156257404.4283 - mean_absolute_error: 9198.7676 - mean_squared_error: 156257408.0000 - val_loss: 908679923.9658 - val_mean_absolute_error: 18157.6426 - val_mean_squared_error: 908679872.0000\n",
      "Epoch 878/1000\n",
      "934/934 [==============================] - 0s 48us/sample - loss: 169154850.3640 - mean_absolute_error: 9600.6641 - mean_squared_error: 169154848.0000 - val_loss: 1024731147.7607 - val_mean_absolute_error: 20113.6465 - val_mean_squared_error: 1024731136.0000\n",
      "Epoch 879/1000\n",
      "934/934 [==============================] - 0s 45us/sample - loss: 196375151.8801 - mean_absolute_error: 10573.0703 - mean_squared_error: 196375152.0000 - val_loss: 931760436.5128 - val_mean_absolute_error: 18423.3906 - val_mean_squared_error: 931760448.0000\n",
      "Epoch 880/1000\n",
      "934/934 [==============================] - 0s 45us/sample - loss: 201311119.6060 - mean_absolute_error: 9677.2988 - mean_squared_error: 201311104.0000 - val_loss: 1016908145.2308 - val_mean_absolute_error: 19133.4707 - val_mean_squared_error: 1016908096.0000\n",
      "Epoch 881/1000\n",
      "934/934 [==============================] - 0s 46us/sample - loss: 295626608.5824 - mean_absolute_error: 11726.2803 - mean_squared_error: 295626592.0000 - val_loss: 972179040.2735 - val_mean_absolute_error: 18031.3340 - val_mean_squared_error: 972179072.0000\n",
      "Epoch 882/1000\n",
      "934/934 [==============================] - 0s 45us/sample - loss: 534233533.3961 - mean_absolute_error: 13293.1494 - mean_squared_error: 534233504.0000 - val_loss: 989721191.6581 - val_mean_absolute_error: 19204.5312 - val_mean_squared_error: 989721152.0000\n",
      "Epoch 883/1000\n",
      "934/934 [==============================] - 0s 48us/sample - loss: 290990327.7430 - mean_absolute_error: 11643.2158 - mean_squared_error: 290990304.0000 - val_loss: 1025820472.8889 - val_mean_absolute_error: 18468.0254 - val_mean_squared_error: 1025820416.0000\n",
      "Epoch 884/1000\n",
      "934/934 [==============================] - 0s 52us/sample - loss: 174448238.5268 - mean_absolute_error: 9595.5254 - mean_squared_error: 174448256.0000 - val_loss: 910752752.6838 - val_mean_absolute_error: 18171.5273 - val_mean_squared_error: 910752832.0000\n",
      "Epoch 885/1000\n",
      "934/934 [==============================] - 0s 67us/sample - loss: 147131603.0493 - mean_absolute_error: 8986.4268 - mean_squared_error: 147131616.0000 - val_loss: 909641584.6838 - val_mean_absolute_error: 17864.1152 - val_mean_squared_error: 909641600.0000\n",
      "Epoch 886/1000\n",
      "934/934 [==============================] - 0s 69us/sample - loss: 160230046.3212 - mean_absolute_error: 9228.3955 - mean_squared_error: 160230048.0000 - val_loss: 1018512822.1538 - val_mean_absolute_error: 18643.6738 - val_mean_squared_error: 1018512832.0000\n",
      "Epoch 887/1000\n",
      "934/934 [==============================] - 0s 66us/sample - loss: 163461492.2827 - mean_absolute_error: 9550.6123 - mean_squared_error: 163461504.0000 - val_loss: 952540354.1880 - val_mean_absolute_error: 18439.3223 - val_mean_squared_error: 952540352.0000\n",
      "Epoch 888/1000\n",
      "934/934 [==============================] - 0s 53us/sample - loss: 153874012.5739 - mean_absolute_error: 9161.0752 - mean_squared_error: 153874016.0000 - val_loss: 925868953.7094 - val_mean_absolute_error: 18117.6211 - val_mean_squared_error: 925868928.0000\n",
      "Epoch 889/1000\n",
      "934/934 [==============================] - 0s 43us/sample - loss: 206568412.5054 - mean_absolute_error: 9904.8076 - mean_squared_error: 206568400.0000 - val_loss: 874181008.4103 - val_mean_absolute_error: 18657.8672 - val_mean_squared_error: 874180992.0000\n",
      "Epoch 890/1000\n",
      "934/934 [==============================] - 0s 43us/sample - loss: 173315199.1606 - mean_absolute_error: 9611.4697 - mean_squared_error: 173315200.0000 - val_loss: 904407766.4274 - val_mean_absolute_error: 18113.9082 - val_mean_squared_error: 904407808.0000\n",
      "Epoch 891/1000\n",
      "934/934 [==============================] - 0s 45us/sample - loss: 159795563.4261 - mean_absolute_error: 9482.1992 - mean_squared_error: 159795552.0000 - val_loss: 901903272.4786 - val_mean_absolute_error: 18139.6191 - val_mean_squared_error: 901903296.0000\n",
      "Epoch 892/1000\n",
      "934/934 [==============================] - 0s 55us/sample - loss: 140299164.1113 - mean_absolute_error: 8631.2070 - mean_squared_error: 140299168.0000 - val_loss: 916707704.8889 - val_mean_absolute_error: 18347.4766 - val_mean_squared_error: 916707712.0000\n",
      "Epoch 893/1000\n",
      "934/934 [==============================] - 0s 66us/sample - loss: 144753464.1884 - mean_absolute_error: 8933.9922 - mean_squared_error: 144753472.0000 - val_loss: 891900253.5385 - val_mean_absolute_error: 18025.2812 - val_mean_squared_error: 891900288.0000\n",
      "Epoch 894/1000\n",
      "934/934 [==============================] - 0s 61us/sample - loss: 152998306.7409 - mean_absolute_error: 9101.2158 - mean_squared_error: 152998288.0000 - val_loss: 880667788.5812 - val_mean_absolute_error: 17929.7441 - val_mean_squared_error: 880667712.0000\n",
      "Epoch 895/1000\n",
      "934/934 [==============================] - 0s 63us/sample - loss: 193328169.8051 - mean_absolute_error: 9839.3369 - mean_squared_error: 193328176.0000 - val_loss: 900911691.2137 - val_mean_absolute_error: 18095.5039 - val_mean_squared_error: 900911680.0000\n",
      "Epoch 896/1000\n",
      "934/934 [==============================] - 0s 62us/sample - loss: 153750116.6938 - mean_absolute_error: 9143.2812 - mean_squared_error: 153750112.0000 - val_loss: 922512118.1538 - val_mean_absolute_error: 18073.3125 - val_mean_squared_error: 922512128.0000\n",
      "Epoch 897/1000\n",
      "934/934 [==============================] - 0s 59us/sample - loss: 162254262.1092 - mean_absolute_error: 9237.8770 - mean_squared_error: 162254256.0000 - val_loss: 907352841.2991 - val_mean_absolute_error: 18089.2949 - val_mean_squared_error: 907352896.0000\n",
      "Epoch 898/1000\n",
      "934/934 [==============================] - 0s 53us/sample - loss: 158972244.8994 - mean_absolute_error: 9309.4297 - mean_squared_error: 158972272.0000 - val_loss: 914360093.1282 - val_mean_absolute_error: 18075.8789 - val_mean_squared_error: 914360192.0000\n",
      "Epoch 899/1000\n",
      "934/934 [==============================] - 0s 49us/sample - loss: 188019054.9722 - mean_absolute_error: 9552.1357 - mean_squared_error: 188019040.0000 - val_loss: 943383479.2479 - val_mean_absolute_error: 18906.7090 - val_mean_squared_error: 943383424.0000\n",
      "Epoch 900/1000\n",
      "934/934 [==============================] - 0s 44us/sample - loss: 176389113.7987 - mean_absolute_error: 9982.9736 - mean_squared_error: 176389120.0000 - val_loss: 956031158.1538 - val_mean_absolute_error: 18776.8926 - val_mean_squared_error: 956031168.0000\n",
      "Epoch 901/1000\n",
      "934/934 [==============================] - 0s 46us/sample - loss: 152008219.4090 - mean_absolute_error: 9238.5908 - mean_squared_error: 152008208.0000 - val_loss: 899007067.8974 - val_mean_absolute_error: 17894.6113 - val_mean_squared_error: 899007040.0000\n",
      "Epoch 902/1000\n",
      "934/934 [==============================] - 0s 43us/sample - loss: 143420376.4283 - mean_absolute_error: 8804.4414 - mean_squared_error: 143420384.0000 - val_loss: 896694894.4957 - val_mean_absolute_error: 18040.8125 - val_mean_squared_error: 896694912.0000\n",
      "Epoch 903/1000\n",
      "934/934 [==============================] - 0s 43us/sample - loss: 142554724.2655 - mean_absolute_error: 8822.0439 - mean_squared_error: 142554720.0000 - val_loss: 894055360.5470 - val_mean_absolute_error: 18025.6973 - val_mean_squared_error: 894055424.0000\n",
      "Epoch 904/1000\n",
      "934/934 [==============================] - 0s 46us/sample - loss: 153521267.8544 - mean_absolute_error: 9214.0137 - mean_squared_error: 153521248.0000 - val_loss: 903127172.3761 - val_mean_absolute_error: 18123.8594 - val_mean_squared_error: 903127168.0000\n",
      "Epoch 905/1000\n",
      "934/934 [==============================] - 0s 42us/sample - loss: 158279240.5910 - mean_absolute_error: 9459.1270 - mean_squared_error: 158279232.0000 - val_loss: 907981950.9060 - val_mean_absolute_error: 18077.0137 - val_mean_squared_error: 907981888.0000\n",
      "Epoch 906/1000\n",
      "934/934 [==============================] - 0s 42us/sample - loss: 155969859.9058 - mean_absolute_error: 9268.2246 - mean_squared_error: 155969872.0000 - val_loss: 893552773.4701 - val_mean_absolute_error: 18212.4785 - val_mean_squared_error: 893552768.0000\n",
      "Epoch 907/1000\n",
      "934/934 [==============================] - 0s 57us/sample - loss: 148030746.0385 - mean_absolute_error: 8958.9678 - mean_squared_error: 148030736.0000 - val_loss: 895581650.3248 - val_mean_absolute_error: 17957.5918 - val_mean_squared_error: 895581632.0000\n",
      "Epoch 908/1000\n",
      "934/934 [==============================] - 0s 71us/sample - loss: 147486845.3961 - mean_absolute_error: 8892.3311 - mean_squared_error: 147486848.0000 - val_loss: 887390653.5385 - val_mean_absolute_error: 17893.2656 - val_mean_squared_error: 887390528.0000\n",
      "Epoch 909/1000\n",
      "934/934 [==============================] - 0s 69us/sample - loss: 152187821.9143 - mean_absolute_error: 9086.5547 - mean_squared_error: 152187808.0000 - val_loss: 920007412.7863 - val_mean_absolute_error: 18217.3359 - val_mean_squared_error: 920007360.0000\n",
      "Epoch 910/1000\n",
      "934/934 [==============================] - 0s 66us/sample - loss: 147472387.9058 - mean_absolute_error: 8955.2461 - mean_squared_error: 147472400.0000 - val_loss: 885203940.9231 - val_mean_absolute_error: 17745.1777 - val_mean_squared_error: 885203968.0000\n",
      "Epoch 911/1000\n",
      "934/934 [==============================] - 0s 48us/sample - loss: 143516276.3683 - mean_absolute_error: 8863.8428 - mean_squared_error: 143516256.0000 - val_loss: 948692048.8205 - val_mean_absolute_error: 18307.6094 - val_mean_squared_error: 948692096.0000\n",
      "Epoch 912/1000\n",
      "934/934 [==============================] - 0s 44us/sample - loss: 146117682.7066 - mean_absolute_error: 8851.5469 - mean_squared_error: 146117712.0000 - val_loss: 996560606.3590 - val_mean_absolute_error: 18660.9160 - val_mean_squared_error: 996560576.0000\n",
      "Epoch 913/1000\n",
      "934/934 [==============================] - 0s 43us/sample - loss: 166167990.7516 - mean_absolute_error: 9586.3291 - mean_squared_error: 166167984.0000 - val_loss: 928011172.1026 - val_mean_absolute_error: 18333.3770 - val_mean_squared_error: 928011200.0000\n",
      "Epoch 914/1000\n",
      "934/934 [==============================] - 0s 44us/sample - loss: 146985435.1006 - mean_absolute_error: 8917.1729 - mean_squared_error: 146985424.0000 - val_loss: 933487512.2051 - val_mean_absolute_error: 18168.9180 - val_mean_squared_error: 933487552.0000\n",
      "Epoch 915/1000\n",
      "934/934 [==============================] - 0s 42us/sample - loss: 156608711.7602 - mean_absolute_error: 9121.5361 - mean_squared_error: 156608704.0000 - val_loss: 943420754.4615 - val_mean_absolute_error: 18168.4355 - val_mean_squared_error: 943420736.0000\n",
      "Epoch 916/1000\n",
      "934/934 [==============================] - 0s 44us/sample - loss: 173176083.1349 - mean_absolute_error: 9618.6631 - mean_squared_error: 173176096.0000 - val_loss: 903439992.0684 - val_mean_absolute_error: 18746.4609 - val_mean_squared_error: 903439936.0000\n",
      "Epoch 917/1000\n",
      "934/934 [==============================] - 0s 42us/sample - loss: 147343664.7880 - mean_absolute_error: 8950.0078 - mean_squared_error: 147343664.0000 - val_loss: 880023134.0855 - val_mean_absolute_error: 18236.6094 - val_mean_squared_error: 880023104.0000\n",
      "Epoch 918/1000\n",
      "934/934 [==============================] - 0s 41us/sample - loss: 152606412.4368 - mean_absolute_error: 9085.3037 - mean_squared_error: 152606416.0000 - val_loss: 921064534.4274 - val_mean_absolute_error: 18612.3594 - val_mean_squared_error: 921064576.0000\n",
      "Epoch 919/1000\n",
      "934/934 [==============================] - 0s 42us/sample - loss: 159439789.1135 - mean_absolute_error: 9357.8730 - mean_squared_error: 159439792.0000 - val_loss: 874345846.1538 - val_mean_absolute_error: 18129.4824 - val_mean_squared_error: 874345792.0000\n",
      "Epoch 920/1000\n",
      "934/934 [==============================] - 0s 43us/sample - loss: 241688719.6403 - mean_absolute_error: 10767.0820 - mean_squared_error: 241688704.0000 - val_loss: 917505441.9145 - val_mean_absolute_error: 18431.2012 - val_mean_squared_error: 917505536.0000\n",
      "Epoch 921/1000\n",
      "934/934 [==============================] - 0s 43us/sample - loss: 232901713.2505 - mean_absolute_error: 10105.3779 - mean_squared_error: 232901776.0000 - val_loss: 997080517.1966 - val_mean_absolute_error: 18299.3223 - val_mean_squared_error: 997080512.0000\n",
      "Epoch 922/1000\n",
      "934/934 [==============================] - 0s 42us/sample - loss: 606842313.2163 - mean_absolute_error: 14671.0176 - mean_squared_error: 606842240.0000 - val_loss: 979562141.2650 - val_mean_absolute_error: 19791.4375 - val_mean_squared_error: 979562048.0000\n",
      "Epoch 923/1000\n",
      "934/934 [==============================] - 0s 44us/sample - loss: 324753179.2548 - mean_absolute_error: 11901.0459 - mean_squared_error: 324753152.0000 - val_loss: 862943876.2393 - val_mean_absolute_error: 18139.0586 - val_mean_squared_error: 862943872.0000\n",
      "Epoch 924/1000\n",
      "934/934 [==============================] - 0s 44us/sample - loss: 147572896.5824 - mean_absolute_error: 9029.3477 - mean_squared_error: 147572912.0000 - val_loss: 869986522.6667 - val_mean_absolute_error: 17863.0625 - val_mean_squared_error: 869986560.0000\n",
      "Epoch 925/1000\n",
      "934/934 [==============================] - 0s 50us/sample - loss: 142574459.9229 - mean_absolute_error: 8815.9189 - mean_squared_error: 142574464.0000 - val_loss: 907133717.8803 - val_mean_absolute_error: 18263.0605 - val_mean_squared_error: 907133632.0000\n",
      "Epoch 926/1000\n",
      "934/934 [==============================] - 0s 48us/sample - loss: 151052112.8908 - mean_absolute_error: 9065.3516 - mean_squared_error: 151052112.0000 - val_loss: 879267440.6838 - val_mean_absolute_error: 18395.1680 - val_mean_squared_error: 879267456.0000\n",
      "Epoch 927/1000\n",
      "934/934 [==============================] - 0s 52us/sample - loss: 147183554.8094 - mean_absolute_error: 8900.6602 - mean_squared_error: 147183536.0000 - val_loss: 897113814.9744 - val_mean_absolute_error: 18081.9004 - val_mean_squared_error: 897113792.0000\n",
      "Epoch 928/1000\n",
      "934/934 [==============================] - 0s 51us/sample - loss: 147777367.6403 - mean_absolute_error: 8881.4316 - mean_squared_error: 147777360.0000 - val_loss: 895917458.5983 - val_mean_absolute_error: 18329.1836 - val_mean_squared_error: 895917440.0000\n",
      "Epoch 929/1000\n",
      "934/934 [==============================] - 0s 52us/sample - loss: 143000350.9379 - mean_absolute_error: 8837.3379 - mean_squared_error: 143000352.0000 - val_loss: 889748471.7949 - val_mean_absolute_error: 18029.3320 - val_mean_squared_error: 889748480.0000\n",
      "Epoch 930/1000\n",
      "934/934 [==============================] - 0s 61us/sample - loss: 157400022.8009 - mean_absolute_error: 9415.0088 - mean_squared_error: 157400032.0000 - val_loss: 887188419.9658 - val_mean_absolute_error: 18160.1855 - val_mean_squared_error: 887188416.0000\n",
      "Epoch 931/1000\n"
     ]
    },
    {
     "name": "stdout",
     "output_type": "stream",
     "text": [
      "934/934 [==============================] - 0s 57us/sample - loss: 148065032.9764 - mean_absolute_error: 9074.8916 - mean_squared_error: 148065040.0000 - val_loss: 887002776.0684 - val_mean_absolute_error: 17769.3672 - val_mean_squared_error: 887002752.0000\n",
      "Epoch 932/1000\n",
      "934/934 [==============================] - 0s 66us/sample - loss: 171898074.3983 - mean_absolute_error: 9678.9131 - mean_squared_error: 171898064.0000 - val_loss: 921311009.3675 - val_mean_absolute_error: 18341.7422 - val_mean_squared_error: 921310976.0000\n",
      "Epoch 933/1000\n",
      "934/934 [==============================] - 0s 59us/sample - loss: 143920100.3512 - mean_absolute_error: 8857.5283 - mean_squared_error: 143920112.0000 - val_loss: 866644141.4017 - val_mean_absolute_error: 17901.5488 - val_mean_squared_error: 866644160.0000\n",
      "Epoch 934/1000\n",
      "934/934 [==============================] - 0s 50us/sample - loss: 190069501.8758 - mean_absolute_error: 10397.7871 - mean_squared_error: 190069504.0000 - val_loss: 911119839.1795 - val_mean_absolute_error: 18095.7656 - val_mean_squared_error: 911119872.0000\n",
      "Epoch 935/1000\n",
      "934/934 [==============================] - 0s 49us/sample - loss: 163900314.6724 - mean_absolute_error: 9411.9424 - mean_squared_error: 163900304.0000 - val_loss: 961101816.8889 - val_mean_absolute_error: 19050.7734 - val_mean_squared_error: 961101824.0000\n",
      "Epoch 936/1000\n",
      "934/934 [==============================] - 0s 45us/sample - loss: 155550711.2634 - mean_absolute_error: 9065.3857 - mean_squared_error: 155550720.0000 - val_loss: 895731559.3846 - val_mean_absolute_error: 18219.1465 - val_mean_squared_error: 895731584.0000\n",
      "Epoch 937/1000\n",
      "934/934 [==============================] - 0s 46us/sample - loss: 173349015.5717 - mean_absolute_error: 9634.2598 - mean_squared_error: 173349024.0000 - val_loss: 898962176.0000 - val_mean_absolute_error: 17956.4219 - val_mean_squared_error: 898962240.0000\n",
      "Epoch 938/1000\n",
      "934/934 [==============================] - 0s 46us/sample - loss: 161515822.1756 - mean_absolute_error: 9471.8037 - mean_squared_error: 161515808.0000 - val_loss: 917665404.7179 - val_mean_absolute_error: 18207.8457 - val_mean_squared_error: 917665408.0000\n",
      "Epoch 939/1000\n",
      "934/934 [==============================] - 0s 44us/sample - loss: 142838667.7859 - mean_absolute_error: 8873.3896 - mean_squared_error: 142838672.0000 - val_loss: 913828938.3932 - val_mean_absolute_error: 18127.6895 - val_mean_squared_error: 913828928.0000\n",
      "Epoch 940/1000\n",
      "934/934 [==============================] - 0s 42us/sample - loss: 136295696.7537 - mean_absolute_error: 8580.4268 - mean_squared_error: 136295712.0000 - val_loss: 883536333.4017 - val_mean_absolute_error: 18093.9297 - val_mean_squared_error: 883536320.0000\n",
      "Epoch 941/1000\n",
      "934/934 [==============================] - 0s 41us/sample - loss: 138017284.8137 - mean_absolute_error: 8583.8701 - mean_squared_error: 138017280.0000 - val_loss: 884378458.8034 - val_mean_absolute_error: 18122.0723 - val_mean_squared_error: 884378432.0000\n",
      "Epoch 942/1000\n",
      "934/934 [==============================] - 0s 41us/sample - loss: 141178563.9229 - mean_absolute_error: 8700.0430 - mean_squared_error: 141178576.0000 - val_loss: 899707705.1624 - val_mean_absolute_error: 17912.3320 - val_mean_squared_error: 899707776.0000\n",
      "Epoch 943/1000\n",
      "934/934 [==============================] - 0s 47us/sample - loss: 160579360.5824 - mean_absolute_error: 9223.1289 - mean_squared_error: 160579328.0000 - val_loss: 916422753.3675 - val_mean_absolute_error: 18164.4258 - val_mean_squared_error: 916422784.0000\n",
      "Epoch 944/1000\n",
      "934/934 [==============================] - 0s 46us/sample - loss: 141952337.4732 - mean_absolute_error: 8641.0352 - mean_squared_error: 141952320.0000 - val_loss: 883978307.2821 - val_mean_absolute_error: 18013.2871 - val_mean_squared_error: 883978304.0000\n",
      "Epoch 945/1000\n",
      "934/934 [==============================] - 0s 49us/sample - loss: 146033806.3555 - mean_absolute_error: 8750.9824 - mean_squared_error: 146033808.0000 - val_loss: 882800177.7778 - val_mean_absolute_error: 18012.2676 - val_mean_squared_error: 882800192.0000\n",
      "Epoch 946/1000\n",
      "934/934 [==============================] - 0s 49us/sample - loss: 140440037.5161 - mean_absolute_error: 8681.4160 - mean_squared_error: 140440048.0000 - val_loss: 887719687.7949 - val_mean_absolute_error: 17574.0625 - val_mean_squared_error: 887719808.0000\n",
      "Epoch 947/1000\n",
      "934/934 [==============================] - 0s 53us/sample - loss: 161164115.0835 - mean_absolute_error: 9153.9678 - mean_squared_error: 161164112.0000 - val_loss: 993414447.7265 - val_mean_absolute_error: 18895.7031 - val_mean_squared_error: 993414336.0000\n",
      "Epoch 948/1000\n",
      "934/934 [==============================] - 0s 58us/sample - loss: 224268201.4218 - mean_absolute_error: 10889.6953 - mean_squared_error: 224268224.0000 - val_loss: 1181946739.9658 - val_mean_absolute_error: 21306.6855 - val_mean_squared_error: 1181946752.0000\n",
      "Epoch 949/1000\n",
      "934/934 [==============================] - 0s 56us/sample - loss: 215683462.8351 - mean_absolute_error: 10987.4844 - mean_squared_error: 215683456.0000 - val_loss: 907890342.0171 - val_mean_absolute_error: 17980.1191 - val_mean_squared_error: 907890368.0000\n",
      "Epoch 950/1000\n",
      "934/934 [==============================] - 0s 63us/sample - loss: 138393141.0450 - mean_absolute_error: 8548.6426 - mean_squared_error: 138393152.0000 - val_loss: 918399488.0000 - val_mean_absolute_error: 18312.2031 - val_mean_squared_error: 918399488.0000\n",
      "Epoch 951/1000\n",
      "934/934 [==============================] - 0s 58us/sample - loss: 150350759.0664 - mean_absolute_error: 9044.4004 - mean_squared_error: 150350752.0000 - val_loss: 924549137.6410 - val_mean_absolute_error: 18191.3867 - val_mean_squared_error: 924549120.0000\n",
      "Epoch 952/1000\n",
      "934/934 [==============================] - 0s 51us/sample - loss: 154934269.3876 - mean_absolute_error: 9158.2861 - mean_squared_error: 154934256.0000 - val_loss: 933365046.1538 - val_mean_absolute_error: 18445.6543 - val_mean_squared_error: 933365056.0000\n",
      "Epoch 953/1000\n",
      "934/934 [==============================] - 0s 44us/sample - loss: 161951083.5803 - mean_absolute_error: 9184.9951 - mean_squared_error: 161951088.0000 - val_loss: 889776731.6239 - val_mean_absolute_error: 17959.6875 - val_mean_squared_error: 889776768.0000\n",
      "Epoch 954/1000\n",
      "934/934 [==============================] - 0s 44us/sample - loss: 165056247.5118 - mean_absolute_error: 9613.5996 - mean_squared_error: 165056240.0000 - val_loss: 855805289.5726 - val_mean_absolute_error: 17805.8926 - val_mean_squared_error: 855805312.0000\n",
      "Epoch 955/1000\n",
      "934/934 [==============================] - 0s 43us/sample - loss: 172953316.5225 - mean_absolute_error: 9197.1846 - mean_squared_error: 172953296.0000 - val_loss: 855494376.0000 - val_mean_absolute_error: 17778.0137 - val_mean_squared_error: 855494336.0000\n",
      "Epoch 956/1000\n",
      "934/934 [==============================] - 0s 55us/sample - loss: 142802937.1820 - mean_absolute_error: 8772.7207 - mean_squared_error: 142802912.0000 - val_loss: 867330442.2564 - val_mean_absolute_error: 18023.1504 - val_mean_squared_error: 867330432.0000\n",
      "Epoch 957/1000\n",
      "934/934 [==============================] - 0s 67us/sample - loss: 147674025.5589 - mean_absolute_error: 8879.4062 - mean_squared_error: 147674032.0000 - val_loss: 861411481.1624 - val_mean_absolute_error: 17784.8340 - val_mean_squared_error: 861411456.0000\n",
      "Epoch 958/1000\n",
      "934/934 [==============================] - 0s 58us/sample - loss: 146175316.2484 - mean_absolute_error: 8919.2959 - mean_squared_error: 146175296.0000 - val_loss: 901251772.7179 - val_mean_absolute_error: 18026.1719 - val_mean_squared_error: 901251776.0000\n",
      "Epoch 959/1000\n",
      "934/934 [==============================] - 0s 46us/sample - loss: 138543251.5974 - mean_absolute_error: 8720.2686 - mean_squared_error: 138543248.0000 - val_loss: 873403640.4786 - val_mean_absolute_error: 18177.2949 - val_mean_squared_error: 873403648.0000\n",
      "Epoch 960/1000\n",
      "934/934 [==============================] - 0s 47us/sample - loss: 161537660.9336 - mean_absolute_error: 9699.8994 - mean_squared_error: 161537648.0000 - val_loss: 901435032.6154 - val_mean_absolute_error: 18039.1309 - val_mean_squared_error: 901435008.0000\n",
      "Epoch 961/1000\n",
      "934/934 [==============================] - 0s 45us/sample - loss: 140694773.2934 - mean_absolute_error: 8805.4629 - mean_squared_error: 140694768.0000 - val_loss: 877810386.3248 - val_mean_absolute_error: 17739.4570 - val_mean_squared_error: 877810368.0000\n",
      "Epoch 962/1000\n",
      "934/934 [==============================] - 0s 47us/sample - loss: 136310701.6188 - mean_absolute_error: 8610.3301 - mean_squared_error: 136310720.0000 - val_loss: 876532542.0855 - val_mean_absolute_error: 18091.7246 - val_mean_squared_error: 876532544.0000\n",
      "Epoch 963/1000\n",
      "934/934 [==============================] - 0s 46us/sample - loss: 138083243.3062 - mean_absolute_error: 8668.4492 - mean_squared_error: 138083264.0000 - val_loss: 872031724.8547 - val_mean_absolute_error: 18050.1641 - val_mean_squared_error: 872031680.0000\n",
      "Epoch 964/1000\n",
      "934/934 [==============================] - 0s 45us/sample - loss: 143463704.0685 - mean_absolute_error: 8863.7129 - mean_squared_error: 143463712.0000 - val_loss: 896805620.5128 - val_mean_absolute_error: 17951.6680 - val_mean_squared_error: 896805568.0000\n",
      "Epoch 965/1000\n",
      "934/934 [==============================] - 0s 44us/sample - loss: 140015792.7709 - mean_absolute_error: 8668.8301 - mean_squared_error: 140015792.0000 - val_loss: 882201844.7863 - val_mean_absolute_error: 17941.1152 - val_mean_squared_error: 882201856.0000\n",
      "Epoch 966/1000\n",
      "934/934 [==============================] - 0s 46us/sample - loss: 154111929.3876 - mean_absolute_error: 8944.5488 - mean_squared_error: 154111920.0000 - val_loss: 973986618.8034 - val_mean_absolute_error: 19345.4492 - val_mean_squared_error: 973986560.0000\n",
      "Epoch 967/1000\n",
      "934/934 [==============================] - 0s 45us/sample - loss: 254658631.7773 - mean_absolute_error: 11372.1914 - mean_squared_error: 254658640.0000 - val_loss: 941237467.3504 - val_mean_absolute_error: 19641.5918 - val_mean_squared_error: 941237440.0000\n",
      "Epoch 968/1000\n",
      "934/934 [==============================] - 0s 44us/sample - loss: 529827253.1049 - mean_absolute_error: 14444.4424 - mean_squared_error: 529827264.0000 - val_loss: 1349605376.5470 - val_mean_absolute_error: 22168.1758 - val_mean_squared_error: 1349605248.0000\n",
      "Epoch 969/1000\n",
      "934/934 [==============================] - 0s 42us/sample - loss: 565740929.5760 - mean_absolute_error: 13907.1338 - mean_squared_error: 565740992.0000 - val_loss: 890001688.0684 - val_mean_absolute_error: 18166.9062 - val_mean_squared_error: 890001792.0000\n",
      "Epoch 970/1000\n",
      "934/934 [==============================] - 0s 43us/sample - loss: 184363119.9315 - mean_absolute_error: 10017.5557 - mean_squared_error: 184363104.0000 - val_loss: 878098402.7350 - val_mean_absolute_error: 17983.8828 - val_mean_squared_error: 878098432.0000\n",
      "Epoch 971/1000\n",
      "934/934 [==============================] - 0s 47us/sample - loss: 170522380.5396 - mean_absolute_error: 9222.0859 - mean_squared_error: 170522368.0000 - val_loss: 872121966.3590 - val_mean_absolute_error: 18232.9746 - val_mean_squared_error: 872121984.0000\n",
      "Epoch 972/1000\n",
      "934/934 [==============================] - 0s 48us/sample - loss: 158347179.3062 - mean_absolute_error: 9271.9512 - mean_squared_error: 158347168.0000 - val_loss: 895718021.7436 - val_mean_absolute_error: 17974.1289 - val_mean_squared_error: 895717952.0000\n",
      "Epoch 973/1000\n",
      "934/934 [==============================] - 0s 43us/sample - loss: 171657354.5182 - mean_absolute_error: 9987.7246 - mean_squared_error: 171657360.0000 - val_loss: 898574436.1026 - val_mean_absolute_error: 18042.9395 - val_mean_squared_error: 898574400.0000\n",
      "Epoch 974/1000\n",
      "934/934 [==============================] - 0s 42us/sample - loss: 155238816.9593 - mean_absolute_error: 9232.8662 - mean_squared_error: 155238816.0000 - val_loss: 865010997.3333 - val_mean_absolute_error: 17927.3086 - val_mean_squared_error: 865011008.0000\n",
      "Epoch 975/1000\n",
      "934/934 [==============================] - 0s 42us/sample - loss: 140045624.4625 - mean_absolute_error: 8573.1562 - mean_squared_error: 140045632.0000 - val_loss: 854488803.8291 - val_mean_absolute_error: 18052.3711 - val_mean_squared_error: 854488768.0000\n",
      "Epoch 976/1000\n",
      "934/934 [==============================] - 0s 42us/sample - loss: 143697151.8801 - mean_absolute_error: 8726.8730 - mean_squared_error: 143697136.0000 - val_loss: 872211668.2393 - val_mean_absolute_error: 17971.2207 - val_mean_squared_error: 872211712.0000\n",
      "Epoch 977/1000\n",
      "934/934 [==============================] - 0s 41us/sample - loss: 138936147.5974 - mean_absolute_error: 8613.4121 - mean_squared_error: 138936160.0000 - val_loss: 883513782.7009 - val_mean_absolute_error: 17994.6758 - val_mean_squared_error: 883513792.0000\n",
      "Epoch 978/1000\n",
      "934/934 [==============================] - 0s 44us/sample - loss: 151784715.4775 - mean_absolute_error: 8997.1074 - mean_squared_error: 151784704.0000 - val_loss: 903739131.3504 - val_mean_absolute_error: 18175.7266 - val_mean_squared_error: 903739200.0000\n",
      "Epoch 979/1000\n",
      "934/934 [==============================] - 0s 42us/sample - loss: 151469655.1606 - mean_absolute_error: 8802.1680 - mean_squared_error: 151469664.0000 - val_loss: 859770585.4359 - val_mean_absolute_error: 17980.0742 - val_mean_squared_error: 859770560.0000\n",
      "Epoch 980/1000\n",
      "934/934 [==============================] - 0s 44us/sample - loss: 139279586.8437 - mean_absolute_error: 8575.4941 - mean_squared_error: 139279584.0000 - val_loss: 881412921.4359 - val_mean_absolute_error: 17872.3184 - val_mean_squared_error: 881412928.0000\n",
      "Epoch 981/1000\n",
      "934/934 [==============================] - 0s 54us/sample - loss: 142525990.9293 - mean_absolute_error: 8861.9062 - mean_squared_error: 142526016.0000 - val_loss: 888878745.1624 - val_mean_absolute_error: 18275.6758 - val_mean_squared_error: 888878720.0000\n",
      "Epoch 982/1000\n",
      "934/934 [==============================] - 0s 60us/sample - loss: 152301884.6296 - mean_absolute_error: 9144.4111 - mean_squared_error: 152301888.0000 - val_loss: 867893072.4103 - val_mean_absolute_error: 17764.9629 - val_mean_squared_error: 867893056.0000\n",
      "Epoch 983/1000\n",
      "934/934 [==============================] - 0s 58us/sample - loss: 135711277.2934 - mean_absolute_error: 8652.9932 - mean_squared_error: 135711264.0000 - val_loss: 870283885.9487 - val_mean_absolute_error: 17925.9922 - val_mean_squared_error: 870283840.0000\n",
      "Epoch 984/1000\n",
      "934/934 [==============================] - 0s 53us/sample - loss: 134112912.0942 - mean_absolute_error: 8531.1885 - mean_squared_error: 134112904.0000 - val_loss: 903309138.0513 - val_mean_absolute_error: 18144.6191 - val_mean_squared_error: 903309184.0000\n",
      "Epoch 985/1000\n",
      "934/934 [==============================] - 0s 48us/sample - loss: 136293620.0857 - mean_absolute_error: 8634.2588 - mean_squared_error: 136293632.0000 - val_loss: 892202102.0171 - val_mean_absolute_error: 18123.9238 - val_mean_squared_error: 892202112.0000\n",
      "Epoch 986/1000\n",
      "934/934 [==============================] - 0s 47us/sample - loss: 143588110.5268 - mean_absolute_error: 8793.9824 - mean_squared_error: 143588128.0000 - val_loss: 883418683.6239 - val_mean_absolute_error: 18181.3477 - val_mean_squared_error: 883418624.0000\n",
      "Epoch 987/1000\n",
      "934/934 [==============================] - 0s 44us/sample - loss: 155284404.1713 - mean_absolute_error: 9161.7139 - mean_squared_error: 155284416.0000 - val_loss: 885648192.0000 - val_mean_absolute_error: 18350.9277 - val_mean_squared_error: 885648256.0000\n",
      "Epoch 988/1000\n",
      "934/934 [==============================] - 0s 42us/sample - loss: 139580800.9604 - mean_absolute_error: 8656.8027 - mean_squared_error: 139580800.0000 - val_loss: 894616582.9744 - val_mean_absolute_error: 17898.8477 - val_mean_squared_error: 894616512.0000\n",
      "Epoch 989/1000\n",
      "934/934 [==============================] - 0s 46us/sample - loss: 136512954.4497 - mean_absolute_error: 8575.3594 - mean_squared_error: 136512960.0000 - val_loss: 898585394.3248 - val_mean_absolute_error: 18509.5078 - val_mean_squared_error: 898585408.0000\n",
      "Epoch 990/1000\n",
      "934/934 [==============================] - 0s 47us/sample - loss: 150768522.1071 - mean_absolute_error: 8997.6250 - mean_squared_error: 150768512.0000 - val_loss: 909923858.0513 - val_mean_absolute_error: 18181.6816 - val_mean_squared_error: 909923968.0000\n",
      "Epoch 991/1000\n"
     ]
    },
    {
     "name": "stdout",
     "output_type": "stream",
     "text": [
      "934/934 [==============================] - 0s 49us/sample - loss: 138727536.2313 - mean_absolute_error: 8546.1055 - mean_squared_error: 138727552.0000 - val_loss: 887995641.9829 - val_mean_absolute_error: 17901.6035 - val_mean_squared_error: 887995584.0000\n",
      "Epoch 992/1000\n",
      "934/934 [==============================] - 0s 43us/sample - loss: 137225511.0707 - mean_absolute_error: 8633.7344 - mean_squared_error: 137225488.0000 - val_loss: 914609787.0769 - val_mean_absolute_error: 18143.9180 - val_mean_squared_error: 914609792.0000\n",
      "Epoch 993/1000\n",
      "934/934 [==============================] - 0s 42us/sample - loss: 138140694.3383 - mean_absolute_error: 8532.4639 - mean_squared_error: 138140688.0000 - val_loss: 867352508.9915 - val_mean_absolute_error: 18117.0469 - val_mean_squared_error: 867352512.0000\n",
      "Epoch 994/1000\n",
      "934/934 [==============================] - 0s 42us/sample - loss: 134132115.6060 - mean_absolute_error: 8471.5088 - mean_squared_error: 134132096.0000 - val_loss: 905152461.8120 - val_mean_absolute_error: 18139.2812 - val_mean_squared_error: 905152448.0000\n",
      "Epoch 995/1000\n",
      "934/934 [==============================] - 0s 42us/sample - loss: 154563475.9229 - mean_absolute_error: 9295.8447 - mean_squared_error: 154563504.0000 - val_loss: 929704897.0940 - val_mean_absolute_error: 18275.9082 - val_mean_squared_error: 929704960.0000\n",
      "Epoch 996/1000\n",
      "934/934 [==============================] - 0s 41us/sample - loss: 136526986.7580 - mean_absolute_error: 8642.8145 - mean_squared_error: 136527008.0000 - val_loss: 861839486.9060 - val_mean_absolute_error: 17936.2754 - val_mean_squared_error: 861839424.0000\n",
      "Epoch 997/1000\n",
      "934/934 [==============================] - 0s 41us/sample - loss: 147555357.0964 - mean_absolute_error: 8971.1201 - mean_squared_error: 147555376.0000 - val_loss: 865370614.1538 - val_mean_absolute_error: 17751.9570 - val_mean_squared_error: 865370624.0000\n",
      "Epoch 998/1000\n",
      "934/934 [==============================] - 0s 47us/sample - loss: 129908881.0450 - mean_absolute_error: 8368.6621 - mean_squared_error: 129908888.0000 - val_loss: 884070648.3419 - val_mean_absolute_error: 18123.8945 - val_mean_squared_error: 884070656.0000\n",
      "Epoch 999/1000\n",
      "934/934 [==============================] - 0s 48us/sample - loss: 140515213.4304 - mean_absolute_error: 8701.8252 - mean_squared_error: 140515216.0000 - val_loss: 909612269.6752 - val_mean_absolute_error: 18010.9727 - val_mean_squared_error: 909612224.0000\n",
      "Epoch 1000/1000\n",
      "934/934 [==============================] - 0s 46us/sample - loss: 135696083.7002 - mean_absolute_error: 8626.3906 - mean_squared_error: 135696096.0000 - val_loss: 861562421.0598 - val_mean_absolute_error: 18136.7852 - val_mean_squared_error: 861562368.0000\n"
     ]
    },
    {
     "data": {
      "text/plain": [
       "<tensorflow.python.keras.callbacks.History at 0x11396fbe0>"
      ]
     },
     "execution_count": 128,
     "metadata": {},
     "output_type": "execute_result"
    }
   ],
   "source": [
    "model.fit(\n",
    "  x_train.values, y_train.values,\n",
    "  epochs=EPOCHS, validation_split = 0.2)"
   ]
  },
  {
   "cell_type": "code",
   "execution_count": 108,
   "metadata": {},
   "outputs": [],
   "source": [
    "y_trainPrediction = model.predict(x_train)"
   ]
  },
  {
   "cell_type": "code",
   "execution_count": 109,
   "metadata": {},
   "outputs": [],
   "source": [
    "y_testPrediction = model.predict(x_test)"
   ]
  },
  {
   "cell_type": "code",
   "execution_count": 110,
   "metadata": {},
   "outputs": [
    {
     "name": "stdout",
     "output_type": "stream",
     "text": [
      "train:  11862.732448630137\n",
      "test:  20624.362532106163\n"
     ]
    }
   ],
   "source": [
    "print('train: ', mean_absolute_error(y_train, y_trainPrediction))\n",
    "print('test: ', mean_absolute_error(y_test, y_testPrediction))"
   ]
  },
  {
   "cell_type": "code",
   "execution_count": null,
   "metadata": {},
   "outputs": [],
   "source": []
  }
 ],
 "metadata": {
  "kernelspec": {
   "display_name": "Python 3",
   "language": "python",
   "name": "python3"
  },
  "language_info": {
   "codemirror_mode": {
    "name": "ipython",
    "version": 3
   },
   "file_extension": ".py",
   "mimetype": "text/x-python",
   "name": "python",
   "nbconvert_exporter": "python",
   "pygments_lexer": "ipython3",
   "version": "3.7.4"
  }
 },
 "nbformat": 4,
 "nbformat_minor": 2
}
