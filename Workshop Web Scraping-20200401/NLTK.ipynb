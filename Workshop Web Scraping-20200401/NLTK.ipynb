{
 "cells": [
  {
   "cell_type": "code",
   "execution_count": 1,
   "metadata": {},
   "outputs": [
    {
     "name": "stderr",
     "output_type": "stream",
     "text": [
      "[nltk_data] Downloading package punkt to\n",
      "[nltk_data]     C:\\Users\\Sunat\\AppData\\Roaming\\nltk_data...\n",
      "[nltk_data]   Unzipping tokenizers\\punkt.zip.\n",
      "[nltk_data] Downloading package stopwords to\n",
      "[nltk_data]     C:\\Users\\Sunat\\AppData\\Roaming\\nltk_data...\n",
      "[nltk_data]   Unzipping corpora\\stopwords.zip.\n"
     ]
    },
    {
     "data": {
      "text/plain": [
       "True"
      ]
     },
     "execution_count": 1,
     "metadata": {},
     "output_type": "execute_result"
    }
   ],
   "source": [
    "import nltk\n",
    "\n",
    "nltk.download('punkt')\n",
    "nltk.download('stopwords')"
   ]
  },
  {
   "cell_type": "code",
   "execution_count": 2,
   "metadata": {},
   "outputs": [
    {
     "name": "stdout",
     "output_type": "stream",
     "text": [
      "<module 'nltk' from 'C:\\\\Users\\\\Sunat\\\\Anaconda3\\\\lib\\\\site-packages\\\\nltk\\\\__init__.py'>\n"
     ]
    }
   ],
   "source": [
    "print(nltk)"
   ]
  },
  {
   "cell_type": "code",
   "execution_count": 1,
   "metadata": {},
   "outputs": [],
   "source": [
    "%reload_ext autoreload\n",
    "%autoreload 2\n",
    "%matplotlib inline"
   ]
  },
  {
   "cell_type": "code",
   "execution_count": null,
   "metadata": {},
   "outputs": [],
   "source": []
  },
  {
   "cell_type": "code",
   "execution_count": 3,
   "metadata": {},
   "outputs": [
    {
     "name": "stdout",
     "output_type": "stream",
     "text": [
      "['Tokenization', 'is', 'the', 'processing', 'of', 'chopping', 'text', 'into', 'tokens']\n"
     ]
    }
   ],
   "source": [
    "sentence = \"Tokenization is the processing of chopping text into tokens\"\n",
    "tokens = nltk.word_tokenize(sentence)\n",
    "print(tokens)"
   ]
  },
  {
   "cell_type": "code",
   "execution_count": 8,
   "metadata": {},
   "outputs": [
    {
     "name": "stdout",
     "output_type": "stream",
     "text": [
      "['ฉัน', 'จะ', 'ไป', 'โรง', 'เรียน']\n"
     ]
    }
   ],
   "source": [
    "import deepcut\n",
    "thaiword = deepcut.tokenize('ฉันจะไปโรงเรียน')\n",
    "print(thaiword)"
   ]
  },
  {
   "cell_type": "code",
   "execution_count": 9,
   "metadata": {},
   "outputs": [
    {
     "name": "stdout",
     "output_type": "stream",
     "text": [
      "['ฉัน', 'นั่ง', 'ตาก', 'ลม', 'ตากลม', 'ที่', 'ริม', 'ระเบียง']\n"
     ]
    }
   ],
   "source": [
    "diff_word = deepcut.tokenize('ฉันนั่งตากลมตากลมที่ริมระเบียง')\n",
    "print(diff_word)"
   ]
  },
  {
   "cell_type": "code",
   "execution_count": 13,
   "metadata": {},
   "outputs": [
    {
     "name": "stdout",
     "output_type": "stream",
     "text": [
      "['This', 'sentence', 'removing', 'stop', 'words']\n"
     ]
    }
   ],
   "source": [
    "from nltk.corpus import stopwords\n",
    "eng_sentence = 'This is a sentence for removing stop words'\n",
    "eng_token = nltk.word_tokenize(eng_sentence)\n",
    "stopword = stopwords.words('english')\n",
    "filter_token = [w for w in eng_token if w not in stopword]\n",
    "print(filter_token)"
   ]
  },
  {
   "cell_type": "code",
   "execution_count": 14,
   "metadata": {},
   "outputs": [
    {
     "name": "stdout",
     "output_type": "stream",
     "text": [
      "cook cook cook cook\n"
     ]
    }
   ],
   "source": [
    "snowball_stemmer = nltk.stem.SnowballStemmer('english')\n",
    "\n",
    "s_1 = snowball_stemmer.stem(\"cook\")\n",
    "s_2 = snowball_stemmer.stem(\"cooks\")\n",
    "s_3 = snowball_stemmer.stem(\"cooked\")\n",
    "s_4 = snowball_stemmer.stem(\"cooking\")\n",
    "\n",
    "print(s_1, s_2, s_3, s_4)"
   ]
  },
  {
   "cell_type": "code",
   "execution_count": 18,
   "metadata": {},
   "outputs": [],
   "source": [
    "def get_tf_idf(vectorizer):\n",
    "    feature_names = vectorizer.get_feature_names()\n",
    "    dense_vec = vectors.todense()\n",
    "    dense_list = dense_vec.tolist()\n",
    "    tfidf_data = pd.DataFrame(dense_list, columns=feature_names)\n",
    "    return tfidf_data"
   ]
  },
  {
   "cell_type": "code",
   "execution_count": null,
   "metadata": {},
   "outputs": [],
   "source": []
  },
  {
   "cell_type": "code",
   "execution_count": 19,
   "metadata": {},
   "outputs": [
    {
     "name": "stdout",
     "output_type": "stream",
     "text": [
      "       21st   century      data       for        is       job       key  \\\n",
      "0  0.342119  0.342119  0.243420  0.000000  0.243420  0.342119  0.000000   \n",
      "1  0.000000  0.000000  0.289869  0.407401  0.289869  0.000000  0.407401   \n",
      "\n",
      "   learning   machine        of   science   sexiest       the  \n",
      "0  0.000000  0.000000  0.342119  0.243420  0.342119  0.486841  \n",
      "1  0.407401  0.407401  0.000000  0.289869  0.000000  0.289869  \n"
     ]
    }
   ],
   "source": [
    "import pandas as pd\n",
    "from sklearn.feature_extraction.text import TfidfVectorizer\n",
    "\n",
    "#calling the TfidfVectorizer\n",
    "vectorizer = TfidfVectorizer()\n",
    "\n",
    "doc_1 = \"Data Science is the sexiest job of the 21st century\"\n",
    "doc_2 = \"machine learning is the key for data science\"\n",
    "#fitting the model and passing our sentences right away:\n",
    "vectors = vectorizer.fit_transform([doc_1, doc_2])\n",
    "\n",
    "tfidf_data = get_tf_idf(vectorizer)\n",
    "print(tfidf_data)\n"
   ]
  }
 ],
 "metadata": {
  "kernelspec": {
   "display_name": "Python 3",
   "language": "python",
   "name": "python3"
  },
  "language_info": {
   "codemirror_mode": {
    "name": "ipython",
    "version": 3
   },
   "file_extension": ".py",
   "mimetype": "text/x-python",
   "name": "python",
   "nbconvert_exporter": "python",
   "pygments_lexer": "ipython3",
   "version": "3.7.4"
  }
 },
 "nbformat": 4,
 "nbformat_minor": 2
}
