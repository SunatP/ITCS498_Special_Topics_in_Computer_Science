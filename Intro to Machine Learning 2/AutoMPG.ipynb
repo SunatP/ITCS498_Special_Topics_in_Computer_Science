{
 "cells": [
  {
   "cell_type": "markdown",
   "metadata": {},
   "source": [
    "# Example from Aj.Noraset"
   ]
  },
  {
   "cell_type": "code",
   "execution_count": 1,
   "metadata": {},
   "outputs": [
    {
     "data": {
      "text/plain": [
       "<Figure size 1400x500 with 3 Axes>"
      ]
     },
     "metadata": {},
     "output_type": "display_data"
    }
   ],
   "source": [
    "import numpy as np\n",
    "import matplotlib.pyplot as plt\n",
    "from sklearn.pipeline import Pipeline\n",
    "from sklearn.preprocessing import PolynomialFeatures\n",
    "from sklearn.linear_model import LinearRegression\n",
    "from sklearn.pipeline import make_pipeline\n",
    "from sklearn import preprocessing\n",
    "from sklearn.model_selection import cross_val_score\n",
    "import seaborn as sns\n",
    "\n",
    "def true_fun(X):\n",
    "    return np.cos(1.5 * np.pi * X)\n",
    "\n",
    "np.random.seed(0)\n",
    "\n",
    "n_samples = 30\n",
    "degrees = [1, 4, 15]\n",
    "\n",
    "X = np.sort(np.random.rand(n_samples))\n",
    "y = true_fun(X) + np.random.randn(n_samples) * 0.1\n",
    "\n",
    "plt.figure(figsize=(14, 5))\n",
    "for i in range(len(degrees)):\n",
    "    ax = plt.subplot(1, len(degrees), i + 1)\n",
    "    plt.setp(ax, xticks=(), yticks=())\n",
    "\n",
    "    polynomial_features = PolynomialFeatures(degree=degrees[i],\n",
    "                                             include_bias=False)\n",
    "    linear_regression = LinearRegression()\n",
    "    pipeline = Pipeline([(\"polynomial_features\", polynomial_features),\n",
    "                         (\"linear_regression\", linear_regression)])\n",
    "    pipeline.fit(X[:, np.newaxis], y)\n",
    "\n",
    "    X_test = np.linspace(0, 1, 100)\n",
    "    plt.plot(X_test, pipeline.predict(X_test[:, np.newaxis]), label=\"Model\")\n",
    "    plt.plot(X_test, true_fun(X_test), label=\"True function\")\n",
    "    plt.scatter(X, y, edgecolor='b', s=20, label=\"Samples\")\n",
    "    plt.xlabel(\"x\")\n",
    "    plt.ylabel(\"y\")\n",
    "    plt.xlim((0, 1))\n",
    "    plt.ylim((-2, 2))\n",
    "    plt.legend(loc=\"best\")\n",
    "    plt.title(f\"Degree {degrees[i]}\")\n",
    "plt.show()"
   ]
  },
  {
   "cell_type": "markdown",
   "metadata": {},
   "source": [
    "# AUTOMPG\n",
    "## Sunat Praphanwong 6088130 Sec 1"
   ]
  },
  {
   "cell_type": "markdown",
   "metadata": {},
   "source": [
    "### Download CSV by using wget pkg"
   ]
  },
  {
   "cell_type": "code",
   "execution_count": 2,
   "metadata": {},
   "outputs": [
    {
     "name": "stdout",
     "output_type": "stream",
     "text": [
      "\r",
      "  0% [                                                                              ]     0 / 10118\r",
      " 80% [...............................................................               ]  8192 / 10118\r",
      "100% [..............................................................................] 10118 / 10118"
     ]
    }
   ],
   "source": [
    "import wget\n",
    "link = 'https://raw.githubusercontent.com/plotly/datasets/master/auto-mpg.csv'\n",
    "file = wget.download(link)"
   ]
  },
  {
   "cell_type": "code",
   "execution_count": 3,
   "metadata": {},
   "outputs": [],
   "source": [
    "import pandas as pd\n",
    "df = pd.read_csv('auto-mpg.csv')\n",
    "df.dropna(axis=0, inplace=True)"
   ]
  },
  {
   "cell_type": "code",
   "execution_count": 4,
   "metadata": {},
   "outputs": [
    {
     "data": {
      "text/html": [
       "<div>\n",
       "<style scoped>\n",
       "    .dataframe tbody tr th:only-of-type {\n",
       "        vertical-align: middle;\n",
       "    }\n",
       "\n",
       "    .dataframe tbody tr th {\n",
       "        vertical-align: top;\n",
       "    }\n",
       "\n",
       "    .dataframe thead th {\n",
       "        text-align: right;\n",
       "    }\n",
       "</style>\n",
       "<table border=\"1\" class=\"dataframe\">\n",
       "  <thead>\n",
       "    <tr style=\"text-align: right;\">\n",
       "      <th></th>\n",
       "      <th>mpg</th>\n",
       "      <th>cylinders</th>\n",
       "      <th>displacement</th>\n",
       "      <th>horsepower</th>\n",
       "      <th>weight</th>\n",
       "      <th>acceleration</th>\n",
       "      <th>model-year</th>\n",
       "    </tr>\n",
       "  </thead>\n",
       "  <tbody>\n",
       "    <tr>\n",
       "      <td>0</td>\n",
       "      <td>18.0</td>\n",
       "      <td>8</td>\n",
       "      <td>307.0</td>\n",
       "      <td>130.0</td>\n",
       "      <td>3504</td>\n",
       "      <td>12.0</td>\n",
       "      <td>70</td>\n",
       "    </tr>\n",
       "    <tr>\n",
       "      <td>1</td>\n",
       "      <td>15.0</td>\n",
       "      <td>8</td>\n",
       "      <td>350.0</td>\n",
       "      <td>165.0</td>\n",
       "      <td>3693</td>\n",
       "      <td>11.5</td>\n",
       "      <td>70</td>\n",
       "    </tr>\n",
       "    <tr>\n",
       "      <td>2</td>\n",
       "      <td>18.0</td>\n",
       "      <td>8</td>\n",
       "      <td>318.0</td>\n",
       "      <td>150.0</td>\n",
       "      <td>3436</td>\n",
       "      <td>11.0</td>\n",
       "      <td>70</td>\n",
       "    </tr>\n",
       "    <tr>\n",
       "      <td>3</td>\n",
       "      <td>16.0</td>\n",
       "      <td>8</td>\n",
       "      <td>304.0</td>\n",
       "      <td>150.0</td>\n",
       "      <td>3433</td>\n",
       "      <td>12.0</td>\n",
       "      <td>70</td>\n",
       "    </tr>\n",
       "    <tr>\n",
       "      <td>4</td>\n",
       "      <td>17.0</td>\n",
       "      <td>8</td>\n",
       "      <td>302.0</td>\n",
       "      <td>140.0</td>\n",
       "      <td>3449</td>\n",
       "      <td>10.5</td>\n",
       "      <td>70</td>\n",
       "    </tr>\n",
       "  </tbody>\n",
       "</table>\n",
       "</div>"
      ],
      "text/plain": [
       "    mpg  cylinders  displacement  horsepower  weight  acceleration  model-year\n",
       "0  18.0          8         307.0       130.0    3504          12.0          70\n",
       "1  15.0          8         350.0       165.0    3693          11.5          70\n",
       "2  18.0          8         318.0       150.0    3436          11.0          70\n",
       "3  16.0          8         304.0       150.0    3433          12.0          70\n",
       "4  17.0          8         302.0       140.0    3449          10.5          70"
      ]
     },
     "execution_count": 4,
     "metadata": {},
     "output_type": "execute_result"
    }
   ],
   "source": [
    "df.head()"
   ]
  },
  {
   "cell_type": "code",
   "execution_count": 5,
   "metadata": {},
   "outputs": [],
   "source": [
    "X = df.iloc[:, 1:]\n",
    "y = df.iloc[:, 0]"
   ]
  },
  {
   "cell_type": "code",
   "execution_count": 6,
   "metadata": {},
   "outputs": [
    {
     "data": {
      "text/html": [
       "<div>\n",
       "<style scoped>\n",
       "    .dataframe tbody tr th:only-of-type {\n",
       "        vertical-align: middle;\n",
       "    }\n",
       "\n",
       "    .dataframe tbody tr th {\n",
       "        vertical-align: top;\n",
       "    }\n",
       "\n",
       "    .dataframe thead th {\n",
       "        text-align: right;\n",
       "    }\n",
       "</style>\n",
       "<table border=\"1\" class=\"dataframe\">\n",
       "  <thead>\n",
       "    <tr style=\"text-align: right;\">\n",
       "      <th></th>\n",
       "      <th>cylinders</th>\n",
       "      <th>displacement</th>\n",
       "      <th>horsepower</th>\n",
       "      <th>weight</th>\n",
       "      <th>acceleration</th>\n",
       "      <th>model-year</th>\n",
       "    </tr>\n",
       "  </thead>\n",
       "  <tbody>\n",
       "    <tr>\n",
       "      <td>0</td>\n",
       "      <td>8</td>\n",
       "      <td>307.0</td>\n",
       "      <td>130.0</td>\n",
       "      <td>3504</td>\n",
       "      <td>12.0</td>\n",
       "      <td>70</td>\n",
       "    </tr>\n",
       "    <tr>\n",
       "      <td>1</td>\n",
       "      <td>8</td>\n",
       "      <td>350.0</td>\n",
       "      <td>165.0</td>\n",
       "      <td>3693</td>\n",
       "      <td>11.5</td>\n",
       "      <td>70</td>\n",
       "    </tr>\n",
       "    <tr>\n",
       "      <td>2</td>\n",
       "      <td>8</td>\n",
       "      <td>318.0</td>\n",
       "      <td>150.0</td>\n",
       "      <td>3436</td>\n",
       "      <td>11.0</td>\n",
       "      <td>70</td>\n",
       "    </tr>\n",
       "    <tr>\n",
       "      <td>3</td>\n",
       "      <td>8</td>\n",
       "      <td>304.0</td>\n",
       "      <td>150.0</td>\n",
       "      <td>3433</td>\n",
       "      <td>12.0</td>\n",
       "      <td>70</td>\n",
       "    </tr>\n",
       "    <tr>\n",
       "      <td>4</td>\n",
       "      <td>8</td>\n",
       "      <td>302.0</td>\n",
       "      <td>140.0</td>\n",
       "      <td>3449</td>\n",
       "      <td>10.5</td>\n",
       "      <td>70</td>\n",
       "    </tr>\n",
       "    <tr>\n",
       "      <td>...</td>\n",
       "      <td>...</td>\n",
       "      <td>...</td>\n",
       "      <td>...</td>\n",
       "      <td>...</td>\n",
       "      <td>...</td>\n",
       "      <td>...</td>\n",
       "    </tr>\n",
       "    <tr>\n",
       "      <td>393</td>\n",
       "      <td>4</td>\n",
       "      <td>140.0</td>\n",
       "      <td>86.0</td>\n",
       "      <td>2790</td>\n",
       "      <td>15.6</td>\n",
       "      <td>82</td>\n",
       "    </tr>\n",
       "    <tr>\n",
       "      <td>394</td>\n",
       "      <td>4</td>\n",
       "      <td>97.0</td>\n",
       "      <td>52.0</td>\n",
       "      <td>2130</td>\n",
       "      <td>24.6</td>\n",
       "      <td>82</td>\n",
       "    </tr>\n",
       "    <tr>\n",
       "      <td>395</td>\n",
       "      <td>4</td>\n",
       "      <td>135.0</td>\n",
       "      <td>84.0</td>\n",
       "      <td>2295</td>\n",
       "      <td>11.6</td>\n",
       "      <td>82</td>\n",
       "    </tr>\n",
       "    <tr>\n",
       "      <td>396</td>\n",
       "      <td>4</td>\n",
       "      <td>120.0</td>\n",
       "      <td>79.0</td>\n",
       "      <td>2625</td>\n",
       "      <td>18.6</td>\n",
       "      <td>82</td>\n",
       "    </tr>\n",
       "    <tr>\n",
       "      <td>397</td>\n",
       "      <td>4</td>\n",
       "      <td>119.0</td>\n",
       "      <td>82.0</td>\n",
       "      <td>2720</td>\n",
       "      <td>19.4</td>\n",
       "      <td>82</td>\n",
       "    </tr>\n",
       "  </tbody>\n",
       "</table>\n",
       "<p>396 rows × 6 columns</p>\n",
       "</div>"
      ],
      "text/plain": [
       "     cylinders  displacement  horsepower  weight  acceleration  model-year\n",
       "0            8         307.0       130.0    3504          12.0          70\n",
       "1            8         350.0       165.0    3693          11.5          70\n",
       "2            8         318.0       150.0    3436          11.0          70\n",
       "3            8         304.0       150.0    3433          12.0          70\n",
       "4            8         302.0       140.0    3449          10.5          70\n",
       "..         ...           ...         ...     ...           ...         ...\n",
       "393          4         140.0        86.0    2790          15.6          82\n",
       "394          4          97.0        52.0    2130          24.6          82\n",
       "395          4         135.0        84.0    2295          11.6          82\n",
       "396          4         120.0        79.0    2625          18.6          82\n",
       "397          4         119.0        82.0    2720          19.4          82\n",
       "\n",
       "[396 rows x 6 columns]"
      ]
     },
     "execution_count": 6,
     "metadata": {},
     "output_type": "execute_result"
    }
   ],
   "source": [
    "X"
   ]
  },
  {
   "cell_type": "code",
   "execution_count": 7,
   "metadata": {},
   "outputs": [
    {
     "data": {
      "text/plain": [
       "0      18.0\n",
       "1      15.0\n",
       "2      18.0\n",
       "3      16.0\n",
       "4      17.0\n",
       "       ... \n",
       "393    27.0\n",
       "394    44.0\n",
       "395    32.0\n",
       "396    28.0\n",
       "397    31.0\n",
       "Name: mpg, Length: 396, dtype: float64"
      ]
     },
     "execution_count": 7,
     "metadata": {},
     "output_type": "execute_result"
    }
   ],
   "source": [
    "y"
   ]
  },
  {
   "cell_type": "code",
   "execution_count": 8,
   "metadata": {},
   "outputs": [
    {
     "data": {
      "text/plain": [
       "(396, 6)"
      ]
     },
     "execution_count": 8,
     "metadata": {},
     "output_type": "execute_result"
    }
   ],
   "source": [
    "X.shape"
   ]
  },
  {
   "cell_type": "code",
   "execution_count": 9,
   "metadata": {},
   "outputs": [
    {
     "data": {
      "text/plain": [
       "(396,)"
      ]
     },
     "execution_count": 9,
     "metadata": {},
     "output_type": "execute_result"
    }
   ],
   "source": [
    "y.shape"
   ]
  },
  {
   "cell_type": "markdown",
   "metadata": {},
   "source": [
    "### SK.LEARN find Mean Square Error"
   ]
  },
  {
   "cell_type": "code",
   "execution_count": 10,
   "metadata": {},
   "outputs": [
    {
     "data": {
      "text/plain": [
       "mpg             0\n",
       "cylinders       0\n",
       "displacement    0\n",
       "horsepower      0\n",
       "weight          0\n",
       "acceleration    0\n",
       "model-year      0\n",
       "dtype: int64"
      ]
     },
     "execution_count": 10,
     "metadata": {},
     "output_type": "execute_result"
    }
   ],
   "source": [
    "df.isna().sum(axis=0)"
   ]
  },
  {
   "cell_type": "code",
   "execution_count": 11,
   "metadata": {},
   "outputs": [],
   "source": [
    "# Create function to set range from 0 to 1\n",
    "def scale_range(a):\n",
    "    b = (a-a.min())/(a.max()-a.min())\n",
    "    return b"
   ]
  },
  {
   "cell_type": "code",
   "execution_count": 12,
   "metadata": {},
   "outputs": [],
   "source": [
    "new_df = df.copy()\n",
    "new_df['displacement'] = scale_range(new_df['displacement'])\n",
    "new_df['horsepower'] = scale_range(new_df['horsepower'])\n",
    "new_df['acceleration'] = scale_range(new_df['acceleration'])\n",
    "new_df['weight'] = scale_range(new_df['weight'])\n",
    "new_df['mpg'] = scale_range(new_df['mpg'])"
   ]
  },
  {
   "cell_type": "code",
   "execution_count": 13,
   "metadata": {},
   "outputs": [
    {
     "data": {
      "text/html": [
       "<div>\n",
       "<style scoped>\n",
       "    .dataframe tbody tr th:only-of-type {\n",
       "        vertical-align: middle;\n",
       "    }\n",
       "\n",
       "    .dataframe tbody tr th {\n",
       "        vertical-align: top;\n",
       "    }\n",
       "\n",
       "    .dataframe thead th {\n",
       "        text-align: right;\n",
       "    }\n",
       "</style>\n",
       "<table border=\"1\" class=\"dataframe\">\n",
       "  <thead>\n",
       "    <tr style=\"text-align: right;\">\n",
       "      <th></th>\n",
       "      <th>mpg</th>\n",
       "      <th>cylinders</th>\n",
       "      <th>displacement</th>\n",
       "      <th>horsepower</th>\n",
       "      <th>weight</th>\n",
       "      <th>acceleration</th>\n",
       "      <th>model-year</th>\n",
       "    </tr>\n",
       "  </thead>\n",
       "  <tbody>\n",
       "    <tr>\n",
       "      <td>0</td>\n",
       "      <td>18.0</td>\n",
       "      <td>8</td>\n",
       "      <td>307.0</td>\n",
       "      <td>130.0</td>\n",
       "      <td>3504</td>\n",
       "      <td>12.0</td>\n",
       "      <td>70</td>\n",
       "    </tr>\n",
       "    <tr>\n",
       "      <td>1</td>\n",
       "      <td>15.0</td>\n",
       "      <td>8</td>\n",
       "      <td>350.0</td>\n",
       "      <td>165.0</td>\n",
       "      <td>3693</td>\n",
       "      <td>11.5</td>\n",
       "      <td>70</td>\n",
       "    </tr>\n",
       "    <tr>\n",
       "      <td>2</td>\n",
       "      <td>18.0</td>\n",
       "      <td>8</td>\n",
       "      <td>318.0</td>\n",
       "      <td>150.0</td>\n",
       "      <td>3436</td>\n",
       "      <td>11.0</td>\n",
       "      <td>70</td>\n",
       "    </tr>\n",
       "    <tr>\n",
       "      <td>3</td>\n",
       "      <td>16.0</td>\n",
       "      <td>8</td>\n",
       "      <td>304.0</td>\n",
       "      <td>150.0</td>\n",
       "      <td>3433</td>\n",
       "      <td>12.0</td>\n",
       "      <td>70</td>\n",
       "    </tr>\n",
       "    <tr>\n",
       "      <td>4</td>\n",
       "      <td>17.0</td>\n",
       "      <td>8</td>\n",
       "      <td>302.0</td>\n",
       "      <td>140.0</td>\n",
       "      <td>3449</td>\n",
       "      <td>10.5</td>\n",
       "      <td>70</td>\n",
       "    </tr>\n",
       "  </tbody>\n",
       "</table>\n",
       "</div>"
      ],
      "text/plain": [
       "    mpg  cylinders  displacement  horsepower  weight  acceleration  model-year\n",
       "0  18.0          8         307.0       130.0    3504          12.0          70\n",
       "1  15.0          8         350.0       165.0    3693          11.5          70\n",
       "2  18.0          8         318.0       150.0    3436          11.0          70\n",
       "3  16.0          8         304.0       150.0    3433          12.0          70\n",
       "4  17.0          8         302.0       140.0    3449          10.5          70"
      ]
     },
     "execution_count": 13,
     "metadata": {},
     "output_type": "execute_result"
    }
   ],
   "source": [
    "df.head()"
   ]
  },
  {
   "cell_type": "code",
   "execution_count": 14,
   "metadata": {},
   "outputs": [
    {
     "data": {
      "text/html": [
       "<div>\n",
       "<style scoped>\n",
       "    .dataframe tbody tr th:only-of-type {\n",
       "        vertical-align: middle;\n",
       "    }\n",
       "\n",
       "    .dataframe tbody tr th {\n",
       "        vertical-align: top;\n",
       "    }\n",
       "\n",
       "    .dataframe thead th {\n",
       "        text-align: right;\n",
       "    }\n",
       "</style>\n",
       "<table border=\"1\" class=\"dataframe\">\n",
       "  <thead>\n",
       "    <tr style=\"text-align: right;\">\n",
       "      <th></th>\n",
       "      <th>mpg</th>\n",
       "      <th>cylinders</th>\n",
       "      <th>displacement</th>\n",
       "      <th>horsepower</th>\n",
       "      <th>weight</th>\n",
       "      <th>acceleration</th>\n",
       "      <th>model-year</th>\n",
       "    </tr>\n",
       "  </thead>\n",
       "  <tbody>\n",
       "    <tr>\n",
       "      <td>0</td>\n",
       "      <td>0.239362</td>\n",
       "      <td>8</td>\n",
       "      <td>0.617571</td>\n",
       "      <td>0.456522</td>\n",
       "      <td>0.536150</td>\n",
       "      <td>0.238095</td>\n",
       "      <td>70</td>\n",
       "    </tr>\n",
       "    <tr>\n",
       "      <td>1</td>\n",
       "      <td>0.159574</td>\n",
       "      <td>8</td>\n",
       "      <td>0.728682</td>\n",
       "      <td>0.646739</td>\n",
       "      <td>0.589736</td>\n",
       "      <td>0.208333</td>\n",
       "      <td>70</td>\n",
       "    </tr>\n",
       "    <tr>\n",
       "      <td>2</td>\n",
       "      <td>0.239362</td>\n",
       "      <td>8</td>\n",
       "      <td>0.645995</td>\n",
       "      <td>0.565217</td>\n",
       "      <td>0.516870</td>\n",
       "      <td>0.178571</td>\n",
       "      <td>70</td>\n",
       "    </tr>\n",
       "    <tr>\n",
       "      <td>3</td>\n",
       "      <td>0.186170</td>\n",
       "      <td>8</td>\n",
       "      <td>0.609819</td>\n",
       "      <td>0.565217</td>\n",
       "      <td>0.516019</td>\n",
       "      <td>0.238095</td>\n",
       "      <td>70</td>\n",
       "    </tr>\n",
       "    <tr>\n",
       "      <td>4</td>\n",
       "      <td>0.212766</td>\n",
       "      <td>8</td>\n",
       "      <td>0.604651</td>\n",
       "      <td>0.510870</td>\n",
       "      <td>0.520556</td>\n",
       "      <td>0.148810</td>\n",
       "      <td>70</td>\n",
       "    </tr>\n",
       "  </tbody>\n",
       "</table>\n",
       "</div>"
      ],
      "text/plain": [
       "        mpg  cylinders  displacement  horsepower    weight  acceleration  \\\n",
       "0  0.239362          8      0.617571    0.456522  0.536150      0.238095   \n",
       "1  0.159574          8      0.728682    0.646739  0.589736      0.208333   \n",
       "2  0.239362          8      0.645995    0.565217  0.516870      0.178571   \n",
       "3  0.186170          8      0.609819    0.565217  0.516019      0.238095   \n",
       "4  0.212766          8      0.604651    0.510870  0.520556      0.148810   \n",
       "\n",
       "   model-year  \n",
       "0          70  \n",
       "1          70  \n",
       "2          70  \n",
       "3          70  \n",
       "4          70  "
      ]
     },
     "execution_count": 14,
     "metadata": {},
     "output_type": "execute_result"
    }
   ],
   "source": [
    "new_df.head()"
   ]
  },
  {
   "cell_type": "code",
   "execution_count": 15,
   "metadata": {},
   "outputs": [
    {
     "data": {
      "text/html": [
       "<div>\n",
       "<style scoped>\n",
       "    .dataframe tbody tr th:only-of-type {\n",
       "        vertical-align: middle;\n",
       "    }\n",
       "\n",
       "    .dataframe tbody tr th {\n",
       "        vertical-align: top;\n",
       "    }\n",
       "\n",
       "    .dataframe thead th {\n",
       "        text-align: right;\n",
       "    }\n",
       "</style>\n",
       "<table border=\"1\" class=\"dataframe\">\n",
       "  <thead>\n",
       "    <tr style=\"text-align: right;\">\n",
       "      <th></th>\n",
       "      <th>mean</th>\n",
       "      <th>std</th>\n",
       "    </tr>\n",
       "  </thead>\n",
       "  <tbody>\n",
       "    <tr>\n",
       "      <td>degree=1</td>\n",
       "      <td>1.589711e+01</td>\n",
       "      <td>9.273790e+00</td>\n",
       "    </tr>\n",
       "    <tr>\n",
       "      <td>degree=2</td>\n",
       "      <td>4.693265e+01</td>\n",
       "      <td>5.826257e+01</td>\n",
       "    </tr>\n",
       "    <tr>\n",
       "      <td>degree=3</td>\n",
       "      <td>3.833355e+01</td>\n",
       "      <td>2.808122e+01</td>\n",
       "    </tr>\n",
       "    <tr>\n",
       "      <td>degree=4</td>\n",
       "      <td>3.091366e+04</td>\n",
       "      <td>6.690112e+04</td>\n",
       "    </tr>\n",
       "    <tr>\n",
       "      <td>degree=5</td>\n",
       "      <td>2.108631e+08</td>\n",
       "      <td>4.674260e+08</td>\n",
       "    </tr>\n",
       "  </tbody>\n",
       "</table>\n",
       "</div>"
      ],
      "text/plain": [
       "                  mean           std\n",
       "degree=1  1.589711e+01  9.273790e+00\n",
       "degree=2  4.693265e+01  5.826257e+01\n",
       "degree=3  3.833355e+01  2.808122e+01\n",
       "degree=4  3.091366e+04  6.690112e+04\n",
       "degree=5  2.108631e+08  4.674260e+08"
      ]
     },
     "execution_count": 15,
     "metadata": {},
     "output_type": "execute_result"
    },
    {
     "data": {
      "image/png": "[encoded data removed]",
      "text/plain": [
       "<Figure size 432x288 with 1 Axes>"
      ]
     },
     "metadata": {
      "needs_background": "light"
     },
     "output_type": "display_data"
    }
   ],
   "source": [
    "scores = pd.DataFrame(index=list(range(5)))\n",
    "\n",
    "for d in range(1, 6):\n",
    "    model1 = make_pipeline(\n",
    "        PolynomialFeatures(degree=d),\n",
    "        preprocessing.StandardScaler(),\n",
    "        LinearRegression())\n",
    "    scores[f'degree={d}'] = -1 * cross_val_score(model1, X, y, cv=5, scoring='neg_mean_squared_error')\n",
    "\n",
    "fig, ax = plt.subplots()\n",
    "b = pd.melt(scores, value_name='score', var_name='model')\n",
    "__ = sns.boxplot(x='model', y='score', data=b, ax=ax)\n",
    "ax.set_ylim(bottom=0, top=100)\n",
    "scores.describe().loc[['mean', 'std']].transpose()"
   ]
  },
  {
   "cell_type": "code",
   "execution_count": 16,
   "metadata": {},
   "outputs": [
    {
     "data": {
      "text/html": [
       "<div>\n",
       "<style scoped>\n",
       "    .dataframe tbody tr th:only-of-type {\n",
       "        vertical-align: middle;\n",
       "    }\n",
       "\n",
       "    .dataframe tbody tr th {\n",
       "        vertical-align: top;\n",
       "    }\n",
       "\n",
       "    .dataframe thead th {\n",
       "        text-align: right;\n",
       "    }\n",
       "</style>\n",
       "<table border=\"1\" class=\"dataframe\">\n",
       "  <thead>\n",
       "    <tr style=\"text-align: right;\">\n",
       "      <th></th>\n",
       "      <th>mean</th>\n",
       "      <th>std</th>\n",
       "    </tr>\n",
       "  </thead>\n",
       "  <tbody>\n",
       "    <tr>\n",
       "      <td>d=4+l2</td>\n",
       "      <td>9.322959e+00</td>\n",
       "      <td>5.287867e+00</td>\n",
       "    </tr>\n",
       "    <tr>\n",
       "      <td>d=3+l2</td>\n",
       "      <td>9.405174e+00</td>\n",
       "      <td>5.432978e+00</td>\n",
       "    </tr>\n",
       "    <tr>\n",
       "      <td>d=2+l2</td>\n",
       "      <td>9.813583e+00</td>\n",
       "      <td>5.903396e+00</td>\n",
       "    </tr>\n",
       "    <tr>\n",
       "      <td>d=5+l2</td>\n",
       "      <td>1.028540e+01</td>\n",
       "      <td>5.983315e+00</td>\n",
       "    </tr>\n",
       "    <tr>\n",
       "      <td>d=1</td>\n",
       "      <td>1.589711e+01</td>\n",
       "      <td>9.273790e+00</td>\n",
       "    </tr>\n",
       "    <tr>\n",
       "      <td>d=1+l2</td>\n",
       "      <td>1.594790e+01</td>\n",
       "      <td>9.400589e+00</td>\n",
       "    </tr>\n",
       "    <tr>\n",
       "      <td>d=3</td>\n",
       "      <td>3.833355e+01</td>\n",
       "      <td>2.808122e+01</td>\n",
       "    </tr>\n",
       "    <tr>\n",
       "      <td>d=2</td>\n",
       "      <td>4.693265e+01</td>\n",
       "      <td>5.826257e+01</td>\n",
       "    </tr>\n",
       "    <tr>\n",
       "      <td>d=4</td>\n",
       "      <td>3.091366e+04</td>\n",
       "      <td>6.690112e+04</td>\n",
       "    </tr>\n",
       "    <tr>\n",
       "      <td>d=5</td>\n",
       "      <td>2.108631e+08</td>\n",
       "      <td>4.674260e+08</td>\n",
       "    </tr>\n",
       "  </tbody>\n",
       "</table>\n",
       "</div>"
      ],
      "text/plain": [
       "                mean           std\n",
       "d=4+l2  9.322959e+00  5.287867e+00\n",
       "d=3+l2  9.405174e+00  5.432978e+00\n",
       "d=2+l2  9.813583e+00  5.903396e+00\n",
       "d=5+l2  1.028540e+01  5.983315e+00\n",
       "d=1     1.589711e+01  9.273790e+00\n",
       "d=1+l2  1.594790e+01  9.400589e+00\n",
       "d=3     3.833355e+01  2.808122e+01\n",
       "d=2     4.693265e+01  5.826257e+01\n",
       "d=4     3.091366e+04  6.690112e+04\n",
       "d=5     2.108631e+08  4.674260e+08"
      ]
     },
     "execution_count": 16,
     "metadata": {},
     "output_type": "execute_result"
    },
    {
     "data": {
      "image/png": "[encoded data removed]",
      "text/plain": [
       "<Figure size 576x288 with 1 Axes>"
      ]
     },
     "metadata": {
      "needs_background": "light"
     },
     "output_type": "display_data"
    }
   ],
   "source": [
    "from sklearn.model_selection import cross_val_score\n",
    "from sklearn.linear_model import LinearRegression, Ridge, Lasso\n",
    "from sklearn import preprocessing\n",
    "from sklearn.pipeline import make_pipeline\n",
    "from sklearn.preprocessing import PolynomialFeatures\n",
    "from sklearn.preprocessing import StandardScaler\n",
    "from sklearn.model_selection import train_test_split\n",
    "from sklearn.metrics import mean_squared_error\n",
    "\n",
    "scores = pd.DataFrame(index=list(range(5)))\n",
    "\n",
    "for d in range(1, 6):\n",
    "    model1 = make_pipeline(\n",
    "        PolynomialFeatures(degree=d),\n",
    "        preprocessing.StandardScaler(),\n",
    "        LinearRegression())\n",
    "    scores[f'd={d}'] = -1 * cross_val_score(model1, X, y, cv=5, scoring='neg_mean_squared_error')\n",
    "\n",
    "for d in range(1, 6):\n",
    "    model1 = make_pipeline(\n",
    "        PolynomialFeatures(degree=d),\n",
    "        preprocessing.StandardScaler(),\n",
    "        Ridge())\n",
    "    scores[f'd={d}+l2'] = -1 * cross_val_score(model1, X, y, cv=5, scoring='neg_mean_squared_error')\n",
    "\n",
    "fig, ax = plt.subplots(figsize=(8, 4))\n",
    "b = pd.melt(scores, value_name='score', var_name='model')\n",
    "__ = sns.boxplot(x='model', y='score', data=b, ax=ax)\n",
    "ax.set_ylim(bottom=0, top=40)\n",
    "scores.describe().loc[['mean', 'std']].transpose().sort_values('mean')"
   ]
  },
  {
   "cell_type": "code",
   "execution_count": 17,
   "metadata": {},
   "outputs": [],
   "source": [
    "import seaborn as sns"
   ]
  },
  {
   "cell_type": "code",
   "execution_count": 18,
   "metadata": {},
   "outputs": [
    {
     "data": {
      "text/plain": [
       "<matplotlib.lines.Line2D at 0x24c98484888>"
      ]
     },
     "execution_count": 18,
     "metadata": {},
     "output_type": "execute_result"
    },
    {
     "data": {
      "image/png": "[encoded data removed]",
      "text/plain": [
       "<Figure size 576x432 with 1 Axes>"
      ]
     },
     "metadata": {
      "needs_background": "light"
     },
     "output_type": "display_data"
    }
   ],
   "source": [
    "md_yr = 'model-year'\n",
    "data_plt = pd.concat([new_df['mpg'], new_df[md_yr]], axis=1)\n",
    "f, ax = plt.subplots(figsize=(8, 6))\n",
    "fig = sns.boxplot(x=md_yr, y=\"mpg\", data=data_plt)\n",
    "fig.axis(ymin=0, ymax=1)\n",
    "plt.axhline(new_df.mpg.mean(),color='r',linestyle='dashed',linewidth=2)"
   ]
  },
  {
   "cell_type": "code",
   "execution_count": 19,
   "metadata": {},
   "outputs": [
    {
     "data": {
      "text/plain": [
       "<matplotlib.lines.Line2D at 0x24c98447a08>"
      ]
     },
     "execution_count": 19,
     "metadata": {},
     "output_type": "execute_result"
    },
    {
     "data": {
      "image/png": "[encoded data removed]",
      "text/plain": [
       "<Figure size 576x432 with 1 Axes>"
      ]
     },
     "metadata": {
      "needs_background": "light"
     },
     "output_type": "display_data"
    }
   ],
   "source": [
    "data_plt = pd.concat([new_df['mpg'], new_df['cylinders']], axis=1)\n",
    "f, ax = plt.subplots(figsize=(8, 6))\n",
    "fig = sns.boxplot(x='cylinders', y=\"mpg\", data=data_plt)\n",
    "fig.axis(ymin=0, ymax=1)\n",
    "plt.axhline(new_df.mpg.mean(),color='r',linestyle='dashed',linewidth=2)"
   ]
  },
  {
   "cell_type": "code",
   "execution_count": 20,
   "metadata": {},
   "outputs": [
    {
     "data": {
      "text/html": [
       "<div>\n",
       "<style scoped>\n",
       "    .dataframe tbody tr th:only-of-type {\n",
       "        vertical-align: middle;\n",
       "    }\n",
       "\n",
       "    .dataframe tbody tr th {\n",
       "        vertical-align: top;\n",
       "    }\n",
       "\n",
       "    .dataframe thead th {\n",
       "        text-align: right;\n",
       "    }\n",
       "</style>\n",
       "<table border=\"1\" class=\"dataframe\">\n",
       "  <thead>\n",
       "    <tr style=\"text-align: right;\">\n",
       "      <th></th>\n",
       "      <th>mpg</th>\n",
       "      <th>cylinders</th>\n",
       "      <th>displacement</th>\n",
       "      <th>horsepower</th>\n",
       "      <th>weight</th>\n",
       "      <th>acceleration</th>\n",
       "      <th>model-year</th>\n",
       "    </tr>\n",
       "  </thead>\n",
       "  <tbody>\n",
       "    <tr>\n",
       "      <td>mpg</td>\n",
       "      <td>1.000000</td>\n",
       "      <td>-0.775680</td>\n",
       "      <td>-0.804711</td>\n",
       "      <td>-0.777575</td>\n",
       "      <td>-0.832725</td>\n",
       "      <td>0.421159</td>\n",
       "      <td>0.581144</td>\n",
       "    </tr>\n",
       "    <tr>\n",
       "      <td>cylinders</td>\n",
       "      <td>-0.775680</td>\n",
       "      <td>1.000000</td>\n",
       "      <td>0.950706</td>\n",
       "      <td>0.843751</td>\n",
       "      <td>0.896058</td>\n",
       "      <td>-0.504844</td>\n",
       "      <td>-0.352554</td>\n",
       "    </tr>\n",
       "    <tr>\n",
       "      <td>displacement</td>\n",
       "      <td>-0.804711</td>\n",
       "      <td>0.950706</td>\n",
       "      <td>1.000000</td>\n",
       "      <td>0.897787</td>\n",
       "      <td>0.932729</td>\n",
       "      <td>-0.542713</td>\n",
       "      <td>-0.374620</td>\n",
       "    </tr>\n",
       "    <tr>\n",
       "      <td>horsepower</td>\n",
       "      <td>-0.777575</td>\n",
       "      <td>0.843751</td>\n",
       "      <td>0.897787</td>\n",
       "      <td>1.000000</td>\n",
       "      <td>0.864350</td>\n",
       "      <td>-0.687241</td>\n",
       "      <td>-0.420697</td>\n",
       "    </tr>\n",
       "    <tr>\n",
       "      <td>weight</td>\n",
       "      <td>-0.832725</td>\n",
       "      <td>0.896058</td>\n",
       "      <td>0.932729</td>\n",
       "      <td>0.864350</td>\n",
       "      <td>1.000000</td>\n",
       "      <td>-0.415462</td>\n",
       "      <td>-0.311774</td>\n",
       "    </tr>\n",
       "    <tr>\n",
       "      <td>acceleration</td>\n",
       "      <td>0.421159</td>\n",
       "      <td>-0.504844</td>\n",
       "      <td>-0.542713</td>\n",
       "      <td>-0.687241</td>\n",
       "      <td>-0.415462</td>\n",
       "      <td>1.000000</td>\n",
       "      <td>0.294588</td>\n",
       "    </tr>\n",
       "    <tr>\n",
       "      <td>model-year</td>\n",
       "      <td>0.581144</td>\n",
       "      <td>-0.352554</td>\n",
       "      <td>-0.374620</td>\n",
       "      <td>-0.420697</td>\n",
       "      <td>-0.311774</td>\n",
       "      <td>0.294588</td>\n",
       "      <td>1.000000</td>\n",
       "    </tr>\n",
       "  </tbody>\n",
       "</table>\n",
       "</div>"
      ],
      "text/plain": [
       "                   mpg  cylinders  displacement  horsepower    weight  \\\n",
       "mpg           1.000000  -0.775680     -0.804711   -0.777575 -0.832725   \n",
       "cylinders    -0.775680   1.000000      0.950706    0.843751  0.896058   \n",
       "displacement -0.804711   0.950706      1.000000    0.897787  0.932729   \n",
       "horsepower   -0.777575   0.843751      0.897787    1.000000  0.864350   \n",
       "weight       -0.832725   0.896058      0.932729    0.864350  1.000000   \n",
       "acceleration  0.421159  -0.504844     -0.542713   -0.687241 -0.415462   \n",
       "model-year    0.581144  -0.352554     -0.374620   -0.420697 -0.311774   \n",
       "\n",
       "              acceleration  model-year  \n",
       "mpg               0.421159    0.581144  \n",
       "cylinders        -0.504844   -0.352554  \n",
       "displacement     -0.542713   -0.374620  \n",
       "horsepower       -0.687241   -0.420697  \n",
       "weight           -0.415462   -0.311774  \n",
       "acceleration      1.000000    0.294588  \n",
       "model-year        0.294588    1.000000  "
      ]
     },
     "execution_count": 20,
     "metadata": {},
     "output_type": "execute_result"
    }
   ],
   "source": [
    "new_df.corr()"
   ]
  },
  {
   "cell_type": "code",
   "execution_count": 21,
   "metadata": {},
   "outputs": [
    {
     "data": {
      "text/html": [
       "<div>\n",
       "<style scoped>\n",
       "    .dataframe tbody tr th:only-of-type {\n",
       "        vertical-align: middle;\n",
       "    }\n",
       "\n",
       "    .dataframe tbody tr th {\n",
       "        vertical-align: top;\n",
       "    }\n",
       "\n",
       "    .dataframe thead th {\n",
       "        text-align: right;\n",
       "    }\n",
       "</style>\n",
       "<table border=\"1\" class=\"dataframe\">\n",
       "  <thead>\n",
       "    <tr style=\"text-align: right;\">\n",
       "      <th></th>\n",
       "      <th>mpg</th>\n",
       "      <th>cylinders</th>\n",
       "      <th>displacement</th>\n",
       "      <th>horsepower</th>\n",
       "      <th>weight</th>\n",
       "      <th>acceleration</th>\n",
       "      <th>model-year</th>\n",
       "    </tr>\n",
       "  </thead>\n",
       "  <tbody>\n",
       "    <tr>\n",
       "      <td>count</td>\n",
       "      <td>396.000000</td>\n",
       "      <td>396.000000</td>\n",
       "      <td>396.000000</td>\n",
       "      <td>396.000000</td>\n",
       "      <td>396.000000</td>\n",
       "      <td>396.000000</td>\n",
       "      <td>396.000000</td>\n",
       "    </tr>\n",
       "    <tr>\n",
       "      <td>mean</td>\n",
       "      <td>0.386095</td>\n",
       "      <td>5.457071</td>\n",
       "      <td>0.324678</td>\n",
       "      <td>0.316247</td>\n",
       "      <td>0.385597</td>\n",
       "      <td>0.449750</td>\n",
       "      <td>76.027778</td>\n",
       "    </tr>\n",
       "    <tr>\n",
       "      <td>std</td>\n",
       "      <td>0.208361</td>\n",
       "      <td>1.703511</td>\n",
       "      <td>0.269825</td>\n",
       "      <td>0.208707</td>\n",
       "      <td>0.240343</td>\n",
       "      <td>0.164184</td>\n",
       "      <td>3.696969</td>\n",
       "    </tr>\n",
       "    <tr>\n",
       "      <td>min</td>\n",
       "      <td>0.000000</td>\n",
       "      <td>3.000000</td>\n",
       "      <td>0.000000</td>\n",
       "      <td>0.000000</td>\n",
       "      <td>0.000000</td>\n",
       "      <td>0.000000</td>\n",
       "      <td>70.000000</td>\n",
       "    </tr>\n",
       "    <tr>\n",
       "      <td>25%</td>\n",
       "      <td>0.222739</td>\n",
       "      <td>4.000000</td>\n",
       "      <td>0.094961</td>\n",
       "      <td>0.157609</td>\n",
       "      <td>0.173589</td>\n",
       "      <td>0.345238</td>\n",
       "      <td>73.000000</td>\n",
       "    </tr>\n",
       "    <tr>\n",
       "      <td>50%</td>\n",
       "      <td>0.372340</td>\n",
       "      <td>4.000000</td>\n",
       "      <td>0.208010</td>\n",
       "      <td>0.250000</td>\n",
       "      <td>0.337539</td>\n",
       "      <td>0.446429</td>\n",
       "      <td>76.000000</td>\n",
       "    </tr>\n",
       "    <tr>\n",
       "      <td>75%</td>\n",
       "      <td>0.531915</td>\n",
       "      <td>8.000000</td>\n",
       "      <td>0.504522</td>\n",
       "      <td>0.429348</td>\n",
       "      <td>0.566204</td>\n",
       "      <td>0.543155</td>\n",
       "      <td>79.000000</td>\n",
       "    </tr>\n",
       "    <tr>\n",
       "      <td>max</td>\n",
       "      <td>1.000000</td>\n",
       "      <td>8.000000</td>\n",
       "      <td>1.000000</td>\n",
       "      <td>1.000000</td>\n",
       "      <td>1.000000</td>\n",
       "      <td>1.000000</td>\n",
       "      <td>82.000000</td>\n",
       "    </tr>\n",
       "  </tbody>\n",
       "</table>\n",
       "</div>"
      ],
      "text/plain": [
       "              mpg   cylinders  displacement  horsepower      weight  \\\n",
       "count  396.000000  396.000000    396.000000  396.000000  396.000000   \n",
       "mean     0.386095    5.457071      0.324678    0.316247    0.385597   \n",
       "std      0.208361    1.703511      0.269825    0.208707    0.240343   \n",
       "min      0.000000    3.000000      0.000000    0.000000    0.000000   \n",
       "25%      0.222739    4.000000      0.094961    0.157609    0.173589   \n",
       "50%      0.372340    4.000000      0.208010    0.250000    0.337539   \n",
       "75%      0.531915    8.000000      0.504522    0.429348    0.566204   \n",
       "max      1.000000    8.000000      1.000000    1.000000    1.000000   \n",
       "\n",
       "       acceleration  model-year  \n",
       "count    396.000000  396.000000  \n",
       "mean       0.449750   76.027778  \n",
       "std        0.164184    3.696969  \n",
       "min        0.000000   70.000000  \n",
       "25%        0.345238   73.000000  \n",
       "50%        0.446429   76.000000  \n",
       "75%        0.543155   79.000000  \n",
       "max        1.000000   82.000000  "
      ]
     },
     "execution_count": 21,
     "metadata": {},
     "output_type": "execute_result"
    }
   ],
   "source": [
    "new_df.describe()"
   ]
  },
  {
   "cell_type": "code",
   "execution_count": 22,
   "metadata": {},
   "outputs": [
    {
     "data": {
      "text/plain": [
       "mpg              0.386095\n",
       "cylinders        5.457071\n",
       "displacement     0.324678\n",
       "horsepower       0.316247\n",
       "weight           0.385597\n",
       "acceleration     0.449750\n",
       "model-year      76.027778\n",
       "dtype: float64"
      ]
     },
     "execution_count": 22,
     "metadata": {},
     "output_type": "execute_result"
    }
   ],
   "source": [
    "new_df.mean()"
   ]
  },
  {
   "cell_type": "code",
   "execution_count": 23,
   "metadata": {},
   "outputs": [],
   "source": [
    "factors = ['cylinders','displacement','horsepower','acceleration','weight','model-year']\n",
    "X = new_df[factors].copy()\n",
    "Y = new_df['mpg'].copy()"
   ]
  },
  {
   "cell_type": "code",
   "execution_count": 24,
   "metadata": {},
   "outputs": [],
   "source": [
    "X = StandardScaler().fit_transform(X)"
   ]
  },
  {
   "cell_type": "code",
   "execution_count": 25,
   "metadata": {},
   "outputs": [
    {
     "data": {
      "text/plain": [
       "True"
      ]
     },
     "execution_count": 25,
     "metadata": {},
     "output_type": "execute_result"
    }
   ],
   "source": [
    "X_train,X_test,Y_train,Y_test = train_test_split(X, Y, test_size = 0.3, random_state = 555)\n",
    "X_train.shape[0] == Y_train.shape[0]"
   ]
  },
  {
   "cell_type": "code",
   "execution_count": 26,
   "metadata": {},
   "outputs": [
    {
     "data": {
      "text/plain": [
       "0.0940972580134268"
      ]
     },
     "execution_count": 26,
     "metadata": {},
     "output_type": "execute_result"
    }
   ],
   "source": [
    "import math  \n",
    "regressor = LinearRegression()\n",
    "regressor.get_params()\n",
    "regressor.fit(X_train,Y_train)\n",
    "Y_predicted = regressor.predict(X_test)\n",
    "rmse = math.sqrt(mean_squared_error(y_true = Y_test, y_pred = Y_predicted))\n",
    "rmse"
   ]
  },
  {
   "cell_type": "code",
   "execution_count": 27,
   "metadata": {},
   "outputs": [
    {
     "name": "stdout",
     "output_type": "stream",
     "text": [
      "MSE: -0.01 (+/- 0.01)\n"
     ]
    }
   ],
   "source": [
    "from sklearn.model_selection import cross_val_score\n",
    "from sklearn.linear_model import LinearRegression, Lasso\n",
    "from sklearn import preprocessing\n",
    "from sklearn.pipeline import make_pipeline\n",
    "from sklearn.preprocessing import PolynomialFeatures\n",
    "\n",
    "model = make_pipeline(\n",
    "    PolynomialFeatures(degree=1),\n",
    "    preprocessing.StandardScaler(),\n",
    "    LinearRegression())\n",
    "scores = cross_val_score(model, X, Y, cv=10, scoring='neg_mean_squared_error')\n",
    "print(\"MSE: %0.2f (+/- %0.2f)\" % (scores.mean(), scores.std() * 2))"
   ]
  },
  {
   "cell_type": "markdown",
   "metadata": {},
   "source": [
    "### Scatter plot"
   ]
  },
  {
   "cell_type": "code",
   "execution_count": 28,
   "metadata": {},
   "outputs": [
    {
     "data": {
      "text/plain": [
       "Text(0, 0.5, 'Predictions')"
      ]
     },
     "execution_count": 28,
     "metadata": {},
     "output_type": "execute_result"
    },
    {
     "data": {
      "image/png": "[encoded data removed]",
      "text/plain": [
       "<Figure size 432x288 with 1 Axes>"
      ]
     },
     "metadata": {
      "needs_background": "light"
     },
     "output_type": "display_data"
    }
   ],
   "source": [
    "plt.scatter(Y_test, Y_predicted)\n",
    "plt.xlabel(\"True Values\")\n",
    "plt.ylabel(\"Predictions\")"
   ]
  },
  {
   "cell_type": "code",
   "execution_count": 29,
   "metadata": {},
   "outputs": [
    {
     "data": {
      "text/plain": [
       "array([-0.00667424, -0.00746966, -0.00878696, -0.00580163, -0.00411253,\n",
       "       -0.00442766, -0.01347526, -0.00835276, -0.02619542, -0.01179647])"
      ]
     },
     "execution_count": 29,
     "metadata": {},
     "output_type": "execute_result"
    }
   ],
   "source": [
    "scores"
   ]
  },
  {
   "cell_type": "code",
   "execution_count": 30,
   "metadata": {},
   "outputs": [
    {
     "data": {
      "text/html": [
       "<div>\n",
       "<style scoped>\n",
       "    .dataframe tbody tr th:only-of-type {\n",
       "        vertical-align: middle;\n",
       "    }\n",
       "\n",
       "    .dataframe tbody tr th {\n",
       "        vertical-align: top;\n",
       "    }\n",
       "\n",
       "    .dataframe thead th {\n",
       "        text-align: right;\n",
       "    }\n",
       "</style>\n",
       "<table border=\"1\" class=\"dataframe\">\n",
       "  <thead>\n",
       "    <tr style=\"text-align: right;\">\n",
       "      <th></th>\n",
       "      <th>mean</th>\n",
       "      <th>std</th>\n",
       "    </tr>\n",
       "  </thead>\n",
       "  <tbody>\n",
       "    <tr>\n",
       "      <td>degree=1</td>\n",
       "      <td>0.011245</td>\n",
       "      <td>0.006560</td>\n",
       "    </tr>\n",
       "    <tr>\n",
       "      <td>degree=2</td>\n",
       "      <td>0.023224</td>\n",
       "      <td>0.018871</td>\n",
       "    </tr>\n",
       "    <tr>\n",
       "      <td>degree=3</td>\n",
       "      <td>0.022199</td>\n",
       "      <td>0.014702</td>\n",
       "    </tr>\n",
       "    <tr>\n",
       "      <td>degree=4</td>\n",
       "      <td>22.854256</td>\n",
       "      <td>49.592908</td>\n",
       "    </tr>\n",
       "    <tr>\n",
       "      <td>degree=5</td>\n",
       "      <td>4895.554287</td>\n",
       "      <td>7781.384570</td>\n",
       "    </tr>\n",
       "  </tbody>\n",
       "</table>\n",
       "</div>"
      ],
      "text/plain": [
       "                 mean          std\n",
       "degree=1     0.011245     0.006560\n",
       "degree=2     0.023224     0.018871\n",
       "degree=3     0.022199     0.014702\n",
       "degree=4    22.854256    49.592908\n",
       "degree=5  4895.554287  7781.384570"
      ]
     },
     "execution_count": 30,
     "metadata": {},
     "output_type": "execute_result"
    },
    {
     "data": {
      "image/png": "[encoded data removed]",
      "text/plain": [
       "<Figure size 432x288 with 1 Axes>"
      ]
     },
     "metadata": {
      "needs_background": "light"
     },
     "output_type": "display_data"
    }
   ],
   "source": [
    "scores = pd.DataFrame(index=list(range(5)))\n",
    "\n",
    "for d in range(1, 6):\n",
    "    model1 = make_pipeline(\n",
    "        PolynomialFeatures(degree=d),\n",
    "        preprocessing.StandardScaler(),\n",
    "        LinearRegression())\n",
    "    scores[f'degree={d}'] = -1 * cross_val_score(model1, X, Y, cv=5, scoring='neg_mean_squared_error')\n",
    "\n",
    "fig, ax = plt.subplots()\n",
    "b = pd.melt(scores, value_name='score', var_name='model')\n",
    "__ = sns.boxplot(x='model', y='score', data=b, ax=ax)\n",
    "ax.set_ylim(bottom=0, top=0.1)\n",
    "scores.describe().loc[['mean', 'std']].transpose()"
   ]
  },
  {
   "cell_type": "code",
   "execution_count": 31,
   "metadata": {},
   "outputs": [
    {
     "data": {
      "image/png": "[encoded data removed]",
      "text/plain": [
       "<Figure size 432x288 with 1 Axes>"
      ]
     },
     "metadata": {
      "needs_background": "light"
     },
     "output_type": "display_data"
    }
   ],
   "source": [
    "from sklearn.model_selection import cross_validate\n",
    "import seaborn as sns\n",
    "\n",
    "model = make_pipeline(\n",
    "    PolynomialFeatures(degree=2),\n",
    "    preprocessing.StandardScaler(),\n",
    "    LinearRegression())\n",
    "scores = cross_validate(\n",
    "    model, X, Y, cv=5, \n",
    "    scoring='neg_mean_squared_error',\n",
    "    return_train_score=True)\n",
    "\n",
    "a = pd.DataFrame(scores)\n",
    "a['fold'] = a.index\n",
    "a = a.drop(columns=['fit_time', 'score_time'])\n",
    "a['test_score'] = a['test_score'] * -1\n",
    "a['train_score'] = a['train_score'] * -1\n",
    "b = pd.melt(a, id_vars='fold', var_name='split', value_name='score')\n",
    "sns.barplot(\n",
    "    x='fold', y='score', hue='split',\n",
    "    hue_order=['train_score', 'test_score'], data=b)\n",
    "__ = plt.title((\n",
    "    f'Train avg MSE = {a[\"train_score\"].mean():.3} +/- {a[\"train_score\"].std() * 2:.3}\\n'\n",
    "    f'Test avg MSE = {a[\"test_score\"].mean():.3} +/- {a[\"test_score\"].std() * 2:.3}'\n",
    "    ))"
   ]
  },
  {
   "cell_type": "code",
   "execution_count": 32,
   "metadata": {},
   "outputs": [
    {
     "name": "stdout",
     "output_type": "stream",
     "text": [
      "training score: 0.0\n",
      "test score:  -0.05529932936556481\n",
      "number of features used:  0\n"
     ]
    }
   ],
   "source": [
    "lasso = Lasso()\n",
    "lasso.fit(X_train,Y_train)\n",
    "train_score=lasso.score(X_train,Y_train)\n",
    "test_score=lasso.score(X_test,Y_test)\n",
    "coeff_used = np.sum(lasso.coef_!=0)\n",
    "print(\"training score:\", train_score) \n",
    "print(\"test score: \", test_score)\n",
    "print(\"number of features used: \", coeff_used)"
   ]
  },
  {
   "cell_type": "code",
   "execution_count": 33,
   "metadata": {},
   "outputs": [
    {
     "name": "stdout",
     "output_type": "stream",
     "text": [
      "training score for alpha=0.01: 0.8023015562420431\n",
      "test score for alpha =0.01:  0.7905927374232189\n",
      "number of features used: for alpha =0.01: 5\n"
     ]
    }
   ],
   "source": [
    "lasso001 = Lasso(alpha=0.01, max_iter=10e5)\n",
    "lasso001.fit(X_train,Y_train)\n",
    "train_score001=lasso001.score(X_train,Y_train)\n",
    "test_score001=lasso001.score(X_test,Y_test)\n",
    "coeff_used001 = np.sum(lasso001.coef_!=0)\n",
    "print(\"training score for alpha=0.01:\", train_score001) \n",
    "print(\"test score for alpha =0.01: \", test_score001)\n",
    "print(\"number of features used: for alpha =0.01:\", coeff_used001)"
   ]
  },
  {
   "cell_type": "code",
   "execution_count": 34,
   "metadata": {},
   "outputs": [
    {
     "name": "stdout",
     "output_type": "stream",
     "text": [
      "training score for alpha=0.0001: 0.8059928813069737\n",
      "test score for alpha =0.0001:  0.7989669574483765\n",
      "number of features used: for alpha =0.0001: 5\n"
     ]
    }
   ],
   "source": [
    "lasso00001 = Lasso(alpha=0.0001, max_iter=10e5)\n",
    "lasso00001.fit(X_train,Y_train)\n",
    "train_score00001=lasso00001.score(X_train,Y_train)\n",
    "test_score00001=lasso00001.score(X_test,Y_test)\n",
    "coeff_used00001 = np.sum(lasso00001.coef_!=0)\n",
    "print(\"training score for alpha=0.0001:\", train_score00001)\n",
    "print(\"test score for alpha =0.0001: \", test_score00001)\n",
    "print(\"number of features used: for alpha =0.0001:\", coeff_used00001)"
   ]
  },
  {
   "cell_type": "code",
   "execution_count": 35,
   "metadata": {},
   "outputs": [
    {
     "name": "stdout",
     "output_type": "stream",
     "text": [
      "0.25 : 60.35771049654258\n",
      "0.5 : 60.34897144393882\n",
      "0.75 : 60.339248637891906\n",
      "1.0 : 60.32864497798992\n",
      "1.25 : 60.31725259617377\n",
      "1.5 : 60.305154143429185\n",
      "1.75 : 60.292423899578736\n",
      "2.0 : 60.27912873374925\n"
     ]
    }
   ],
   "source": [
    "from statistics import mean \n",
    "# List to maintain the different cross-validation scores \n",
    "cross_val_scores_ridge = [] \n",
    "  \n",
    "# List to maintain the different values of alpha \n",
    "alpha = [] \n",
    "  \n",
    "# Loop to compute the different values of cross-validation scores \n",
    "for i in range(1, 9): \n",
    "    ridgeModel = Ridge(alpha = i * 0.25) \n",
    "    ridgeModel.fit(X_train, Y_train) \n",
    "    scores = cross_val_score(ridgeModel, X, Y, cv = 10) \n",
    "    avg_cross_val_score = mean(scores)*100\n",
    "    cross_val_scores_ridge.append(avg_cross_val_score) \n",
    "    alpha.append(i * 0.25) \n",
    "  \n",
    "# Loop to print the different values of cross-validation scores \n",
    "for i in range(0, len(alpha)): \n",
    "    print(str(alpha[i])+' : '+str(cross_val_scores_ridge[i])) "
   ]
  },
  {
   "cell_type": "code",
   "execution_count": 36,
   "metadata": {},
   "outputs": [
    {
     "name": "stdout",
     "output_type": "stream",
     "text": [
      "0.7984933340564353\n"
     ]
    }
   ],
   "source": [
    "# Building and fitting the Ridge Regression model \n",
    "ridgeModelChosen = Ridge(alpha = 0.25) \n",
    "ridgeModelChosen.fit(X_train, Y_train) \n",
    "  \n",
    "# Evaluating the Ridge Regression model \n",
    "print(ridgeModelChosen.score(X_test, Y_test)) "
   ]
  },
  {
   "cell_type": "code",
   "execution_count": 37,
   "metadata": {},
   "outputs": [
    {
     "data": {
      "image/png": "[encoded data removed]",
      "text/plain": [
       "<Figure size 576x288 with 2 Axes>"
      ]
     },
     "metadata": {
      "needs_background": "light"
     },
     "output_type": "display_data"
    }
   ],
   "source": [
    "from sklearn.model_selection import cross_validate\n",
    "from sklearn.linear_model import LinearRegression, Ridge\n",
    "import seaborn as sns\n",
    "\n",
    "# Linear Regression\n",
    "model = make_pipeline(\n",
    "    PolynomialFeatures(degree=2),\n",
    "    preprocessing.StandardScaler(),\n",
    "    LinearRegression())\n",
    "scores = cross_validate(\n",
    "    model, X, Y, cv=5, \n",
    "    scoring='neg_mean_squared_error',\n",
    "    return_train_score=True)\n",
    "\n",
    "a = pd.DataFrame(scores)\n",
    "a['fold'] = a.index\n",
    "a = a.drop(columns=['fit_time', 'score_time'])\n",
    "a['test_score'] = a['test_score'] * -1\n",
    "a['train_score'] = a['train_score'] * -1\n",
    "b = pd.melt(a, id_vars='fold', var_name='split', value_name='score')\n",
    "fig, axes = plt.subplots(ncols=2, figsize=(8, 4))\n",
    "sns.barplot(\n",
    "    x='fold', y='score', hue='split',\n",
    "    hue_order=['train_score', 'test_score'], data=b, ax=axes[0])\n",
    "axes[0].set_title((\n",
    "    f'Train avg MSE = {a[\"train_score\"].mean():.3} +/- {a[\"train_score\"].std() * 2:.3}\\n'\n",
    "    f'Test avg MSE = {a[\"test_score\"].mean():.3} +/- {a[\"test_score\"].std() * 2:.3}'\n",
    "    ))\n",
    "\n",
    "# L1 Regularization (Lasso)\n",
    "model = make_pipeline(\n",
    "    PolynomialFeatures(degree=2),\n",
    "    preprocessing.StandardScaler(),\n",
    "    Lasso())\n",
    "scores = cross_validate(\n",
    "    model, X, Y, cv=5, \n",
    "    scoring='neg_mean_squared_error',\n",
    "    return_train_score=True)\n",
    "\n",
    "a = pd.DataFrame(scores)\n",
    "a['fold'] = a.index\n",
    "a = a.drop(columns=['fit_time', 'score_time'])\n",
    "a['test_score'] = a['test_score'] * -1\n",
    "a['train_score'] = a['train_score'] * -1\n",
    "b = pd.melt(a, id_vars='fold', var_name='split', value_name='score')\n",
    "sns.barplot(\n",
    "    x='fold', y='score', hue='split',\n",
    "    hue_order=['train_score', 'test_score'], data=b, ax=axes[1])\n",
    "__ = axes[1].set_title((\n",
    "    f'Train avg MSE = {a[\"train_score\"].mean():.3} +/- {a[\"train_score\"].std() * 2:.3}\\n'\n",
    "    f'Test avg MSE = {a[\"test_score\"].mean():.3} +/- {a[\"test_score\"].std() * 2:.3}'\n",
    "    ))\n",
    "plt.tight_layout()"
   ]
  },
  {
   "cell_type": "code",
   "execution_count": 38,
   "metadata": {},
   "outputs": [
    {
     "data": {
      "image/png": "[encoded data removed]",
      "text/plain": [
       "<Figure size 432x288 with 2 Axes>"
      ]
     },
     "metadata": {
      "needs_background": "light"
     },
     "output_type": "display_data"
    }
   ],
   "source": [
    "corr = new_df.corr()\n",
    "sns.heatmap(corr)\n",
    "plt.show()"
   ]
  },
  {
   "cell_type": "code",
   "execution_count": 39,
   "metadata": {},
   "outputs": [
    {
     "data": {
      "text/plain": [
       "<matplotlib.axes._subplots.AxesSubplot at 0x24c98d84588>"
      ]
     },
     "execution_count": 39,
     "metadata": {},
     "output_type": "execute_result"
    },
    {
     "data": {
      "image/png": "[encoded data removed]",
      "text/plain": [
       "<Figure size 432x288 with 1 Axes>"
      ]
     },
     "metadata": {
      "needs_background": "light"
     },
     "output_type": "display_data"
    }
   ],
   "source": [
    "pd.value_counts(new_df['model-year']).plot.bar()"
   ]
  },
  {
   "cell_type": "code",
   "execution_count": 40,
   "metadata": {},
   "outputs": [
    {
     "data": {
      "text/plain": [
       "<matplotlib.axes._subplots.AxesSubplot at 0x24c98e22bc8>"
      ]
     },
     "execution_count": 40,
     "metadata": {},
     "output_type": "execute_result"
    },
    {
     "data": {
      "image/png": "[encoded data removed]",
      "text/plain": [
       "<Figure size 432x288 with 1 Axes>"
      ]
     },
     "metadata": {
      "needs_background": "light"
     },
     "output_type": "display_data"
    }
   ],
   "source": [
    "pd.value_counts(new_df['cylinders']).plot.bar()"
   ]
  },
  {
   "cell_type": "code",
   "execution_count": 41,
   "metadata": {},
   "outputs": [
    {
     "data": {
      "text/plain": [
       "<matplotlib.axes._subplots.AxesSubplot at 0x24c98ea16c8>"
      ]
     },
     "execution_count": 41,
     "metadata": {},
     "output_type": "execute_result"
    },
    {
     "data": {
      "image/png": "[encoded data removed]",
      "text/plain": [
       "<Figure size 432x288 with 1 Axes>"
      ]
     },
     "metadata": {
      "needs_background": "light"
     },
     "output_type": "display_data"
    }
   ],
   "source": [
    "sns.boxplot(x = 'model-year', y = 'mpg', data = new_df)"
   ]
  },
  {
   "cell_type": "code",
   "execution_count": 42,
   "metadata": {},
   "outputs": [
    {
     "data": {
      "text/plain": [
       "<matplotlib.axes._subplots.AxesSubplot at 0x24c9a07ddc8>"
      ]
     },
     "execution_count": 42,
     "metadata": {},
     "output_type": "execute_result"
    },
    {
     "data": {
      "image/png": "[encoded data removed]",
      "text/plain": [
       "<Figure size 432x288 with 1 Axes>"
      ]
     },
     "metadata": {
      "needs_background": "light"
     },
     "output_type": "display_data"
    }
   ],
   "source": [
    "sns.boxplot(x = 'cylinders', y = 'mpg', data = new_df)"
   ]
  },
  {
   "cell_type": "markdown",
   "metadata": {},
   "source": [
    "### Predict the data with XGBOOST, DecisionTree, RandomForest, and KNN Package Library\n",
    "#### predict by using old dataset\n"
   ]
  },
  {
   "cell_type": "code",
   "execution_count": 52,
   "metadata": {},
   "outputs": [],
   "source": [
    "from sklearn.model_selection import train_test_split\n",
    "training, test = train_test_split(df, train_size=0.7,test_size=0.3)\n",
    "X_train, X_test, y_train, y_test = train_test_split(X, y, test_size=0.3)\n",
    "\n",
    "training, valid = train_test_split(training, train_size = 0.7, test_size =0.3 )\n",
    "\n",
    "training_label = training.pop('mpg')\n",
    "\n",
    "test_label = test.pop('mpg')\n",
    "\n",
    "valid_label = valid.pop('mpg')"
   ]
  },
  {
   "cell_type": "code",
   "execution_count": 53,
   "metadata": {},
   "outputs": [
    {
     "data": {
      "text/plain": [
       "KNeighborsRegressor(algorithm='auto', leaf_size=30, metric='minkowski',\n",
       "                    metric_params=None, n_jobs=None, n_neighbors=3, p=2,\n",
       "                    weights='uniform')"
      ]
     },
     "execution_count": 53,
     "metadata": {},
     "output_type": "execute_result"
    }
   ],
   "source": [
    "import xgboost as xgb\n",
    "from xgboost import XGBRegressor\n",
    "from sklearn import linear_model\n",
    "from sklearn.linear_model import LogisticRegression\n",
    "from sklearn.ensemble import RandomForestClassifier\n",
    "from sklearn.linear_model import Perceptron\n",
    "from sklearn.linear_model import SGDClassifier\n",
    "from sklearn.tree import DecisionTreeClassifier\n",
    "from sklearn.neighbors import KNeighborsClassifier\n",
    "from sklearn.svm import SVC, LinearSVC\n",
    "from sklearn.naive_bayes import GaussianNB\n",
    "from sklearn.tree import DecisionTreeRegressor\n",
    "from sklearn.ensemble import RandomForestRegressor\n",
    "from sklearn.neighbors import KNeighborsRegressor\n",
    "# instantiate training models\n",
    "xgb = XGBRegressor()\n",
    "dtc = DecisionTreeRegressor()\n",
    "rfc = RandomForestRegressor()\n",
    "knn = KNeighborsRegressor(n_neighbors=3)\n",
    "# train the models\n",
    "xgb.fit(training, training_label)\n",
    "dtc.fit(training, training_label)\n",
    "rfc.fit(training, training_label)\n",
    "knn.fit(training, training_label)"
   ]
  },
  {
   "cell_type": "code",
   "execution_count": 54,
   "metadata": {},
   "outputs": [
    {
     "data": {
      "text/plain": [
       "KNeighborsRegressor(algorithm='auto', leaf_size=30, metric='minkowski',\n",
       "                    metric_params=None, n_jobs=None, n_neighbors=3, p=2,\n",
       "                    weights='uniform')"
      ]
     },
     "execution_count": 54,
     "metadata": {},
     "output_type": "execute_result"
    }
   ],
   "source": [
    "KNeighborsRegressor(algorithm='auto', leaf_size=30, metric='minkowski', metric_params=None, n_jobs=None, n_neighbors=3, p=2, weights='uniform')"
   ]
  },
  {
   "cell_type": "code",
   "execution_count": 55,
   "metadata": {},
   "outputs": [],
   "source": [
    "xgb_predict = xgb.predict(test)\n",
    "dtc_predict = dtc.predict(test)\n",
    "rfc_predict = rfc.predict(test)\n",
    "knn_predict = knn.predict(test)"
   ]
  },
  {
   "cell_type": "code",
   "execution_count": 56,
   "metadata": {},
   "outputs": [
    {
     "name": "stdout",
     "output_type": "stream",
     "text": [
      "{'XGBoost': 3.5122452951966183, 'DecisionTree': 3.8040889102352473, 'RandomForest': 2.8950588069671945, 'KNN': 4.846620392090075}\n"
     ]
    }
   ],
   "source": [
    "from sklearn.metrics import mean_squared_error\n",
    "import math\n",
    "accuracy = dict()\n",
    "accuracy['XGBoost'] = math.sqrt(mean_squared_error(test_label, xgb_predict)) \n",
    "accuracy['DecisionTree'] = math.sqrt(mean_squared_error(test_label,dtc_predict))\n",
    "accuracy['RandomForest'] = math.sqrt(mean_squared_error(test_label,rfc_predict))\n",
    "accuracy['KNN'] = math.sqrt(mean_squared_error(test_label,knn_predict))\n",
    "print(accuracy)"
   ]
  },
  {
   "cell_type": "code",
   "execution_count": 57,
   "metadata": {},
   "outputs": [
    {
     "name": "stdout",
     "output_type": "stream",
     "text": [
      "{'XGBoost': 3.433279389544783, 'DecisionTree': 4.065549221961342, 'RandomForest': 2.908917565824428, 'KNN': 4.30167618370072}\n"
     ]
    }
   ],
   "source": [
    "xgb_predict = xgb.predict(valid) \n",
    "dtc_predict = dtc.predict(valid) \n",
    "rfc_predict = rfc.predict(valid) \n",
    "knn_predict = knn.predict(valid)\n",
    "\n",
    "accuracy['XGBoost'] = math.sqrt(mean_squared_error(valid_label,xgb_predict)) \n",
    "accuracy['DecisionTree'] = math.sqrt(mean_squared_error(valid_label,dtc_predict))\n",
    "accuracy['RandomForest'] = math.sqrt(mean_squared_error(valid_label,rfc_predict))\n",
    "accuracy['KNN'] = math.sqrt(mean_squared_error(valid_label,knn_predict))\n",
    "print(accuracy)"
   ]
  },
  {
   "cell_type": "code",
   "execution_count": 58,
   "metadata": {},
   "outputs": [
    {
     "data": {
      "text/html": [
       "<div>\n",
       "<style scoped>\n",
       "    .dataframe tbody tr th:only-of-type {\n",
       "        vertical-align: middle;\n",
       "    }\n",
       "\n",
       "    .dataframe tbody tr th {\n",
       "        vertical-align: top;\n",
       "    }\n",
       "\n",
       "    .dataframe thead th {\n",
       "        text-align: right;\n",
       "    }\n",
       "</style>\n",
       "<table border=\"1\" class=\"dataframe\">\n",
       "  <thead>\n",
       "    <tr style=\"text-align: right;\">\n",
       "      <th></th>\n",
       "      <th>label mpg</th>\n",
       "      <th>prediction</th>\n",
       "    </tr>\n",
       "  </thead>\n",
       "  <tbody>\n",
       "    <tr>\n",
       "      <td>66</td>\n",
       "      <td>17.0</td>\n",
       "      <td>14.155009</td>\n",
       "    </tr>\n",
       "    <tr>\n",
       "      <td>97</td>\n",
       "      <td>18.0</td>\n",
       "      <td>18.032621</td>\n",
       "    </tr>\n",
       "    <tr>\n",
       "      <td>49</td>\n",
       "      <td>23.0</td>\n",
       "      <td>24.841749</td>\n",
       "    </tr>\n",
       "    <tr>\n",
       "      <td>389</td>\n",
       "      <td>22.0</td>\n",
       "      <td>22.277256</td>\n",
       "    </tr>\n",
       "    <tr>\n",
       "      <td>124</td>\n",
       "      <td>11.0</td>\n",
       "      <td>14.618630</td>\n",
       "    </tr>\n",
       "  </tbody>\n",
       "</table>\n",
       "</div>"
      ],
      "text/plain": [
       "     label mpg  prediction\n",
       "66        17.0   14.155009\n",
       "97        18.0   18.032621\n",
       "49        23.0   24.841749\n",
       "389       22.0   22.277256\n",
       "124       11.0   14.618630"
      ]
     },
     "execution_count": 58,
     "metadata": {},
     "output_type": "execute_result"
    }
   ],
   "source": [
    "results = pd.DataFrame({'label mpg': valid_label,'prediction': xgb.predict(valid)})\n",
    "results.head()"
   ]
  },
  {
   "cell_type": "code",
   "execution_count": 59,
   "metadata": {},
   "outputs": [
    {
     "data": {
      "text/html": [
       "<div>\n",
       "<style scoped>\n",
       "    .dataframe tbody tr th:only-of-type {\n",
       "        vertical-align: middle;\n",
       "    }\n",
       "\n",
       "    .dataframe tbody tr th {\n",
       "        vertical-align: top;\n",
       "    }\n",
       "\n",
       "    .dataframe thead th {\n",
       "        text-align: right;\n",
       "    }\n",
       "</style>\n",
       "<table border=\"1\" class=\"dataframe\">\n",
       "  <thead>\n",
       "    <tr style=\"text-align: right;\">\n",
       "      <th></th>\n",
       "      <th>Algorithms</th>\n",
       "      <th>Percentage</th>\n",
       "    </tr>\n",
       "  </thead>\n",
       "  <tbody>\n",
       "    <tr>\n",
       "      <td>0</td>\n",
       "      <td>XGBoost</td>\n",
       "      <td>3.433279</td>\n",
       "    </tr>\n",
       "    <tr>\n",
       "      <td>1</td>\n",
       "      <td>DecisionTree</td>\n",
       "      <td>4.065549</td>\n",
       "    </tr>\n",
       "    <tr>\n",
       "      <td>2</td>\n",
       "      <td>RandomForest</td>\n",
       "      <td>2.908918</td>\n",
       "    </tr>\n",
       "    <tr>\n",
       "      <td>3</td>\n",
       "      <td>KNN</td>\n",
       "      <td>4.301676</td>\n",
       "    </tr>\n",
       "  </tbody>\n",
       "</table>\n",
       "</div>"
      ],
      "text/plain": [
       "     Algorithms  Percentage\n",
       "0       XGBoost    3.433279\n",
       "1  DecisionTree    4.065549\n",
       "2  RandomForest    2.908918\n",
       "3           KNN    4.301676"
      ]
     },
     "metadata": {},
     "output_type": "display_data"
    },
    {
     "data": {
      "text/plain": [
       "<matplotlib.axes._subplots.AxesSubplot at 0x24ca0cc1508>"
      ]
     },
     "execution_count": 59,
     "metadata": {},
     "output_type": "execute_result"
    },
    {
     "data": {
      "image/png": "[encoded data removed]",
      "text/plain": [
       "<Figure size 1080x360 with 1 Axes>"
      ]
     },
     "metadata": {
      "needs_background": "light"
     },
     "output_type": "display_data"
    }
   ],
   "source": [
    "fig, (ax1) = plt.subplots(ncols=1, sharey=True,figsize=(15,5))\n",
    "new_df=pd.DataFrame(list(accuracy.items()),columns=['Algorithms','Percentage'])\n",
    "display(new_df)\n",
    "sns.barplot(x=\"Algorithms\", y=\"Percentage\", data=new_df,ax=ax1)"
   ]
  },
  {
   "cell_type": "code",
   "execution_count": 60,
   "metadata": {},
   "outputs": [
    {
     "name": "stdout",
     "output_type": "stream",
     "text": [
      "max_accuracy is : RandomForest\n"
     ]
    }
   ],
   "source": [
    "max_accuracy = min(accuracy,key=accuracy.get)\n",
    "# max_accuracy'XGBoost'\n",
    "print(\"max_accuracy is :\",max_accuracy)"
   ]
  }
 ],
 "metadata": {
  "kernelspec": {
   "display_name": "Python 3",
   "language": "python",
   "name": "python3"
  },
  "language_info": {
   "codemirror_mode": {
    "name": "ipython",
    "version": 3
   },
   "file_extension": ".py",
   "mimetype": "text/x-python",
   "name": "python",
   "nbconvert_exporter": "python",
   "pygments_lexer": "ipython3",
   "version": "3.7.4"
  }
 },
 "nbformat": 4,
 "nbformat_minor": 2
}
